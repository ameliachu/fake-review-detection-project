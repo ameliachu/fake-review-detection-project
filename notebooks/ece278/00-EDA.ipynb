{
 "cells": [
  {
   "cell_type": "code",
   "execution_count": 1,
   "metadata": {},
   "outputs": [],
   "source": [
    "import os\n",
    "import pandas as pd\n",
    "import pandas_profiling as pf\n",
    "from datetime import datetime as dt\n",
    "import calendar\n",
    "import pickle"
   ]
  },
  {
   "cell_type": "code",
   "execution_count": 2,
   "metadata": {},
   "outputs": [],
   "source": [
    "#Initializing file paths\n",
    "raw_dir = os.path.join(os.pardir,os.pardir,'data','raw')\n",
    "processed_dir = os.path.join(os.pardir,os.pardir,'data','processed')"
   ]
  },
  {
   "cell_type": "code",
   "execution_count": 3,
   "metadata": {},
   "outputs": [],
   "source": [
    "data_path = os.path.join(raw_dir,'dev.csv')"
   ]
  },
  {
   "cell_type": "code",
   "execution_count": 4,
   "metadata": {},
   "outputs": [],
   "source": [
    "data_df = pd.read_csv(data_path)"
   ]
  },
  {
   "cell_type": "code",
   "execution_count": 5,
   "metadata": {},
   "outputs": [
    {
     "data": {
      "text/html": [
       "<div>\n",
       "<style scoped>\n",
       "    .dataframe tbody tr th:only-of-type {\n",
       "        vertical-align: middle;\n",
       "    }\n",
       "\n",
       "    .dataframe tbody tr th {\n",
       "        vertical-align: top;\n",
       "    }\n",
       "\n",
       "    .dataframe thead th {\n",
       "        text-align: right;\n",
       "    }\n",
       "</style>\n",
       "<table border=\"1\" class=\"dataframe\">\n",
       "  <thead>\n",
       "    <tr style=\"text-align: right;\">\n",
       "      <th></th>\n",
       "      <th>ex_id</th>\n",
       "      <th>user_id</th>\n",
       "      <th>prod_id</th>\n",
       "      <th>rating</th>\n",
       "      <th>label</th>\n",
       "      <th>date</th>\n",
       "      <th>review</th>\n",
       "    </tr>\n",
       "  </thead>\n",
       "  <tbody>\n",
       "    <tr>\n",
       "      <th>0</th>\n",
       "      <td>11</td>\n",
       "      <td>934</td>\n",
       "      <td>0</td>\n",
       "      <td>5.0</td>\n",
       "      <td>1</td>\n",
       "      <td>2014-01-20</td>\n",
       "      <td>all around good place, cozy, I came in and did...</td>\n",
       "    </tr>\n",
       "    <tr>\n",
       "      <th>1</th>\n",
       "      <td>17</td>\n",
       "      <td>940</td>\n",
       "      <td>0</td>\n",
       "      <td>4.0</td>\n",
       "      <td>0</td>\n",
       "      <td>2014-09-16</td>\n",
       "      <td>For lunch, my friend and I had: -Lamb sandwich...</td>\n",
       "    </tr>\n",
       "    <tr>\n",
       "      <th>2</th>\n",
       "      <td>20</td>\n",
       "      <td>943</td>\n",
       "      <td>0</td>\n",
       "      <td>5.0</td>\n",
       "      <td>0</td>\n",
       "      <td>2014-05-24</td>\n",
       "      <td>Some good Big Greek cooking!! Came to City on ...</td>\n",
       "    </tr>\n",
       "    <tr>\n",
       "      <th>3</th>\n",
       "      <td>30</td>\n",
       "      <td>953</td>\n",
       "      <td>0</td>\n",
       "      <td>4.0</td>\n",
       "      <td>0</td>\n",
       "      <td>2013-10-17</td>\n",
       "      <td>So... as you may notice from some of my other ...</td>\n",
       "    </tr>\n",
       "    <tr>\n",
       "      <th>4</th>\n",
       "      <td>43</td>\n",
       "      <td>966</td>\n",
       "      <td>0</td>\n",
       "      <td>3.0</td>\n",
       "      <td>0</td>\n",
       "      <td>2012-12-19</td>\n",
       "      <td>I don't understand the whole \"You can't order ...</td>\n",
       "    </tr>\n",
       "  </tbody>\n",
       "</table>\n",
       "</div>"
      ],
      "text/plain": [
       "   ex_id  user_id  prod_id  rating  label        date  \\\n",
       "0     11      934        0     5.0      1  2014-01-20   \n",
       "1     17      940        0     4.0      0  2014-09-16   \n",
       "2     20      943        0     5.0      0  2014-05-24   \n",
       "3     30      953        0     4.0      0  2013-10-17   \n",
       "4     43      966        0     3.0      0  2012-12-19   \n",
       "\n",
       "                                              review  \n",
       "0  all around good place, cozy, I came in and did...  \n",
       "1  For lunch, my friend and I had: -Lamb sandwich...  \n",
       "2  Some good Big Greek cooking!! Came to City on ...  \n",
       "3  So... as you may notice from some of my other ...  \n",
       "4  I don't understand the whole \"You can't order ...  "
      ]
     },
     "execution_count": 5,
     "metadata": {},
     "output_type": "execute_result"
    }
   ],
   "source": [
    "data_df.head()"
   ]
  },
  {
   "cell_type": "markdown",
   "metadata": {},
   "source": [
    "#### Summary Statistics"
   ]
  },
  {
   "cell_type": "code",
   "execution_count": 6,
   "metadata": {},
   "outputs": [
    {
     "data": {
      "text/html": [
       "<div>\n",
       "<style scoped>\n",
       "    .dataframe tbody tr th:only-of-type {\n",
       "        vertical-align: middle;\n",
       "    }\n",
       "\n",
       "    .dataframe tbody tr th {\n",
       "        vertical-align: top;\n",
       "    }\n",
       "\n",
       "    .dataframe thead th {\n",
       "        text-align: right;\n",
       "    }\n",
       "</style>\n",
       "<table border=\"1\" class=\"dataframe\">\n",
       "  <thead>\n",
       "    <tr style=\"text-align: right;\">\n",
       "      <th></th>\n",
       "      <th>ex_id</th>\n",
       "      <th>user_id</th>\n",
       "      <th>prod_id</th>\n",
       "      <th>rating</th>\n",
       "      <th>label</th>\n",
       "    </tr>\n",
       "  </thead>\n",
       "  <tbody>\n",
       "    <tr>\n",
       "      <th>count</th>\n",
       "      <td>35918.000000</td>\n",
       "      <td>35918.000000</td>\n",
       "      <td>35918.000000</td>\n",
       "      <td>35918.000000</td>\n",
       "      <td>35918.000000</td>\n",
       "    </tr>\n",
       "    <tr>\n",
       "      <th>mean</th>\n",
       "      <td>179060.247035</td>\n",
       "      <td>53625.825853</td>\n",
       "      <td>457.526811</td>\n",
       "      <td>4.023275</td>\n",
       "      <td>0.101565</td>\n",
       "    </tr>\n",
       "    <tr>\n",
       "      <th>std</th>\n",
       "      <td>103651.452541</td>\n",
       "      <td>45583.076589</td>\n",
       "      <td>260.532673</td>\n",
       "      <td>1.055449</td>\n",
       "      <td>0.302079</td>\n",
       "    </tr>\n",
       "    <tr>\n",
       "      <th>min</th>\n",
       "      <td>11.000000</td>\n",
       "      <td>923.000000</td>\n",
       "      <td>0.000000</td>\n",
       "      <td>1.000000</td>\n",
       "      <td>0.000000</td>\n",
       "    </tr>\n",
       "    <tr>\n",
       "      <th>25%</th>\n",
       "      <td>89904.000000</td>\n",
       "      <td>13781.500000</td>\n",
       "      <td>247.000000</td>\n",
       "      <td>4.000000</td>\n",
       "      <td>0.000000</td>\n",
       "    </tr>\n",
       "    <tr>\n",
       "      <th>50%</th>\n",
       "      <td>178631.500000</td>\n",
       "      <td>40110.000000</td>\n",
       "      <td>465.000000</td>\n",
       "      <td>4.000000</td>\n",
       "      <td>0.000000</td>\n",
       "    </tr>\n",
       "    <tr>\n",
       "      <th>75%</th>\n",
       "      <td>268548.750000</td>\n",
       "      <td>86310.000000</td>\n",
       "      <td>668.000000</td>\n",
       "      <td>5.000000</td>\n",
       "      <td>0.000000</td>\n",
       "    </tr>\n",
       "    <tr>\n",
       "      <th>max</th>\n",
       "      <td>358935.000000</td>\n",
       "      <td>161140.000000</td>\n",
       "      <td>922.000000</td>\n",
       "      <td>5.000000</td>\n",
       "      <td>1.000000</td>\n",
       "    </tr>\n",
       "  </tbody>\n",
       "</table>\n",
       "</div>"
      ],
      "text/plain": [
       "               ex_id        user_id       prod_id        rating         label\n",
       "count   35918.000000   35918.000000  35918.000000  35918.000000  35918.000000\n",
       "mean   179060.247035   53625.825853    457.526811      4.023275      0.101565\n",
       "std    103651.452541   45583.076589    260.532673      1.055449      0.302079\n",
       "min        11.000000     923.000000      0.000000      1.000000      0.000000\n",
       "25%     89904.000000   13781.500000    247.000000      4.000000      0.000000\n",
       "50%    178631.500000   40110.000000    465.000000      4.000000      0.000000\n",
       "75%    268548.750000   86310.000000    668.000000      5.000000      0.000000\n",
       "max    358935.000000  161140.000000    922.000000      5.000000      1.000000"
      ]
     },
     "execution_count": 6,
     "metadata": {},
     "output_type": "execute_result"
    }
   ],
   "source": [
    "# A quick summary statistics on all data.\n",
    "data_df.describe()"
   ]
  },
  {
   "cell_type": "code",
   "execution_count": 7,
   "metadata": {},
   "outputs": [
    {
     "data": {
      "text/plain": [
       "35918"
      ]
     },
     "execution_count": 7,
     "metadata": {},
     "output_type": "execute_result"
    }
   ],
   "source": [
    "# Checking the number users in the data\n",
    "data_df.user_id.count()"
   ]
  },
  {
   "cell_type": "code",
   "execution_count": 8,
   "metadata": {},
   "outputs": [
    {
     "data": {
      "text/plain": [
       "28040"
      ]
     },
     "execution_count": 8,
     "metadata": {},
     "output_type": "execute_result"
    }
   ],
   "source": [
    "# Checking the number of unique users in the data\n",
    "len(data_df.user_id.unique())"
   ]
  },
  {
   "cell_type": "markdown",
   "metadata": {},
   "source": [
    "*_Assumption 1: Since unique user count is less than user count we can assume that some users wrote multiple reviews or thesame review by thesame user was added multiple times. (We'll confirm which one later)_*"
   ]
  },
  {
   "cell_type": "code",
   "execution_count": 9,
   "metadata": {},
   "outputs": [
    {
     "data": {
      "text/plain": [
       "35918"
      ]
     },
     "execution_count": 9,
     "metadata": {},
     "output_type": "execute_result"
    }
   ],
   "source": [
    "# Checking the number ex_id in the data\n",
    "data_df.ex_id.count()"
   ]
  },
  {
   "cell_type": "code",
   "execution_count": 10,
   "metadata": {},
   "outputs": [
    {
     "data": {
      "text/plain": [
       "35918"
      ]
     },
     "execution_count": 10,
     "metadata": {},
     "output_type": "execute_result"
    }
   ],
   "source": [
    "len(data_df.ex_id.unique())"
   ]
  },
  {
   "cell_type": "markdown",
   "metadata": {},
   "source": [
    "*_Question 1: What's `ex_id`, hmmm? (Could it be a unique id for each review since it's value is unique for each review)_*"
   ]
  },
  {
   "cell_type": "code",
   "execution_count": null,
   "metadata": {},
   "outputs": [],
   "source": []
  },
  {
   "cell_type": "markdown",
   "metadata": {},
   "source": [
    "Since the df.describe() is best suited for numeric features its best to call it after transforming the review words into to a bag of words representation."
   ]
  },
  {
   "cell_type": "code",
   "execution_count": 11,
   "metadata": {
    "scrolled": true
   },
   "outputs": [
    {
     "data": {
      "text/html": [
       "<div>\n",
       "<style scoped>\n",
       "    .dataframe tbody tr th:only-of-type {\n",
       "        vertical-align: middle;\n",
       "    }\n",
       "\n",
       "    .dataframe tbody tr th {\n",
       "        vertical-align: top;\n",
       "    }\n",
       "\n",
       "    .dataframe thead th {\n",
       "        text-align: right;\n",
       "    }\n",
       "</style>\n",
       "<table border=\"1\" class=\"dataframe\">\n",
       "  <thead>\n",
       "    <tr style=\"text-align: right;\">\n",
       "      <th></th>\n",
       "      <th>review</th>\n",
       "      <th>label</th>\n",
       "    </tr>\n",
       "  </thead>\n",
       "  <tbody>\n",
       "    <tr>\n",
       "      <th>0</th>\n",
       "      <td>all around good place, cozy, I came in and did...</td>\n",
       "      <td>1</td>\n",
       "    </tr>\n",
       "    <tr>\n",
       "      <th>1</th>\n",
       "      <td>For lunch, my friend and I had: -Lamb sandwich...</td>\n",
       "      <td>0</td>\n",
       "    </tr>\n",
       "    <tr>\n",
       "      <th>2</th>\n",
       "      <td>Some good Big Greek cooking!! Came to City on ...</td>\n",
       "      <td>0</td>\n",
       "    </tr>\n",
       "    <tr>\n",
       "      <th>3</th>\n",
       "      <td>So... as you may notice from some of my other ...</td>\n",
       "      <td>0</td>\n",
       "    </tr>\n",
       "    <tr>\n",
       "      <th>4</th>\n",
       "      <td>I don't understand the whole \"You can't order ...</td>\n",
       "      <td>0</td>\n",
       "    </tr>\n",
       "  </tbody>\n",
       "</table>\n",
       "</div>"
      ],
      "text/plain": [
       "                                              review  label\n",
       "0  all around good place, cozy, I came in and did...      1\n",
       "1  For lunch, my friend and I had: -Lamb sandwich...      0\n",
       "2  Some good Big Greek cooking!! Came to City on ...      0\n",
       "3  So... as you may notice from some of my other ...      0\n",
       "4  I don't understand the whole \"You can't order ...      0"
      ]
     },
     "execution_count": 11,
     "metadata": {},
     "output_type": "execute_result"
    }
   ],
   "source": [
    "# Seperating the actual reviews and labels in a separate dataframe\n",
    "\n",
    "review_df = data_df[['review','label']].copy()\n",
    "review_df.head()"
   ]
  },
  {
   "cell_type": "code",
   "execution_count": 12,
   "metadata": {},
   "outputs": [],
   "source": [
    "import nltk"
   ]
  },
  {
   "cell_type": "code",
   "execution_count": 13,
   "metadata": {},
   "outputs": [],
   "source": [
    "# nltk.download('stopwords')\n",
    "# nltk.download('punkt')"
   ]
  },
  {
   "cell_type": "code",
   "execution_count": 14,
   "metadata": {},
   "outputs": [],
   "source": [
    "from nltk.corpus import stopwords\n",
    "from nltk.tokenize import word_tokenize\n",
    "from nltk.probability import FreqDist\n",
    "from nltk.util import bigrams\n",
    "import string\n",
    "import re"
   ]
  },
  {
   "cell_type": "code",
   "execution_count": 15,
   "metadata": {},
   "outputs": [],
   "source": [
    "stop_words = set(stopwords.words('english')) "
   ]
  },
  {
   "cell_type": "code",
   "execution_count": 16,
   "metadata": {},
   "outputs": [],
   "source": [
    "data_df['tokens'] = data_df['review'].apply(lambda x: word_tokenize(x) )"
   ]
  },
  {
   "cell_type": "code",
   "execution_count": 17,
   "metadata": {},
   "outputs": [],
   "source": [
    "def rm_stop_words(tokens):\n",
    "    filtered = [w for w in tokens if not w.lower() in stop_words] \n",
    "    return filtered\n",
    "\n",
    "def rm_puctuation(tokens):\n",
    "    init_filter = [w for w in tokens if w not in string.punctuation]\n",
    "    table = str.maketrans('', '', string.punctuation)\n",
    "    stripped = [w.translate(table) for w in init_filter]\n",
    "    clean = [w for w in stripped if w not in ['',' ']]\n",
    "    return clean\n",
    "\n",
    "def filter_tokens(tokens):\n",
    "    filtered = rm_stop_words(tokens)\n",
    "    new_tokens = rm_puctuation(filtered)\n",
    "    return new_tokens"
   ]
  },
  {
   "cell_type": "code",
   "execution_count": 18,
   "metadata": {},
   "outputs": [],
   "source": [
    "data_df['tokens_no_stopwords'] = data_df['tokens'].apply(lambda x: filter_tokens(x))"
   ]
  },
  {
   "cell_type": "code",
   "execution_count": 19,
   "metadata": {},
   "outputs": [],
   "source": [
    "# Creating bigrams\n",
    "data_df['bigrams_'] = data_df.tokens_no_stopwords.apply(lambda x: list(bigrams(x)))\n"
   ]
  },
  {
   "cell_type": "code",
   "execution_count": 20,
   "metadata": {},
   "outputs": [
    {
     "data": {
      "text/html": [
       "<div>\n",
       "<style scoped>\n",
       "    .dataframe tbody tr th:only-of-type {\n",
       "        vertical-align: middle;\n",
       "    }\n",
       "\n",
       "    .dataframe tbody tr th {\n",
       "        vertical-align: top;\n",
       "    }\n",
       "\n",
       "    .dataframe thead th {\n",
       "        text-align: right;\n",
       "    }\n",
       "</style>\n",
       "<table border=\"1\" class=\"dataframe\">\n",
       "  <thead>\n",
       "    <tr style=\"text-align: right;\">\n",
       "      <th></th>\n",
       "      <th>ex_id</th>\n",
       "      <th>user_id</th>\n",
       "      <th>prod_id</th>\n",
       "      <th>rating</th>\n",
       "      <th>label</th>\n",
       "      <th>date</th>\n",
       "      <th>review</th>\n",
       "      <th>tokens</th>\n",
       "      <th>tokens_no_stopwords</th>\n",
       "      <th>bigrams_</th>\n",
       "    </tr>\n",
       "  </thead>\n",
       "  <tbody>\n",
       "    <tr>\n",
       "      <th>0</th>\n",
       "      <td>11</td>\n",
       "      <td>934</td>\n",
       "      <td>0</td>\n",
       "      <td>5.0</td>\n",
       "      <td>1</td>\n",
       "      <td>2014-01-20</td>\n",
       "      <td>all around good place, cozy, I came in and did...</td>\n",
       "      <td>[all, around, good, place, ,, cozy, ,, I, came...</td>\n",
       "      <td>[around, good, place, cozy, came, nt, huge, ap...</td>\n",
       "      <td>[(around, good), (good, place), (place, cozy),...</td>\n",
       "    </tr>\n",
       "    <tr>\n",
       "      <th>1</th>\n",
       "      <td>17</td>\n",
       "      <td>940</td>\n",
       "      <td>0</td>\n",
       "      <td>4.0</td>\n",
       "      <td>0</td>\n",
       "      <td>2014-09-16</td>\n",
       "      <td>For lunch, my friend and I had: -Lamb sandwich...</td>\n",
       "      <td>[For, lunch, ,, my, friend, and, I, had, :, -L...</td>\n",
       "      <td>[lunch, friend, Lamb, sandwich, juicy, flavorf...</td>\n",
       "      <td>[(lunch, friend), (friend, Lamb), (Lamb, sandw...</td>\n",
       "    </tr>\n",
       "    <tr>\n",
       "      <th>2</th>\n",
       "      <td>20</td>\n",
       "      <td>943</td>\n",
       "      <td>0</td>\n",
       "      <td>5.0</td>\n",
       "      <td>0</td>\n",
       "      <td>2014-05-24</td>\n",
       "      <td>Some good Big Greek cooking!! Came to City on ...</td>\n",
       "      <td>[Some, good, Big, Greek, cooking, !, !, Came, ...</td>\n",
       "      <td>[good, Big, Greek, cooking, Came, City, gorgeo...</td>\n",
       "      <td>[(good, Big), (Big, Greek), (Greek, cooking), ...</td>\n",
       "    </tr>\n",
       "    <tr>\n",
       "      <th>3</th>\n",
       "      <td>30</td>\n",
       "      <td>953</td>\n",
       "      <td>0</td>\n",
       "      <td>4.0</td>\n",
       "      <td>0</td>\n",
       "      <td>2013-10-17</td>\n",
       "      <td>So... as you may notice from some of my other ...</td>\n",
       "      <td>[So, ..., as, you, may, notice, from, some, of...</td>\n",
       "      <td>[may, notice, reviews, healthiest, eater, try,...</td>\n",
       "      <td>[(may, notice), (notice, reviews), (reviews, h...</td>\n",
       "    </tr>\n",
       "    <tr>\n",
       "      <th>4</th>\n",
       "      <td>43</td>\n",
       "      <td>966</td>\n",
       "      <td>0</td>\n",
       "      <td>3.0</td>\n",
       "      <td>0</td>\n",
       "      <td>2012-12-19</td>\n",
       "      <td>I don't understand the whole \"You can't order ...</td>\n",
       "      <td>[I, do, n't, understand, the, whole, ``, You, ...</td>\n",
       "      <td>[nt, understand, whole, ca, nt, order, lunch, ...</td>\n",
       "      <td>[(nt, understand), (understand, whole), (whole...</td>\n",
       "    </tr>\n",
       "  </tbody>\n",
       "</table>\n",
       "</div>"
      ],
      "text/plain": [
       "   ex_id  user_id  prod_id  rating  label        date  \\\n",
       "0     11      934        0     5.0      1  2014-01-20   \n",
       "1     17      940        0     4.0      0  2014-09-16   \n",
       "2     20      943        0     5.0      0  2014-05-24   \n",
       "3     30      953        0     4.0      0  2013-10-17   \n",
       "4     43      966        0     3.0      0  2012-12-19   \n",
       "\n",
       "                                              review  \\\n",
       "0  all around good place, cozy, I came in and did...   \n",
       "1  For lunch, my friend and I had: -Lamb sandwich...   \n",
       "2  Some good Big Greek cooking!! Came to City on ...   \n",
       "3  So... as you may notice from some of my other ...   \n",
       "4  I don't understand the whole \"You can't order ...   \n",
       "\n",
       "                                              tokens  \\\n",
       "0  [all, around, good, place, ,, cozy, ,, I, came...   \n",
       "1  [For, lunch, ,, my, friend, and, I, had, :, -L...   \n",
       "2  [Some, good, Big, Greek, cooking, !, !, Came, ...   \n",
       "3  [So, ..., as, you, may, notice, from, some, of...   \n",
       "4  [I, do, n't, understand, the, whole, ``, You, ...   \n",
       "\n",
       "                                 tokens_no_stopwords  \\\n",
       "0  [around, good, place, cozy, came, nt, huge, ap...   \n",
       "1  [lunch, friend, Lamb, sandwich, juicy, flavorf...   \n",
       "2  [good, Big, Greek, cooking, Came, City, gorgeo...   \n",
       "3  [may, notice, reviews, healthiest, eater, try,...   \n",
       "4  [nt, understand, whole, ca, nt, order, lunch, ...   \n",
       "\n",
       "                                            bigrams_  \n",
       "0  [(around, good), (good, place), (place, cozy),...  \n",
       "1  [(lunch, friend), (friend, Lamb), (Lamb, sandw...  \n",
       "2  [(good, Big), (Big, Greek), (Greek, cooking), ...  \n",
       "3  [(may, notice), (notice, reviews), (reviews, h...  \n",
       "4  [(nt, understand), (understand, whole), (whole...  "
      ]
     },
     "execution_count": 20,
     "metadata": {},
     "output_type": "execute_result"
    }
   ],
   "source": [
    "data_df.head()"
   ]
  },
  {
   "cell_type": "code",
   "execution_count": 21,
   "metadata": {},
   "outputs": [],
   "source": [
    "# Creating a column for day of the week review was posted\n",
    "def get_day(date_string):\n",
    "    return calendar.day_name[dt.strptime(date_string, \"%Y-%m-%d\").weekday()]\n",
    "\n",
    "# Creating a column for month of the year review was posted\n",
    "def get_month(date_string):\n",
    "    return calendar.month_name[dt.strptime(date_string, \"%Y-%m-%d\").month]"
   ]
  },
  {
   "cell_type": "code",
   "execution_count": 22,
   "metadata": {},
   "outputs": [],
   "source": [
    "data_df['day'] = data_df.date.apply(lambda x: get_day(x))\n",
    "data_df['month'] = data_df.date.apply(lambda x: get_month(x))"
   ]
  },
  {
   "cell_type": "code",
   "execution_count": 23,
   "metadata": {},
   "outputs": [
    {
     "data": {
      "text/html": [
       "<div>\n",
       "<style scoped>\n",
       "    .dataframe tbody tr th:only-of-type {\n",
       "        vertical-align: middle;\n",
       "    }\n",
       "\n",
       "    .dataframe tbody tr th {\n",
       "        vertical-align: top;\n",
       "    }\n",
       "\n",
       "    .dataframe thead th {\n",
       "        text-align: right;\n",
       "    }\n",
       "</style>\n",
       "<table border=\"1\" class=\"dataframe\">\n",
       "  <thead>\n",
       "    <tr style=\"text-align: right;\">\n",
       "      <th></th>\n",
       "      <th>ex_id</th>\n",
       "      <th>user_id</th>\n",
       "      <th>prod_id</th>\n",
       "      <th>rating</th>\n",
       "      <th>label</th>\n",
       "      <th>date</th>\n",
       "      <th>review</th>\n",
       "      <th>tokens</th>\n",
       "      <th>tokens_no_stopwords</th>\n",
       "      <th>bigrams_</th>\n",
       "      <th>day</th>\n",
       "      <th>month</th>\n",
       "    </tr>\n",
       "  </thead>\n",
       "  <tbody>\n",
       "    <tr>\n",
       "      <th>0</th>\n",
       "      <td>11</td>\n",
       "      <td>934</td>\n",
       "      <td>0</td>\n",
       "      <td>5.0</td>\n",
       "      <td>1</td>\n",
       "      <td>2014-01-20</td>\n",
       "      <td>all around good place, cozy, I came in and did...</td>\n",
       "      <td>[all, around, good, place, ,, cozy, ,, I, came...</td>\n",
       "      <td>[around, good, place, cozy, came, nt, huge, ap...</td>\n",
       "      <td>[(around, good), (good, place), (place, cozy),...</td>\n",
       "      <td>Monday</td>\n",
       "      <td>January</td>\n",
       "    </tr>\n",
       "    <tr>\n",
       "      <th>18</th>\n",
       "      <td>226</td>\n",
       "      <td>1149</td>\n",
       "      <td>1</td>\n",
       "      <td>4.0</td>\n",
       "      <td>1</td>\n",
       "      <td>2009-02-17</td>\n",
       "      <td>Nice atmosphere and good service. They have a ...</td>\n",
       "      <td>[Nice, atmosphere, and, good, service, ., They...</td>\n",
       "      <td>[Nice, atmosphere, good, service, great, menu,...</td>\n",
       "      <td>[(Nice, atmosphere), (atmosphere, good), (good...</td>\n",
       "      <td>Tuesday</td>\n",
       "      <td>February</td>\n",
       "    </tr>\n",
       "    <tr>\n",
       "      <th>19</th>\n",
       "      <td>246</td>\n",
       "      <td>1169</td>\n",
       "      <td>1</td>\n",
       "      <td>5.0</td>\n",
       "      <td>1</td>\n",
       "      <td>2011-01-23</td>\n",
       "      <td>Best Pizza in Brooklyn. I tried others and I h...</td>\n",
       "      <td>[Best, Pizza, in, Brooklyn, ., I, tried, other...</td>\n",
       "      <td>[Best, Pizza, Brooklyn, tried, others, say, nt...</td>\n",
       "      <td>[(Best, Pizza), (Pizza, Brooklyn), (Brooklyn, ...</td>\n",
       "      <td>Sunday</td>\n",
       "      <td>January</td>\n",
       "    </tr>\n",
       "    <tr>\n",
       "      <th>36</th>\n",
       "      <td>524</td>\n",
       "      <td>1446</td>\n",
       "      <td>4</td>\n",
       "      <td>3.0</td>\n",
       "      <td>1</td>\n",
       "      <td>2013-07-26</td>\n",
       "      <td>The food was good and the atmosphere very nice...</td>\n",
       "      <td>[The, food, was, good, and, the, atmosphere, v...</td>\n",
       "      <td>[food, good, atmosphere, nice, unfortunately, ...</td>\n",
       "      <td>[(food, good), (good, atmosphere), (atmosphere...</td>\n",
       "      <td>Friday</td>\n",
       "      <td>July</td>\n",
       "    </tr>\n",
       "    <tr>\n",
       "      <th>37</th>\n",
       "      <td>528</td>\n",
       "      <td>1450</td>\n",
       "      <td>4</td>\n",
       "      <td>4.0</td>\n",
       "      <td>1</td>\n",
       "      <td>2014-09-04</td>\n",
       "      <td>I love this restaurant! My friend booked a tab...</td>\n",
       "      <td>[I, love, this, restaurant, !, My, friend, boo...</td>\n",
       "      <td>[love, restaurant, friend, booked, table, last...</td>\n",
       "      <td>[(love, restaurant), (restaurant, friend), (fr...</td>\n",
       "      <td>Thursday</td>\n",
       "      <td>September</td>\n",
       "    </tr>\n",
       "  </tbody>\n",
       "</table>\n",
       "</div>"
      ],
      "text/plain": [
       "    ex_id  user_id  prod_id  rating  label        date  \\\n",
       "0      11      934        0     5.0      1  2014-01-20   \n",
       "18    226     1149        1     4.0      1  2009-02-17   \n",
       "19    246     1169        1     5.0      1  2011-01-23   \n",
       "36    524     1446        4     3.0      1  2013-07-26   \n",
       "37    528     1450        4     4.0      1  2014-09-04   \n",
       "\n",
       "                                               review  \\\n",
       "0   all around good place, cozy, I came in and did...   \n",
       "18  Nice atmosphere and good service. They have a ...   \n",
       "19  Best Pizza in Brooklyn. I tried others and I h...   \n",
       "36  The food was good and the atmosphere very nice...   \n",
       "37  I love this restaurant! My friend booked a tab...   \n",
       "\n",
       "                                               tokens  \\\n",
       "0   [all, around, good, place, ,, cozy, ,, I, came...   \n",
       "18  [Nice, atmosphere, and, good, service, ., They...   \n",
       "19  [Best, Pizza, in, Brooklyn, ., I, tried, other...   \n",
       "36  [The, food, was, good, and, the, atmosphere, v...   \n",
       "37  [I, love, this, restaurant, !, My, friend, boo...   \n",
       "\n",
       "                                  tokens_no_stopwords  \\\n",
       "0   [around, good, place, cozy, came, nt, huge, ap...   \n",
       "18  [Nice, atmosphere, good, service, great, menu,...   \n",
       "19  [Best, Pizza, Brooklyn, tried, others, say, nt...   \n",
       "36  [food, good, atmosphere, nice, unfortunately, ...   \n",
       "37  [love, restaurant, friend, booked, table, last...   \n",
       "\n",
       "                                             bigrams_       day      month  \n",
       "0   [(around, good), (good, place), (place, cozy),...    Monday    January  \n",
       "18  [(Nice, atmosphere), (atmosphere, good), (good...   Tuesday   February  \n",
       "19  [(Best, Pizza), (Pizza, Brooklyn), (Brooklyn, ...    Sunday    January  \n",
       "36  [(food, good), (good, atmosphere), (atmosphere...    Friday       July  \n",
       "37  [(love, restaurant), (restaurant, friend), (fr...  Thursday  September  "
      ]
     },
     "execution_count": 23,
     "metadata": {},
     "output_type": "execute_result"
    }
   ],
   "source": [
    "# Isolating fake reviews and real_reviews\n",
    "fake_reviews = data_df[review_df.label == 1]\n",
    "real_reviews = data_df[review_df.label == 0]\n",
    "fake_reviews.head()"
   ]
  },
  {
   "cell_type": "code",
   "execution_count": 24,
   "metadata": {},
   "outputs": [
    {
     "data": {
      "text/html": [
       "<div>\n",
       "<style scoped>\n",
       "    .dataframe tbody tr th:only-of-type {\n",
       "        vertical-align: middle;\n",
       "    }\n",
       "\n",
       "    .dataframe tbody tr th {\n",
       "        vertical-align: top;\n",
       "    }\n",
       "\n",
       "    .dataframe thead th {\n",
       "        text-align: right;\n",
       "    }\n",
       "</style>\n",
       "<table border=\"1\" class=\"dataframe\">\n",
       "  <thead>\n",
       "    <tr style=\"text-align: right;\">\n",
       "      <th></th>\n",
       "      <th>ex_id</th>\n",
       "      <th>user_id</th>\n",
       "      <th>prod_id</th>\n",
       "      <th>rating</th>\n",
       "      <th>label</th>\n",
       "      <th>date</th>\n",
       "      <th>review</th>\n",
       "      <th>tokens</th>\n",
       "      <th>tokens_no_stopwords</th>\n",
       "      <th>bigrams_</th>\n",
       "      <th>day</th>\n",
       "      <th>month</th>\n",
       "    </tr>\n",
       "  </thead>\n",
       "  <tbody>\n",
       "    <tr>\n",
       "      <th>1</th>\n",
       "      <td>17</td>\n",
       "      <td>940</td>\n",
       "      <td>0</td>\n",
       "      <td>4.0</td>\n",
       "      <td>0</td>\n",
       "      <td>2014-09-16</td>\n",
       "      <td>For lunch, my friend and I had: -Lamb sandwich...</td>\n",
       "      <td>[For, lunch, ,, my, friend, and, I, had, :, -L...</td>\n",
       "      <td>[lunch, friend, Lamb, sandwich, juicy, flavorf...</td>\n",
       "      <td>[(lunch, friend), (friend, Lamb), (Lamb, sandw...</td>\n",
       "      <td>Tuesday</td>\n",
       "      <td>September</td>\n",
       "    </tr>\n",
       "    <tr>\n",
       "      <th>2</th>\n",
       "      <td>20</td>\n",
       "      <td>943</td>\n",
       "      <td>0</td>\n",
       "      <td>5.0</td>\n",
       "      <td>0</td>\n",
       "      <td>2014-05-24</td>\n",
       "      <td>Some good Big Greek cooking!! Came to City on ...</td>\n",
       "      <td>[Some, good, Big, Greek, cooking, !, !, Came, ...</td>\n",
       "      <td>[good, Big, Greek, cooking, Came, City, gorgeo...</td>\n",
       "      <td>[(good, Big), (Big, Greek), (Greek, cooking), ...</td>\n",
       "      <td>Saturday</td>\n",
       "      <td>May</td>\n",
       "    </tr>\n",
       "    <tr>\n",
       "      <th>3</th>\n",
       "      <td>30</td>\n",
       "      <td>953</td>\n",
       "      <td>0</td>\n",
       "      <td>4.0</td>\n",
       "      <td>0</td>\n",
       "      <td>2013-10-17</td>\n",
       "      <td>So... as you may notice from some of my other ...</td>\n",
       "      <td>[So, ..., as, you, may, notice, from, some, of...</td>\n",
       "      <td>[may, notice, reviews, healthiest, eater, try,...</td>\n",
       "      <td>[(may, notice), (notice, reviews), (reviews, h...</td>\n",
       "      <td>Thursday</td>\n",
       "      <td>October</td>\n",
       "    </tr>\n",
       "    <tr>\n",
       "      <th>4</th>\n",
       "      <td>43</td>\n",
       "      <td>966</td>\n",
       "      <td>0</td>\n",
       "      <td>3.0</td>\n",
       "      <td>0</td>\n",
       "      <td>2012-12-19</td>\n",
       "      <td>I don't understand the whole \"You can't order ...</td>\n",
       "      <td>[I, do, n't, understand, the, whole, ``, You, ...</td>\n",
       "      <td>[nt, understand, whole, ca, nt, order, lunch, ...</td>\n",
       "      <td>[(nt, understand), (understand, whole), (whole...</td>\n",
       "      <td>Wednesday</td>\n",
       "      <td>December</td>\n",
       "    </tr>\n",
       "    <tr>\n",
       "      <th>5</th>\n",
       "      <td>53</td>\n",
       "      <td>976</td>\n",
       "      <td>0</td>\n",
       "      <td>5.0</td>\n",
       "      <td>0</td>\n",
       "      <td>2012-05-31</td>\n",
       "      <td>YUMS! I just tried the Carp Roe and it's soooo...</td>\n",
       "      <td>[YUMS, !, I, just, tried, the, Carp, Roe, and,...</td>\n",
       "      <td>[YUMS, tried, Carp, Roe, s, sooooooooooooo, go...</td>\n",
       "      <td>[(YUMS, tried), (tried, Carp), (Carp, Roe), (R...</td>\n",
       "      <td>Thursday</td>\n",
       "      <td>May</td>\n",
       "    </tr>\n",
       "  </tbody>\n",
       "</table>\n",
       "</div>"
      ],
      "text/plain": [
       "   ex_id  user_id  prod_id  rating  label        date  \\\n",
       "1     17      940        0     4.0      0  2014-09-16   \n",
       "2     20      943        0     5.0      0  2014-05-24   \n",
       "3     30      953        0     4.0      0  2013-10-17   \n",
       "4     43      966        0     3.0      0  2012-12-19   \n",
       "5     53      976        0     5.0      0  2012-05-31   \n",
       "\n",
       "                                              review  \\\n",
       "1  For lunch, my friend and I had: -Lamb sandwich...   \n",
       "2  Some good Big Greek cooking!! Came to City on ...   \n",
       "3  So... as you may notice from some of my other ...   \n",
       "4  I don't understand the whole \"You can't order ...   \n",
       "5  YUMS! I just tried the Carp Roe and it's soooo...   \n",
       "\n",
       "                                              tokens  \\\n",
       "1  [For, lunch, ,, my, friend, and, I, had, :, -L...   \n",
       "2  [Some, good, Big, Greek, cooking, !, !, Came, ...   \n",
       "3  [So, ..., as, you, may, notice, from, some, of...   \n",
       "4  [I, do, n't, understand, the, whole, ``, You, ...   \n",
       "5  [YUMS, !, I, just, tried, the, Carp, Roe, and,...   \n",
       "\n",
       "                                 tokens_no_stopwords  \\\n",
       "1  [lunch, friend, Lamb, sandwich, juicy, flavorf...   \n",
       "2  [good, Big, Greek, cooking, Came, City, gorgeo...   \n",
       "3  [may, notice, reviews, healthiest, eater, try,...   \n",
       "4  [nt, understand, whole, ca, nt, order, lunch, ...   \n",
       "5  [YUMS, tried, Carp, Roe, s, sooooooooooooo, go...   \n",
       "\n",
       "                                            bigrams_        day      month  \n",
       "1  [(lunch, friend), (friend, Lamb), (Lamb, sandw...    Tuesday  September  \n",
       "2  [(good, Big), (Big, Greek), (Greek, cooking), ...   Saturday        May  \n",
       "3  [(may, notice), (notice, reviews), (reviews, h...   Thursday    October  \n",
       "4  [(nt, understand), (understand, whole), (whole...  Wednesday   December  \n",
       "5  [(YUMS, tried), (tried, Carp), (Carp, Roe), (R...   Thursday        May  "
      ]
     },
     "execution_count": 24,
     "metadata": {},
     "output_type": "execute_result"
    }
   ],
   "source": [
    "real_reviews.head()"
   ]
  },
  {
   "cell_type": "code",
   "execution_count": 25,
   "metadata": {},
   "outputs": [],
   "source": [
    "# Creating Frequency distribution of words in both fake and real reviews\n",
    "\n",
    "fakereview_fdist = FreqDist(word.lower() for word_lst in fake_reviews.tokens_no_stopwords for word in word_lst)\n",
    "realreview_fdist = FreqDist(word.lower() for word_lst in real_reviews.tokens_no_stopwords for word in word_lst)"
   ]
  },
  {
   "cell_type": "code",
   "execution_count": 26,
   "metadata": {},
   "outputs": [
    {
     "data": {
      "image/png": "[encoded data removed]",
      "text/plain": [
       "<Figure size 432x288 with 1 Axes>"
      ]
     },
     "metadata": {
      "needs_background": "light"
     },
     "output_type": "display_data"
    },
    {
     "data": {
      "text/plain": [
       "<matplotlib.axes._subplots.AxesSubplot at 0x234ae12c5c0>"
      ]
     },
     "execution_count": 26,
     "metadata": {},
     "output_type": "execute_result"
    }
   ],
   "source": [
    "# Plotting word distributions in fake reviews\n",
    "fakereview_fdist.plot(25,title=\"Top 25 Words In Fake Reviews\")"
   ]
  },
  {
   "cell_type": "code",
   "execution_count": 27,
   "metadata": {
    "scrolled": false
   },
   "outputs": [
    {
     "data": {
      "image/png": "[encoded data removed]",
      "text/plain": [
       "<Figure size 432x288 with 1 Axes>"
      ]
     },
     "metadata": {
      "needs_background": "light"
     },
     "output_type": "display_data"
    },
    {
     "data": {
      "text/plain": [
       "<matplotlib.axes._subplots.AxesSubplot at 0x234aee6dc18>"
      ]
     },
     "execution_count": 27,
     "metadata": {},
     "output_type": "execute_result"
    }
   ],
   "source": [
    "# Plotting word distributions in fake reviews\n",
    "realreview_fdist.plot(25,title=\"Top 25 Words In Real Reviews\")"
   ]
  },
  {
   "cell_type": "code",
   "execution_count": 28,
   "metadata": {},
   "outputs": [
    {
     "data": {
      "text/plain": [
       "<matplotlib.axes._subplots.AxesSubplot at 0x234aef14cf8>"
      ]
     },
     "execution_count": 28,
     "metadata": {},
     "output_type": "execute_result"
    },
    {
     "data": {
      "image/png": "[encoded data removed]",
      "text/plain": [
       "<Figure size 432x288 with 1 Axes>"
      ]
     },
     "metadata": {
      "needs_background": "light"
     },
     "output_type": "display_data"
    }
   ],
   "source": [
    "fake_reviews.rating.plot(kind='hist',title='Rating Distribution for Fake Reviews')"
   ]
  },
  {
   "cell_type": "code",
   "execution_count": 29,
   "metadata": {},
   "outputs": [
    {
     "data": {
      "text/plain": [
       "<matplotlib.axes._subplots.AxesSubplot at 0x234aefadac8>"
      ]
     },
     "execution_count": 29,
     "metadata": {},
     "output_type": "execute_result"
    },
    {
     "data": {
      "image/png": "[encoded data removed]",
      "text/plain": [
       "<Figure size 432x288 with 1 Axes>"
      ]
     },
     "metadata": {
      "needs_background": "light"
     },
     "output_type": "display_data"
    }
   ],
   "source": [
    "real_reviews.rating.plot(kind='hist',title='Rating Distribution for Real Reviews')"
   ]
  },
  {
   "cell_type": "code",
   "execution_count": 30,
   "metadata": {},
   "outputs": [
    {
     "data": {
      "text/plain": [
       "<matplotlib.axes._subplots.AxesSubplot at 0x234b0014358>"
      ]
     },
     "execution_count": 30,
     "metadata": {},
     "output_type": "execute_result"
    },
    {
     "data": {
      "image/png": "[encoded data removed]",
      "text/plain": [
       "<Figure size 432x288 with 1 Axes>"
      ]
     },
     "metadata": {
      "needs_background": "light"
     },
     "output_type": "display_data"
    }
   ],
   "source": [
    "pd.crosstab(data_df.day, data_df.label).plot(kind='bar',rot=1,title='Distribution of reviews by Day')"
   ]
  },
  {
   "cell_type": "code",
   "execution_count": 31,
   "metadata": {
    "scrolled": false
   },
   "outputs": [
    {
     "data": {
      "text/plain": [
       "<matplotlib.axes._subplots.AxesSubplot at 0x234b00c0ba8>"
      ]
     },
     "execution_count": 31,
     "metadata": {},
     "output_type": "execute_result"
    },
    {
     "data": {
      "image/png": "[encoded data removed]",
      "text/plain": [
       "<Figure size 432x288 with 1 Axes>"
      ]
     },
     "metadata": {
      "needs_background": "light"
     },
     "output_type": "display_data"
    }
   ],
   "source": [
    "pd.crosstab(data_df.month, data_df.label).plot(kind='bar',title='Distribution of reviews by Month')"
   ]
  },
  {
   "cell_type": "code",
   "execution_count": 32,
   "metadata": {},
   "outputs": [],
   "source": [
    "# df = data_df[['ex_id','user_id','prod_id','rating','tokens_no_stopwords','bigrams_','day','month']]\n",
    "# with open(os.path.join(processed_dir,'dev','clean_df_ece278.pkl'),'wb') as f:\n",
    "#     pickle.dump(df, f)"
   ]
  }
 ],
 "metadata": {
  "kernelspec": {
   "display_name": "Python 3",
   "language": "python",
   "name": "python3"
  },
  "language_info": {
   "codemirror_mode": {
    "name": "ipython",
    "version": 3
   },
   "file_extension": ".py",
   "mimetype": "text/x-python",
   "name": "python",
   "nbconvert_exporter": "python",
   "pygments_lexer": "ipython3",
   "version": "3.6.7"
  }
 },
 "nbformat": 4,
 "nbformat_minor": 2
}
