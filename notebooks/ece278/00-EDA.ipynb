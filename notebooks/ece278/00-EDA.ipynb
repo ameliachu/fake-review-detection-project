{
 "cells": [
  {
   "cell_type": "code",
   "execution_count": 1,
   "metadata": {},
   "outputs": [],
   "source": [
    "import os\n",
    "import pandas as pd\n",
    "import pandas_profiling as pf\n",
    "from datetime import datetime as dt\n",
    "import calendar\n",
    "import pickle"
   ]
  },
  {
   "cell_type": "code",
   "execution_count": 2,
   "metadata": {},
   "outputs": [],
   "source": [
    "#Initializing file paths\n",
    "raw_dir = os.path.join(os.pardir,os.pardir,'data','raw')\n",
    "processed_dir = os.path.join(os.pardir,os.pardir,'data','processed')"
   ]
  },
  {
   "cell_type": "code",
   "execution_count": 3,
   "metadata": {},
   "outputs": [],
   "source": [
    "data_path = os.path.join(raw_dir,'train.csv')"
   ]
  },
  {
   "cell_type": "code",
   "execution_count": 4,
   "metadata": {},
   "outputs": [],
   "source": [
    "data_df = pd.read_csv(data_path)"
   ]
  },
  {
   "cell_type": "code",
   "execution_count": 5,
   "metadata": {},
   "outputs": [
    {
     "data": {
      "text/html": [
       "<div>\n",
       "<style scoped>\n",
       "    .dataframe tbody tr th:only-of-type {\n",
       "        vertical-align: middle;\n",
       "    }\n",
       "\n",
       "    .dataframe tbody tr th {\n",
       "        vertical-align: top;\n",
       "    }\n",
       "\n",
       "    .dataframe thead th {\n",
       "        text-align: right;\n",
       "    }\n",
       "</style>\n",
       "<table border=\"1\" class=\"dataframe\">\n",
       "  <thead>\n",
       "    <tr style=\"text-align: right;\">\n",
       "      <th></th>\n",
       "      <th>ex_id</th>\n",
       "      <th>user_id</th>\n",
       "      <th>prod_id</th>\n",
       "      <th>rating</th>\n",
       "      <th>label</th>\n",
       "      <th>date</th>\n",
       "      <th>review</th>\n",
       "    </tr>\n",
       "  </thead>\n",
       "  <tbody>\n",
       "    <tr>\n",
       "      <th>0</th>\n",
       "      <td>0</td>\n",
       "      <td>923</td>\n",
       "      <td>0</td>\n",
       "      <td>3.0</td>\n",
       "      <td>1</td>\n",
       "      <td>2014-12-08</td>\n",
       "      <td>The food at snack is a selection of popular Gr...</td>\n",
       "    </tr>\n",
       "    <tr>\n",
       "      <th>1</th>\n",
       "      <td>1</td>\n",
       "      <td>924</td>\n",
       "      <td>0</td>\n",
       "      <td>3.0</td>\n",
       "      <td>1</td>\n",
       "      <td>2013-05-16</td>\n",
       "      <td>This little place in Soho is wonderful. I had ...</td>\n",
       "    </tr>\n",
       "    <tr>\n",
       "      <th>2</th>\n",
       "      <td>2</td>\n",
       "      <td>925</td>\n",
       "      <td>0</td>\n",
       "      <td>4.0</td>\n",
       "      <td>1</td>\n",
       "      <td>2013-07-01</td>\n",
       "      <td>ordered lunch for 15 from Snack last Friday.  ...</td>\n",
       "    </tr>\n",
       "    <tr>\n",
       "      <th>3</th>\n",
       "      <td>3</td>\n",
       "      <td>926</td>\n",
       "      <td>0</td>\n",
       "      <td>4.0</td>\n",
       "      <td>1</td>\n",
       "      <td>2011-07-28</td>\n",
       "      <td>This is a beautiful quaint little restaurant o...</td>\n",
       "    </tr>\n",
       "    <tr>\n",
       "      <th>4</th>\n",
       "      <td>4</td>\n",
       "      <td>927</td>\n",
       "      <td>0</td>\n",
       "      <td>4.0</td>\n",
       "      <td>1</td>\n",
       "      <td>2010-11-01</td>\n",
       "      <td>Snack is great place for a  casual sit down lu...</td>\n",
       "    </tr>\n",
       "  </tbody>\n",
       "</table>\n",
       "</div>"
      ],
      "text/plain": [
       "   ex_id  user_id  prod_id  rating  label        date  \\\n",
       "0      0      923        0     3.0      1  2014-12-08   \n",
       "1      1      924        0     3.0      1  2013-05-16   \n",
       "2      2      925        0     4.0      1  2013-07-01   \n",
       "3      3      926        0     4.0      1  2011-07-28   \n",
       "4      4      927        0     4.0      1  2010-11-01   \n",
       "\n",
       "                                              review  \n",
       "0  The food at snack is a selection of popular Gr...  \n",
       "1  This little place in Soho is wonderful. I had ...  \n",
       "2  ordered lunch for 15 from Snack last Friday.  ...  \n",
       "3  This is a beautiful quaint little restaurant o...  \n",
       "4  Snack is great place for a  casual sit down lu...  "
      ]
     },
     "execution_count": 5,
     "metadata": {},
     "output_type": "execute_result"
    }
   ],
   "source": [
    "data_df.head()"
   ]
  },
  {
   "cell_type": "markdown",
   "metadata": {},
   "source": [
    "#### Summary Statistics"
   ]
  },
  {
   "cell_type": "code",
   "execution_count": 6,
   "metadata": {},
   "outputs": [
    {
     "data": {
      "text/html": [
       "<div>\n",
       "<style scoped>\n",
       "    .dataframe tbody tr th:only-of-type {\n",
       "        vertical-align: middle;\n",
       "    }\n",
       "\n",
       "    .dataframe tbody tr th {\n",
       "        vertical-align: top;\n",
       "    }\n",
       "\n",
       "    .dataframe thead th {\n",
       "        text-align: right;\n",
       "    }\n",
       "</style>\n",
       "<table border=\"1\" class=\"dataframe\">\n",
       "  <thead>\n",
       "    <tr style=\"text-align: right;\">\n",
       "      <th></th>\n",
       "      <th>ex_id</th>\n",
       "      <th>user_id</th>\n",
       "      <th>prod_id</th>\n",
       "      <th>rating</th>\n",
       "      <th>label</th>\n",
       "    </tr>\n",
       "  </thead>\n",
       "  <tbody>\n",
       "    <tr>\n",
       "      <th>count</th>\n",
       "      <td>250874.000000</td>\n",
       "      <td>250874.000000</td>\n",
       "      <td>250874.000000</td>\n",
       "      <td>250874.000000</td>\n",
       "      <td>250874.000000</td>\n",
       "    </tr>\n",
       "    <tr>\n",
       "      <th>mean</th>\n",
       "      <td>179413.488815</td>\n",
       "      <td>53970.730446</td>\n",
       "      <td>459.778211</td>\n",
       "      <td>4.023717</td>\n",
       "      <td>0.102916</td>\n",
       "    </tr>\n",
       "    <tr>\n",
       "      <th>std</th>\n",
       "      <td>103640.791253</td>\n",
       "      <td>45803.665418</td>\n",
       "      <td>259.854178</td>\n",
       "      <td>1.056995</td>\n",
       "      <td>0.303850</td>\n",
       "    </tr>\n",
       "    <tr>\n",
       "      <th>min</th>\n",
       "      <td>0.000000</td>\n",
       "      <td>923.000000</td>\n",
       "      <td>0.000000</td>\n",
       "      <td>1.000000</td>\n",
       "      <td>0.000000</td>\n",
       "    </tr>\n",
       "    <tr>\n",
       "      <th>25%</th>\n",
       "      <td>89526.500000</td>\n",
       "      <td>13820.000000</td>\n",
       "      <td>247.000000</td>\n",
       "      <td>4.000000</td>\n",
       "      <td>0.000000</td>\n",
       "    </tr>\n",
       "    <tr>\n",
       "      <th>50%</th>\n",
       "      <td>179345.500000</td>\n",
       "      <td>40485.500000</td>\n",
       "      <td>468.000000</td>\n",
       "      <td>4.000000</td>\n",
       "      <td>0.000000</td>\n",
       "    </tr>\n",
       "    <tr>\n",
       "      <th>75%</th>\n",
       "      <td>269196.750000</td>\n",
       "      <td>87298.000000</td>\n",
       "      <td>672.000000</td>\n",
       "      <td>5.000000</td>\n",
       "      <td>0.000000</td>\n",
       "    </tr>\n",
       "    <tr>\n",
       "      <th>max</th>\n",
       "      <td>358956.000000</td>\n",
       "      <td>161147.000000</td>\n",
       "      <td>922.000000</td>\n",
       "      <td>5.000000</td>\n",
       "      <td>1.000000</td>\n",
       "    </tr>\n",
       "  </tbody>\n",
       "</table>\n",
       "</div>"
      ],
      "text/plain": [
       "               ex_id        user_id        prod_id         rating  \\\n",
       "count  250874.000000  250874.000000  250874.000000  250874.000000   \n",
       "mean   179413.488815   53970.730446     459.778211       4.023717   \n",
       "std    103640.791253   45803.665418     259.854178       1.056995   \n",
       "min         0.000000     923.000000       0.000000       1.000000   \n",
       "25%     89526.500000   13820.000000     247.000000       4.000000   \n",
       "50%    179345.500000   40485.500000     468.000000       4.000000   \n",
       "75%    269196.750000   87298.000000     672.000000       5.000000   \n",
       "max    358956.000000  161147.000000     922.000000       5.000000   \n",
       "\n",
       "               label  \n",
       "count  250874.000000  \n",
       "mean        0.102916  \n",
       "std         0.303850  \n",
       "min         0.000000  \n",
       "25%         0.000000  \n",
       "50%         0.000000  \n",
       "75%         0.000000  \n",
       "max         1.000000  "
      ]
     },
     "execution_count": 6,
     "metadata": {},
     "output_type": "execute_result"
    }
   ],
   "source": [
    "# A quick summary statistics on all data.\n",
    "data_df.describe()"
   ]
  },
  {
   "cell_type": "code",
   "execution_count": 7,
   "metadata": {},
   "outputs": [
    {
     "data": {
      "text/plain": [
       "250874"
      ]
     },
     "execution_count": 7,
     "metadata": {},
     "output_type": "execute_result"
    }
   ],
   "source": [
    "# Checking the number users in the data\n",
    "data_df.user_id.count()"
   ]
  },
  {
   "cell_type": "code",
   "execution_count": 8,
   "metadata": {},
   "outputs": [
    {
     "data": {
      "text/plain": [
       "125679"
      ]
     },
     "execution_count": 8,
     "metadata": {},
     "output_type": "execute_result"
    }
   ],
   "source": [
    "# Checking the number of unique users in the data\n",
    "len(data_df.user_id.unique())"
   ]
  },
  {
   "cell_type": "markdown",
   "metadata": {},
   "source": [
    "*_Assumption 1: Since unique user count is less than user count we can assume that some users wrote multiple reviews or thesame review by thesame user was added multiple times. (We'll confirm which one later)_*"
   ]
  },
  {
   "cell_type": "code",
   "execution_count": 9,
   "metadata": {},
   "outputs": [
    {
     "data": {
      "text/plain": [
       "250874"
      ]
     },
     "execution_count": 9,
     "metadata": {},
     "output_type": "execute_result"
    }
   ],
   "source": [
    "# Checking the number ex_id in the data\n",
    "data_df.ex_id.count()"
   ]
  },
  {
   "cell_type": "code",
   "execution_count": 10,
   "metadata": {},
   "outputs": [
    {
     "data": {
      "text/plain": [
       "250874"
      ]
     },
     "execution_count": 10,
     "metadata": {},
     "output_type": "execute_result"
    }
   ],
   "source": [
    "len(data_df.ex_id.unique())"
   ]
  },
  {
   "cell_type": "markdown",
   "metadata": {},
   "source": [
    "*_Question 1: What's `ex_id`, hmmm? (Could it be a unique id for each review since it's value is unique for each review)_*"
   ]
  },
  {
   "cell_type": "code",
   "execution_count": null,
   "metadata": {},
   "outputs": [],
   "source": []
  },
  {
   "cell_type": "markdown",
   "metadata": {},
   "source": [
    "Since the df.describe() is best suited for numeric features its best to call it after transforming the review words into to a bag of words representation."
   ]
  },
  {
   "cell_type": "code",
   "execution_count": 11,
   "metadata": {
    "scrolled": true
   },
   "outputs": [
    {
     "data": {
      "text/html": [
       "<div>\n",
       "<style scoped>\n",
       "    .dataframe tbody tr th:only-of-type {\n",
       "        vertical-align: middle;\n",
       "    }\n",
       "\n",
       "    .dataframe tbody tr th {\n",
       "        vertical-align: top;\n",
       "    }\n",
       "\n",
       "    .dataframe thead th {\n",
       "        text-align: right;\n",
       "    }\n",
       "</style>\n",
       "<table border=\"1\" class=\"dataframe\">\n",
       "  <thead>\n",
       "    <tr style=\"text-align: right;\">\n",
       "      <th></th>\n",
       "      <th>review</th>\n",
       "      <th>label</th>\n",
       "    </tr>\n",
       "  </thead>\n",
       "  <tbody>\n",
       "    <tr>\n",
       "      <th>0</th>\n",
       "      <td>The food at snack is a selection of popular Gr...</td>\n",
       "      <td>1</td>\n",
       "    </tr>\n",
       "    <tr>\n",
       "      <th>1</th>\n",
       "      <td>This little place in Soho is wonderful. I had ...</td>\n",
       "      <td>1</td>\n",
       "    </tr>\n",
       "    <tr>\n",
       "      <th>2</th>\n",
       "      <td>ordered lunch for 15 from Snack last Friday.  ...</td>\n",
       "      <td>1</td>\n",
       "    </tr>\n",
       "    <tr>\n",
       "      <th>3</th>\n",
       "      <td>This is a beautiful quaint little restaurant o...</td>\n",
       "      <td>1</td>\n",
       "    </tr>\n",
       "    <tr>\n",
       "      <th>4</th>\n",
       "      <td>Snack is great place for a  casual sit down lu...</td>\n",
       "      <td>1</td>\n",
       "    </tr>\n",
       "  </tbody>\n",
       "</table>\n",
       "</div>"
      ],
      "text/plain": [
       "                                              review  label\n",
       "0  The food at snack is a selection of popular Gr...      1\n",
       "1  This little place in Soho is wonderful. I had ...      1\n",
       "2  ordered lunch for 15 from Snack last Friday.  ...      1\n",
       "3  This is a beautiful quaint little restaurant o...      1\n",
       "4  Snack is great place for a  casual sit down lu...      1"
      ]
     },
     "execution_count": 11,
     "metadata": {},
     "output_type": "execute_result"
    }
   ],
   "source": [
    "# Seperating the actual reviews and labels in a separate dataframe\n",
    "\n",
    "review_df = data_df[['review','label']].copy()\n",
    "review_df.head()"
   ]
  },
  {
   "cell_type": "code",
   "execution_count": 12,
   "metadata": {},
   "outputs": [],
   "source": [
    "import nltk"
   ]
  },
  {
   "cell_type": "code",
   "execution_count": 13,
   "metadata": {},
   "outputs": [],
   "source": [
    "# nltk.download('stopwords')\n",
    "# nltk.download('punkt')"
   ]
  },
  {
   "cell_type": "code",
   "execution_count": 14,
   "metadata": {},
   "outputs": [],
   "source": [
    "from nltk.corpus import stopwords\n",
    "from nltk.tokenize import word_tokenize\n",
    "from nltk.probability import FreqDist\n",
    "from nltk.util import bigrams\n",
    "import string\n",
    "import re"
   ]
  },
  {
   "cell_type": "code",
   "execution_count": 15,
   "metadata": {},
   "outputs": [],
   "source": [
    "stop_words = set(stopwords.words('english')) "
   ]
  },
  {
   "cell_type": "code",
   "execution_count": 16,
   "metadata": {},
   "outputs": [],
   "source": [
    "data_df['tokens'] = data_df['review'].apply(lambda x: word_tokenize(x) )"
   ]
  },
  {
   "cell_type": "code",
   "execution_count": 17,
   "metadata": {},
   "outputs": [],
   "source": [
    "def rm_stop_words(tokens):\n",
    "    filtered = [w for w in tokens if not w.lower() in stop_words] \n",
    "    return filtered\n",
    "\n",
    "def rm_puctuation(tokens):\n",
    "    init_filter = [w for w in tokens if w not in string.punctuation]\n",
    "    table = str.maketrans('', '', string.punctuation)\n",
    "    stripped = [w.translate(table) for w in init_filter]\n",
    "    clean = [w for w in stripped if w not in ['',' ']]\n",
    "    return clean\n",
    "\n",
    "def filter_tokens(tokens):\n",
    "    filtered = rm_stop_words(tokens)\n",
    "    new_tokens = rm_puctuation(filtered)\n",
    "    return new_tokens"
   ]
  },
  {
   "cell_type": "code",
   "execution_count": 18,
   "metadata": {},
   "outputs": [],
   "source": [
    "data_df['tokens_no_stopwords'] = data_df['tokens'].apply(lambda x: filter_tokens(x))"
   ]
  },
  {
   "cell_type": "code",
   "execution_count": 19,
   "metadata": {},
   "outputs": [],
   "source": [
    "# Creating bigrams\n",
    "data_df['bigrams_'] = data_df.tokens_no_stopwords.apply(lambda x: list(bigrams(x)))\n"
   ]
  },
  {
   "cell_type": "code",
   "execution_count": 20,
   "metadata": {},
   "outputs": [
    {
     "data": {
      "text/html": [
       "<div>\n",
       "<style scoped>\n",
       "    .dataframe tbody tr th:only-of-type {\n",
       "        vertical-align: middle;\n",
       "    }\n",
       "\n",
       "    .dataframe tbody tr th {\n",
       "        vertical-align: top;\n",
       "    }\n",
       "\n",
       "    .dataframe thead th {\n",
       "        text-align: right;\n",
       "    }\n",
       "</style>\n",
       "<table border=\"1\" class=\"dataframe\">\n",
       "  <thead>\n",
       "    <tr style=\"text-align: right;\">\n",
       "      <th></th>\n",
       "      <th>ex_id</th>\n",
       "      <th>user_id</th>\n",
       "      <th>prod_id</th>\n",
       "      <th>rating</th>\n",
       "      <th>label</th>\n",
       "      <th>date</th>\n",
       "      <th>review</th>\n",
       "      <th>tokens</th>\n",
       "      <th>tokens_no_stopwords</th>\n",
       "      <th>bigrams_</th>\n",
       "    </tr>\n",
       "  </thead>\n",
       "  <tbody>\n",
       "    <tr>\n",
       "      <th>0</th>\n",
       "      <td>0</td>\n",
       "      <td>923</td>\n",
       "      <td>0</td>\n",
       "      <td>3.0</td>\n",
       "      <td>1</td>\n",
       "      <td>2014-12-08</td>\n",
       "      <td>The food at snack is a selection of popular Gr...</td>\n",
       "      <td>[The, food, at, snack, is, a, selection, of, p...</td>\n",
       "      <td>[food, snack, selection, popular, Greek, dishe...</td>\n",
       "      <td>[(food, snack), (snack, selection), (selection...</td>\n",
       "    </tr>\n",
       "    <tr>\n",
       "      <th>1</th>\n",
       "      <td>1</td>\n",
       "      <td>924</td>\n",
       "      <td>0</td>\n",
       "      <td>3.0</td>\n",
       "      <td>1</td>\n",
       "      <td>2013-05-16</td>\n",
       "      <td>This little place in Soho is wonderful. I had ...</td>\n",
       "      <td>[This, little, place, in, Soho, is, wonderful,...</td>\n",
       "      <td>[little, place, Soho, wonderful, lamb, sandwic...</td>\n",
       "      <td>[(little, place), (place, Soho), (Soho, wonder...</td>\n",
       "    </tr>\n",
       "    <tr>\n",
       "      <th>2</th>\n",
       "      <td>2</td>\n",
       "      <td>925</td>\n",
       "      <td>0</td>\n",
       "      <td>4.0</td>\n",
       "      <td>1</td>\n",
       "      <td>2013-07-01</td>\n",
       "      <td>ordered lunch for 15 from Snack last Friday.  ...</td>\n",
       "      <td>[ordered, lunch, for, 15, from, Snack, last, F...</td>\n",
       "      <td>[ordered, lunch, 15, Snack, last, Friday, time...</td>\n",
       "      <td>[(ordered, lunch), (lunch, 15), (15, Snack), (...</td>\n",
       "    </tr>\n",
       "    <tr>\n",
       "      <th>3</th>\n",
       "      <td>3</td>\n",
       "      <td>926</td>\n",
       "      <td>0</td>\n",
       "      <td>4.0</td>\n",
       "      <td>1</td>\n",
       "      <td>2011-07-28</td>\n",
       "      <td>This is a beautiful quaint little restaurant o...</td>\n",
       "      <td>[This, is, a, beautiful, quaint, little, resta...</td>\n",
       "      <td>[beautiful, quaint, little, restaurant, pretty...</td>\n",
       "      <td>[(beautiful, quaint), (quaint, little), (littl...</td>\n",
       "    </tr>\n",
       "    <tr>\n",
       "      <th>4</th>\n",
       "      <td>4</td>\n",
       "      <td>927</td>\n",
       "      <td>0</td>\n",
       "      <td>4.0</td>\n",
       "      <td>1</td>\n",
       "      <td>2010-11-01</td>\n",
       "      <td>Snack is great place for a  casual sit down lu...</td>\n",
       "      <td>[Snack, is, great, place, for, a, casual, sit,...</td>\n",
       "      <td>[Snack, great, place, casual, sit, lunch, espe...</td>\n",
       "      <td>[(Snack, great), (great, place), (place, casua...</td>\n",
       "    </tr>\n",
       "  </tbody>\n",
       "</table>\n",
       "</div>"
      ],
      "text/plain": [
       "   ex_id  user_id  prod_id  rating  label        date  \\\n",
       "0      0      923        0     3.0      1  2014-12-08   \n",
       "1      1      924        0     3.0      1  2013-05-16   \n",
       "2      2      925        0     4.0      1  2013-07-01   \n",
       "3      3      926        0     4.0      1  2011-07-28   \n",
       "4      4      927        0     4.0      1  2010-11-01   \n",
       "\n",
       "                                              review  \\\n",
       "0  The food at snack is a selection of popular Gr...   \n",
       "1  This little place in Soho is wonderful. I had ...   \n",
       "2  ordered lunch for 15 from Snack last Friday.  ...   \n",
       "3  This is a beautiful quaint little restaurant o...   \n",
       "4  Snack is great place for a  casual sit down lu...   \n",
       "\n",
       "                                              tokens  \\\n",
       "0  [The, food, at, snack, is, a, selection, of, p...   \n",
       "1  [This, little, place, in, Soho, is, wonderful,...   \n",
       "2  [ordered, lunch, for, 15, from, Snack, last, F...   \n",
       "3  [This, is, a, beautiful, quaint, little, resta...   \n",
       "4  [Snack, is, great, place, for, a, casual, sit,...   \n",
       "\n",
       "                                 tokens_no_stopwords  \\\n",
       "0  [food, snack, selection, popular, Greek, dishe...   \n",
       "1  [little, place, Soho, wonderful, lamb, sandwic...   \n",
       "2  [ordered, lunch, 15, Snack, last, Friday, time...   \n",
       "3  [beautiful, quaint, little, restaurant, pretty...   \n",
       "4  [Snack, great, place, casual, sit, lunch, espe...   \n",
       "\n",
       "                                            bigrams_  \n",
       "0  [(food, snack), (snack, selection), (selection...  \n",
       "1  [(little, place), (place, Soho), (Soho, wonder...  \n",
       "2  [(ordered, lunch), (lunch, 15), (15, Snack), (...  \n",
       "3  [(beautiful, quaint), (quaint, little), (littl...  \n",
       "4  [(Snack, great), (great, place), (place, casua...  "
      ]
     },
     "execution_count": 20,
     "metadata": {},
     "output_type": "execute_result"
    }
   ],
   "source": [
    "data_df.head()"
   ]
  },
  {
   "cell_type": "code",
   "execution_count": 21,
   "metadata": {},
   "outputs": [],
   "source": [
    "# Creating a column for day of the week review was posted\n",
    "def get_day(date_string):\n",
    "    return calendar.day_name[dt.strptime(date_string, \"%Y-%m-%d\").weekday()]\n",
    "\n",
    "# Creating a column for month of the year review was posted\n",
    "def get_month(date_string):\n",
    "    return calendar.month_name[dt.strptime(date_string, \"%Y-%m-%d\").month]"
   ]
  },
  {
   "cell_type": "code",
   "execution_count": 22,
   "metadata": {},
   "outputs": [],
   "source": [
    "data_df['day'] = data_df.date.apply(lambda x: get_day(x))\n",
    "data_df['month'] = data_df.date.apply(lambda x: get_month(x))"
   ]
  },
  {
   "cell_type": "code",
   "execution_count": 23,
   "metadata": {},
   "outputs": [
    {
     "data": {
      "text/html": [
       "<div>\n",
       "<style scoped>\n",
       "    .dataframe tbody tr th:only-of-type {\n",
       "        vertical-align: middle;\n",
       "    }\n",
       "\n",
       "    .dataframe tbody tr th {\n",
       "        vertical-align: top;\n",
       "    }\n",
       "\n",
       "    .dataframe thead th {\n",
       "        text-align: right;\n",
       "    }\n",
       "</style>\n",
       "<table border=\"1\" class=\"dataframe\">\n",
       "  <thead>\n",
       "    <tr style=\"text-align: right;\">\n",
       "      <th></th>\n",
       "      <th>ex_id</th>\n",
       "      <th>user_id</th>\n",
       "      <th>prod_id</th>\n",
       "      <th>rating</th>\n",
       "      <th>label</th>\n",
       "      <th>date</th>\n",
       "      <th>review</th>\n",
       "      <th>tokens</th>\n",
       "      <th>tokens_no_stopwords</th>\n",
       "      <th>bigrams_</th>\n",
       "      <th>day</th>\n",
       "      <th>month</th>\n",
       "    </tr>\n",
       "  </thead>\n",
       "  <tbody>\n",
       "    <tr>\n",
       "      <th>0</th>\n",
       "      <td>0</td>\n",
       "      <td>923</td>\n",
       "      <td>0</td>\n",
       "      <td>3.0</td>\n",
       "      <td>1</td>\n",
       "      <td>2014-12-08</td>\n",
       "      <td>The food at snack is a selection of popular Gr...</td>\n",
       "      <td>[The, food, at, snack, is, a, selection, of, p...</td>\n",
       "      <td>[food, snack, selection, popular, Greek, dishe...</td>\n",
       "      <td>[(food, snack), (snack, selection), (selection...</td>\n",
       "      <td>Monday</td>\n",
       "      <td>December</td>\n",
       "    </tr>\n",
       "    <tr>\n",
       "      <th>1</th>\n",
       "      <td>1</td>\n",
       "      <td>924</td>\n",
       "      <td>0</td>\n",
       "      <td>3.0</td>\n",
       "      <td>1</td>\n",
       "      <td>2013-05-16</td>\n",
       "      <td>This little place in Soho is wonderful. I had ...</td>\n",
       "      <td>[This, little, place, in, Soho, is, wonderful,...</td>\n",
       "      <td>[little, place, Soho, wonderful, lamb, sandwic...</td>\n",
       "      <td>[(little, place), (place, Soho), (Soho, wonder...</td>\n",
       "      <td>Thursday</td>\n",
       "      <td>May</td>\n",
       "    </tr>\n",
       "    <tr>\n",
       "      <th>2</th>\n",
       "      <td>2</td>\n",
       "      <td>925</td>\n",
       "      <td>0</td>\n",
       "      <td>4.0</td>\n",
       "      <td>1</td>\n",
       "      <td>2013-07-01</td>\n",
       "      <td>ordered lunch for 15 from Snack last Friday.  ...</td>\n",
       "      <td>[ordered, lunch, for, 15, from, Snack, last, F...</td>\n",
       "      <td>[ordered, lunch, 15, Snack, last, Friday, time...</td>\n",
       "      <td>[(ordered, lunch), (lunch, 15), (15, Snack), (...</td>\n",
       "      <td>Monday</td>\n",
       "      <td>July</td>\n",
       "    </tr>\n",
       "    <tr>\n",
       "      <th>3</th>\n",
       "      <td>3</td>\n",
       "      <td>926</td>\n",
       "      <td>0</td>\n",
       "      <td>4.0</td>\n",
       "      <td>1</td>\n",
       "      <td>2011-07-28</td>\n",
       "      <td>This is a beautiful quaint little restaurant o...</td>\n",
       "      <td>[This, is, a, beautiful, quaint, little, resta...</td>\n",
       "      <td>[beautiful, quaint, little, restaurant, pretty...</td>\n",
       "      <td>[(beautiful, quaint), (quaint, little), (littl...</td>\n",
       "      <td>Thursday</td>\n",
       "      <td>July</td>\n",
       "    </tr>\n",
       "    <tr>\n",
       "      <th>4</th>\n",
       "      <td>4</td>\n",
       "      <td>927</td>\n",
       "      <td>0</td>\n",
       "      <td>4.0</td>\n",
       "      <td>1</td>\n",
       "      <td>2010-11-01</td>\n",
       "      <td>Snack is great place for a  casual sit down lu...</td>\n",
       "      <td>[Snack, is, great, place, for, a, casual, sit,...</td>\n",
       "      <td>[Snack, great, place, casual, sit, lunch, espe...</td>\n",
       "      <td>[(Snack, great), (great, place), (place, casua...</td>\n",
       "      <td>Monday</td>\n",
       "      <td>November</td>\n",
       "    </tr>\n",
       "  </tbody>\n",
       "</table>\n",
       "</div>"
      ],
      "text/plain": [
       "   ex_id  user_id  prod_id  rating  label        date  \\\n",
       "0      0      923        0     3.0      1  2014-12-08   \n",
       "1      1      924        0     3.0      1  2013-05-16   \n",
       "2      2      925        0     4.0      1  2013-07-01   \n",
       "3      3      926        0     4.0      1  2011-07-28   \n",
       "4      4      927        0     4.0      1  2010-11-01   \n",
       "\n",
       "                                              review  \\\n",
       "0  The food at snack is a selection of popular Gr...   \n",
       "1  This little place in Soho is wonderful. I had ...   \n",
       "2  ordered lunch for 15 from Snack last Friday.  ...   \n",
       "3  This is a beautiful quaint little restaurant o...   \n",
       "4  Snack is great place for a  casual sit down lu...   \n",
       "\n",
       "                                              tokens  \\\n",
       "0  [The, food, at, snack, is, a, selection, of, p...   \n",
       "1  [This, little, place, in, Soho, is, wonderful,...   \n",
       "2  [ordered, lunch, for, 15, from, Snack, last, F...   \n",
       "3  [This, is, a, beautiful, quaint, little, resta...   \n",
       "4  [Snack, is, great, place, for, a, casual, sit,...   \n",
       "\n",
       "                                 tokens_no_stopwords  \\\n",
       "0  [food, snack, selection, popular, Greek, dishe...   \n",
       "1  [little, place, Soho, wonderful, lamb, sandwic...   \n",
       "2  [ordered, lunch, 15, Snack, last, Friday, time...   \n",
       "3  [beautiful, quaint, little, restaurant, pretty...   \n",
       "4  [Snack, great, place, casual, sit, lunch, espe...   \n",
       "\n",
       "                                            bigrams_       day     month  \n",
       "0  [(food, snack), (snack, selection), (selection...    Monday  December  \n",
       "1  [(little, place), (place, Soho), (Soho, wonder...  Thursday       May  \n",
       "2  [(ordered, lunch), (lunch, 15), (15, Snack), (...    Monday      July  \n",
       "3  [(beautiful, quaint), (quaint, little), (littl...  Thursday      July  \n",
       "4  [(Snack, great), (great, place), (place, casua...    Monday  November  "
      ]
     },
     "execution_count": 23,
     "metadata": {},
     "output_type": "execute_result"
    }
   ],
   "source": [
    "# Isolating fake reviews and real_reviews\n",
    "fake_reviews = data_df[review_df.label == 1]\n",
    "real_reviews = data_df[review_df.label == 0]\n",
    "fake_reviews.head()"
   ]
  },
  {
   "cell_type": "code",
   "execution_count": 24,
   "metadata": {},
   "outputs": [
    {
     "data": {
      "text/html": [
       "<div>\n",
       "<style scoped>\n",
       "    .dataframe tbody tr th:only-of-type {\n",
       "        vertical-align: middle;\n",
       "    }\n",
       "\n",
       "    .dataframe tbody tr th {\n",
       "        vertical-align: top;\n",
       "    }\n",
       "\n",
       "    .dataframe thead th {\n",
       "        text-align: right;\n",
       "    }\n",
       "</style>\n",
       "<table border=\"1\" class=\"dataframe\">\n",
       "  <thead>\n",
       "    <tr style=\"text-align: right;\">\n",
       "      <th></th>\n",
       "      <th>ex_id</th>\n",
       "      <th>user_id</th>\n",
       "      <th>prod_id</th>\n",
       "      <th>rating</th>\n",
       "      <th>label</th>\n",
       "      <th>date</th>\n",
       "      <th>review</th>\n",
       "      <th>tokens</th>\n",
       "      <th>tokens_no_stopwords</th>\n",
       "      <th>bigrams_</th>\n",
       "      <th>day</th>\n",
       "      <th>month</th>\n",
       "    </tr>\n",
       "  </thead>\n",
       "  <tbody>\n",
       "    <tr>\n",
       "      <th>11</th>\n",
       "      <td>15</td>\n",
       "      <td>938</td>\n",
       "      <td>0</td>\n",
       "      <td>5.0</td>\n",
       "      <td>0</td>\n",
       "      <td>2014-10-10</td>\n",
       "      <td>I had the braised lamb sandwich and was one of...</td>\n",
       "      <td>[I, had, the, braised, lamb, sandwich, and, wa...</td>\n",
       "      <td>[braised, lamb, sandwich, one, best, sandwiche...</td>\n",
       "      <td>[(braised, lamb), (lamb, sandwich), (sandwich,...</td>\n",
       "      <td>Friday</td>\n",
       "      <td>October</td>\n",
       "    </tr>\n",
       "    <tr>\n",
       "      <th>12</th>\n",
       "      <td>16</td>\n",
       "      <td>939</td>\n",
       "      <td>0</td>\n",
       "      <td>3.0</td>\n",
       "      <td>0</td>\n",
       "      <td>2014-10-03</td>\n",
       "      <td>This spot is close to my job so I decided to c...</td>\n",
       "      <td>[This, spot, is, close, to, my, job, so, I, de...</td>\n",
       "      <td>[spot, close, job, decided, check, lunch, pric...</td>\n",
       "      <td>[(spot, close), (close, job), (job, decided), ...</td>\n",
       "      <td>Friday</td>\n",
       "      <td>October</td>\n",
       "    </tr>\n",
       "    <tr>\n",
       "      <th>13</th>\n",
       "      <td>18</td>\n",
       "      <td>941</td>\n",
       "      <td>0</td>\n",
       "      <td>5.0</td>\n",
       "      <td>0</td>\n",
       "      <td>2014-08-10</td>\n",
       "      <td>Needed a quick, healthy light \"lunch\" and this...</td>\n",
       "      <td>[Needed, a, quick, ,, healthy, light, ``, lunc...</td>\n",
       "      <td>[Needed, quick, healthy, light, lunch, place, ...</td>\n",
       "      <td>[(Needed, quick), (quick, healthy), (healthy, ...</td>\n",
       "      <td>Sunday</td>\n",
       "      <td>August</td>\n",
       "    </tr>\n",
       "    <tr>\n",
       "      <th>14</th>\n",
       "      <td>19</td>\n",
       "      <td>942</td>\n",
       "      <td>0</td>\n",
       "      <td>4.0</td>\n",
       "      <td>0</td>\n",
       "      <td>2014-06-17</td>\n",
       "      <td>Their artichoke chicken salad is good and plenty.</td>\n",
       "      <td>[Their, artichoke, chicken, salad, is, good, a...</td>\n",
       "      <td>[artichoke, chicken, salad, good, plenty]</td>\n",
       "      <td>[(artichoke, chicken), (chicken, salad), (sala...</td>\n",
       "      <td>Tuesday</td>\n",
       "      <td>June</td>\n",
       "    </tr>\n",
       "    <tr>\n",
       "      <th>15</th>\n",
       "      <td>21</td>\n",
       "      <td>944</td>\n",
       "      <td>0</td>\n",
       "      <td>4.0</td>\n",
       "      <td>0</td>\n",
       "      <td>2014-05-21</td>\n",
       "      <td>Needed a quick bite and stopped here because o...</td>\n",
       "      <td>[Needed, a, quick, bite, and, stopped, here, b...</td>\n",
       "      <td>[Needed, quick, bite, stopped, reviews, s, rea...</td>\n",
       "      <td>[(Needed, quick), (quick, bite), (bite, stoppe...</td>\n",
       "      <td>Wednesday</td>\n",
       "      <td>May</td>\n",
       "    </tr>\n",
       "  </tbody>\n",
       "</table>\n",
       "</div>"
      ],
      "text/plain": [
       "    ex_id  user_id  prod_id  rating  label        date  \\\n",
       "11     15      938        0     5.0      0  2014-10-10   \n",
       "12     16      939        0     3.0      0  2014-10-03   \n",
       "13     18      941        0     5.0      0  2014-08-10   \n",
       "14     19      942        0     4.0      0  2014-06-17   \n",
       "15     21      944        0     4.0      0  2014-05-21   \n",
       "\n",
       "                                               review  \\\n",
       "11  I had the braised lamb sandwich and was one of...   \n",
       "12  This spot is close to my job so I decided to c...   \n",
       "13  Needed a quick, healthy light \"lunch\" and this...   \n",
       "14  Their artichoke chicken salad is good and plenty.   \n",
       "15  Needed a quick bite and stopped here because o...   \n",
       "\n",
       "                                               tokens  \\\n",
       "11  [I, had, the, braised, lamb, sandwich, and, wa...   \n",
       "12  [This, spot, is, close, to, my, job, so, I, de...   \n",
       "13  [Needed, a, quick, ,, healthy, light, ``, lunc...   \n",
       "14  [Their, artichoke, chicken, salad, is, good, a...   \n",
       "15  [Needed, a, quick, bite, and, stopped, here, b...   \n",
       "\n",
       "                                  tokens_no_stopwords  \\\n",
       "11  [braised, lamb, sandwich, one, best, sandwiche...   \n",
       "12  [spot, close, job, decided, check, lunch, pric...   \n",
       "13  [Needed, quick, healthy, light, lunch, place, ...   \n",
       "14          [artichoke, chicken, salad, good, plenty]   \n",
       "15  [Needed, quick, bite, stopped, reviews, s, rea...   \n",
       "\n",
       "                                             bigrams_        day    month  \n",
       "11  [(braised, lamb), (lamb, sandwich), (sandwich,...     Friday  October  \n",
       "12  [(spot, close), (close, job), (job, decided), ...     Friday  October  \n",
       "13  [(Needed, quick), (quick, healthy), (healthy, ...     Sunday   August  \n",
       "14  [(artichoke, chicken), (chicken, salad), (sala...    Tuesday     June  \n",
       "15  [(Needed, quick), (quick, bite), (bite, stoppe...  Wednesday      May  "
      ]
     },
     "execution_count": 24,
     "metadata": {},
     "output_type": "execute_result"
    }
   ],
   "source": [
    "real_reviews.head()"
   ]
  },
  {
   "cell_type": "code",
   "execution_count": 25,
   "metadata": {},
   "outputs": [],
   "source": [
    "# Creating Frequency distribution of words in both fake and real reviews\n",
    "\n",
    "fakereview_fdist = FreqDist(word.lower() for word_lst in fake_reviews.tokens_no_stopwords for word in word_lst)\n",
    "realreview_fdist = FreqDist(word.lower() for word_lst in real_reviews.tokens_no_stopwords for word in word_lst)"
   ]
  },
  {
   "cell_type": "code",
   "execution_count": 26,
   "metadata": {},
   "outputs": [
    {
     "data": {
      "image/png": "[encoded data removed]",
      "text/plain": [
       "<Figure size 432x288 with 1 Axes>"
      ]
     },
     "metadata": {
      "needs_background": "light"
     },
     "output_type": "display_data"
    },
    {
     "data": {
      "text/plain": [
       "<matplotlib.axes._subplots.AxesSubplot at 0x164110376d8>"
      ]
     },
     "execution_count": 26,
     "metadata": {},
     "output_type": "execute_result"
    }
   ],
   "source": [
    "# Plotting word distributions in fake reviews\n",
    "fakereview_fdist.plot(25,title=\"Top 25 Words In Fake Reviews\")"
   ]
  },
  {
   "cell_type": "code",
   "execution_count": 27,
   "metadata": {
    "scrolled": false
   },
   "outputs": [
    {
     "data": {
      "image/png": "[encoded data removed]",
      "text/plain": [
       "<Figure size 432x288 with 1 Axes>"
      ]
     },
     "metadata": {
      "needs_background": "light"
     },
     "output_type": "display_data"
    },
    {
     "data": {
      "text/plain": [
       "<matplotlib.axes._subplots.AxesSubplot at 0x164166e27f0>"
      ]
     },
     "execution_count": 27,
     "metadata": {},
     "output_type": "execute_result"
    }
   ],
   "source": [
    "# Plotting word distributions in fake reviews\n",
    "realreview_fdist.plot(25,title=\"Top 25 Words In Real Reviews\")"
   ]
  },
  {
   "cell_type": "code",
   "execution_count": 28,
   "metadata": {},
   "outputs": [
    {
     "data": {
      "text/plain": [
       "<matplotlib.axes._subplots.AxesSubplot at 0x16416799940>"
      ]
     },
     "execution_count": 28,
     "metadata": {},
     "output_type": "execute_result"
    },
    {
     "data": {
      "image/png": "[encoded data removed]",
      "text/plain": [
       "<Figure size 432x288 with 1 Axes>"
      ]
     },
     "metadata": {
      "needs_background": "light"
     },
     "output_type": "display_data"
    }
   ],
   "source": [
    "fake_reviews.rating.plot(kind='hist',title='Rating Distribution for Fake Reviews')"
   ]
  },
  {
   "cell_type": "code",
   "execution_count": 29,
   "metadata": {},
   "outputs": [
    {
     "data": {
      "text/plain": [
       "<matplotlib.axes._subplots.AxesSubplot at 0x164167f1438>"
      ]
     },
     "execution_count": 29,
     "metadata": {},
     "output_type": "execute_result"
    },
    {
     "data": {
      "image/png": "[encoded data removed]",
      "text/plain": [
       "<Figure size 432x288 with 1 Axes>"
      ]
     },
     "metadata": {
      "needs_background": "light"
     },
     "output_type": "display_data"
    }
   ],
   "source": [
    "real_reviews.rating.plot(kind='hist',title='Rating Distribution for Real Reviews')"
   ]
  },
  {
   "cell_type": "code",
   "execution_count": 30,
   "metadata": {},
   "outputs": [
    {
     "data": {
      "text/plain": [
       "<matplotlib.axes._subplots.AxesSubplot at 0x16416869198>"
      ]
     },
     "execution_count": 30,
     "metadata": {},
     "output_type": "execute_result"
    },
    {
     "data": {
      "image/png": "[encoded data removed]",
      "text/plain": [
       "<Figure size 432x288 with 1 Axes>"
      ]
     },
     "metadata": {
      "needs_background": "light"
     },
     "output_type": "display_data"
    }
   ],
   "source": [
    "pd.crosstab(data_df.day, data_df.label).plot(kind='bar',rot=1,title='Distribution of reviews by Day')"
   ]
  },
  {
   "cell_type": "code",
   "execution_count": 31,
   "metadata": {
    "scrolled": false
   },
   "outputs": [
    {
     "data": {
      "text/plain": [
       "<matplotlib.axes._subplots.AxesSubplot at 0x16416928048>"
      ]
     },
     "execution_count": 31,
     "metadata": {},
     "output_type": "execute_result"
    },
    {
     "data": {
      "image/png": "[encoded data removed]",
      "text/plain": [
       "<Figure size 432x288 with 1 Axes>"
      ]
     },
     "metadata": {
      "needs_background": "light"
     },
     "output_type": "display_data"
    }
   ],
   "source": [
    "pd.crosstab(data_df.month, data_df.label).plot(kind='bar',title='Distribution of reviews by Month')"
   ]
  },
  {
   "cell_type": "code",
   "execution_count": 32,
   "metadata": {},
   "outputs": [],
   "source": [
    "# df = data_df[['ex_id','user_id','prod_id','rating','tokens_no_stopwords','bigrams_','day','month']]\n",
    "# with open(os.path.join(processed_dir,'dev','clean_df_ece278.pkl'),'wb') as f:\n",
    "#     pickle.dump(df, f)"
   ]
  }
 ],
 "metadata": {
  "kernelspec": {
   "display_name": "Python 3",
   "language": "python",
   "name": "python3"
  },
  "language_info": {
   "codemirror_mode": {
    "name": "ipython",
    "version": 3
   },
   "file_extension": ".py",
   "mimetype": "text/x-python",
   "name": "python",
   "nbconvert_exporter": "python",
   "pygments_lexer": "ipython3",
   "version": "3.6.7"
  }
 },
 "nbformat": 4,
 "nbformat_minor": 2
}
