{
 "cells": [
  {
   "cell_type": "code",
   "execution_count": 22,
   "metadata": {
    "colab": {},
    "colab_type": "code",
    "id": "xFSSQjjMyre4"
   },
   "outputs": [],
   "source": [
    "import os\n",
    "import numpy as np\n",
    "import sklearn\n",
    "import pandas as pd"
   ]
  },
  {
   "cell_type": "code",
   "execution_count": 23,
   "metadata": {
    "colab": {},
    "colab_type": "code",
    "id": "cVdfLr1oyre9"
   },
   "outputs": [],
   "source": [
    "# #Initializing file paths\n",
    "# raw_dir = os.path.join(os.pardir,os.pardir,'data','raw')\n",
    "# processed_dir = os.path.join(os.pardir,os.pardir,'data','processed')\n",
    "model_dir = os.path.join(os.pardir,os.pardir,'models')"
   ]
  },
  {
   "cell_type": "code",
   "execution_count": 4,
   "metadata": {
    "colab": {},
    "colab_type": "code",
    "id": "xMdonAK0yre_"
   },
   "outputs": [],
   "source": [
    "train_path = \"https://worksheets.codalab.org/rest/bundles/0x7b873062afd04a7f82a7a49940ee7737/contents/blob/\" #'../../data/raw/train.csv'\n",
    "val_path = \"https://worksheets.codalab.org/rest/bundles/0xa63401efaa6d44e39ed6ed9fe7e08cd2/contents/blob/\"#'../../data/raw/dev.csv'\n",
    "test_path = \"https://worksheets.codalab.org/rest/bundles/0xbb4a5897ea4b456fb7a6bd81289d1fbc/contents/blob/\"\n",
    "\n",
    "\n",
    "train = pd.read_csv(train_path)\n",
    "validation = pd.read_csv(val_path)\n",
    "# test = pd.read_csv(test_path)"
   ]
  },
  {
   "cell_type": "code",
   "execution_count": 5,
   "metadata": {
    "colab": {},
    "colab_type": "code",
    "id": "IQsagLoSyrfC"
   },
   "outputs": [],
   "source": [
    "# train_path = os.path.join(raw_dir,'train.csv')\n",
    "# val_path = os.path.join(raw_dir, 'dev.csv')\n",
    "\n",
    "# train = pd.read_csv(train_path)\n",
    "# validation = pd.read_csv(val_path) "
   ]
  },
  {
   "cell_type": "code",
   "execution_count": 6,
   "metadata": {
    "colab": {
     "base_uri": "https://localhost:8080/",
     "height": 197
    },
    "colab_type": "code",
    "id": "SApUkcDE1Wpr",
    "outputId": "24bc17dd-e194-40a7-b569-d24fd9ac88dd"
   },
   "outputs": [
    {
     "data": {
      "text/html": [
       "<div>\n",
       "<style scoped>\n",
       "    .dataframe tbody tr th:only-of-type {\n",
       "        vertical-align: middle;\n",
       "    }\n",
       "\n",
       "    .dataframe tbody tr th {\n",
       "        vertical-align: top;\n",
       "    }\n",
       "\n",
       "    .dataframe thead th {\n",
       "        text-align: right;\n",
       "    }\n",
       "</style>\n",
       "<table border=\"1\" class=\"dataframe\">\n",
       "  <thead>\n",
       "    <tr style=\"text-align: right;\">\n",
       "      <th></th>\n",
       "      <th>ex_id</th>\n",
       "      <th>user_id</th>\n",
       "      <th>prod_id</th>\n",
       "      <th>rating</th>\n",
       "      <th>label</th>\n",
       "      <th>date</th>\n",
       "      <th>review</th>\n",
       "    </tr>\n",
       "  </thead>\n",
       "  <tbody>\n",
       "    <tr>\n",
       "      <th>0</th>\n",
       "      <td>0</td>\n",
       "      <td>923</td>\n",
       "      <td>0</td>\n",
       "      <td>3.0</td>\n",
       "      <td>1</td>\n",
       "      <td>2014-12-08</td>\n",
       "      <td>The food at snack is a selection of popular Gr...</td>\n",
       "    </tr>\n",
       "    <tr>\n",
       "      <th>1</th>\n",
       "      <td>1</td>\n",
       "      <td>924</td>\n",
       "      <td>0</td>\n",
       "      <td>3.0</td>\n",
       "      <td>1</td>\n",
       "      <td>2013-05-16</td>\n",
       "      <td>This little place in Soho is wonderful. I had ...</td>\n",
       "    </tr>\n",
       "    <tr>\n",
       "      <th>2</th>\n",
       "      <td>2</td>\n",
       "      <td>925</td>\n",
       "      <td>0</td>\n",
       "      <td>4.0</td>\n",
       "      <td>1</td>\n",
       "      <td>2013-07-01</td>\n",
       "      <td>ordered lunch for 15 from Snack last Friday.  ...</td>\n",
       "    </tr>\n",
       "    <tr>\n",
       "      <th>3</th>\n",
       "      <td>3</td>\n",
       "      <td>926</td>\n",
       "      <td>0</td>\n",
       "      <td>4.0</td>\n",
       "      <td>1</td>\n",
       "      <td>2011-07-28</td>\n",
       "      <td>This is a beautiful quaint little restaurant o...</td>\n",
       "    </tr>\n",
       "    <tr>\n",
       "      <th>4</th>\n",
       "      <td>4</td>\n",
       "      <td>927</td>\n",
       "      <td>0</td>\n",
       "      <td>4.0</td>\n",
       "      <td>1</td>\n",
       "      <td>2010-11-01</td>\n",
       "      <td>Snack is great place for a  casual sit down lu...</td>\n",
       "    </tr>\n",
       "  </tbody>\n",
       "</table>\n",
       "</div>"
      ],
      "text/plain": [
       "   ex_id  user_id  prod_id  rating  label        date  \\\n",
       "0      0      923        0     3.0      1  2014-12-08   \n",
       "1      1      924        0     3.0      1  2013-05-16   \n",
       "2      2      925        0     4.0      1  2013-07-01   \n",
       "3      3      926        0     4.0      1  2011-07-28   \n",
       "4      4      927        0     4.0      1  2010-11-01   \n",
       "\n",
       "                                              review  \n",
       "0  The food at snack is a selection of popular Gr...  \n",
       "1  This little place in Soho is wonderful. I had ...  \n",
       "2  ordered lunch for 15 from Snack last Friday.  ...  \n",
       "3  This is a beautiful quaint little restaurant o...  \n",
       "4  Snack is great place for a  casual sit down lu...  "
      ]
     },
     "execution_count": 6,
     "metadata": {},
     "output_type": "execute_result"
    }
   ],
   "source": [
    "train.head()"
   ]
  },
  {
   "cell_type": "code",
   "execution_count": 7,
   "metadata": {
    "colab": {
     "base_uri": "https://localhost:8080/",
     "height": 197
    },
    "colab_type": "code",
    "id": "1kSlcoa51vHh",
    "outputId": "b99000cc-66df-46a3-a2d8-081f801a6152"
   },
   "outputs": [
    {
     "data": {
      "text/html": [
       "<div>\n",
       "<style scoped>\n",
       "    .dataframe tbody tr th:only-of-type {\n",
       "        vertical-align: middle;\n",
       "    }\n",
       "\n",
       "    .dataframe tbody tr th {\n",
       "        vertical-align: top;\n",
       "    }\n",
       "\n",
       "    .dataframe thead th {\n",
       "        text-align: right;\n",
       "    }\n",
       "</style>\n",
       "<table border=\"1\" class=\"dataframe\">\n",
       "  <thead>\n",
       "    <tr style=\"text-align: right;\">\n",
       "      <th></th>\n",
       "      <th>ex_id</th>\n",
       "      <th>user_id</th>\n",
       "      <th>prod_id</th>\n",
       "      <th>rating</th>\n",
       "      <th>label</th>\n",
       "      <th>date</th>\n",
       "      <th>review</th>\n",
       "    </tr>\n",
       "  </thead>\n",
       "  <tbody>\n",
       "    <tr>\n",
       "      <th>0</th>\n",
       "      <td>11</td>\n",
       "      <td>934</td>\n",
       "      <td>0</td>\n",
       "      <td>5.0</td>\n",
       "      <td>1</td>\n",
       "      <td>2014-01-20</td>\n",
       "      <td>all around good place, cozy, I came in and did...</td>\n",
       "    </tr>\n",
       "    <tr>\n",
       "      <th>1</th>\n",
       "      <td>17</td>\n",
       "      <td>940</td>\n",
       "      <td>0</td>\n",
       "      <td>4.0</td>\n",
       "      <td>0</td>\n",
       "      <td>2014-09-16</td>\n",
       "      <td>For lunch, my friend and I had: -Lamb sandwich...</td>\n",
       "    </tr>\n",
       "    <tr>\n",
       "      <th>2</th>\n",
       "      <td>20</td>\n",
       "      <td>943</td>\n",
       "      <td>0</td>\n",
       "      <td>5.0</td>\n",
       "      <td>0</td>\n",
       "      <td>2014-05-24</td>\n",
       "      <td>Some good Big Greek cooking!! Came to City on ...</td>\n",
       "    </tr>\n",
       "    <tr>\n",
       "      <th>3</th>\n",
       "      <td>30</td>\n",
       "      <td>953</td>\n",
       "      <td>0</td>\n",
       "      <td>4.0</td>\n",
       "      <td>0</td>\n",
       "      <td>2013-10-17</td>\n",
       "      <td>So... as you may notice from some of my other ...</td>\n",
       "    </tr>\n",
       "    <tr>\n",
       "      <th>4</th>\n",
       "      <td>43</td>\n",
       "      <td>966</td>\n",
       "      <td>0</td>\n",
       "      <td>3.0</td>\n",
       "      <td>0</td>\n",
       "      <td>2012-12-19</td>\n",
       "      <td>I don't understand the whole \"You can't order ...</td>\n",
       "    </tr>\n",
       "  </tbody>\n",
       "</table>\n",
       "</div>"
      ],
      "text/plain": [
       "   ex_id  user_id  prod_id  rating  label        date  \\\n",
       "0     11      934        0     5.0      1  2014-01-20   \n",
       "1     17      940        0     4.0      0  2014-09-16   \n",
       "2     20      943        0     5.0      0  2014-05-24   \n",
       "3     30      953        0     4.0      0  2013-10-17   \n",
       "4     43      966        0     3.0      0  2012-12-19   \n",
       "\n",
       "                                              review  \n",
       "0  all around good place, cozy, I came in and did...  \n",
       "1  For lunch, my friend and I had: -Lamb sandwich...  \n",
       "2  Some good Big Greek cooking!! Came to City on ...  \n",
       "3  So... as you may notice from some of my other ...  \n",
       "4  I don't understand the whole \"You can't order ...  "
      ]
     },
     "execution_count": 7,
     "metadata": {},
     "output_type": "execute_result"
    }
   ],
   "source": [
    "validation.head()"
   ]
  },
  {
   "cell_type": "code",
   "execution_count": 8,
   "metadata": {
    "colab": {},
    "colab_type": "code",
    "id": "qAT6GpuT2LXG"
   },
   "outputs": [],
   "source": [
    "# test.head()"
   ]
  },
  {
   "cell_type": "code",
   "execution_count": 9,
   "metadata": {
    "colab": {},
    "colab_type": "code",
    "id": "4ICABcEdyrfH"
   },
   "outputs": [],
   "source": [
    "seed = 10"
   ]
  },
  {
   "cell_type": "markdown",
   "metadata": {
    "colab_type": "text",
    "id": "olgG_2FGyrfL"
   },
   "source": [
    "### Balancing Dataset"
   ]
  },
  {
   "cell_type": "code",
   "execution_count": 10,
   "metadata": {
    "colab": {},
    "colab_type": "code",
    "id": "aRAkNSIryrfL"
   },
   "outputs": [],
   "source": [
    "positive_examples = train[train['label']==1]\n",
    "\n",
    "# Setting frac = 1 to shuffle all the data\n",
    "negative_examples = train[train['label']==0]"
   ]
  },
  {
   "cell_type": "code",
   "execution_count": 11,
   "metadata": {
    "colab": {
     "base_uri": "https://localhost:8080/",
     "height": 33
    },
    "colab_type": "code",
    "id": "_iOlJL9ZyrfO",
    "outputId": "58bd0128-d2f1-4824-aa03-c73923b25f68"
   },
   "outputs": [
    {
     "data": {
      "text/plain": [
       "25819"
      ]
     },
     "execution_count": 11,
     "metadata": {},
     "output_type": "execute_result"
    }
   ],
   "source": [
    "# Sampling thesame size of date in positive class from the negative class\n",
    "sampled_negative_examples = negative_examples.sample(n=positive_examples.shape[0],random_state=seed)\n",
    "sampled_negative_examples.count()[0]"
   ]
  },
  {
   "cell_type": "code",
   "execution_count": 12,
   "metadata": {
    "colab": {
     "base_uri": "https://localhost:8080/",
     "height": 197
    },
    "colab_type": "code",
    "id": "G1jQ0W1xyrfR",
    "outputId": "0701e311-8c82-44b7-9058-8d309d737ca5"
   },
   "outputs": [
    {
     "data": {
      "text/html": [
       "<div>\n",
       "<style scoped>\n",
       "    .dataframe tbody tr th:only-of-type {\n",
       "        vertical-align: middle;\n",
       "    }\n",
       "\n",
       "    .dataframe tbody tr th {\n",
       "        vertical-align: top;\n",
       "    }\n",
       "\n",
       "    .dataframe thead th {\n",
       "        text-align: right;\n",
       "    }\n",
       "</style>\n",
       "<table border=\"1\" class=\"dataframe\">\n",
       "  <thead>\n",
       "    <tr style=\"text-align: right;\">\n",
       "      <th></th>\n",
       "      <th>ex_id</th>\n",
       "      <th>user_id</th>\n",
       "      <th>prod_id</th>\n",
       "      <th>rating</th>\n",
       "      <th>label</th>\n",
       "      <th>date</th>\n",
       "      <th>review</th>\n",
       "    </tr>\n",
       "  </thead>\n",
       "  <tbody>\n",
       "    <tr>\n",
       "      <th>182590</th>\n",
       "      <td>261276</td>\n",
       "      <td>28351</td>\n",
       "      <td>672</td>\n",
       "      <td>4.0</td>\n",
       "      <td>0</td>\n",
       "      <td>2010-03-21</td>\n",
       "      <td>Holy hummus this place is good!   Let me tell ...</td>\n",
       "    </tr>\n",
       "    <tr>\n",
       "      <th>33269</th>\n",
       "      <td>47528</td>\n",
       "      <td>4528</td>\n",
       "      <td>110</td>\n",
       "      <td>4.0</td>\n",
       "      <td>0</td>\n",
       "      <td>2010-12-28</td>\n",
       "      <td>Every time I go here, I initially go \"   :o  :...</td>\n",
       "    </tr>\n",
       "    <tr>\n",
       "      <th>129632</th>\n",
       "      <td>185339</td>\n",
       "      <td>8658</td>\n",
       "      <td>634</td>\n",
       "      <td>4.0</td>\n",
       "      <td>0</td>\n",
       "      <td>2012-02-11</td>\n",
       "      <td>i made a pit stop into this place before goin ...</td>\n",
       "    </tr>\n",
       "    <tr>\n",
       "      <th>147667</th>\n",
       "      <td>211104</td>\n",
       "      <td>28956</td>\n",
       "      <td>555</td>\n",
       "      <td>4.0</td>\n",
       "      <td>0</td>\n",
       "      <td>2013-04-20</td>\n",
       "      <td>Why did I choose to eat an entire pie tin full...</td>\n",
       "    </tr>\n",
       "    <tr>\n",
       "      <th>225487</th>\n",
       "      <td>322593</td>\n",
       "      <td>3492</td>\n",
       "      <td>850</td>\n",
       "      <td>3.0</td>\n",
       "      <td>0</td>\n",
       "      <td>2014-04-19</td>\n",
       "      <td>I've lived down the street from Jolie Cantina ...</td>\n",
       "    </tr>\n",
       "  </tbody>\n",
       "</table>\n",
       "</div>"
      ],
      "text/plain": [
       "         ex_id  user_id  prod_id  rating  label        date  \\\n",
       "182590  261276    28351      672     4.0      0  2010-03-21   \n",
       "33269    47528     4528      110     4.0      0  2010-12-28   \n",
       "129632  185339     8658      634     4.0      0  2012-02-11   \n",
       "147667  211104    28956      555     4.0      0  2013-04-20   \n",
       "225487  322593     3492      850     3.0      0  2014-04-19   \n",
       "\n",
       "                                                   review  \n",
       "182590  Holy hummus this place is good!   Let me tell ...  \n",
       "33269   Every time I go here, I initially go \"   :o  :...  \n",
       "129632  i made a pit stop into this place before goin ...  \n",
       "147667  Why did I choose to eat an entire pie tin full...  \n",
       "225487  I've lived down the street from Jolie Cantina ...  "
      ]
     },
     "execution_count": 12,
     "metadata": {},
     "output_type": "execute_result"
    }
   ],
   "source": [
    "sampled_negative_examples.head()"
   ]
  },
  {
   "cell_type": "code",
   "execution_count": 13,
   "metadata": {
    "colab": {
     "base_uri": "https://localhost:8080/",
     "height": 197
    },
    "colab_type": "code",
    "id": "sYE0VsOLyrfT",
    "outputId": "78faf3a6-ccbf-451c-c787-6e6ed2060e15"
   },
   "outputs": [
    {
     "data": {
      "text/html": [
       "<div>\n",
       "<style scoped>\n",
       "    .dataframe tbody tr th:only-of-type {\n",
       "        vertical-align: middle;\n",
       "    }\n",
       "\n",
       "    .dataframe tbody tr th {\n",
       "        vertical-align: top;\n",
       "    }\n",
       "\n",
       "    .dataframe thead th {\n",
       "        text-align: right;\n",
       "    }\n",
       "</style>\n",
       "<table border=\"1\" class=\"dataframe\">\n",
       "  <thead>\n",
       "    <tr style=\"text-align: right;\">\n",
       "      <th></th>\n",
       "      <th>ex_id</th>\n",
       "      <th>user_id</th>\n",
       "      <th>prod_id</th>\n",
       "      <th>rating</th>\n",
       "      <th>label</th>\n",
       "      <th>date</th>\n",
       "      <th>review</th>\n",
       "    </tr>\n",
       "  </thead>\n",
       "  <tbody>\n",
       "    <tr>\n",
       "      <th>182590</th>\n",
       "      <td>261276</td>\n",
       "      <td>28351</td>\n",
       "      <td>672</td>\n",
       "      <td>4.0</td>\n",
       "      <td>0</td>\n",
       "      <td>2010-03-21</td>\n",
       "      <td>Holy hummus this place is good!   Let me tell ...</td>\n",
       "    </tr>\n",
       "    <tr>\n",
       "      <th>33269</th>\n",
       "      <td>47528</td>\n",
       "      <td>4528</td>\n",
       "      <td>110</td>\n",
       "      <td>4.0</td>\n",
       "      <td>0</td>\n",
       "      <td>2010-12-28</td>\n",
       "      <td>Every time I go here, I initially go \"   :o  :...</td>\n",
       "    </tr>\n",
       "    <tr>\n",
       "      <th>129632</th>\n",
       "      <td>185339</td>\n",
       "      <td>8658</td>\n",
       "      <td>634</td>\n",
       "      <td>4.0</td>\n",
       "      <td>0</td>\n",
       "      <td>2012-02-11</td>\n",
       "      <td>i made a pit stop into this place before goin ...</td>\n",
       "    </tr>\n",
       "    <tr>\n",
       "      <th>147667</th>\n",
       "      <td>211104</td>\n",
       "      <td>28956</td>\n",
       "      <td>555</td>\n",
       "      <td>4.0</td>\n",
       "      <td>0</td>\n",
       "      <td>2013-04-20</td>\n",
       "      <td>Why did I choose to eat an entire pie tin full...</td>\n",
       "    </tr>\n",
       "    <tr>\n",
       "      <th>225487</th>\n",
       "      <td>322593</td>\n",
       "      <td>3492</td>\n",
       "      <td>850</td>\n",
       "      <td>3.0</td>\n",
       "      <td>0</td>\n",
       "      <td>2014-04-19</td>\n",
       "      <td>I've lived down the street from Jolie Cantina ...</td>\n",
       "    </tr>\n",
       "  </tbody>\n",
       "</table>\n",
       "</div>"
      ],
      "text/plain": [
       "         ex_id  user_id  prod_id  rating  label        date  \\\n",
       "182590  261276    28351      672     4.0      0  2010-03-21   \n",
       "33269    47528     4528      110     4.0      0  2010-12-28   \n",
       "129632  185339     8658      634     4.0      0  2012-02-11   \n",
       "147667  211104    28956      555     4.0      0  2013-04-20   \n",
       "225487  322593     3492      850     3.0      0  2014-04-19   \n",
       "\n",
       "                                                   review  \n",
       "182590  Holy hummus this place is good!   Let me tell ...  \n",
       "33269   Every time I go here, I initially go \"   :o  :...  \n",
       "129632  i made a pit stop into this place before goin ...  \n",
       "147667  Why did I choose to eat an entire pie tin full...  \n",
       "225487  I've lived down the street from Jolie Cantina ...  "
      ]
     },
     "execution_count": 13,
     "metadata": {},
     "output_type": "execute_result"
    }
   ],
   "source": [
    "# balanced data\n",
    "balanced_df = pd.concat([sampled_negative_examples, positive_examples])\n",
    "balanced_df.head()"
   ]
  },
  {
   "cell_type": "code",
   "execution_count": 14,
   "metadata": {
    "colab": {},
    "colab_type": "code",
    "id": "FyTo9tW3yrfW"
   },
   "outputs": [],
   "source": [
    "from sklearn.feature_extraction.text import CountVectorizer\n",
    "from sklearn.feature_extraction.text import TfidfVectorizer"
   ]
  },
  {
   "cell_type": "code",
   "execution_count": 15,
   "metadata": {
    "colab": {},
    "colab_type": "code",
    "id": "02efya0-yrfZ"
   },
   "outputs": [],
   "source": [
    "# Balanced data\n",
    "bal_cnt_vectorizer = CountVectorizer(stop_words='english', binary=True)\n",
    "bal_tfidf_vectorizer = TfidfVectorizer(stop_words='english', binary=True)\n",
    "bal_cnt_vectorizer.fit(balanced_df['review'])\n",
    "bal_tfidf_vectorizer.fit(balanced_df['review'])\n",
    "\n",
    "bal_cnt_X_train = bal_cnt_vectorizer.transform(balanced_df['review'])\n",
    "bal_tfidf_X_train = bal_tfidf_vectorizer.transform(balanced_df['review'])\n",
    "\n",
    "bal_cnt_X_dev = bal_cnt_vectorizer.transform(validation['review'])\n",
    "bal_tfidf_X_dev = bal_tfidf_vectorizer.transform(validation['review'])\n",
    "\n",
    "bal_Y_train = balanced_df['label']\n",
    "bal_Y_dev = validation['label']"
   ]
  },
  {
   "cell_type": "code",
   "execution_count": 16,
   "metadata": {
    "colab": {},
    "colab_type": "code",
    "id": "A1NF_h4zyrfc"
   },
   "outputs": [],
   "source": [
    "# training the model on training set \n",
    "from sklearn.naive_bayes import GaussianNB \n",
    "tfidf_nb = GaussianNB() \n",
    "cnt_nb = GaussianNB() "
   ]
  },
  {
   "cell_type": "code",
   "execution_count": null,
   "metadata": {},
   "outputs": [],
   "source": [
    "try:\n",
    "    tfidf_nb = pickle.load(open(os.path.join(model_dir,'tfidf_nb_clf_ece278.pkl'),'rb'))\n",
    "except:\n",
    "    tfidf_nb = tfidf_nb.fit(bal_tfidf_X_train.toarray(),bal_Y_train)"
   ]
  },
  {
   "cell_type": "code",
   "execution_count": null,
   "metadata": {},
   "outputs": [],
   "source": [
    "try:\n",
    "    cnt_nb = pickle.load(open(os.path.join(model_dir,'cnt_nb_clf_best_ece278.pkl'),'rb'))\n",
    "except:\n",
    "    cnt_nb = cnt_nb.fit(bal_cnt_X_train.toarray(),bal_Y_train)"
   ]
  },
  {
   "cell_type": "code",
   "execution_count": 20,
   "metadata": {
    "colab": {},
    "colab_type": "code",
    "id": "6gnNvNY_yrfe"
   },
   "outputs": [],
   "source": [
    "# tfidf_nb = tfidf_nb.fit(bal_tfidf_X_train.toarray(),bal_Y_train)"
   ]
  },
  {
   "cell_type": "code",
   "execution_count": 18,
   "metadata": {
    "colab": {},
    "colab_type": "code",
    "id": "hU6hNp_8yrfh",
    "scrolled": true
   },
   "outputs": [],
   "source": [
    "# cnt_nb = cnt_nb.fit(bal_cnt_X_train.toarray(),y=bal_Y_train)"
   ]
  },
  {
   "cell_type": "markdown",
   "metadata": {},
   "source": [
    "### Model Evaluation"
   ]
  },
  {
   "cell_type": "code",
   "execution_count": 17,
   "metadata": {},
   "outputs": [],
   "source": [
    "from sklearn.metrics import accuracy_score, roc_auc_score, average_precision_score"
   ]
  },
  {
   "cell_type": "code",
   "execution_count": 31,
   "metadata": {},
   "outputs": [],
   "source": [
    "def ClassifierMetrics (X_train, Y_train, X_test, Y_test, fitted_model):\n",
    "    \"\"\"\n",
    "    X_train: training set features\n",
    "    Y_train: training set labels\n",
    "    X_test: dev/test set features\n",
    "    Y_test: dev/test set labels\n",
    "    fitted_model: \n",
    "    \"\"\"\n",
    "    Y_pred = fitted_model.predict(X_test.toarray())\n",
    "    Y_score = fitted_model.predict_proba(X_test.toarray())[:,1]\n",
    "    metrics = {'train_accuracy': fitted_model.score(X_train.toarray(), Y_train),\n",
    "               'test_accuracy': fitted_model.score(X_test.toarray(), Y_test),\n",
    "               'test_auc_pred': roc_auc_score(Y_test, Y_pred),\n",
    "               'test_auc_score': roc_auc_score(Y_test, Y_score),\n",
    "               'test_ap_pred': average_precision_score(Y_test, Y_pred),\n",
    "               'test_ap_score': average_precision_score(Y_test, Y_score)}\n",
    "    return metrics, Y_pred"
   ]
  },
  {
   "cell_type": "code",
   "execution_count": 32,
   "metadata": {},
   "outputs": [
    {
     "ename": "MemoryError",
     "evalue": "",
     "output_type": "error",
     "traceback": [
      "\u001b[1;31m---------------------------------------------------------------------------\u001b[0m",
      "\u001b[1;31mMemoryError\u001b[0m                               Traceback (most recent call last)",
      "\u001b[1;32m<ipython-input-32-c994b169ba5b>\u001b[0m in \u001b[0;36m<module>\u001b[1;34m\u001b[0m\n\u001b[1;32m----> 1\u001b[1;33m \u001b[0mbal_tfidf_metrics\u001b[0m\u001b[1;33m,\u001b[0m \u001b[0mbal_tfidf_pred\u001b[0m \u001b[1;33m=\u001b[0m \u001b[0mClassifierMetrics\u001b[0m \u001b[1;33m(\u001b[0m\u001b[0mbal_tfidf_X_train\u001b[0m\u001b[1;33m,\u001b[0m \u001b[0mbal_Y_train\u001b[0m\u001b[1;33m,\u001b[0m \u001b[0mbal_tfidf_X_dev\u001b[0m\u001b[1;33m,\u001b[0m \u001b[0mbal_Y_dev\u001b[0m\u001b[1;33m,\u001b[0m \u001b[0mtfidf_nb\u001b[0m\u001b[1;33m)\u001b[0m\u001b[1;33m\u001b[0m\u001b[1;33m\u001b[0m\u001b[0m\n\u001b[0m\u001b[0;32m      2\u001b[0m \u001b[0mbal_cnt_metrics\u001b[0m\u001b[1;33m,\u001b[0m \u001b[0mbal_cnt_pred\u001b[0m \u001b[1;33m=\u001b[0m \u001b[0mClassifierMetrics\u001b[0m \u001b[1;33m(\u001b[0m\u001b[0mbal_cnt_X_train\u001b[0m\u001b[1;33m,\u001b[0m \u001b[0mbal_Y_train\u001b[0m\u001b[1;33m,\u001b[0m \u001b[0mbal_cnt_X_dev\u001b[0m\u001b[1;33m,\u001b[0m \u001b[0mbal_Y_dev\u001b[0m\u001b[1;33m,\u001b[0m \u001b[0mcnt_nb\u001b[0m\u001b[1;33m)\u001b[0m\u001b[1;33m\u001b[0m\u001b[1;33m\u001b[0m\u001b[0m\n",
      "\u001b[1;32m<ipython-input-31-2d9d87954d50>\u001b[0m in \u001b[0;36mClassifierMetrics\u001b[1;34m(X_train, Y_train, X_test, Y_test, fitted_model)\u001b[0m\n\u001b[0;32m      7\u001b[0m     \u001b[0mfitted_model\u001b[0m\u001b[1;33m:\u001b[0m\u001b[1;33m\u001b[0m\u001b[1;33m\u001b[0m\u001b[0m\n\u001b[0;32m      8\u001b[0m     \"\"\"\n\u001b[1;32m----> 9\u001b[1;33m     \u001b[0mY_pred\u001b[0m \u001b[1;33m=\u001b[0m \u001b[0mfitted_model\u001b[0m\u001b[1;33m.\u001b[0m\u001b[0mpredict\u001b[0m\u001b[1;33m(\u001b[0m\u001b[0mX_test\u001b[0m\u001b[1;33m.\u001b[0m\u001b[0mtoarray\u001b[0m\u001b[1;33m(\u001b[0m\u001b[1;33m)\u001b[0m\u001b[1;33m)\u001b[0m\u001b[1;33m\u001b[0m\u001b[1;33m\u001b[0m\u001b[0m\n\u001b[0m\u001b[0;32m     10\u001b[0m     \u001b[0mY_score\u001b[0m \u001b[1;33m=\u001b[0m \u001b[0mfitted_model\u001b[0m\u001b[1;33m.\u001b[0m\u001b[0mpredict_proba\u001b[0m\u001b[1;33m(\u001b[0m\u001b[0mX_test\u001b[0m\u001b[1;33m.\u001b[0m\u001b[0mtoarray\u001b[0m\u001b[1;33m(\u001b[0m\u001b[1;33m)\u001b[0m\u001b[1;33m)\u001b[0m\u001b[1;33m[\u001b[0m\u001b[1;33m:\u001b[0m\u001b[1;33m,\u001b[0m\u001b[1;36m1\u001b[0m\u001b[1;33m]\u001b[0m\u001b[1;33m\u001b[0m\u001b[1;33m\u001b[0m\u001b[0m\n\u001b[0;32m     11\u001b[0m     metrics = {'train_accuracy': fitted_model.score(X_train.toarray(), Y_train),\n",
      "\u001b[1;32mC:\\ProgramData\\Anaconda3\\lib\\site-packages\\sklearn\\naive_bayes.py\u001b[0m in \u001b[0;36mpredict\u001b[1;34m(self, X)\u001b[0m\n\u001b[0;32m     63\u001b[0m             \u001b[0mPredicted\u001b[0m \u001b[0mtarget\u001b[0m \u001b[0mvalues\u001b[0m \u001b[1;32mfor\u001b[0m \u001b[0mX\u001b[0m\u001b[1;33m\u001b[0m\u001b[1;33m\u001b[0m\u001b[0m\n\u001b[0;32m     64\u001b[0m         \"\"\"\n\u001b[1;32m---> 65\u001b[1;33m         \u001b[0mjll\u001b[0m \u001b[1;33m=\u001b[0m \u001b[0mself\u001b[0m\u001b[1;33m.\u001b[0m\u001b[0m_joint_log_likelihood\u001b[0m\u001b[1;33m(\u001b[0m\u001b[0mX\u001b[0m\u001b[1;33m)\u001b[0m\u001b[1;33m\u001b[0m\u001b[1;33m\u001b[0m\u001b[0m\n\u001b[0m\u001b[0;32m     66\u001b[0m         \u001b[1;32mreturn\u001b[0m \u001b[0mself\u001b[0m\u001b[1;33m.\u001b[0m\u001b[0mclasses_\u001b[0m\u001b[1;33m[\u001b[0m\u001b[0mnp\u001b[0m\u001b[1;33m.\u001b[0m\u001b[0margmax\u001b[0m\u001b[1;33m(\u001b[0m\u001b[0mjll\u001b[0m\u001b[1;33m,\u001b[0m \u001b[0maxis\u001b[0m\u001b[1;33m=\u001b[0m\u001b[1;36m1\u001b[0m\u001b[1;33m)\u001b[0m\u001b[1;33m]\u001b[0m\u001b[1;33m\u001b[0m\u001b[1;33m\u001b[0m\u001b[0m\n\u001b[0;32m     67\u001b[0m \u001b[1;33m\u001b[0m\u001b[0m\n",
      "\u001b[1;32mC:\\ProgramData\\Anaconda3\\lib\\site-packages\\sklearn\\naive_bayes.py\u001b[0m in \u001b[0;36m_joint_log_likelihood\u001b[1;34m(self, X)\u001b[0m\n\u001b[0;32m    433\u001b[0m             \u001b[0mjointi\u001b[0m \u001b[1;33m=\u001b[0m \u001b[0mnp\u001b[0m\u001b[1;33m.\u001b[0m\u001b[0mlog\u001b[0m\u001b[1;33m(\u001b[0m\u001b[0mself\u001b[0m\u001b[1;33m.\u001b[0m\u001b[0mclass_prior_\u001b[0m\u001b[1;33m[\u001b[0m\u001b[0mi\u001b[0m\u001b[1;33m]\u001b[0m\u001b[1;33m)\u001b[0m\u001b[1;33m\u001b[0m\u001b[1;33m\u001b[0m\u001b[0m\n\u001b[0;32m    434\u001b[0m             \u001b[0mn_ij\u001b[0m \u001b[1;33m=\u001b[0m \u001b[1;33m-\u001b[0m \u001b[1;36m0.5\u001b[0m \u001b[1;33m*\u001b[0m \u001b[0mnp\u001b[0m\u001b[1;33m.\u001b[0m\u001b[0msum\u001b[0m\u001b[1;33m(\u001b[0m\u001b[0mnp\u001b[0m\u001b[1;33m.\u001b[0m\u001b[0mlog\u001b[0m\u001b[1;33m(\u001b[0m\u001b[1;36m2.\u001b[0m \u001b[1;33m*\u001b[0m \u001b[0mnp\u001b[0m\u001b[1;33m.\u001b[0m\u001b[0mpi\u001b[0m \u001b[1;33m*\u001b[0m \u001b[0mself\u001b[0m\u001b[1;33m.\u001b[0m\u001b[0msigma_\u001b[0m\u001b[1;33m[\u001b[0m\u001b[0mi\u001b[0m\u001b[1;33m,\u001b[0m \u001b[1;33m:\u001b[0m\u001b[1;33m]\u001b[0m\u001b[1;33m)\u001b[0m\u001b[1;33m)\u001b[0m\u001b[1;33m\u001b[0m\u001b[1;33m\u001b[0m\u001b[0m\n\u001b[1;32m--> 435\u001b[1;33m             n_ij -= 0.5 * np.sum(((X - self.theta_[i, :]) ** 2) /\n\u001b[0m\u001b[0;32m    436\u001b[0m                                  (self.sigma_[i, :]), 1)\n\u001b[0;32m    437\u001b[0m             \u001b[0mjoint_log_likelihood\u001b[0m\u001b[1;33m.\u001b[0m\u001b[0mappend\u001b[0m\u001b[1;33m(\u001b[0m\u001b[0mjointi\u001b[0m \u001b[1;33m+\u001b[0m \u001b[0mn_ij\u001b[0m\u001b[1;33m)\u001b[0m\u001b[1;33m\u001b[0m\u001b[1;33m\u001b[0m\u001b[0m\n",
      "\u001b[1;31mMemoryError\u001b[0m: "
     ]
    }
   ],
   "source": [
    "bal_tfidf_metrics, bal_tfidf_pred = ClassifierMetrics (bal_tfidf_X_train, bal_Y_train, bal_tfidf_X_dev, bal_Y_dev, tfidf_nb)\n",
    "bal_cnt_metrics, bal_cnt_pred = ClassifierMetrics (bal_cnt_X_train, bal_Y_train, bal_cnt_X_dev, bal_Y_dev, cnt_nb)\n"
   ]
  },
  {
   "cell_type": "code",
   "execution_count": null,
   "metadata": {},
   "outputs": [],
   "source": [
    "bal_tfidf_metrics"
   ]
  },
  {
   "cell_type": "code",
   "execution_count": null,
   "metadata": {},
   "outputs": [],
   "source": [
    "bal_cnt_metrics"
   ]
  },
  {
   "cell_type": "code",
   "execution_count": 19,
   "metadata": {},
   "outputs": [],
   "source": [
    "import pickle\n",
    "\n",
    "f1 = open('tfidf_nb_clf_ece278.pkl','wb')\n",
    "f2 = open('cnt_nb_clf_best_ece278.pkl','wb')\n",
    "\n",
    "\n",
    "pickle.dump(tfidf_nb,f1)\n",
    "pickle.dump(cnt_nb,f2)\n",
    "\n",
    "f1.close()\n",
    "f2.close()"
   ]
  },
  {
   "cell_type": "code",
   "execution_count": 27,
   "metadata": {},
   "outputs": [],
   "source": [
    "# tfidf_nb = pickle.load(open(os.path.join(model_dir,'cnt_nb_clf_best_ece278.pkl'),'rb'))"
   ]
  }
 ],
 "metadata": {
  "colab": {
   "name": "02 Model.ipynb",
   "provenance": []
  },
  "kernelspec": {
   "display_name": "Python 3",
   "language": "python",
   "name": "python3"
  },
  "language_info": {
   "codemirror_mode": {
    "name": "ipython",
    "version": 3
   },
   "file_extension": ".py",
   "mimetype": "text/x-python",
   "name": "python",
   "nbconvert_exporter": "python",
   "pygments_lexer": "ipython3",
   "version": "3.6.7"
  }
 },
 "nbformat": 4,
 "nbformat_minor": 1
}
