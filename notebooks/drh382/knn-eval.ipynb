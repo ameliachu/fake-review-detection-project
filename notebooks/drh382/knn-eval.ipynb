{
 "cells": [
  {
   "cell_type": "code",
   "execution_count": 1,
   "metadata": {},
   "outputs": [],
   "source": [
    "from sklearn.metrics import accuracy_score, roc_auc_score, average_precision_score\n",
    "\n",
    "def ClassifierMetrics (X_train, Y_train, X_test, Y_test, fitted_model):\n",
    "    \"\"\"\n",
    "    X_train: training set features\n",
    "    Y_train: training set labels\n",
    "    X_test: dev/test set features\n",
    "    Y_test: dev/test set labels\n",
    "    fitted_model: \n",
    "    \"\"\"\n",
    "    Y_score = fitted_model.decision_function(X_test)\n",
    "    # If your classifier doesn't output decision_function, use predict_proba. \n",
    "    # Make sure it is taking the prob of the '1' class\n",
    "    Y_score = fitted_model.predict_proba(X_test)[:,1]\n",
    "    metrics = {'train_accuracy': fitted_model.score(X_train, Y_train),\n",
    "               'test_accuracy': fitted_model.score(X_test, Y_test),\n",
    "               'test_auc_pred': roc_auc_score(Y_test, Y_pred),\n",
    "               'test_auc_score': roc_auc_score(Y_test, Y_score),\n",
    "               'test_ap_pred': average_precision_score(Y_test, Y_pred),\n",
    "               'test_ap_score': average_precision_score(Y_test, Y_score)}\n",
    "    return metrics"
   ]
  },
  {
   "cell_type": "code",
   "execution_count": 3,
   "metadata": {},
   "outputs": [],
   "source": [
    "import json\n",
    "base = '../data/processed/dev/'\n",
    "def writeJsonFile(fname, data,  base=base):\n",
    "    with open(base + fname +'.json', 'w') as outfile:\n",
    "        json.dump(data, outfile)\n",
    "    print('Successfully written to {}'.format(fname))\n",
    "    \n",
    "def readJsonFile(fname, base=base):\n",
    "    with open(base + fname + '.json', 'r') as f:\n",
    "        data = json.load(f)\n",
    "    return data"
   ]
  },
  {
   "cell_type": "code",
   "execution_count": 4,
   "metadata": {},
   "outputs": [
    {
     "ename": "NameError",
     "evalue": "name 'classifier10' is not defined",
     "output_type": "error",
     "traceback": [
      "\u001b[0;31m---------------------------------------------------------------------------\u001b[0m",
      "\u001b[0;31mNameError\u001b[0m                                 Traceback (most recent call last)",
      "\u001b[0;32m<ipython-input-4-340606179d2b>\u001b[0m in \u001b[0;36m<module>\u001b[0;34m\u001b[0m\n\u001b[1;32m      3\u001b[0m \u001b[0;31m# and  n_neighbors  is the only parameter you adjusted.\u001b[0m\u001b[0;34m\u001b[0m\u001b[0;34m\u001b[0m\u001b[0;34m\u001b[0m\u001b[0m\n\u001b[1;32m      4\u001b[0m \u001b[0;34m\u001b[0m\u001b[0m\n\u001b[0;32m----> 5\u001b[0;31m my_models = [(10, classifier10), (11, classifier11), \n\u001b[0m\u001b[1;32m      6\u001b[0m (13, classifier13), (14, classifier14)]\n",
      "\u001b[0;31mNameError\u001b[0m: name 'classifier10' is not defined"
     ]
    }
   ],
   "source": [
    "# Add more of your fitted models to my_models if there are any\n",
    "# assuming that the suffix for each model is the n_neighbors  \n",
    "# and  n_neighbors  is the only parameter you adjusted.\n",
    "\n",
    "my_models = [(10, classifier10), (11, classifier11), \n",
    "(13, classifier13), (14, classifier14)]"
   ]
  },
  {
   "cell_type": "code",
   "execution_count": null,
   "metadata": {
    "collapsed": true
   },
   "outputs": [],
   "source": [
    "all_attempts = []\n",
    "for (n, fitted_model) in my_models:\n",
    "    params = {'n_neighbors': n}\n",
    "    metrics = ClassifierMetrics (cnt_X_train, Y_train, cnt_X_dev, Y_dev, fitted_model)\n",
    "    model_attempt_details = {'params': params, 'metrics': metrics}\n",
    "    all_attempts.append(model_attempt_details)"
   ]
  },
  {
   "cell_type": "code",
   "execution_count": null,
   "metadata": {
    "collapsed": true
   },
   "outputs": [],
   "source": [
    "# File name of the model attempts/results\n",
    "fname = 'all_attempts_drh382'\n",
    "writeJsonFile(fname, all_attempts)"
   ]
  }
 ],
 "metadata": {
  "kernelspec": {
   "display_name": "Python 3",
   "language": "python",
   "name": "python3"
  },
  "language_info": {
   "codemirror_mode": {
    "name": "ipython",
    "version": 3
   },
   "file_extension": ".py",
   "mimetype": "text/x-python",
   "name": "python",
   "nbconvert_exporter": "python",
   "pygments_lexer": "ipython3",
   "version": "3.7.4"
  }
 },
 "nbformat": 4,
 "nbformat_minor": 2
}
