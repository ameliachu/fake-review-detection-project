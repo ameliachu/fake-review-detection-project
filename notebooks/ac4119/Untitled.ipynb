{
 "cells": [
  {
   "cell_type": "code",
   "execution_count": 9,
   "metadata": {},
   "outputs": [],
   "source": [
    "train_path = '../../data/raw/train.csv'\n",
    "val_path = '../../data/raw/dev.csv'\n",
    "\n",
    "train = pd.read_csv(train_path)\n",
    "validation = pd.read_csv(val_path)\n",
    "\n",
    "base = '/Users/chuamelia/Google Drive/Spring 2020/Machine Learning/fake-review-detection-project/data/processed/dev/'"
   ]
  },
  {
   "cell_type": "code",
   "execution_count": 14,
   "metadata": {},
   "outputs": [
    {
     "data": {
      "text/plain": [
       "ex_id      225055\n",
       "user_id    225055\n",
       "prod_id    225055\n",
       "rating     225055\n",
       "label      225055\n",
       "date       225055\n",
       "review     225055\n",
       "dtype: int64"
      ]
     },
     "execution_count": 14,
     "metadata": {},
     "output_type": "execute_result"
    }
   ],
   "source": [
    "train[train['label'] == 0].count()"
   ]
  },
  {
   "cell_type": "code",
   "execution_count": 18,
   "metadata": {},
   "outputs": [
    {
     "data": {
      "text/plain": [
       "0.10291620494750353"
      ]
     },
     "execution_count": 18,
     "metadata": {},
     "output_type": "execute_result"
    }
   ],
   "source": [
    "25819 /250874 "
   ]
  },
  {
   "cell_type": "code",
   "execution_count": 1,
   "metadata": {
    "collapsed": true
   },
   "outputs": [],
   "source": [
    "import pandas as pd"
   ]
  },
  {
   "cell_type": "code",
   "execution_count": 2,
   "metadata": {
    "collapsed": true
   },
   "outputs": [],
   "source": [
    "i = 0"
   ]
  },
  {
   "cell_type": "code",
   "execution_count": 5,
   "metadata": {},
   "outputs": [
    {
     "data": {
      "text/html": [
       "<div>\n",
       "<style scoped>\n",
       "    .dataframe tbody tr th:only-of-type {\n",
       "        vertical-align: middle;\n",
       "    }\n",
       "\n",
       "    .dataframe tbody tr th {\n",
       "        vertical-align: top;\n",
       "    }\n",
       "\n",
       "    .dataframe thead th {\n",
       "        text-align: right;\n",
       "    }\n",
       "</style>\n",
       "<table border=\"1\" class=\"dataframe\">\n",
       "  <thead>\n",
       "    <tr style=\"text-align: right;\">\n",
       "      <th></th>\n",
       "      <th>ex_id</th>\n",
       "      <th>user_id</th>\n",
       "      <th>prod_id</th>\n",
       "      <th>rating</th>\n",
       "      <th>label</th>\n",
       "      <th>date</th>\n",
       "      <th>review</th>\n",
       "      <th>token_review</th>\n",
       "    </tr>\n",
       "  </thead>\n",
       "  <tbody>\n",
       "    <tr>\n",
       "      <th>0</th>\n",
       "      <td>122499</td>\n",
       "      <td>74592</td>\n",
       "      <td>358</td>\n",
       "      <td>4.0</td>\n",
       "      <td>1</td>\n",
       "      <td>2013-02-02</td>\n",
       "      <td>Nothing special. Go here for good soups on a c...</td>\n",
       "      <td>['special', 'soups', 'cold', 'day']</td>\n",
       "    </tr>\n",
       "    <tr>\n",
       "      <th>1</th>\n",
       "      <td>279323</td>\n",
       "      <td>136373</td>\n",
       "      <td>725</td>\n",
       "      <td>4.0</td>\n",
       "      <td>0</td>\n",
       "      <td>2013-05-07</td>\n",
       "      <td>Great food no website but plenty of info onlin...</td>\n",
       "      <td>['webster', 'plenty', 'info', 'online', 'pasta...</td>\n",
       "    </tr>\n",
       "    <tr>\n",
       "      <th>2</th>\n",
       "      <td>159540</td>\n",
       "      <td>90535</td>\n",
       "      <td>454</td>\n",
       "      <td>1.0</td>\n",
       "      <td>1</td>\n",
       "      <td>2011-08-12</td>\n",
       "      <td>This place used to be good, but now it is beco...</td>\n",
       "      <td>['pretentious', 'economy', 'hosts', 'condescen...</td>\n",
       "    </tr>\n",
       "    <tr>\n",
       "      <th>3</th>\n",
       "      <td>296668</td>\n",
       "      <td>20310</td>\n",
       "      <td>773</td>\n",
       "      <td>5.0</td>\n",
       "      <td>0</td>\n",
       "      <td>2014-03-15</td>\n",
       "      <td>I came to Julianna's because of the Yelp revie...</td>\n",
       "      <td>['julianna', 'yelp', 'reviews', 'saying', 'ori...</td>\n",
       "    </tr>\n",
       "    <tr>\n",
       "      <th>4</th>\n",
       "      <td>237868</td>\n",
       "      <td>81982</td>\n",
       "      <td>623</td>\n",
       "      <td>5.0</td>\n",
       "      <td>0</td>\n",
       "      <td>2014-09-20</td>\n",
       "      <td>Where graphical arts meets culinary arts, wher...</td>\n",
       "      <td>['graphical', 'arts', 'meets', 'culinary', 'ar...</td>\n",
       "    </tr>\n",
       "  </tbody>\n",
       "</table>\n",
       "</div>"
      ],
      "text/plain": [
       "    ex_id  user_id  prod_id  rating  label        date  \\\n",
       "0  122499    74592      358     4.0      1  2013-02-02   \n",
       "1  279323   136373      725     4.0      0  2013-05-07   \n",
       "2  159540    90535      454     1.0      1  2011-08-12   \n",
       "3  296668    20310      773     5.0      0  2014-03-15   \n",
       "4  237868    81982      623     5.0      0  2014-09-20   \n",
       "\n",
       "                                              review  \\\n",
       "0  Nothing special. Go here for good soups on a c...   \n",
       "1  Great food no website but plenty of info onlin...   \n",
       "2  This place used to be good, but now it is beco...   \n",
       "3  I came to Julianna's because of the Yelp revie...   \n",
       "4  Where graphical arts meets culinary arts, wher...   \n",
       "\n",
       "                                        token_review  \n",
       "0                ['special', 'soups', 'cold', 'day']  \n",
       "1  ['webster', 'plenty', 'info', 'online', 'pasta...  \n",
       "2  ['pretentious', 'economy', 'hosts', 'condescen...  \n",
       "3  ['julianna', 'yelp', 'reviews', 'saying', 'ori...  \n",
       "4  ['graphical', 'arts', 'meets', 'culinary', 'ar...  "
      ]
     },
     "execution_count": 5,
     "metadata": {},
     "output_type": "execute_result"
    }
   ],
   "source": [
    "train.head(5)"
   ]
  },
  {
   "cell_type": "code",
   "execution_count": 6,
   "metadata": {
    "collapsed": true
   },
   "outputs": [],
   "source": [
    "import pickle \n",
    "base = '/Users/chuamelia/Google Drive/Spring 2020/Machine Learning/fake-review-detection-project/data/processed/dev/'\n",
    "\n",
    "def load_obj(fname,  base=base):\n",
    "    # This loads the pickled object.\n",
    "    with open(base + fname + '.pkl', 'rb') as f:\n",
    "        return pickle.load(f)"
   ]
  },
  {
   "cell_type": "code",
   "execution_count": null,
   "metadata": {
    "collapsed": true
   },
   "outputs": [],
   "source": []
  }
 ],
 "metadata": {
  "kernelspec": {
   "display_name": "Python 3",
   "language": "python",
   "name": "python3"
  },
  "language_info": {
   "codemirror_mode": {
    "name": "ipython",
    "version": 3
   },
   "file_extension": ".py",
   "mimetype": "text/x-python",
   "name": "python",
   "nbconvert_exporter": "python",
   "pygments_lexer": "ipython3",
   "version": "3.6.10"
  }
 },
 "nbformat": 4,
 "nbformat_minor": 2
}
