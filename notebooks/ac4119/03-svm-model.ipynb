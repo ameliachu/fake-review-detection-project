{
 "cells": [
  {
   "cell_type": "code",
   "execution_count": 1,
   "metadata": {},
   "outputs": [
    {
     "name": "stderr",
     "output_type": "stream",
     "text": [
      "/Users/chuamelia/anaconda/envs/py35/lib/python3.6/site-packages/statsmodels/tools/_testing.py:19: FutureWarning: pandas.util.testing is deprecated. Use the functions in the public API at pandas.testing instead.\n",
      "  import pandas.util.testing as tm\n"
     ]
    }
   ],
   "source": [
    "import pandas as pd\n",
    "import matplotlib.pyplot as plt\n",
    "import seaborn as sns\n",
    "\n",
    "from sklearn.svm import SVC\n",
    "from sklearn.model_selection import train_test_split, KFold, cross_val_score\n",
    "from sklearn.metrics import accuracy_score, roc_auc_score, average_precision_score\n",
    "from ttictoc import Timer\n",
    "import pickle"
   ]
  },
  {
   "cell_type": "code",
   "execution_count": 9,
   "metadata": {
    "collapsed": true
   },
   "outputs": [],
   "source": [
    "def fitted_svm(params, X_train, Y_train):\n",
    "    svm = SVC(**params)\n",
    "    fitted_svm = svm.fit(X_train, Y_train)\n",
    "    return fitted_svm\n",
    "\n",
    "def ClassifierMetrics (X_train, Y_train, X_test, Y_test, fitted_model):\n",
    "    Y_pred = fitted_model.predict(X_test)\n",
    "    metrics = {'train_accuracy': fitted_model.score(X_train, Y_train),\n",
    "               'test_accuracy': fitted_model.score(X_test, Y_test),\n",
    "               'test_auc': roc_auc_score(Y_test, Y_pred),\n",
    "               'test_ap': average_precision_score(Y_test, Y_pred)}\n",
    "    return metrics"
   ]
  },
  {
   "cell_type": "code",
   "execution_count": 3,
   "metadata": {
    "collapsed": true
   },
   "outputs": [],
   "source": [
    "base = '/Users/chuamelia/Google Drive/Spring 2020/Machine Learning/fake-review-detection-project/data/processed/dev/'\n",
    "def load_obj(fname,  base=base):\n",
    "    # This loads the pickled object.\n",
    "    with open(base + fname + '.pkl', 'rb') as f:\n",
    "        return pickle.load(f)"
   ]
  },
  {
   "cell_type": "code",
   "execution_count": 3,
   "metadata": {
    "collapsed": true
   },
   "outputs": [],
   "source": [
    "train_path = '../../data/raw/train.csv'\n",
    "val_path = '../../data/raw/dev.csv'\n",
    "\n",
    "train = pd.read_csv(train_path)\n",
    "validation = pd.read_csv(val_path)"
   ]
  },
  {
   "cell_type": "code",
   "execution_count": 4,
   "metadata": {
    "collapsed": true
   },
   "outputs": [],
   "source": [
    "from sklearn.feature_extraction.text import CountVectorizer\n",
    "from sklearn.feature_extraction.text import TfidfVectorizer\n",
    "\n",
    "cnt_vectorizer = CountVectorizer(stop_words='english', binary=True)\n",
    "tfidf_vectorizer = TfidfVectorizer(stop_words='english', binary=True)\n",
    "cnt_vectorizer.fit(train['review'])\n",
    "tfidf_vectorizer.fit(train['review'])\n",
    "\n",
    "cnt_X_train = cnt_vectorizer.transform(train['review'])\n",
    "tfidf_X_train = tfidf_vectorizer.transform(train['review'])\n",
    "\n",
    "cnt_X_dev = cnt_vectorizer.transform(validation['review'])\n",
    "tfidf_X_dev = tfidf_vectorizer.transform(validation['review'])\n",
    "\n",
    "Y_train = train['label']\n",
    "Y_dev = validation['label']"
   ]
  },
  {
   "cell_type": "code",
   "execution_count": 9,
   "metadata": {
    "collapsed": true
   },
   "outputs": [],
   "source": [
    "svm_model_params = {'kernel':[],'C':[], 'train_accuracy':[],'test_accuracy':[],'test_auc':[], 'test_ap':[]}\n",
    "results_path = '../../data/processed/svm_svc_tfidf_unbalanced_results_ac4119.csv'\n",
    "x = pd.read_csv(results_path)\n",
    "svm_model_params = x.to_dict(orient='list')\n",
    "del svm_model_params['Unnamed: 0']"
   ]
  },
  {
   "cell_type": "code",
   "execution_count": 12,
   "metadata": {},
   "outputs": [
    {
     "data": {
      "text/plain": [
       "{'C': [1e-08, 1e-07],\n",
       " 'kernel': ['rbf', 'rbf'],\n",
       " 'test_accuracy': [0.898435324906732, 0.898435324906732],\n",
       " 'test_ap': [0.10156467509326801, 0.10156467509326801],\n",
       " 'test_auc': [0.5, 0.5],\n",
       " 'train_accuracy': [0.8970837950524965, 0.8970837950524965]}"
      ]
     },
     "execution_count": 12,
     "metadata": {},
     "output_type": "execute_result"
    }
   ],
   "source": [
    "svm_model_params"
   ]
  },
  {
   "cell_type": "code",
   "execution_count": 10,
   "metadata": {
    "collapsed": true
   },
   "outputs": [],
   "source": [
    "kernels = ['rbf', 'linear', 'poly']\n",
    "cs = [10**exp for exp in range(-8, -2)]\n",
    "# cs = [10**exp for exp in range(-8, 2)]"
   ]
  },
  {
   "cell_type": "code",
   "execution_count": 11,
   "metadata": {},
   "outputs": [
    {
     "data": {
      "text/plain": [
       "[1e-06, 1e-05, 0.0001, 0.001]"
      ]
     },
     "execution_count": 11,
     "metadata": {},
     "output_type": "execute_result"
    }
   ],
   "source": [
    "cs[2:]"
   ]
  },
  {
   "cell_type": "code",
   "execution_count": 20,
   "metadata": {},
   "outputs": [],
   "source": [
    "tfidf_X_train = load_obj('ac4119_tfidf_X_train_set_1')\n",
    "tfidf_X_dev = load_obj('ac4119_tfidf_X_dev_set_1')\n",
    "cnt_X_train = load_obj('ac4119_cnt_X_train_set_1')\n",
    "cnt_X_dev = load_obj('ac4119_cnt_X_dev_set_1')\n",
    "Y_train = pd.read_csv(base+'ac4119_train_set_1_labels.csv')['label']\n",
    "Y_dev = pd.read_csv(base+'ac4119_dev_set_1_labels.csv')['label']"
   ]
  },
  {
   "cell_type": "code",
   "execution_count": 6,
   "metadata": {},
   "outputs": [
    {
     "name": "stdout",
     "output_type": "stream",
     "text": [
      "Elapsed time: 472.6309884209186\n",
      "{'train_accuracy': 0.5555555555555556, 'test_accuracy': 0.898435324906732, 'test_auc': 0.5, 'test_ap': 0.101564675093268}\n"
     ]
    }
   ],
   "source": [
    "t = Timer()\n",
    "t.start()\n",
    "params = {'kernel':'rbf','C':1e-06, 'gamma':'scale', 'random_state': 519}\n",
    "fitted_model = fitted_svm(params, tfidf_X_train, Y_train)\n",
    "elapsed = t.stop()\n",
    "print('Elapsed time:',elapsed)\n",
    "metrics = ClassifierMetrics(tfidf_X_train, Y_train, tfidf_X_dev, Y_dev, fitted_model)\n",
    "print(metrics)"
   ]
  },
  {
   "cell_type": "code",
   "execution_count": 10,
   "metadata": {},
   "outputs": [
    {
     "name": "stdout",
     "output_type": "stream",
     "text": [
      "Elapsed time: 449.356189024169\n",
      "Elapsed time: 1182.7099318369292\n",
      "{'train_accuracy': 0.5555555555555556, 'test_accuracy': 0.898435324906732, 'test_auc': 0.5, 'test_ap': 0.101564675093268}\n"
     ]
    }
   ],
   "source": [
    "t = Timer()\n",
    "t.start()\n",
    "params = {'kernel':'poly','C':0.0001, 'gamma':'scale', 'random_state': 519}\n",
    "fitted_model = fitted_svm(params, tfidf_X_train, Y_train)\n",
    "elapsed = t.stop()\n",
    "print('Elapsed time:',elapsed)\n",
    "t = Timer()\n",
    "t.start()\n",
    "metrics = ClassifierMetrics(tfidf_X_train, Y_train, tfidf_X_dev, Y_dev, fitted_model)\n",
    "elapsed = t.stop()\n",
    "print('Elapsed time:',elapsed)\n",
    "print(metrics)"
   ]
  },
  {
   "cell_type": "code",
   "execution_count": 18,
   "metadata": {},
   "outputs": [
    {
     "name": "stdout",
     "output_type": "stream",
     "text": [
      "Elapsed time: 496.16063185501844\n",
      "Elapsed time: 1243.9269153978676\n",
      "{'train_accuracy': 0.5555555555555556, 'test_accuracy': 0.898435324906732, 'test_auc': 0.5, 'test_ap': 0.101564675093268}\n"
     ]
    }
   ],
   "source": [
    "t = Timer()\n",
    "t.start()\n",
    "params = {'kernel':'linear','C':0.0001, 'gamma':'scale', 'random_state': 519}\n",
    "fitted_model = fitted_svm(params, tfidf_X_train, Y_train)\n",
    "elapsed = t.stop()\n",
    "print('Elapsed time:',elapsed)\n",
    "t = Timer()\n",
    "t.start()\n",
    "metrics = ClassifierMetrics(tfidf_X_train, Y_train, tfidf_X_dev, Y_dev, fitted_model)\n",
    "elapsed = t.stop()\n",
    "print('Elapsed time:',elapsed)\n",
    "print(metrics)"
   ]
  },
  {
   "cell_type": "code",
   "execution_count": null,
   "metadata": {},
   "outputs": [],
   "source": [
    "t = Timer()\n",
    "t.start()\n",
    "params = {'kernel':'poly','C':0.0001, 'gamma':'scale', 'random_state': 519}\n",
    "fitted_model = fitted_svm(params, cnt_X_train, Y_train)\n",
    "elapsed = t.stop()\n",
    "print('Elapsed time:',elapsed)\n",
    "t = Timer()\n",
    "t.start()\n",
    "metrics = ClassifierMetrics(cnt_X_train, Y_train, cnt_X_dev, Y_dev, fitted_model)\n",
    "elapsed = t.stop()\n",
    "print('Elapsed time:', elapsed)\n",
    "print(metrics)"
   ]
  },
  {
   "cell_type": "code",
   "execution_count": 8,
   "metadata": {
    "collapsed": true
   },
   "outputs": [],
   "source": [
    "Y_pred = fitted_model.predict(tfidf_X_dev)"
   ]
  },
  {
   "cell_type": "code",
   "execution_count": 16,
   "metadata": {
    "collapsed": true
   },
   "outputs": [],
   "source": [
    "import numpy as np"
   ]
  },
  {
   "cell_type": "code",
   "execution_count": 17,
   "metadata": {},
   "outputs": [
    {
     "data": {
      "text/plain": [
       "array([0])"
      ]
     },
     "execution_count": 17,
     "metadata": {},
     "output_type": "execute_result"
    }
   ],
   "source": [
    "np.unique(Y_pred)"
   ]
  },
  {
   "cell_type": "code",
   "execution_count": 11,
   "metadata": {},
   "outputs": [
    {
     "data": {
      "text/plain": [
       "0.5"
      ]
     },
     "execution_count": 11,
     "metadata": {},
     "output_type": "execute_result"
    }
   ],
   "source": [
    "\n",
    "roc_auc_score(Y_dev, Y_pred)"
   ]
  },
  {
   "cell_type": "code",
   "execution_count": null,
   "metadata": {
    "collapsed": true
   },
   "outputs": [],
   "source": [
    "t = Timer()\n",
    "t.start()\n",
    "params = {'kernel':k,'C':c, 'gamma':'scale', 'random_state': 519}\n",
    "fitted_model = fitted_svm(params)\n",
    "elapsed = t.stop()\n",
    "print('Elapsed time:',elapsed)\n",
    "t = Timer()\n",
    "t.start()\n",
    "metrics = ClassifierMetrics(tfidf_X_train, Y_train, tfidf_X_dev, Y_dev, fitted_model)\n",
    "elapsed = t.stop()\n",
    "print('Elapsed time:',elapsed)\n",
    "print(metrics)\n",
    "for m_k in metrics.keys():\n",
    "    svm_model_params[m_k].append(metrics[m_k])\n",
    "elapsed = t.stop()\n",
    "svm_pd = pd.DataFrame(svm_model_params)\n",
    "results_path = '../../data/processed/svm_svc_tfidf_set_{0}_balanced_results_ac4119.csv'\n",
    "svm_pd.to_csv(results_path, sep=',')\n",
    "print('Elapsed time:',elapsed)"
   ]
  },
  {
   "cell_type": "code",
   "execution_count": 13,
   "metadata": {},
   "outputs": [
    {
     "name": "stdout",
     "output_type": "stream",
     "text": [
      "Now trying: rbf kernels...\n",
      "Elapsed time: 10903.700275285984\n",
      "Elapsed time: 12777.556724173948\n",
      "Elapsed time: 28842.457431042916\n",
      "Elapsed time: 17607.22947485908\n"
     ]
    }
   ],
   "source": [
    "k = kernels[0]\n",
    "print('Now trying: ' + k + ' kernels...')\n",
    "for c in cs[2:]:\n",
    "    t = Timer()\n",
    "    t.start()\n",
    "    svm_model_params['kernel'].append(k)\n",
    "    svm_model_params['C'].append(c)\n",
    "    params = {'kernel':k,'C':c, 'gamma':'scale', 'random_state': 519}\n",
    "    fitted_model = fitted_svm(params)\n",
    "    metrics = ClassifierMetrics(tfidf_X_train, Y_train, tfidf_X_dev, Y_dev, fitted_model)\n",
    "    for m_k in metrics.keys():\n",
    "        svm_model_params[m_k].append(metrics[m_k])\n",
    "    elapsed = t.stop()\n",
    "    svm_pd = pd.DataFrame(svm_model_params)\n",
    "    results_path = '../../data/processed/svm_svc_tfidf_unbalanced_results_ac4119.csv'\n",
    "    svm_pd.to_csv(results_path, sep=',')\n",
    "    print('Elapsed time:',elapsed)"
   ]
  },
  {
   "cell_type": "code",
   "execution_count": null,
   "metadata": {
    "collapsed": true
   },
   "outputs": [],
   "source": [
    "ClassifierMetrics(tfidf_X_train, Y_train, tfidf_X_dev, Y_dev, fitted_model)"
   ]
  },
  {
   "cell_type": "code",
   "execution_count": 21,
   "metadata": {},
   "outputs": [
    {
     "data": {
      "text/plain": [
       "{'test_accuracy': 0.898435324906732,\n",
       " 'test_ap': 0.101564675093268,\n",
       " 'test_auc': 0.5,\n",
       " 'train_accuracy': 0.8970837950524965}"
      ]
     },
     "execution_count": 21,
     "metadata": {},
     "output_type": "execute_result"
    }
   ],
   "source": [
    "metrics"
   ]
  },
  {
   "cell_type": "code",
   "execution_count": 14,
   "metadata": {
    "collapsed": true
   },
   "outputs": [],
   "source": [
    "svm_pd = pd.DataFrame(svm_model_params)\n",
    "results_path = '../../data/processed/svm_svc_tfidf_unbalanced_results_ac4119.csv'\n",
    "svm_pd.to_csv(results_path, sep=',')\n",
    "# svm_pd = pd.read_csv(results_path, sep=',', index_col=0)"
   ]
  },
  {
   "cell_type": "code",
   "execution_count": 19,
   "metadata": {},
   "outputs": [
    {
     "data": {
      "text/html": [
       "<div>\n",
       "<style scoped>\n",
       "    .dataframe tbody tr th:only-of-type {\n",
       "        vertical-align: middle;\n",
       "    }\n",
       "\n",
       "    .dataframe tbody tr th {\n",
       "        vertical-align: top;\n",
       "    }\n",
       "\n",
       "    .dataframe thead th {\n",
       "        text-align: right;\n",
       "    }\n",
       "</style>\n",
       "<table border=\"1\" class=\"dataframe\">\n",
       "  <thead>\n",
       "    <tr style=\"text-align: right;\">\n",
       "      <th></th>\n",
       "      <th>kernel</th>\n",
       "      <th>C</th>\n",
       "      <th>train_accuracy</th>\n",
       "      <th>test_accuracy</th>\n",
       "      <th>test_auc</th>\n",
       "      <th>test_ap</th>\n",
       "    </tr>\n",
       "  </thead>\n",
       "  <tbody>\n",
       "    <tr>\n",
       "      <th>0</th>\n",
       "      <td>rbf</td>\n",
       "      <td>1.000000e-08</td>\n",
       "      <td>0.897084</td>\n",
       "      <td>0.898435</td>\n",
       "      <td>0.5</td>\n",
       "      <td>0.101565</td>\n",
       "    </tr>\n",
       "    <tr>\n",
       "      <th>1</th>\n",
       "      <td>rbf</td>\n",
       "      <td>1.000000e-07</td>\n",
       "      <td>0.897084</td>\n",
       "      <td>0.898435</td>\n",
       "      <td>0.5</td>\n",
       "      <td>0.101565</td>\n",
       "    </tr>\n",
       "    <tr>\n",
       "      <th>2</th>\n",
       "      <td>rbf</td>\n",
       "      <td>1.000000e-06</td>\n",
       "      <td>0.897084</td>\n",
       "      <td>0.898435</td>\n",
       "      <td>0.5</td>\n",
       "      <td>0.101565</td>\n",
       "    </tr>\n",
       "    <tr>\n",
       "      <th>3</th>\n",
       "      <td>rbf</td>\n",
       "      <td>1.000000e-05</td>\n",
       "      <td>0.897084</td>\n",
       "      <td>0.898435</td>\n",
       "      <td>0.5</td>\n",
       "      <td>0.101565</td>\n",
       "    </tr>\n",
       "    <tr>\n",
       "      <th>4</th>\n",
       "      <td>rbf</td>\n",
       "      <td>1.000000e-04</td>\n",
       "      <td>0.897084</td>\n",
       "      <td>0.898435</td>\n",
       "      <td>0.5</td>\n",
       "      <td>0.101565</td>\n",
       "    </tr>\n",
       "    <tr>\n",
       "      <th>5</th>\n",
       "      <td>rbf</td>\n",
       "      <td>1.000000e-03</td>\n",
       "      <td>0.897084</td>\n",
       "      <td>0.898435</td>\n",
       "      <td>0.5</td>\n",
       "      <td>0.101565</td>\n",
       "    </tr>\n",
       "  </tbody>\n",
       "</table>\n",
       "</div>"
      ],
      "text/plain": [
       "  kernel             C  train_accuracy  test_accuracy  test_auc   test_ap\n",
       "0    rbf  1.000000e-08        0.897084       0.898435       0.5  0.101565\n",
       "1    rbf  1.000000e-07        0.897084       0.898435       0.5  0.101565\n",
       "2    rbf  1.000000e-06        0.897084       0.898435       0.5  0.101565\n",
       "3    rbf  1.000000e-05        0.897084       0.898435       0.5  0.101565\n",
       "4    rbf  1.000000e-04        0.897084       0.898435       0.5  0.101565\n",
       "5    rbf  1.000000e-03        0.897084       0.898435       0.5  0.101565"
      ]
     },
     "execution_count": 19,
     "metadata": {},
     "output_type": "execute_result"
    }
   ],
   "source": [
    "svm_pd"
   ]
  },
  {
   "cell_type": "code",
   "execution_count": 17,
   "metadata": {
    "collapsed": true
   },
   "outputs": [],
   "source": [
    "purples = sns.cubehelix_palette(1, start=0.4, rot=-.1)"
   ]
  },
  {
   "cell_type": "code",
   "execution_count": 18,
   "metadata": {},
   "outputs": [
    {
     "data": {
      "text/plain": [
       "Text(0.5, 1.0, 'Model AUC by \\nC & kernel')"
      ]
     },
     "execution_count": 18,
     "metadata": {},
     "output_type": "execute_result"
    },
    {
     "data": {
      "image/png": "[encoded data removed]",
      "text/plain": [
       "<Figure size 1152x720 with 1 Axes>"
      ]
     },
     "metadata": {},
     "output_type": "display_data"
    }
   ],
   "source": [
    "%matplotlib inline\n",
    "sns.set_style(\"whitegrid\")\n",
    "sns.set_context(\"poster\")\n",
    "plt.figure(figsize=(16, 10))\n",
    "\n",
    "sns.lineplot(x='C', y='test_auc', hue='kernel', palette = purples , data = svm_pd  )\\\n",
    ".set_title('Model AUC by \\nC & kernel')"
   ]
  },
  {
   "cell_type": "code",
   "execution_count": null,
   "metadata": {
    "collapsed": true
   },
   "outputs": [],
   "source": []
  }
 ],
 "metadata": {
  "kernelspec": {
   "display_name": "Python 3",
   "language": "python",
   "name": "python3"
  },
  "language_info": {
   "codemirror_mode": {
    "name": "ipython",
    "version": 3
   },
   "file_extension": ".py",
   "mimetype": "text/x-python",
   "name": "python",
   "nbconvert_exporter": "python",
   "pygments_lexer": "ipython3",
   "version": "3.6.10"
  }
 },
 "nbformat": 4,
 "nbformat_minor": 2
}
