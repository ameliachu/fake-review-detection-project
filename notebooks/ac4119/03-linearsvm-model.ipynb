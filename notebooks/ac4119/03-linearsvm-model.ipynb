{
 "cells": [
  {
   "cell_type": "code",
   "execution_count": 3,
   "metadata": {},
   "outputs": [
    {
     "name": "stderr",
     "output_type": "stream",
     "text": [
      "/Users/chuamelia/anaconda/envs/py35/lib/python3.6/site-packages/statsmodels/tools/_testing.py:19: FutureWarning: pandas.util.testing is deprecated. Use the functions in the public API at pandas.testing instead.\n",
      "  import pandas.util.testing as tm\n"
     ]
    }
   ],
   "source": [
    "import pandas as pd\n",
    "import matplotlib.pyplot as plt\n",
    "import seaborn as sns\n",
    "\n",
    "from sklearn.svm import SVC, LinearSVC\n",
    "from sklearn.model_selection import train_test_split, KFold, cross_val_score\n",
    "from sklearn.metrics import accuracy_score, roc_auc_score, average_precision_score\n",
    "from ttictoc import Timer\n",
    "import pickle"
   ]
  },
  {
   "cell_type": "code",
   "execution_count": null,
   "metadata": {
    "collapsed": true
   },
   "outputs": [],
   "source": [
    "from sklearn.feature_extraction.text import TfidfVectorizer"
   ]
  },
  {
   "cell_type": "code",
   "execution_count": null,
   "metadata": {
    "collapsed": true
   },
   "outputs": [],
   "source": [
    "base = '/Users/chuamelia/Google Drive/Spring 2020/Machine Learning/fake-review-detection-project/data/processed/dev/'\n",
    "\n",
    "def load_obj(fname,  base=base):\n",
    "    # This loads the pickled object.\n",
    "    with open(base + fname + '.pkl', 'rb') as f:\n",
    "        return pickle.load(f)\n"
   ]
  },
  {
   "cell_type": "code",
   "execution_count": null,
   "metadata": {
    "collapsed": true
   },
   "outputs": [],
   "source": [
    "def ClassifierMetrics (X_train, Y_train, X_test, Y_test, fitted_model):\n",
    "    Y_pred = fitted_model.predict(X_test)\n",
    "    Y_score = fitted_model.decision_function(X_test)\n",
    "    metrics = {'train_accuracy': fitted_model.score(X_train, Y_train),\n",
    "               'test_accuracy': fitted_model.score(X_test, Y_test),\n",
    "               'test_auc_pred': roc_auc_score(Y_test, Y_pred),\n",
    "               'test_auc_score': roc_auc_score(Y_test, Y_score),\n",
    "               'test_ap_pred': average_precision_score(Y_test, Y_pred),\n",
    "               'test_ap_score': average_precision_score(Y_test, Y_pred)}\n",
    "    return metrics"
   ]
  },
  {
   "cell_type": "code",
   "execution_count": null,
   "metadata": {
    "collapsed": true
   },
   "outputs": [],
   "source": [
    "tfidf_vectorizer = TfidfVectorizer( tokenizer=identity_tokenizer, stop_words='english', lowercase=False, binary=True, min_df=5)"
   ]
  },
  {
   "cell_type": "code",
   "execution_count": null,
   "metadata": {
    "collapsed": true
   },
   "outputs": [],
   "source": [
    "\n",
    "tfidf_vectorizer_fname = 'ac4119_X_train_set_{0}_tfidf_vectorizer'.format(i)\n",
    "tfidf_vectorizer = load_obj(tfidf_vectorizer_fname)\n",
    "\n",
    "X_train = tfidf_vectorizer.transform(train['token_review'])\n",
    "\n",
    "train['token_review'] = train['token_review'].apply(lambda x: literal_eval(x))\n",
    "\n",
    "# dev['token_review'] = dev['token_review'].fillna('[]')\n",
    "dev['token_review'] = dev['token_review'].apply(lambda x: literal_eval(x))\n",
    "decision_function()"
   ]
  },
  {
   "cell_type": "code",
   "execution_count": null,
   "metadata": {
    "collapsed": true
   },
   "outputs": [],
   "source": [
    "train['token_review'] = train['token_review'].apply(lambda x: literal_eval(x))\n",
    "dev['token_review'] = dev['token_review'].apply(lambda x: literal_eval(x))\n",
    "\n",
    "Y_train = train['label']\n",
    "Y_dev = dev['label']"
   ]
  },
  {
   "cell_type": "code",
   "execution_count": null,
   "metadata": {
    "collapsed": true
   },
   "outputs": [],
   "source": [
    "t = Timer()\n",
    "t.start()\n",
    "params = {'random_state': 519, 'C': 0.01, 'class_weight':'balanced'}\n",
    "fitted_model = fitted_lsvm(params, tfidf_X_train ,Y_train )\n",
    "metrics = ClassifierMetrics(tfidf_X_train, Y_train, tfidf_X_dev, Y_dev, fitted_model)\n",
    "elapsed = t.stop()\n",
    "print('Elapsed time:',elapsed)"
   ]
  },
  {
   "cell_type": "code",
   "execution_count": null,
   "metadata": {
    "collapsed": true
   },
   "outputs": [],
   "source": [
    "\n",
    "def fitted_lsvm(params, X_train, Y_train):\n",
    "    svm = LinearSVC(**params)\n",
    "    fitted_svm = svm.fit(X_train, Y_train)\n",
    "    return fitted_svm"
   ]
  },
  {
   "cell_type": "code",
   "execution_count": null,
   "metadata": {
    "collapsed": true
   },
   "outputs": [],
   "source": []
  }
 ],
 "metadata": {
  "kernelspec": {
   "display_name": "Python 3",
   "language": "python",
   "name": "python3"
  },
  "language_info": {
   "codemirror_mode": {
    "name": "ipython",
    "version": 3
   },
   "file_extension": ".py",
   "mimetype": "text/x-python",
   "name": "python",
   "nbconvert_exporter": "python",
   "pygments_lexer": "ipython3",
   "version": "3.6.10"
  }
 },
 "nbformat": 4,
 "nbformat_minor": 2
}
