{
 "cells": [
  {
   "cell_type": "code",
   "execution_count": 1,
   "metadata": {
    "collapsed": true
   },
   "outputs": [],
   "source": [
    "import pandas as pd\n",
    "import pickle"
   ]
  },
  {
   "cell_type": "code",
   "execution_count": 2,
   "metadata": {
    "collapsed": true
   },
   "outputs": [],
   "source": [
    "def save_obj(obj, fname):\n",
    "    directory = '../../data/processed/dev/'\n",
    "    # This writes out a python object as a pickle.\n",
    "    with open(directory + fname + '.pkl', 'wb') as f:\n",
    "        pickle.dump(obj, f, pickle.HIGHEST_PROTOCOL)\n",
    "\n",
    "def load_obj(fname):\n",
    "    directory = '../../data/processed/dev/'\n",
    "    # This writes out a python object as a pickle.\n",
    "    with open(directory + fname + '.pkl', 'rb') as f:\n",
    "        return pickle.load(f)"
   ]
  },
  {
   "cell_type": "markdown",
   "metadata": {},
   "source": [
    "### Load Data"
   ]
  },
  {
   "cell_type": "code",
   "execution_count": 3,
   "metadata": {
    "collapsed": true
   },
   "outputs": [],
   "source": [
    "train_path = '../../data/raw/train.csv'\n",
    "val_path = '../../data/raw/dev.csv'"
   ]
  },
  {
   "cell_type": "code",
   "execution_count": 4,
   "metadata": {
    "collapsed": true
   },
   "outputs": [],
   "source": [
    "train = pd.read_csv(train_path)\n",
    "validation = pd.read_csv(val_path)"
   ]
  },
  {
   "cell_type": "code",
   "execution_count": 5,
   "metadata": {},
   "outputs": [
    {
     "data": {
      "text/html": [
       "<div>\n",
       "<style scoped>\n",
       "    .dataframe tbody tr th:only-of-type {\n",
       "        vertical-align: middle;\n",
       "    }\n",
       "\n",
       "    .dataframe tbody tr th {\n",
       "        vertical-align: top;\n",
       "    }\n",
       "\n",
       "    .dataframe thead th {\n",
       "        text-align: right;\n",
       "    }\n",
       "</style>\n",
       "<table border=\"1\" class=\"dataframe\">\n",
       "  <thead>\n",
       "    <tr style=\"text-align: right;\">\n",
       "      <th></th>\n",
       "      <th>ex_id</th>\n",
       "      <th>user_id</th>\n",
       "      <th>prod_id</th>\n",
       "      <th>rating</th>\n",
       "      <th>label</th>\n",
       "      <th>date</th>\n",
       "      <th>review</th>\n",
       "    </tr>\n",
       "  </thead>\n",
       "  <tbody>\n",
       "    <tr>\n",
       "      <th>0</th>\n",
       "      <td>0</td>\n",
       "      <td>923</td>\n",
       "      <td>0</td>\n",
       "      <td>3.0</td>\n",
       "      <td>1</td>\n",
       "      <td>2014-12-08</td>\n",
       "      <td>The food at snack is a selection of popular Gr...</td>\n",
       "    </tr>\n",
       "    <tr>\n",
       "      <th>1</th>\n",
       "      <td>1</td>\n",
       "      <td>924</td>\n",
       "      <td>0</td>\n",
       "      <td>3.0</td>\n",
       "      <td>1</td>\n",
       "      <td>2013-05-16</td>\n",
       "      <td>This little place in Soho is wonderful. I had ...</td>\n",
       "    </tr>\n",
       "    <tr>\n",
       "      <th>2</th>\n",
       "      <td>2</td>\n",
       "      <td>925</td>\n",
       "      <td>0</td>\n",
       "      <td>4.0</td>\n",
       "      <td>1</td>\n",
       "      <td>2013-07-01</td>\n",
       "      <td>ordered lunch for 15 from Snack last Friday.  ...</td>\n",
       "    </tr>\n",
       "    <tr>\n",
       "      <th>3</th>\n",
       "      <td>3</td>\n",
       "      <td>926</td>\n",
       "      <td>0</td>\n",
       "      <td>4.0</td>\n",
       "      <td>1</td>\n",
       "      <td>2011-07-28</td>\n",
       "      <td>This is a beautiful quaint little restaurant o...</td>\n",
       "    </tr>\n",
       "    <tr>\n",
       "      <th>4</th>\n",
       "      <td>4</td>\n",
       "      <td>927</td>\n",
       "      <td>0</td>\n",
       "      <td>4.0</td>\n",
       "      <td>1</td>\n",
       "      <td>2010-11-01</td>\n",
       "      <td>Snack is great place for a  casual sit down lu...</td>\n",
       "    </tr>\n",
       "  </tbody>\n",
       "</table>\n",
       "</div>"
      ],
      "text/plain": [
       "   ex_id  user_id  prod_id  rating  label        date  \\\n",
       "0      0      923        0     3.0      1  2014-12-08   \n",
       "1      1      924        0     3.0      1  2013-05-16   \n",
       "2      2      925        0     4.0      1  2013-07-01   \n",
       "3      3      926        0     4.0      1  2011-07-28   \n",
       "4      4      927        0     4.0      1  2010-11-01   \n",
       "\n",
       "                                              review  \n",
       "0  The food at snack is a selection of popular Gr...  \n",
       "1  This little place in Soho is wonderful. I had ...  \n",
       "2  ordered lunch for 15 from Snack last Friday.  ...  \n",
       "3  This is a beautiful quaint little restaurant o...  \n",
       "4  Snack is great place for a  casual sit down lu...  "
      ]
     },
     "execution_count": 5,
     "metadata": {},
     "output_type": "execute_result"
    }
   ],
   "source": [
    "train.head(5)"
   ]
  },
  {
   "cell_type": "markdown",
   "metadata": {},
   "source": [
    "#### Summary Statistics"
   ]
  },
  {
   "cell_type": "code",
   "execution_count": 54,
   "metadata": {
    "collapsed": true
   },
   "outputs": [],
   "source": [
    "import numpy as np"
   ]
  },
  {
   "cell_type": "code",
   "execution_count": 6,
   "metadata": {},
   "outputs": [
    {
     "data": {
      "text/plain": [
       "('2004-10-20', '2015-01-07')"
      ]
     },
     "execution_count": 6,
     "metadata": {},
     "output_type": "execute_result"
    }
   ],
   "source": [
    "train['date'].min(), train['date'].max()"
   ]
  },
  {
   "cell_type": "code",
   "execution_count": 7,
   "metadata": {},
   "outputs": [
    {
     "data": {
      "text/html": [
       "<div>\n",
       "<style scoped>\n",
       "    .dataframe tbody tr th:only-of-type {\n",
       "        vertical-align: middle;\n",
       "    }\n",
       "\n",
       "    .dataframe tbody tr th {\n",
       "        vertical-align: top;\n",
       "    }\n",
       "\n",
       "    .dataframe thead th {\n",
       "        text-align: right;\n",
       "    }\n",
       "</style>\n",
       "<table border=\"1\" class=\"dataframe\">\n",
       "  <thead>\n",
       "    <tr style=\"text-align: right;\">\n",
       "      <th></th>\n",
       "      <th>ex_id</th>\n",
       "      <th>user_id</th>\n",
       "      <th>prod_id</th>\n",
       "      <th>rating</th>\n",
       "      <th>label</th>\n",
       "    </tr>\n",
       "  </thead>\n",
       "  <tbody>\n",
       "    <tr>\n",
       "      <th>count</th>\n",
       "      <td>250874.000000</td>\n",
       "      <td>250874.000000</td>\n",
       "      <td>250874.000000</td>\n",
       "      <td>250874.000000</td>\n",
       "      <td>250874.000000</td>\n",
       "    </tr>\n",
       "    <tr>\n",
       "      <th>mean</th>\n",
       "      <td>179413.488815</td>\n",
       "      <td>53970.730446</td>\n",
       "      <td>459.778211</td>\n",
       "      <td>4.023717</td>\n",
       "      <td>0.102916</td>\n",
       "    </tr>\n",
       "    <tr>\n",
       "      <th>std</th>\n",
       "      <td>103640.791253</td>\n",
       "      <td>45803.665418</td>\n",
       "      <td>259.854178</td>\n",
       "      <td>1.056995</td>\n",
       "      <td>0.303850</td>\n",
       "    </tr>\n",
       "    <tr>\n",
       "      <th>min</th>\n",
       "      <td>0.000000</td>\n",
       "      <td>923.000000</td>\n",
       "      <td>0.000000</td>\n",
       "      <td>1.000000</td>\n",
       "      <td>0.000000</td>\n",
       "    </tr>\n",
       "    <tr>\n",
       "      <th>25%</th>\n",
       "      <td>89526.500000</td>\n",
       "      <td>13820.000000</td>\n",
       "      <td>247.000000</td>\n",
       "      <td>4.000000</td>\n",
       "      <td>0.000000</td>\n",
       "    </tr>\n",
       "    <tr>\n",
       "      <th>50%</th>\n",
       "      <td>179345.500000</td>\n",
       "      <td>40485.500000</td>\n",
       "      <td>468.000000</td>\n",
       "      <td>4.000000</td>\n",
       "      <td>0.000000</td>\n",
       "    </tr>\n",
       "    <tr>\n",
       "      <th>75%</th>\n",
       "      <td>269196.750000</td>\n",
       "      <td>87298.000000</td>\n",
       "      <td>672.000000</td>\n",
       "      <td>5.000000</td>\n",
       "      <td>0.000000</td>\n",
       "    </tr>\n",
       "    <tr>\n",
       "      <th>max</th>\n",
       "      <td>358956.000000</td>\n",
       "      <td>161147.000000</td>\n",
       "      <td>922.000000</td>\n",
       "      <td>5.000000</td>\n",
       "      <td>1.000000</td>\n",
       "    </tr>\n",
       "  </tbody>\n",
       "</table>\n",
       "</div>"
      ],
      "text/plain": [
       "               ex_id        user_id        prod_id         rating  \\\n",
       "count  250874.000000  250874.000000  250874.000000  250874.000000   \n",
       "mean   179413.488815   53970.730446     459.778211       4.023717   \n",
       "std    103640.791253   45803.665418     259.854178       1.056995   \n",
       "min         0.000000     923.000000       0.000000       1.000000   \n",
       "25%     89526.500000   13820.000000     247.000000       4.000000   \n",
       "50%    179345.500000   40485.500000     468.000000       4.000000   \n",
       "75%    269196.750000   87298.000000     672.000000       5.000000   \n",
       "max    358956.000000  161147.000000     922.000000       5.000000   \n",
       "\n",
       "               label  \n",
       "count  250874.000000  \n",
       "mean        0.102916  \n",
       "std         0.303850  \n",
       "min         0.000000  \n",
       "25%         0.000000  \n",
       "50%         0.000000  \n",
       "75%         0.000000  \n",
       "max         1.000000  "
      ]
     },
     "execution_count": 7,
     "metadata": {},
     "output_type": "execute_result"
    }
   ],
   "source": [
    "train.describe()"
   ]
  },
  {
   "cell_type": "code",
   "execution_count": 30,
   "metadata": {},
   "outputs": [
    {
     "data": {
      "text/html": [
       "<div>\n",
       "<style scoped>\n",
       "    .dataframe tbody tr th:only-of-type {\n",
       "        vertical-align: middle;\n",
       "    }\n",
       "\n",
       "    .dataframe tbody tr th {\n",
       "        vertical-align: top;\n",
       "    }\n",
       "\n",
       "    .dataframe thead th {\n",
       "        text-align: right;\n",
       "    }\n",
       "</style>\n",
       "<table border=\"1\" class=\"dataframe\">\n",
       "  <thead>\n",
       "    <tr style=\"text-align: right;\">\n",
       "      <th></th>\n",
       "      <th>ex_id</th>\n",
       "      <th>user_id</th>\n",
       "      <th>prod_id</th>\n",
       "      <th>rating</th>\n",
       "      <th>date</th>\n",
       "      <th>review</th>\n",
       "      <th>tokens</th>\n",
       "      <th>filtered_tokens</th>\n",
       "    </tr>\n",
       "    <tr>\n",
       "      <th>label</th>\n",
       "      <th></th>\n",
       "      <th></th>\n",
       "      <th></th>\n",
       "      <th></th>\n",
       "      <th></th>\n",
       "      <th></th>\n",
       "      <th></th>\n",
       "      <th></th>\n",
       "    </tr>\n",
       "  </thead>\n",
       "  <tbody>\n",
       "    <tr>\n",
       "      <th>0</th>\n",
       "      <td>225055</td>\n",
       "      <td>225055</td>\n",
       "      <td>225055</td>\n",
       "      <td>225055</td>\n",
       "      <td>225055</td>\n",
       "      <td>225055</td>\n",
       "      <td>225055</td>\n",
       "      <td>225055</td>\n",
       "    </tr>\n",
       "    <tr>\n",
       "      <th>1</th>\n",
       "      <td>25819</td>\n",
       "      <td>25819</td>\n",
       "      <td>25819</td>\n",
       "      <td>25819</td>\n",
       "      <td>25819</td>\n",
       "      <td>25819</td>\n",
       "      <td>25819</td>\n",
       "      <td>25819</td>\n",
       "    </tr>\n",
       "  </tbody>\n",
       "</table>\n",
       "</div>"
      ],
      "text/plain": [
       "        ex_id  user_id  prod_id  rating    date  review  tokens  \\\n",
       "label                                                             \n",
       "0      225055   225055   225055  225055  225055  225055  225055   \n",
       "1       25819    25819    25819   25819   25819   25819   25819   \n",
       "\n",
       "       filtered_tokens  \n",
       "label                   \n",
       "0               225055  \n",
       "1                25819  "
      ]
     },
     "execution_count": 30,
     "metadata": {},
     "output_type": "execute_result"
    }
   ],
   "source": [
    "train.groupby(['label']).count()"
   ]
  },
  {
   "cell_type": "markdown",
   "metadata": {},
   "source": [
    "### Tokenizing Text"
   ]
  },
  {
   "cell_type": "code",
   "execution_count": 8,
   "metadata": {
    "collapsed": true
   },
   "outputs": [],
   "source": [
    "from nltk.corpus import stopwords\n",
    "from nltk.tokenize import word_tokenize\n",
    "import string"
   ]
  },
  {
   "cell_type": "code",
   "execution_count": 9,
   "metadata": {
    "collapsed": true
   },
   "outputs": [],
   "source": [
    "stop_words = set(stopwords.words('english')) "
   ]
  },
  {
   "cell_type": "code",
   "execution_count": 10,
   "metadata": {
    "collapsed": true
   },
   "outputs": [],
   "source": [
    "train['tokens'] = train['review'].apply(lambda x: word_tokenize(x) )"
   ]
  },
  {
   "cell_type": "code",
   "execution_count": 51,
   "metadata": {
    "collapsed": true
   },
   "outputs": [],
   "source": [
    "stop_words = set(stopwords.words('english')) \n",
    "\n",
    "def rm_stop_words(tokens):\n",
    "    filtered = [w for w in tokens if not w.lower() in stop_words] \n",
    "    return filtered\n",
    "\n",
    "def rm_puctuation(tokens):\n",
    "    init_filter = [w for w in tokens if w not in string.punctuation]\n",
    "    table = str.maketrans('', '', string.punctuation)\n",
    "    stripped = [w.translate(table) for w in init_filter]\n",
    "    clean = [w for w in stripped if w not in ['',' ']]\n",
    "    return clean\n",
    "\n",
    "def filter_tokens(tokens):\n",
    "    filtered = rm_stop_words(tokens)\n",
    "    new_tokens = rm_puctuation(filtered)\n",
    "    return new_tokens"
   ]
  },
  {
   "cell_type": "code",
   "execution_count": 52,
   "metadata": {
    "collapsed": true
   },
   "outputs": [],
   "source": [
    "train['filtered_tokens'] = train['tokens'].apply(lambda x: filter_tokens(x))"
   ]
  },
  {
   "cell_type": "code",
   "execution_count": 13,
   "metadata": {},
   "outputs": [
    {
     "data": {
      "text/html": [
       "<div>\n",
       "<style scoped>\n",
       "    .dataframe tbody tr th:only-of-type {\n",
       "        vertical-align: middle;\n",
       "    }\n",
       "\n",
       "    .dataframe tbody tr th {\n",
       "        vertical-align: top;\n",
       "    }\n",
       "\n",
       "    .dataframe thead th {\n",
       "        text-align: right;\n",
       "    }\n",
       "</style>\n",
       "<table border=\"1\" class=\"dataframe\">\n",
       "  <thead>\n",
       "    <tr style=\"text-align: right;\">\n",
       "      <th></th>\n",
       "      <th>ex_id</th>\n",
       "      <th>user_id</th>\n",
       "      <th>prod_id</th>\n",
       "      <th>rating</th>\n",
       "      <th>label</th>\n",
       "      <th>date</th>\n",
       "      <th>review</th>\n",
       "      <th>tokens</th>\n",
       "      <th>filtered_tokens</th>\n",
       "    </tr>\n",
       "  </thead>\n",
       "  <tbody>\n",
       "    <tr>\n",
       "      <th>0</th>\n",
       "      <td>0</td>\n",
       "      <td>923</td>\n",
       "      <td>0</td>\n",
       "      <td>3.0</td>\n",
       "      <td>1</td>\n",
       "      <td>2014-12-08</td>\n",
       "      <td>The food at snack is a selection of popular Gr...</td>\n",
       "      <td>[The, food, at, snack, is, a, selection, of, p...</td>\n",
       "      <td>[food, snack, selection, popular, Greek, dishe...</td>\n",
       "    </tr>\n",
       "    <tr>\n",
       "      <th>1</th>\n",
       "      <td>1</td>\n",
       "      <td>924</td>\n",
       "      <td>0</td>\n",
       "      <td>3.0</td>\n",
       "      <td>1</td>\n",
       "      <td>2013-05-16</td>\n",
       "      <td>This little place in Soho is wonderful. I had ...</td>\n",
       "      <td>[This, little, place, in, Soho, is, wonderful,...</td>\n",
       "      <td>[little, place, Soho, wonderful, lamb, sandwic...</td>\n",
       "    </tr>\n",
       "    <tr>\n",
       "      <th>2</th>\n",
       "      <td>2</td>\n",
       "      <td>925</td>\n",
       "      <td>0</td>\n",
       "      <td>4.0</td>\n",
       "      <td>1</td>\n",
       "      <td>2013-07-01</td>\n",
       "      <td>ordered lunch for 15 from Snack last Friday.  ...</td>\n",
       "      <td>[ordered, lunch, for, 15, from, Snack, last, F...</td>\n",
       "      <td>[ordered, lunch, 15, Snack, last, Friday, time...</td>\n",
       "    </tr>\n",
       "    <tr>\n",
       "      <th>3</th>\n",
       "      <td>3</td>\n",
       "      <td>926</td>\n",
       "      <td>0</td>\n",
       "      <td>4.0</td>\n",
       "      <td>1</td>\n",
       "      <td>2011-07-28</td>\n",
       "      <td>This is a beautiful quaint little restaurant o...</td>\n",
       "      <td>[This, is, a, beautiful, quaint, little, resta...</td>\n",
       "      <td>[beautiful, quaint, little, restaurant, pretty...</td>\n",
       "    </tr>\n",
       "    <tr>\n",
       "      <th>4</th>\n",
       "      <td>4</td>\n",
       "      <td>927</td>\n",
       "      <td>0</td>\n",
       "      <td>4.0</td>\n",
       "      <td>1</td>\n",
       "      <td>2010-11-01</td>\n",
       "      <td>Snack is great place for a  casual sit down lu...</td>\n",
       "      <td>[Snack, is, great, place, for, a, casual, sit,...</td>\n",
       "      <td>[Snack, great, place, casual, sit, lunch, espe...</td>\n",
       "    </tr>\n",
       "  </tbody>\n",
       "</table>\n",
       "</div>"
      ],
      "text/plain": [
       "   ex_id  user_id  prod_id  rating  label        date  \\\n",
       "0      0      923        0     3.0      1  2014-12-08   \n",
       "1      1      924        0     3.0      1  2013-05-16   \n",
       "2      2      925        0     4.0      1  2013-07-01   \n",
       "3      3      926        0     4.0      1  2011-07-28   \n",
       "4      4      927        0     4.0      1  2010-11-01   \n",
       "\n",
       "                                              review  \\\n",
       "0  The food at snack is a selection of popular Gr...   \n",
       "1  This little place in Soho is wonderful. I had ...   \n",
       "2  ordered lunch for 15 from Snack last Friday.  ...   \n",
       "3  This is a beautiful quaint little restaurant o...   \n",
       "4  Snack is great place for a  casual sit down lu...   \n",
       "\n",
       "                                              tokens  \\\n",
       "0  [The, food, at, snack, is, a, selection, of, p...   \n",
       "1  [This, little, place, in, Soho, is, wonderful,...   \n",
       "2  [ordered, lunch, for, 15, from, Snack, last, F...   \n",
       "3  [This, is, a, beautiful, quaint, little, resta...   \n",
       "4  [Snack, is, great, place, for, a, casual, sit,...   \n",
       "\n",
       "                                     filtered_tokens  \n",
       "0  [food, snack, selection, popular, Greek, dishe...  \n",
       "1  [little, place, Soho, wonderful, lamb, sandwic...  \n",
       "2  [ordered, lunch, 15, Snack, last, Friday, time...  \n",
       "3  [beautiful, quaint, little, restaurant, pretty...  \n",
       "4  [Snack, great, place, casual, sit, lunch, espe...  "
      ]
     },
     "execution_count": 13,
     "metadata": {},
     "output_type": "execute_result"
    }
   ],
   "source": [
    "train.head(5)"
   ]
  },
  {
   "cell_type": "code",
   "execution_count": 49,
   "metadata": {},
   "outputs": [
    {
     "data": {
      "text/plain": [
       "0    The food at snack is a selection of popular Gr...\n",
       "1    This little place in Soho is wonderful. I had ...\n",
       "2    ordered lunch for 15 from Snack last Friday.  ...\n",
       "3    This is a beautiful quaint little restaurant o...\n",
       "4    Snack is great place for a  casual sit down lu...\n",
       "Name: review, dtype: object"
      ]
     },
     "execution_count": 49,
     "metadata": {},
     "output_type": "execute_result"
    }
   ],
   "source": [
    "train[train['label'] == 1]['review'].head(5)"
   ]
  },
  {
   "cell_type": "code",
   "execution_count": 48,
   "metadata": {},
   "outputs": [
    {
     "data": {
      "text/plain": [
       "11        I had the braised lamb sandwich and was one of...\n",
       "12        This spot is close to my job so I decided to c...\n",
       "13        Needed a quick, healthy light \"lunch\" and this...\n",
       "14        Their artichoke chicken salad is good and plenty.\n",
       "15        Needed a quick bite and stopped here because o...\n",
       "                                ...                        \n",
       "250869    Made a reservation for an early dinner Saturda...\n",
       "250870    Emily is like Franny's Marco, but with warmth ...\n",
       "250871    Can't say enough good things about this place....\n",
       "250872    Had a great dinner here- fantastic pizza, the ...\n",
       "250873    Pizza Loves Emily and I love Emily's pizza. Th...\n",
       "Name: review, Length: 225055, dtype: object"
      ]
     },
     "execution_count": 48,
     "metadata": {},
     "output_type": "execute_result"
    }
   ],
   "source": [
    "train[train['label'] == 0]['review']"
   ]
  },
  {
   "cell_type": "markdown",
   "metadata": {},
   "source": [
    "### Find Word Frequency"
   ]
  },
  {
   "cell_type": "code",
   "execution_count": 14,
   "metadata": {
    "collapsed": true
   },
   "outputs": [],
   "source": [
    "from collections import Counter\n",
    "import operator"
   ]
  },
  {
   "cell_type": "code",
   "execution_count": 31,
   "metadata": {
    "collapsed": true
   },
   "outputs": [],
   "source": [
    "flat_list = [item.lower() for sublist in train['filtered_tokens'].values for item in sublist]\n",
    "flat_list_fake = [item.lower() for sublist in train[train['label']==1]['filtered_tokens'].values for item in sublist]\n",
    "flat_list_real = [item.lower() for sublist in train[train['label']==0]['filtered_tokens'].values for item in sublist]"
   ]
  },
  {
   "cell_type": "code",
   "execution_count": 33,
   "metadata": {
    "collapsed": true
   },
   "outputs": [],
   "source": [
    "word_freq = Counter(flat_list)\n",
    "word_freq_fake = Counter(flat_list_fake)\n",
    "word_freq_real = Counter(flat_list_real)\n",
    "\n",
    "# west village is one word\n",
    "# remove words that appear once?\n",
    "# frequent word pairs? 'great place' 'good food'\n",
    "\n",
    "# https://en.wikipedia.org/wiki/List_of_Manhattan_neighborhoods\n",
    "# https://en.wikipedia.org/wiki/List_of_Brooklyn_neighborhoods"
   ]
  },
  {
   "cell_type": "code",
   "execution_count": 34,
   "metadata": {
    "collapsed": true
   },
   "outputs": [],
   "source": [
    "# save_obj(word_freq , 'word_freq_ac4119')\n",
    "# save_obj(word_freq_real , 'word_freq_real_ac4119')\n",
    "# save_obj(word_freq_fake , 'word_freq_fake_ac4119')"
   ]
  },
  {
   "cell_type": "code",
   "execution_count": 18,
   "metadata": {
    "collapsed": true
   },
   "outputs": [],
   "source": [
    "word_freq = load_obj('word_freq_ac4119')"
   ]
  },
  {
   "cell_type": "code",
   "execution_count": 35,
   "metadata": {
    "collapsed": true
   },
   "outputs": [],
   "source": [
    "sorted_freq = sorted(word_freq.items(), key=operator.itemgetter(1))\n",
    "sorted_freq_fake = sorted(word_freq_fake.items(), key=operator.itemgetter(1))\n",
    "sorted_freq_real = sorted(word_freq_real.items(), key=operator.itemgetter(1))"
   ]
  },
  {
   "cell_type": "code",
   "execution_count": null,
   "metadata": {
    "collapsed": true
   },
   "outputs": [],
   "source": [
    "huihkn"
   ]
  },
  {
   "cell_type": "markdown",
   "metadata": {},
   "source": [
    "### Visualize"
   ]
  },
  {
   "cell_type": "code",
   "execution_count": 20,
   "metadata": {},
   "outputs": [
    {
     "name": "stderr",
     "output_type": "stream",
     "text": [
      "/Users/chuamelia/anaconda/envs/py35/lib/python3.6/site-packages/statsmodels/tools/_testing.py:19: FutureWarning: pandas.util.testing is deprecated. Use the functions in the public API at pandas.testing instead.\n",
      "  import pandas.util.testing as tm\n"
     ]
    }
   ],
   "source": [
    "import seaborn as sns\n",
    "import matplotlib.pyplot as plt\n",
    "\n",
    "%matplotlib inline"
   ]
  },
  {
   "cell_type": "code",
   "execution_count": 21,
   "metadata": {},
   "outputs": [
    {
     "name": "stdout",
     "output_type": "stream",
     "text": [
      "162,132 unique words\n"
     ]
    }
   ],
   "source": [
    "total_words = len(word_freq)\n",
    "print(\"{:,} unique words\".format(total_words))"
   ]
  },
  {
   "cell_type": "code",
   "execution_count": 23,
   "metadata": {
    "collapsed": true
   },
   "outputs": [],
   "source": [
    "f_rank = pd.DataFrame\\\n",
    ".from_records(sorted_freq[:-3], columns=['word','freq'])\\\n",
    ".sort_values(by='freq', ascending=True)"
   ]
  },
  {
   "cell_type": "code",
   "execution_count": 26,
   "metadata": {},
   "outputs": [
    {
     "data": {
      "text/plain": [
       "(array([ 0,  1,  2,  3,  4,  5,  6,  7,  8,  9, 10, 11, 12, 13, 14, 15, 16,\n",
       "        17, 18, 19]), <a list of 20 Text xticklabel objects>)"
      ]
     },
     "execution_count": 26,
     "metadata": {},
     "output_type": "execute_result"
    },
    {
     "data": {
      "image/png": "[encoded data removed]",
      "text/plain": [
       "<Figure size 576x288 with 1 Axes>"
      ]
     },
     "metadata": {},
     "output_type": "display_data"
    }
   ],
   "source": [
    "# Top 20 overall\n",
    "fig, ax = plt.subplots(figsize=(8,4))\n",
    "ax = sns.barplot(x='word', y='freq', data=f_rank[-20:])\n",
    "plt.xticks(rotation=45)"
   ]
  },
  {
   "cell_type": "code",
   "execution_count": 40,
   "metadata": {
    "collapsed": true
   },
   "outputs": [],
   "source": [
    "f_rank_fake = pd.DataFrame\\\n",
    ".from_records(sorted_freq_fake[-23:], columns=['word','freq'])\\\n",
    ".sort_values(by='freq', ascending=True)"
   ]
  },
  {
   "cell_type": "code",
   "execution_count": 42,
   "metadata": {},
   "outputs": [
    {
     "data": {
      "text/plain": [
       "(array([ 0,  1,  2,  3,  4,  5,  6,  7,  8,  9, 10, 11, 12, 13, 14, 15, 16,\n",
       "        17, 18, 19, 20, 21, 22]), <a list of 23 Text xticklabel objects>)"
      ]
     },
     "execution_count": 42,
     "metadata": {},
     "output_type": "execute_result"
    },
    {
     "data": {
      "image/png": "[encoded data removed]",
      "text/plain": [
       "<Figure size 576x288 with 1 Axes>"
      ]
     },
     "metadata": {},
     "output_type": "display_data"
    }
   ],
   "source": [
    "# Top 20 Fake\n",
    "fig, ax = plt.subplots(figsize=(8,4))\n",
    "ax = sns.barplot(x='word', y='freq', data=f_rank_fake)\n",
    "plt.xticks(rotation=45)"
   ]
  },
  {
   "cell_type": "code",
   "execution_count": 41,
   "metadata": {
    "collapsed": true
   },
   "outputs": [],
   "source": [
    "f_rank_real = pd.DataFrame\\\n",
    ".from_records(sorted_freq_real[-23:-3], columns=['word','freq'])\\\n",
    ".sort_values(by='freq', ascending=True)"
   ]
  },
  {
   "cell_type": "code",
   "execution_count": 43,
   "metadata": {},
   "outputs": [
    {
     "data": {
      "text/plain": [
       "(array([ 0,  1,  2,  3,  4,  5,  6,  7,  8,  9, 10, 11, 12, 13, 14, 15, 16,\n",
       "        17, 18, 19]), <a list of 20 Text xticklabel objects>)"
      ]
     },
     "execution_count": 43,
     "metadata": {},
     "output_type": "execute_result"
    },
    {
     "data": {
      "image/png": "[encoded data removed]",
      "text/plain": [
       "<Figure size 576x288 with 1 Axes>"
      ]
     },
     "metadata": {},
     "output_type": "display_data"
    }
   ],
   "source": [
    "# Top 20 Real\n",
    "fig, ax = plt.subplots(figsize=(8,4))\n",
    "ax = sns.barplot(x='word', y='freq', data=f_rank_real)\n",
    "plt.xticks(rotation=45)"
   ]
  },
  {
   "cell_type": "code",
   "execution_count": 58,
   "metadata": {},
   "outputs": [
    {
     "data": {
      "text/plain": [
       "<matplotlib.axes._subplots.AxesSubplot at 0x1fb48a400>"
      ]
     },
     "execution_count": 58,
     "metadata": {},
     "output_type": "execute_result"
    },
    {
     "data": {
      "image/png": "[encoded data removed]",
      "text/plain": [
       "<Figure size 432x288 with 1 Axes>"
      ]
     },
     "metadata": {},
     "output_type": "display_data"
    }
   ],
   "source": [
    "sns.distplot(train[train['label']==1]['rating'])\n"
   ]
  },
  {
   "cell_type": "code",
   "execution_count": 59,
   "metadata": {},
   "outputs": [
    {
     "data": {
      "text/plain": [
       "<matplotlib.axes._subplots.AxesSubplot at 0x281a0feb8>"
      ]
     },
     "execution_count": 59,
     "metadata": {},
     "output_type": "execute_result"
    },
    {
     "data": {
      "image/png": "[encoded data removed]",
      "text/plain": [
       "<Figure size 432x288 with 1 Axes>"
      ]
     },
     "metadata": {},
     "output_type": "display_data"
    }
   ],
   "source": [
    "sns.distplot(train[train['label']==0]['rating'])"
   ]
  },
  {
   "cell_type": "code",
   "execution_count": 65,
   "metadata": {},
   "outputs": [
    {
     "name": "stderr",
     "output_type": "stream",
     "text": [
      "/Users/chuamelia/anaconda/envs/py35/lib/python3.6/site-packages/ipykernel_launcher.py:1: FutureWarning: Passing a negative integer is deprecated in version 1.0 and will not be supported in future version. Instead, use None to not limit the column width.\n",
      "  \"\"\"Entry point for launching an IPython kernel.\n"
     ]
    },
    {
     "data": {
      "text/html": [
       "<div>\n",
       "<style scoped>\n",
       "    .dataframe tbody tr th:only-of-type {\n",
       "        vertical-align: middle;\n",
       "    }\n",
       "\n",
       "    .dataframe tbody tr th {\n",
       "        vertical-align: top;\n",
       "    }\n",
       "\n",
       "    .dataframe thead th {\n",
       "        text-align: right;\n",
       "    }\n",
       "</style>\n",
       "<table border=\"1\" class=\"dataframe\">\n",
       "  <thead>\n",
       "    <tr style=\"text-align: right;\">\n",
       "      <th></th>\n",
       "      <th>review</th>\n",
       "      <th>rating</th>\n",
       "    </tr>\n",
       "  </thead>\n",
       "  <tbody>\n",
       "    <tr>\n",
       "      <th>155</th>\n",
       "      <td>My wife and I took my parents there for lunch and were greeted by stares from the staff with no greeting whatsoever despite there being only five people in the entire place. This was followed by a rude, abrupt waitress who acted like we had to speed talk to place an order. To cap off this wonderful experience, the pizza was non descript and  the pasta tasted like it had been ordered from a diner. So poor, in fact, that my two kids, who normally love pasta, refused to eat theirs. Won't be back and will definitely not recommend this place to anyone.</td>\n",
       "      <td>1.0</td>\n",
       "    </tr>\n",
       "    <tr>\n",
       "      <th>156</th>\n",
       "      <td>Got a margarita pizza. First off let me say very expensive that one pie came out to 25$ with 2 simple toppings on it. Secondly the was a piece of hair in it.  Also the sauce was bland. My table was all oily. Definitely not recommending this place might as well go down the block to Tommys. Again HORRIBLE.</td>\n",
       "      <td>1.0</td>\n",
       "    </tr>\n",
       "    <tr>\n",
       "      <th>759</th>\n",
       "      <td>lady that works there picks her nose. - yuck!</td>\n",
       "      <td>1.0</td>\n",
       "    </tr>\n",
       "    <tr>\n",
       "      <th>818</th>\n",
       "      <td>I used to love this place when it was Xunta-a very authentic Spanish tapas bar, casual, informal bar with tapas and a great atmosphere - so I went for years, bringing many out of town visitors and friends for happy hour and on weekends. Now, sadly, I have to say that Nai is not the same place and not worth spending your money there. The new owner has made a lot of changes, for the worse, imo, and is very strange (looks like some dude from Queens)-he seems to be always there,with a scowl on his face, is neither inviting nor welcoming, and acts dismissive and like he is  doing you a favor even talking to  you-when we even show up early for reservations and have done nothing except wanting to patronize his bar! He runs the place like a formal dining restaurant..it feels like you have to be in exactly on time, spend your pricepoint, and get out-all very anti-tapas bar to me. At my  birthday celebration of 10 people, he actually did ask us to leave after 2 hours because he \"needed\" the table though we had spent several hundred dollars and were still eating and drinking! I was flabbergasted at how rude that was.  Also I noticed that since the change to Nai, the food is not as good as it used to be (octopus and other dishes not cooked well), with higher prices as well, and the sangria is now also watered down/sweet imo--just not a good value. And the décor now is blah (think tacky flamenco paintings from homedecorators.com)-does not have any of the charm or personality of the old Xunta. Sadly, after giving it a go a couple of times, I am in search once again of an authentic Spanish tapas bar.</td>\n",
       "      <td>1.0</td>\n",
       "    </tr>\n",
       "    <tr>\n",
       "      <th>1164</th>\n",
       "      <td>I have to say I didn't actually eat here so the food could be good, but when I called to ask for a reservation they said to call back later and hung up on me. There are many other choices where I can be treated better than that.</td>\n",
       "      <td>1.0</td>\n",
       "    </tr>\n",
       "    <tr>\n",
       "      <th>...</th>\n",
       "      <td>...</td>\n",
       "      <td>...</td>\n",
       "    </tr>\n",
       "    <tr>\n",
       "      <th>250332</th>\n",
       "      <td>Visiting New York for several days, and this was by far the worst restaurant I ate at. The food was okay, but the service was horrendous. The waiter was rude and didn't seem to care for people's food allergies. First, he put a fork that was dropped on to the floor back on to a table for the next unknowing customer to use. After claiming that the meal is nut-free multiple times, my friend develops anaphylaxis after having the appetizer. The manager or the waiter said there were no nuts in the food, but found out almonds were in the appetizer after asking the chef. The manager hovers over us for the rest of the meal. Please save yourself and don't go to this restaurant.</td>\n",
       "      <td>1.0</td>\n",
       "    </tr>\n",
       "    <tr>\n",
       "      <th>250333</th>\n",
       "      <td>We ordered food but it was never delivered to us. We called the restaurant and the manager started yelling at me and stated that the food was delivered. We ordered via Seamless.com so that we paid when we ordered. I have never experienced such a horrible attitude as displayed by this manager. He treated us horribly rude. He was very aggressive, inconsiderate and unacceptably hostile. Bottom line: We paid $25, never received any food and were even yelled at. Please do yourself a favor and NEVER order food there!</td>\n",
       "      <td>1.0</td>\n",
       "    </tr>\n",
       "    <tr>\n",
       "      <th>250437</th>\n",
       "      <td>Last Monday night was my first outing after having major surgery....total hysterectomy. My first suggestion was that I wanted to go to here and have this wonderful BBQ that everyone was talking about. It was a Monday night, 9pm...about 5 couples sitting at those tiny chairs that they have for two people. Knowing that it was empty and it was uncomfortable for me to sit on those two hard metal chairs (I would have had to squeeze between other patrons). I asked the waiter if we can have a booth because it was uncomfortable for me to sit on those seats. He said \"NO...we are waiting for a possible party of 4\". THERE WERE 4 EMPTY BOOTHS AND IT WAS A MONDAY NIGHT APPROXIMATELY 9PM! We said I couldn't sit there and he didn't bother to accommodate me. Now don't get me wrong, I understand their rules but come on it was a Monday night, late and no parties of 4 or 5 or even 2 were going to enter this place at that point. The waiter didn't even try to stop us from leaving. I was furious, I called and explain the situation to the person who picked up the phone after being on hold for almost 10 minutes but I had to give them a piece of my mind. He had nothing to say but say \"sorry\". Good customer service would have been to tell us to come back and accommodate me just this one time. They lost two good customer and great tippers. My boyfriend and I are in the hospitality business so we know what its like to work for tips so we are always generous. They need to improve on their customer service!</td>\n",
       "      <td>1.0</td>\n",
       "    </tr>\n",
       "    <tr>\n",
       "      <th>250438</th>\n",
       "      <td>If You Like HYPE, then you've come to the right place. Unfortunately  the food speaks for itself and tells a different story: Overpriced, dry, lumps of meat plus bad service to boot. How it works: Line up at the counter and move down the line to get your meat then grab a seat along the other side against the wall. Decor is bare-bones so at least you don't need to dress up. Shovel the meat down and move on cause people will be waiting for yout able. Oh, and the service is less than bare bones (I guess the wait staff isn't eating at Delaney). Spoiler: on Fridays-Sunday they let the people who \"supported them\" in early at 6:00pm. So by the time they officially open at 6:30pm the tables are already full and you will be waiting outside in the cold. But this is Williamsburg and there's actually tastier places you can go for your meat fix. If the hype still has it's hold on you and you muuust....gooo---toooo--Deee--lllaaaa--neeey bbquuuu (in zombie voice) then I hear the Walking Dead is always looking for extras.</td>\n",
       "      <td>1.0</td>\n",
       "    </tr>\n",
       "    <tr>\n",
       "      <th>250793</th>\n",
       "      <td>First and last time we try this place.  Pizza crust was hard as a rock (also took too long to arrive). My boyfriend and I ordered the Arugula salads to start with. Our suggestion: DON'T ORDER SALAD FROM THIS PLACE unless you like a bland, tasteless salad. Back to the pizza...The sausage on our Camp Randall pizza smelled disease-ridden and I felt like puking after two bites.  I've not had a worse tasting meal in a long time.  How can they serve stuff like this?   There aren't many restaurant options in this area, which makes Emily an easy pick for the neighborhood..but I would highly recommend making the trek to go somewhere else instead of wasting your time on this self proclaimed loveable pizza.  It was horrific.  I will never go there again. Maybe management needs to re-evaluate the quality of their products that they offer. Sorry Emily ...Thumbs down.</td>\n",
       "      <td>1.0</td>\n",
       "    </tr>\n",
       "  </tbody>\n",
       "</table>\n",
       "<p>2565 rows × 2 columns</p>\n",
       "</div>"
      ],
      "text/plain": [
       "                                                                                                                                                                                                                                                                                                                                                                                                                                                                                                                                                                                                                                                                                                                                                                                                                                                                                                                                                                                                                                                                                                                                                                                                                                                                                                                                                                                                                                                                                                                                                                                                                                                                              review  \\\n",
       "155     My wife and I took my parents there for lunch and were greeted by stares from the staff with no greeting whatsoever despite there being only five people in the entire place. This was followed by a rude, abrupt waitress who acted like we had to speed talk to place an order. To cap off this wonderful experience, the pizza was non descript and  the pasta tasted like it had been ordered from a diner. So poor, in fact, that my two kids, who normally love pasta, refused to eat theirs. Won't be back and will definitely not recommend this place to anyone.                                                                                                                                                                                                                                                                                                                                                                                                                                                                                                                                                                                                                                                                                                                                                                                                                                                                                                                                                                                                                                                                                                      \n",
       "156     Got a margarita pizza. First off let me say very expensive that one pie came out to 25$ with 2 simple toppings on it. Secondly the was a piece of hair in it.  Also the sauce was bland. My table was all oily. Definitely not recommending this place might as well go down the block to Tommys. Again HORRIBLE.                                                                                                                                                                                                                                                                                                                                                                                                                                                                                                                                                                                                                                                                                                                                                                                                                                                                                                                                                                                                                                                                                                                                                                                                                                                                                                                                                              \n",
       "759     lady that works there picks her nose. - yuck!                                                                                                                                                                                                                                                                                                                                                                                                                                                                                                                                                                                                                                                                                                                                                                                                                                                                                                                                                                                                                                                                                                                                                                                                                                                                                                                                                                                                                                                                                                                                                                                                                                  \n",
       "818     I used to love this place when it was Xunta-a very authentic Spanish tapas bar, casual, informal bar with tapas and a great atmosphere - so I went for years, bringing many out of town visitors and friends for happy hour and on weekends. Now, sadly, I have to say that Nai is not the same place and not worth spending your money there. The new owner has made a lot of changes, for the worse, imo, and is very strange (looks like some dude from Queens)-he seems to be always there,with a scowl on his face, is neither inviting nor welcoming, and acts dismissive and like he is  doing you a favor even talking to  you-when we even show up early for reservations and have done nothing except wanting to patronize his bar! He runs the place like a formal dining restaurant..it feels like you have to be in exactly on time, spend your pricepoint, and get out-all very anti-tapas bar to me. At my  birthday celebration of 10 people, he actually did ask us to leave after 2 hours because he \"needed\" the table though we had spent several hundred dollars and were still eating and drinking! I was flabbergasted at how rude that was.  Also I noticed that since the change to Nai, the food is not as good as it used to be (octopus and other dishes not cooked well), with higher prices as well, and the sangria is now also watered down/sweet imo--just not a good value. And the décor now is blah (think tacky flamenco paintings from homedecorators.com)-does not have any of the charm or personality of the old Xunta. Sadly, after giving it a go a couple of times, I am in search once again of an authentic Spanish tapas bar.   \n",
       "1164    I have to say I didn't actually eat here so the food could be good, but when I called to ask for a reservation they said to call back later and hung up on me. There are many other choices where I can be treated better than that.                                                                                                                                                                                                                                                                                                                                                                                                                                                                                                                                                                                                                                                                                                                                                                                                                                                                                                                                                                                                                                                                                                                                                                                                                                                                                                                                                                                                                                           \n",
       "...                                                                                                                                                                                                                                      ...                                                                                                                                                                                                                                                                                                                                                                                                                                                                                                                                                                                                                                                                                                                                                                                                                                                                                                                                                                                                                                                                                                                                                                                                                                                                                                                                                                                                                                           \n",
       "250332  Visiting New York for several days, and this was by far the worst restaurant I ate at. The food was okay, but the service was horrendous. The waiter was rude and didn't seem to care for people's food allergies. First, he put a fork that was dropped on to the floor back on to a table for the next unknowing customer to use. After claiming that the meal is nut-free multiple times, my friend develops anaphylaxis after having the appetizer. The manager or the waiter said there were no nuts in the food, but found out almonds were in the appetizer after asking the chef. The manager hovers over us for the rest of the meal. Please save yourself and don't go to this restaurant.                                                                                                                                                                                                                                                                                                                                                                                                                                                                                                                                                                                                                                                                                                                                                                                                                                                                                                                                                                           \n",
       "250333  We ordered food but it was never delivered to us. We called the restaurant and the manager started yelling at me and stated that the food was delivered. We ordered via Seamless.com so that we paid when we ordered. I have never experienced such a horrible attitude as displayed by this manager. He treated us horribly rude. He was very aggressive, inconsiderate and unacceptably hostile. Bottom line: We paid $25, never received any food and were even yelled at. Please do yourself a favor and NEVER order food there!                                                                                                                                                                                                                                                                                                                                                                                                                                                                                                                                                                                                                                                                                                                                                                                                                                                                                                                                                                                                                                                                                                                                           \n",
       "250437  Last Monday night was my first outing after having major surgery....total hysterectomy. My first suggestion was that I wanted to go to here and have this wonderful BBQ that everyone was talking about. It was a Monday night, 9pm...about 5 couples sitting at those tiny chairs that they have for two people. Knowing that it was empty and it was uncomfortable for me to sit on those two hard metal chairs (I would have had to squeeze between other patrons). I asked the waiter if we can have a booth because it was uncomfortable for me to sit on those seats. He said \"NO...we are waiting for a possible party of 4\". THERE WERE 4 EMPTY BOOTHS AND IT WAS A MONDAY NIGHT APPROXIMATELY 9PM! We said I couldn't sit there and he didn't bother to accommodate me. Now don't get me wrong, I understand their rules but come on it was a Monday night, late and no parties of 4 or 5 or even 2 were going to enter this place at that point. The waiter didn't even try to stop us from leaving. I was furious, I called and explain the situation to the person who picked up the phone after being on hold for almost 10 minutes but I had to give them a piece of my mind. He had nothing to say but say \"sorry\". Good customer service would have been to tell us to come back and accommodate me just this one time. They lost two good customer and great tippers. My boyfriend and I are in the hospitality business so we know what its like to work for tips so we are always generous. They need to improve on their customer service!                                                                                                                 \n",
       "250438  If You Like HYPE, then you've come to the right place. Unfortunately  the food speaks for itself and tells a different story: Overpriced, dry, lumps of meat plus bad service to boot. How it works: Line up at the counter and move down the line to get your meat then grab a seat along the other side against the wall. Decor is bare-bones so at least you don't need to dress up. Shovel the meat down and move on cause people will be waiting for yout able. Oh, and the service is less than bare bones (I guess the wait staff isn't eating at Delaney). Spoiler: on Fridays-Sunday they let the people who \"supported them\" in early at 6:00pm. So by the time they officially open at 6:30pm the tables are already full and you will be waiting outside in the cold. But this is Williamsburg and there's actually tastier places you can go for your meat fix. If the hype still has it's hold on you and you muuust....gooo---toooo--Deee--lllaaaa--neeey bbquuuu (in zombie voice) then I hear the Walking Dead is always looking for extras.                                                                                                                                                                                                                                                                                                                                                                                                                                                                                                                                                                                                                  \n",
       "250793  First and last time we try this place.  Pizza crust was hard as a rock (also took too long to arrive). My boyfriend and I ordered the Arugula salads to start with. Our suggestion: DON'T ORDER SALAD FROM THIS PLACE unless you like a bland, tasteless salad. Back to the pizza...The sausage on our Camp Randall pizza smelled disease-ridden and I felt like puking after two bites.  I've not had a worse tasting meal in a long time.  How can they serve stuff like this?   There aren't many restaurant options in this area, which makes Emily an easy pick for the neighborhood..but I would highly recommend making the trek to go somewhere else instead of wasting your time on this self proclaimed loveable pizza.  It was horrific.  I will never go there again. Maybe management needs to re-evaluate the quality of their products that they offer. Sorry Emily ...Thumbs down.                                                                                                                                                                                                                                                                                                                                                                                                                                                                                                                                                                                                                                                                                                                                                                             \n",
       "\n",
       "        rating  \n",
       "155     1.0     \n",
       "156     1.0     \n",
       "759     1.0     \n",
       "818     1.0     \n",
       "1164    1.0     \n",
       "...     ...     \n",
       "250332  1.0     \n",
       "250333  1.0     \n",
       "250437  1.0     \n",
       "250438  1.0     \n",
       "250793  1.0     \n",
       "\n",
       "[2565 rows x 2 columns]"
      ]
     },
     "execution_count": 65,
     "metadata": {},
     "output_type": "execute_result"
    }
   ],
   "source": [
    "pd.set_option('display.max_colwidth', -1)\n",
    "train[(train['label']==1) & (train['rating']==1)][['review', 'rating']]"
   ]
  },
  {
   "cell_type": "code",
   "execution_count": null,
   "metadata": {
    "collapsed": true
   },
   "outputs": [],
   "source": [
    "# Later: https://observablehq.com/@d3/bubble-chart"
   ]
  }
 ],
 "metadata": {
  "kernelspec": {
   "display_name": "Python 3",
   "language": "python",
   "name": "python3"
  },
  "language_info": {
   "codemirror_mode": {
    "name": "ipython",
    "version": 3
   },
   "file_extension": ".py",
   "mimetype": "text/x-python",
   "name": "python",
   "nbconvert_exporter": "python",
   "pygments_lexer": "ipython3",
   "version": "3.6.7"
  }
 },
 "nbformat": 4,
 "nbformat_minor": 2
}
