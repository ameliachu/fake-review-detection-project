{
 "cells": [
  {
   "cell_type": "markdown",
   "metadata": {},
   "source": [
    "#### Required Libraries and UDFs"
   ]
  },
  {
   "cell_type": "code",
   "execution_count": null,
   "metadata": {
    "collapsed": true
   },
   "outputs": [],
   "source": [
    "from sklearn.metrics import accuracy_score, roc_auc_score, average_precision_score\n",
    "\n",
    "def ClassifierMetrics (X_train, Y_train, X_test, Y_test, fitted_model):\n",
    "    \"\"\"\n",
    "    X_train: training set features\n",
    "    Y_train: training set labels\n",
    "    X_test: dev/test set features\n",
    "    Y_test: dev/test set labels\n",
    "    fitted_model: \n",
    "    \"\"\"\n",
    "    Y_pred = fitted_model.predict(X_test)\n",
    "    metrics = {'train_accuracy': fitted_model.score(X_train, Y_train),\n",
    "               'test_accuracy': fitted_model.score(X_test, Y_test),\n",
    "               'test_auc': roc_auc_score(Y_test, Y_pred),\n",
    "               'test_ap': average_precision_score(Y_test, Y_pred)}\n",
    "    return metrics"
   ]
  },
  {
   "cell_type": "code",
   "execution_count": null,
   "metadata": {
    "collapsed": true
   },
   "outputs": [],
   "source": [
    "import json\n",
    "# base = '../data/processed/dev/'\n",
    "def writeJsonFile(fname, data,  base=base):\n",
    "    with open(base + fname +'.json', 'w') as outfile:\n",
    "        json.dump(data, outfile)\n",
    "    print('Successfully written to {}'.format(fname))\n",
    "    \n",
    "def readJsonFile(fname, base=base):\n",
    "    with open(base + fname + '.json', 'r') as f:\n",
    "        data = json.load(f)\n",
    "    return data"
   ]
  },
  {
   "cell_type": "markdown",
   "metadata": {},
   "source": [
    "Note to team: I've included some extra steps in case we need it. Feel free to copy/paste/rearrange in your workspace!\n",
    "\n",
    "For each model param you try, or just the attempts you feel are worth reporting, (e.g. the results that led to try another combination of parameters), update/save `all_attempts` with the `model_attempt_details` of that attempt."
   ]
  },
  {
   "cell_type": "markdown",
   "metadata": {},
   "source": [
    "### Prerequisites Steps"
   ]
  },
  {
   "cell_type": "markdown",
   "metadata": {},
   "source": [
    "Loading in datasets, if you haven't already"
   ]
  },
  {
   "cell_type": "code",
   "execution_count": null,
   "metadata": {
    "collapsed": true
   },
   "outputs": [],
   "source": [
    "# import pandas as pd\n",
    "\n",
    "# X_train = \n",
    "# Y_train =\n",
    "# X_test =\n",
    "# Y_test ="
   ]
  },
  {
   "cell_type": "markdown",
   "metadata": {},
   "source": [
    "Fitting model and storing params/fitted_model, if you haven't already"
   ]
  },
  {
   "cell_type": "code",
   "execution_count": null,
   "metadata": {
    "collapsed": true
   },
   "outputs": [],
   "source": [
    "for params in list_of_different_params:\n",
    "    # e.g. params = {'random_state': 519, ....}\n",
    "    model = RandomForestClassifier(**params)\n",
    "    fitted_model = model.fit(X_train, Y_train)\n",
    "    list_of_params_and_fitted_models.append((params, fitted_model))"
   ]
  },
  {
   "cell_type": "markdown",
   "metadata": {},
   "source": [
    "### Running the evaluation metrics and saving the results"
   ]
  },
  {
   "cell_type": "code",
   "execution_count": null,
   "metadata": {
    "collapsed": true
   },
   "outputs": [],
   "source": [
    "# If you have already saved some attempt details\n",
    "# run this cell\n",
    "\n",
    "# fname = 'all_attempts_{yourNetId}'\n",
    "# all_attempts = readJsonFile(fname)"
   ]
  },
  {
   "cell_type": "code",
   "execution_count": null,
   "metadata": {
    "collapsed": true
   },
   "outputs": [],
   "source": [
    "# Run this cell, if this is the first time.\n",
    "# all_attempts = {}"
   ]
  },
  {
   "cell_type": "code",
   "execution_count": null,
   "metadata": {
    "collapsed": true
   },
   "outputs": [],
   "source": [
    "for (params, fitted_model) in list_of_params_and_fitted_models:\n",
    "    metrics = ClassifierMetrics (X_train, Y_train, X_test, Y_test, fitted_model)\n",
    "    model_attempt_details = {'params': params, 'metrics': metrics}\n",
    "    all_attempts.update(model_attempt_details)\n",
    "\n",
    "# File name of the model attempts/results\n",
    "fname = 'all_attempts_{yourNetId}'\n",
    "writeJsonFile(fname, all_attempts)"
   ]
  },
  {
   "cell_type": "code",
   "execution_count": null,
   "metadata": {
    "collapsed": true
   },
   "outputs": [],
   "source": [
    "\n"
   ]
  }
 ],
 "metadata": {
  "kernelspec": {
   "display_name": "Python 3",
   "language": "python",
   "name": "python3"
  },
  "language_info": {
   "codemirror_mode": {
    "name": "ipython",
    "version": 3
   },
   "file_extension": ".py",
   "mimetype": "text/x-python",
   "name": "python",
   "nbconvert_exporter": "python",
   "pygments_lexer": "ipython3",
   "version": "3.6.10"
  }
 },
 "nbformat": 4,
 "nbformat_minor": 2
}
