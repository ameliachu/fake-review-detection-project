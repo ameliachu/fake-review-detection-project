{
 "cells": [
  {
   "cell_type": "code",
   "execution_count": 1,
   "metadata": {
    "collapsed": true
   },
   "outputs": [],
   "source": [
    "import pandas as pd\n",
    "import pickle"
   ]
  },
  {
   "cell_type": "code",
   "execution_count": 2,
   "metadata": {
    "collapsed": true
   },
   "outputs": [],
   "source": [
    "train_path = '../../data/raw/train.csv'\n",
    "val_path = '../../data/raw/dev.csv'\n",
    "\n",
    "train = pd.read_csv(train_path)\n",
    "validation = pd.read_csv(val_path)"
   ]
  },
  {
   "cell_type": "code",
   "execution_count": 4,
   "metadata": {
    "collapsed": true
   },
   "outputs": [],
   "source": [
    "test_path = '../../data/raw/test_no_label.csv'\n",
    "test = pd.read_csv(test_path)"
   ]
  },
  {
   "cell_type": "code",
   "execution_count": 20,
   "metadata": {},
   "outputs": [
    {
     "data": {
      "text/plain": [
       "Index(['ex_id', 'user_id', 'prod_id', 'rating', 'label', 'date', 'review'], dtype='object')"
      ]
     },
     "execution_count": 20,
     "metadata": {},
     "output_type": "execute_result"
    }
   ],
   "source": [
    "train.columns"
   ]
  },
  {
   "cell_type": "code",
   "execution_count": 37,
   "metadata": {},
   "outputs": [
    {
     "name": "stderr",
     "output_type": "stream",
     "text": [
      "/Users/chuamelia/anaconda/envs/py35/lib/python3.6/site-packages/ipykernel_launcher.py:1: FutureWarning: Passing a negative integer is deprecated in version 1.0 and will not be supported in future version. Instead, use None to not limit the column width.\n",
      "  \"\"\"Entry point for launching an IPython kernel.\n"
     ]
    },
    {
     "data": {
      "text/plain": [
       "130068    Holy mother of God! The Redhead just made me get all blasphemous and stuff.   Have you TRIED that pretzel or fried chicken or THE DELECTABLE COMPLIMENTARY SUGAR COOKIE THEY FEED YOU? Obviously not, or you would be there right now instead of reading this. So I am pretty jealous of YOU right now, because you're probably about to eat at The Redhead while I am most likely stuck in an office 1,547 miles away. Yeah, sucks to be me (not really). The seating is tight, but that didn't bother me. The servers were friendly and the chicken was juicy while remaining crunchy on the outside. This calorie countin' girl totally consumed like 34289034289042390234890234 calories at The Redhead, and ya know what? IT WAS WORTH IT.\n",
       "Name: review, dtype: object"
      ]
     },
     "execution_count": 37,
     "metadata": {},
     "output_type": "execute_result"
    }
   ],
   "source": [
    "pd.set_option('display.max_colwidth', -1)\n",
    "train[train['review'].str.contains('34289034289042390234890234')]['review']"
   ]
  },
  {
   "cell_type": "code",
   "execution_count": 11,
   "metadata": {},
   "outputs": [
    {
     "name": "stderr",
     "output_type": "stream",
     "text": [
      "/Users/chuamelia/anaconda/envs/py35/lib/python3.6/site-packages/ipykernel_launcher.py:1: FutureWarning: Passing a negative integer is deprecated in version 1.0 and will not be supported in future version. Instead, use None to not limit the column width.\n",
      "  \"\"\"Entry point for launching an IPython kernel.\n"
     ]
    },
    {
     "data": {
      "text/plain": [
       "192411    Terrible Restaurant. Im giving a 1-star only because there's no negative options. We ordered via delivery. 1. the price they post online is not the real price they will charge you. when we pay for  the delivery, the total cost is $8 more. 2. we paid extra for brown rice but got white rice. when we called them, they refused to take the responsibility and said it was the delivery guy's problem, with terrible attitude. 3. the serving is tiny for the amount they charge you. a sauteed vegetable dish cost $15. three dish cost us $74. I've never given one-star review on Yelp but this Han Dynasty made me have to tell all of you that----DO NOT DO BUSINESS WITH THESE PEOPLE. 极其糟糕的中餐馆。我真想骂你负分滚粗。非常贵，乱收费，分量少，态度差。能想到一切的差事儿都给他们家-­-汉朝--包揽了。3小盘菜74美金。\n",
       "Name: review, dtype: object"
      ]
     },
     "execution_count": 11,
     "metadata": {},
     "output_type": "execute_result"
    }
   ],
   "source": [
    "pd.set_option('display.max_colwidth', -1)\n",
    "train[train['review'].str.contains('极其糟糕的中餐馆')]['review']"
   ]
  },
  {
   "cell_type": "code",
   "execution_count": 24,
   "metadata": {
    "collapsed": true
   },
   "outputs": [],
   "source": [
    "from sklearn.feature_extraction.text import CountVectorizer\n",
    "from sklearn.feature_extraction.text import TfidfVectorizer\n",
    "\n",
    "cnt_vectorizer = CountVectorizer(stop_words='english', binary=True, min_df=5)\n",
    "tfidf_vectorizer = TfidfVectorizer(stop_words='english', binary=True, min_df=5)\n",
    "cnt_vectorizer.fit(train['review'])\n",
    "tfidf_vectorizer.fit(train['review'])\n",
    "\n",
    "cnt_X_train = cnt_vectorizer.transform(train['review'])\n",
    "tfidf_X_train = tfidf_vectorizer.transform(train['review'])\n",
    "\n",
    "cnt_X_dev = cnt_vectorizer.transform(validation['review'])\n",
    "tfidf_X_dev = tfidf_vectorizer.transform(validation['review'])"
   ]
  },
  {
   "cell_type": "code",
   "execution_count": 25,
   "metadata": {
    "collapsed": true
   },
   "outputs": [],
   "source": [
    "Y_train = train['label']"
   ]
  },
  {
   "cell_type": "markdown",
   "metadata": {},
   "source": [
    "#### Creating Lookups"
   ]
  },
  {
   "cell_type": "code",
   "execution_count": 3,
   "metadata": {
    "collapsed": true
   },
   "outputs": [],
   "source": [
    "base = '/Users/chuamelia/Google Drive/Spring 2020/Machine Learning/fake-review-detection-project/data/processed/dev/'\n",
    "\n",
    "num_reviews_by_user = train.groupby(train['user_id'])['ex_id'].count().to_frame().reset_index()\n",
    "num_reviews_by_user.columns = ['user_id', 'train_num_reviews']\n",
    "# num_reviews_by_user.to_csv(base + 'train_num_reviews_by_user_ac4119.csv', index=False, sep=',')"
   ]
  },
  {
   "cell_type": "code",
   "execution_count": 10,
   "metadata": {
    "collapsed": true
   },
   "outputs": [],
   "source": [
    "dev_num_reviews_by_user = validation.groupby(validation['user_id'])['ex_id'].count().to_frame().reset_index()\n",
    "dev_num_reviews_by_user.columns = ['user_id', 'dev_num_reviews']\n"
   ]
  },
  {
   "cell_type": "code",
   "execution_count": 6,
   "metadata": {
    "collapsed": true
   },
   "outputs": [],
   "source": [
    "test_num_reviews_by_user = test.groupby(test['user_id'])['ex_id'].count().to_frame().reset_index()\n",
    "test_num_reviews_by_user.columns = ['user_id', 'test_num_reviews']\n"
   ]
  },
  {
   "cell_type": "code",
   "execution_count": 12,
   "metadata": {},
   "outputs": [],
   "source": [
    "stg_user_lkp_1  = pd.merge(num_reviews_by_user, dev_num_reviews_by_user, on='user_id', how='outer')\n",
    "stg_user_lkp_2 =  pd.merge(stg_user_lkp_1, test_num_reviews_by_user, on='user_id', how='outer').fillna(0)"
   ]
  },
  {
   "cell_type": "code",
   "execution_count": 14,
   "metadata": {},
   "outputs": [],
   "source": [
    "stg_user_lkp_2['cumulative_total_train_dev_reviews'] = stg_user_lkp_2['train_num_reviews'] +\\\n",
    "stg_user_lkp_2['dev_num_reviews'] "
   ]
  },
  {
   "cell_type": "code",
   "execution_count": 16,
   "metadata": {},
   "outputs": [],
   "source": [
    "stg_user_lkp_2['cumulative_total_train_dev_test_reviews'] = stg_user_lkp_2['train_num_reviews'] +\\\n",
    "stg_user_lkp_2['dev_num_reviews'] + stg_user_lkp_2['test_num_reviews']"
   ]
  },
  {
   "cell_type": "code",
   "execution_count": 20,
   "metadata": {
    "collapsed": true
   },
   "outputs": [],
   "source": [
    "stg_user_lkp_2.to_csv(base + 'num_reviews_by_user.csv', index=False, sep=',')"
   ]
  },
  {
   "cell_type": "code",
   "execution_count": 21,
   "metadata": {
    "collapsed": true
   },
   "outputs": [],
   "source": [
    "num_reviews_by_prod = train.groupby(train['prod_id'])['ex_id'].count().to_frame().reset_index()\n",
    "num_reviews_by_prod.columns = ['prod_id', 'train_num_reviews']\n",
    "\n",
    "dev_num_reviews_by_prod = validation.groupby(validation['prod_id'])['ex_id'].count().to_frame().reset_index()\n",
    "dev_num_reviews_by_prod.columns = ['prod_id', 'dev_num_reviews']\n",
    "\n",
    "test_num_reviews_by_prod = test.groupby(test['prod_id'])['ex_id'].count().to_frame().reset_index()\n",
    "test_num_reviews_by_prod.columns = ['prod_id', 'test_num_reviews']\n",
    "\n",
    "stg_prod_lkp_1  = pd.merge(num_reviews_by_prod, dev_num_reviews_by_prod, on='prod_id', how='outer')\n",
    "stg_prod_lkp_2 =  pd.merge(stg_prod_lkp_1, test_num_reviews_by_prod, on='prod_id', how='outer').fillna(0)\n",
    "\n",
    "stg_prod_lkp_2['cumulative_total_train_dev_reviews'] = stg_prod_lkp_2['train_num_reviews'] +\\\n",
    "stg_prod_lkp_2['dev_num_reviews'] \n",
    "\n",
    "stg_prod_lkp_2['cumulative_total_train_dev_test_reviews'] = stg_prod_lkp_2['train_num_reviews'] +\\\n",
    "stg_prod_lkp_2['dev_num_reviews'] + stg_prod_lkp_2['test_num_reviews']\n",
    "\n",
    "stg_prod_lkp_2.to_csv(base + 'num_reviews_by_prod.csv', index=False, sep=',')"
   ]
  },
  {
   "cell_type": "code",
   "execution_count": 22,
   "metadata": {},
   "outputs": [
    {
     "data": {
      "text/html": [
       "<div>\n",
       "<style scoped>\n",
       "    .dataframe tbody tr th:only-of-type {\n",
       "        vertical-align: middle;\n",
       "    }\n",
       "\n",
       "    .dataframe tbody tr th {\n",
       "        vertical-align: top;\n",
       "    }\n",
       "\n",
       "    .dataframe thead th {\n",
       "        text-align: right;\n",
       "    }\n",
       "</style>\n",
       "<table border=\"1\" class=\"dataframe\">\n",
       "  <thead>\n",
       "    <tr style=\"text-align: right;\">\n",
       "      <th></th>\n",
       "      <th>prod_id</th>\n",
       "      <th>train_num_reviews</th>\n",
       "      <th>dev_num_reviews</th>\n",
       "      <th>test_num_reviews</th>\n",
       "      <th>cumulative_total_train_dev_reviews</th>\n",
       "      <th>cumulative_total_train_dev_test_reviews</th>\n",
       "    </tr>\n",
       "  </thead>\n",
       "  <tbody>\n",
       "    <tr>\n",
       "      <th>0</th>\n",
       "      <td>0</td>\n",
       "      <td>155</td>\n",
       "      <td>18</td>\n",
       "      <td>37.0</td>\n",
       "      <td>173</td>\n",
       "      <td>210.0</td>\n",
       "    </tr>\n",
       "    <tr>\n",
       "      <th>1</th>\n",
       "      <td>1</td>\n",
       "      <td>191</td>\n",
       "      <td>12</td>\n",
       "      <td>50.0</td>\n",
       "      <td>203</td>\n",
       "      <td>253.0</td>\n",
       "    </tr>\n",
       "    <tr>\n",
       "      <th>2</th>\n",
       "      <td>2</td>\n",
       "      <td>118</td>\n",
       "      <td>21</td>\n",
       "      <td>27.0</td>\n",
       "      <td>139</td>\n",
       "      <td>166.0</td>\n",
       "    </tr>\n",
       "    <tr>\n",
       "      <th>3</th>\n",
       "      <td>3</td>\n",
       "      <td>39</td>\n",
       "      <td>6</td>\n",
       "      <td>14.0</td>\n",
       "      <td>45</td>\n",
       "      <td>59.0</td>\n",
       "    </tr>\n",
       "    <tr>\n",
       "      <th>4</th>\n",
       "      <td>4</td>\n",
       "      <td>374</td>\n",
       "      <td>66</td>\n",
       "      <td>107.0</td>\n",
       "      <td>440</td>\n",
       "      <td>547.0</td>\n",
       "    </tr>\n",
       "    <tr>\n",
       "      <th>...</th>\n",
       "      <td>...</td>\n",
       "      <td>...</td>\n",
       "      <td>...</td>\n",
       "      <td>...</td>\n",
       "      <td>...</td>\n",
       "      <td>...</td>\n",
       "    </tr>\n",
       "    <tr>\n",
       "      <th>918</th>\n",
       "      <td>918</td>\n",
       "      <td>278</td>\n",
       "      <td>37</td>\n",
       "      <td>74.0</td>\n",
       "      <td>315</td>\n",
       "      <td>389.0</td>\n",
       "    </tr>\n",
       "    <tr>\n",
       "      <th>919</th>\n",
       "      <td>919</td>\n",
       "      <td>322</td>\n",
       "      <td>56</td>\n",
       "      <td>108.0</td>\n",
       "      <td>378</td>\n",
       "      <td>486.0</td>\n",
       "    </tr>\n",
       "    <tr>\n",
       "      <th>920</th>\n",
       "      <td>920</td>\n",
       "      <td>218</td>\n",
       "      <td>28</td>\n",
       "      <td>60.0</td>\n",
       "      <td>246</td>\n",
       "      <td>306.0</td>\n",
       "    </tr>\n",
       "    <tr>\n",
       "      <th>921</th>\n",
       "      <td>921</td>\n",
       "      <td>138</td>\n",
       "      <td>20</td>\n",
       "      <td>34.0</td>\n",
       "      <td>158</td>\n",
       "      <td>192.0</td>\n",
       "    </tr>\n",
       "    <tr>\n",
       "      <th>922</th>\n",
       "      <td>922</td>\n",
       "      <td>575</td>\n",
       "      <td>91</td>\n",
       "      <td>158.0</td>\n",
       "      <td>666</td>\n",
       "      <td>824.0</td>\n",
       "    </tr>\n",
       "  </tbody>\n",
       "</table>\n",
       "<p>923 rows × 6 columns</p>\n",
       "</div>"
      ],
      "text/plain": [
       "     prod_id  train_num_reviews  dev_num_reviews  test_num_reviews  \\\n",
       "0          0                155               18              37.0   \n",
       "1          1                191               12              50.0   \n",
       "2          2                118               21              27.0   \n",
       "3          3                 39                6              14.0   \n",
       "4          4                374               66             107.0   \n",
       "..       ...                ...              ...               ...   \n",
       "918      918                278               37              74.0   \n",
       "919      919                322               56             108.0   \n",
       "920      920                218               28              60.0   \n",
       "921      921                138               20              34.0   \n",
       "922      922                575               91             158.0   \n",
       "\n",
       "     cumulative_total_train_dev_reviews  \\\n",
       "0                                   173   \n",
       "1                                   203   \n",
       "2                                   139   \n",
       "3                                    45   \n",
       "4                                   440   \n",
       "..                                  ...   \n",
       "918                                 315   \n",
       "919                                 378   \n",
       "920                                 246   \n",
       "921                                 158   \n",
       "922                                 666   \n",
       "\n",
       "     cumulative_total_train_dev_test_reviews  \n",
       "0                                      210.0  \n",
       "1                                      253.0  \n",
       "2                                      166.0  \n",
       "3                                       59.0  \n",
       "4                                      547.0  \n",
       "..                                       ...  \n",
       "918                                    389.0  \n",
       "919                                    486.0  \n",
       "920                                    306.0  \n",
       "921                                    192.0  \n",
       "922                                    824.0  \n",
       "\n",
       "[923 rows x 6 columns]"
      ]
     },
     "execution_count": 22,
     "metadata": {},
     "output_type": "execute_result"
    }
   ],
   "source": [
    "stg_prod_lkp_2"
   ]
  },
  {
   "cell_type": "code",
   "execution_count": null,
   "metadata": {
    "collapsed": true
   },
   "outputs": [],
   "source": [
    "len(train['review'])"
   ]
  },
  {
   "cell_type": "code",
   "execution_count": null,
   "metadata": {
    "collapsed": true
   },
   "outputs": [],
   "source": []
  },
  {
   "cell_type": "code",
   "execution_count": null,
   "metadata": {
    "collapsed": true
   },
   "outputs": [],
   "source": [
    "len(tfidf_vectorizer.idf_)"
   ]
  },
  {
   "cell_type": "code",
   "execution_count": null,
   "metadata": {
    "collapsed": true
   },
   "outputs": [],
   "source": [
    "term_freq = dict(zip(tfidf_vectorizer.get_feature_names(), tfidf_vectorizer.idf_))"
   ]
  },
  {
   "cell_type": "code",
   "execution_count": 31,
   "metadata": {
    "collapsed": true
   },
   "outputs": [],
   "source": [
    "pd.DataFrame(tfidf_vectorizer.get_feature_names()).to_csv(base + 'ac4119_all_terms.csv', index=False, sep=',')"
   ]
  },
  {
   "cell_type": "code",
   "execution_count": 40,
   "metadata": {},
   "outputs": [
    {
     "name": "stdout",
     "output_type": "stream",
     "text": [
      "zweigelts 12.739562905538694\n",
      "zweite 12.739562905538694\n",
      "zweiten 12.739562905538694\n",
      "zwickl 12.739562905538694\n",
      "zwiec 12.739562905538694\n",
      "zwirner 12.739562905538694\n",
      "zwoa 12.739562905538694\n",
      "zx44 12.33409779743053\n",
      "zydeco 11.823272173664538\n",
      "zygote 12.739562905538694\n",
      "zyoga 12.739562905538694\n",
      "zyrtec 12.739562905538694\n",
      "zywec 12.739562905538694\n",
      "zyweic 12.33409779743053\n",
      "zywick 12.739562905538694\n",
      "zywiec 12.046415724978749\n",
      "zz 12.33409779743053\n",
      "zza 12.739562905538694\n",
      "zzzing 12.739562905538694\n",
      "zzzz 12.046415724978749\n",
      "zzzzz 12.739562905538694\n",
      "zzzzzz 11.823272173664538\n",
      "zzzzzzzz 12.739562905538694\n",
      "zzzzzzzzz 12.739562905538694\n",
      "zzzzzzzzzz 12.33409779743053\n",
      "ºf 11.823272173664538\n",
      "ànd 12.739562905538694\n",
      "álvaro 12.739562905538694\n",
      "är 12.739562905538694\n",
      "ça 11.823272173664538\n",
      "çatlayana 12.739562905538694\n",
      "çünkü 12.739562905538694\n",
      "éclair 12.739562905538694\n",
      "éclairs 12.739562905538694\n",
      "élan 12.739562905538694\n",
      "éloigné 12.739562905538694\n",
      "élysées 11.640950616870585\n",
      "élégante 12.739562905538694\n",
      "émilion 12.739562905538694\n",
      "énorme 12.739562905538694\n",
      "épinard 12.739562905538694\n",
      "établit 12.739562905538694\n",
      "était 11.486799937043326\n",
      "étant 12.739562905538694\n",
      "états 12.739562905538694\n",
      "étouffer 12.739562905538694\n",
      "étouffée 10.660121363858858\n",
      "été 11.823272173664538\n",
      "évidemment 12.739562905538694\n",
      "êtes 12.33409779743053\n",
      "êtra 12.739562905538694\n",
      "être 11.353268544418803\n",
      "ñoqui 12.739562905538694\n",
      "óptima 12.739562905538694\n",
      "ótima 12.739562905538694\n",
      "ótimo 12.739562905538694\n",
      "ôc 12.739562905538694\n",
      "ödeyeceğiniz 12.739562905538694\n",
      "öfter 12.739562905538694\n",
      "ölen 12.739562905538694\n",
      "önskemål 12.739562905538694\n",
      "österreichische 12.739562905538694\n",
      "österreichisches 12.739562905538694\n",
      "österreisch 12.739562905538694\n",
      "özellikle 12.739562905538694\n",
      "øl 12.739562905538694\n",
      "über 10.4882711069322\n",
      "überall 12.739562905538694\n",
      "überly 12.739562905538694\n",
      "überwiegend 12.739562905538694\n",
      "œuf 12.739562905538694\n",
      "œuvre 12.046415724978749\n",
      "œuvres 12.739562905538694\n",
      "şekilde 12.739562905538694\n",
      "štúr 12.739562905538694\n",
      "いつも長蛇の列が出来てますが 12.739562905538694\n",
      "いらっしゃいませ 12.739562905538694\n",
      "ごちそう様でした 12.739562905538694\n",
      "それ程待たされません 12.739562905538694\n",
      "ちく 12.739562905538694\n",
      "にパンのようなものが乗っています 12.739562905538694\n",
      "もちろんラーメンもあります 12.739562905538694\n",
      "サフランライスの上にレタスと肉が乗っておりその上 12.739562905538694\n",
      "ソースは自分でかけます 12.739562905538694\n",
      "チリソースはかなり 12.739562905538694\n",
      "ホワイトソースが凄く美味しいです 12.739562905538694\n",
      "メニューは日本食全般揃っており 12.739562905538694\n",
      "メンマ 12.739562905538694\n",
      "ラブです 12.739562905538694\n",
      "ラーメン屋というよりパブかク 12.739562905538694\n",
      "レビューを書き始める 12.739562905538694\n",
      "一瞬で料理が出て来ます 12.739562905538694\n",
      "三杯鸡 12.739562905538694\n",
      "三色饺面 12.739562905538694\n",
      "上海抄粗面 12.739562905538694\n",
      "上海粗炒面 12.739562905538694\n",
      "不过生意太好了 12.739562905538694\n",
      "乱收费 12.739562905538694\n",
      "乾扁四季豆 12.739562905538694\n",
      "五花肉 12.739562905538694\n",
      "分量少 12.739562905538694\n",
      "包揽了 12.739562905538694\n",
      "叉燒 12.739562905538694\n",
      "叉燒粥 12.739562905538694\n",
      "口水鸡 12.739562905538694\n",
      "唔該 12.739562905538694\n",
      "回锅肉 12.739562905538694\n",
      "夜の店内の雰囲気は音楽がガンガン流れており 12.739562905538694\n",
      "奶油可以更快把魚烤熟 12.739562905538694\n",
      "小林說香菇汁很補 12.739562905538694\n",
      "小籠包 12.046415724978749\n",
      "山口组 12.739562905538694\n",
      "山藥 12.739562905538694\n",
      "川北凉粉 12.739562905538694\n",
      "席が空くまでお酒が飲めます 12.739562905538694\n",
      "店内は手前がbarスペースとなっており 12.739562905538694\n",
      "店面很小得仔细找找 12.739562905538694\n",
      "强烈推荐来这里 12.739562905538694\n",
      "很喜欢吧台的设计 12.739562905538694\n",
      "很有感觉 12.739562905538694\n",
      "态度差 12.739562905538694\n",
      "我反正吃到了我以前电视里或者梦想中的brunch 12.739562905538694\n",
      "我发现周围的人都特别勤快 12.739562905538694\n",
      "我真想骂你负分滚粗 12.739562905538694\n",
      "抄手 12.739562905538694\n",
      "担担面 12.33409779743053\n",
      "推荐5服务很贴心 12.739562905538694\n",
      "推荐他家的店名同 12.739562905538694\n",
      "擔擔麵 12.739562905538694\n",
      "支那 12.33409779743053\n",
      "日本からの女性なら2人で一つでも良いかもしれません 12.739562905538694\n",
      "日本肉夹馍 12.739562905538694\n",
      "替え玉 12.739562905538694\n",
      "最好早点去 12.739562905538694\n",
      "有的吃又有的學哈哈 12.739562905538694\n",
      "极其糟糕的中餐馆 12.739562905538694\n",
      "款的brunch和一个可颂 12.739562905538694\n",
      "水和纸巾都是自己拿 12.739562905538694\n",
      "水煮牛 12.739562905538694\n",
      "水煮魚 12.739562905538694\n",
      "汉朝 12.739562905538694\n",
      "油条 12.739562905538694\n",
      "油雞 12.739562905538694\n",
      "炒鸡好吃的店 12.739562905538694\n",
      "炒鸡赞 12.739562905538694\n",
      "炸両 12.739562905538694\n",
      "炸兩 12.739562905538694\n",
      "烤麩 12.739562905538694\n",
      "牛脷酥 12.739562905538694\n",
      "猪肉小笼包 12.739562905538694\n",
      "琉球 12.739562905538694\n",
      "白丸元味 12.739562905538694\n",
      "皮蛋瘦肉粥 12.739562905538694\n",
      "等了超过一个小时菜还没上 12.739562905538694\n",
      "糯米 12.739562905538694\n",
      "红油水饺 12.739562905538694\n",
      "羊肉が大丈夫な人はmixもオススメ 12.739562905538694\n",
      "肝心のラーメンの味は日本とほぼ同じで美味しいです 12.739562905538694\n",
      "能想到一切的差事儿都给他们家 12.739562905538694\n",
      "腌笃鲜 12.739562905538694\n",
      "葱油饼 12.739562905538694\n",
      "蝦米腸粉 12.739562905538694\n",
      "蟹粉小笼包 12.739562905538694\n",
      "要是老板可以改名字就更好了 12.739562905538694\n",
      "超正 12.739562905538694\n",
      "辛いので注意 12.739562905538694\n",
      "这么俗的店名差点就让我错过了这里的美食 12.739562905538694\n",
      "里面是芝士加牛肉的也特别好吃 12.739562905538694\n",
      "量は特盛クラス 12.739562905538694\n",
      "非常糟糕的服务 12.739562905538694\n",
      "非常贵 12.739562905538694\n",
      "順番がきたらチキンオーバーライスと告げ 12.739562905538694\n",
      "鱼香肉丝 12.739562905538694\n",
      "麻婆豆腐 12.739562905538694\n",
      "黑木耳 12.739562905538694\n"
     ]
    }
   ],
   "source": [
    "for x in tfidf_vectorizer.get_feature_names()[-175:]:\n",
    "    print(x, term_freq[x])"
   ]
  },
  {
   "cell_type": "code",
   "execution_count": null,
   "metadata": {
    "collapsed": true
   },
   "outputs": [],
   "source": []
  },
  {
   "cell_type": "code",
   "execution_count": 20,
   "metadata": {},
   "outputs": [
    {
     "data": {
      "text/plain": [
       "1.8479105708926928"
      ]
     },
     "execution_count": 20,
     "metadata": {},
     "output_type": "execute_result"
    }
   ],
   "source": [
    "term_freq['good']"
   ]
  }
 ],
 "metadata": {
  "kernelspec": {
   "display_name": "Python 3",
   "language": "python",
   "name": "python3"
  },
  "language_info": {
   "codemirror_mode": {
    "name": "ipython",
    "version": 3
   },
   "file_extension": ".py",
   "mimetype": "text/x-python",
   "name": "python",
   "nbconvert_exporter": "python",
   "pygments_lexer": "ipython3",
   "version": "3.6.10"
  }
 },
 "nbformat": 4,
 "nbformat_minor": 2
}
