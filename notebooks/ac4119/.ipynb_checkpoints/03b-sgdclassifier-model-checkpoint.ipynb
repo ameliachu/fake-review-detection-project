{
 "cells": [
  {
   "cell_type": "code",
   "execution_count": 1,
   "metadata": {},
   "outputs": [
    {
     "name": "stderr",
     "output_type": "stream",
     "text": [
      "/Users/chuamelia/anaconda/envs/py35/lib/python3.6/site-packages/statsmodels/tools/_testing.py:19: FutureWarning: pandas.util.testing is deprecated. Use the functions in the public API at pandas.testing instead.\n",
      "  import pandas.util.testing as tm\n"
     ]
    }
   ],
   "source": [
    "from ttictoc import Timer\n",
    "import pickle\n",
    "import json\n",
    "from ast import literal_eval\n",
    "\n",
    "import pandas as pd\n",
    "\n",
    "from sklearn.feature_extraction.text import TfidfVectorizer\n",
    "\n",
    "from sklearn.svm import SVC, LinearSVC\n",
    "from sklearn.model_selection import train_test_split, KFold, cross_val_score\n",
    "from sklearn.metrics import accuracy_score, roc_auc_score, average_precision_score\n",
    "\n",
    "import matplotlib.pyplot as plt\n",
    "import seaborn as sns"
   ]
  },
  {
   "cell_type": "code",
   "execution_count": 2,
   "metadata": {
    "collapsed": true
   },
   "outputs": [],
   "source": [
    "base = '/Users/chuamelia/Google Drive/Spring 2020/Machine Learning/fake-review-detection-project/data/processed/dev/'\n",
    "\n",
    "def load_obj(fname,  base=base):\n",
    "    # This loads the pickled object.\n",
    "    with open(base + fname + '.pkl', 'rb') as f:\n",
    "        return pickle.load(f)\n",
    "\n",
    "\n",
    "def writeJsonFile(fname, data,  base=base):\n",
    "    with open(base + fname +'.json', 'w') as outfile:\n",
    "        json.dump(data, outfile)\n",
    "    print('Successfully written to {}'.format(fname))\n",
    "    \n",
    "def readJsonFile(fname, base=base):\n",
    "    with open(base + fname + '.json', 'r') as f:\n",
    "        data = json.load(f)\n",
    "    return data"
   ]
  },
  {
   "cell_type": "code",
   "execution_count": 3,
   "metadata": {
    "collapsed": true
   },
   "outputs": [],
   "source": [
    "def ClassifierMetrics (X_train, Y_train, X_test, Y_test, fitted_model):\n",
    "    Y_pred = fitted_model.predict(X_test)\n",
    "    Y_score = fitted_model.decision_function(X_test)\n",
    "    metrics = {'train_accuracy': fitted_model.score(X_train, Y_train),\n",
    "               'test_accuracy': fitted_model.score(X_test, Y_test),\n",
    "               'test_auc_pred': roc_auc_score(Y_test, Y_pred),\n",
    "               'test_auc_score': roc_auc_score(Y_test, Y_score),\n",
    "               'test_ap_pred': average_precision_score(Y_test, Y_pred),\n",
    "               'test_ap_score': average_precision_score(Y_test, Y_score)}\n",
    "    return metrics"
   ]
  },
  {
   "cell_type": "code",
   "execution_count": 4,
   "metadata": {
    "collapsed": true
   },
   "outputs": [],
   "source": [
    "def fitted_lsvm(params, X_train, Y_train):\n",
    "    svm = LinearSVC(**params)\n",
    "    fitted_svm = svm.fit(X_train, Y_train)\n",
    "    return fitted_svm\n",
    "\n",
    "\n",
    "def fitted_lsvm_sgd(params, X_train, Y_train):\n",
    "    svm = SGDClassifier(**params)\n",
    "    fitted_svm = svm.fit(X_train, Y_train)\n",
    "    return fitted_svm"
   ]
  },
  {
   "cell_type": "code",
   "execution_count": 5,
   "metadata": {},
   "outputs": [],
   "source": [
    "def identity_tokenizer(tokens):\n",
    "    return tokens\n",
    "\n",
    "def tfidf_lsvm_metrics(params, dev_name, train_num):\n",
    "    i = train_num\n",
    "    train_fname = '../../data/processed/dev/ac4119_train_set_{0}_w_tokens.csv'.format(i)\n",
    "    dev_fname = '../../data/processed/dev/{0}.csv'.format(dev_name)\n",
    "\n",
    "    train = pd.read_csv(train_fname)\n",
    "    dev = pd.read_csv(dev_fname)\n",
    "\n",
    "    Y_train = train['label']\n",
    "    Y_dev = dev['label']\n",
    "\n",
    "    tfidf_vectorizer_fname = 'ac4119_X_train_set_{0}_tfidf_vectorizer'.format(i)\n",
    "    tfidf_vectorizer = load_obj(tfidf_vectorizer_fname)\n",
    "\n",
    "    train['token_review'] = train['token_review'].apply(lambda x: literal_eval(x))\n",
    "    dev['token_review'] = dev['token_review'].apply(lambda x: literal_eval(x))\n",
    "\n",
    "    X_train = tfidf_vectorizer.transform(train['token_review'])\n",
    "    X_dev = tfidf_vectorizer.transform(dev['token_review'])\n",
    "\n",
    "    fitted_model = fitted_lsvm(params, X_train ,Y_train )\n",
    "    metrics = ClassifierMetrics(X_train, Y_train, X_dev, Y_dev, fitted_model)\n",
    "    return metrics "
   ]
  },
  {
   "cell_type": "code",
   "execution_count": 10,
   "metadata": {
    "collapsed": true
   },
   "outputs": [],
   "source": [
    "all_attempts = []"
   ]
  },
  {
   "cell_type": "code",
   "execution_count": null,
   "metadata": {
    "collapsed": true
   },
   "outputs": [],
   "source": [
    "cs = [0.01, 0.001]\n",
    "losses = ['hinge', 'squared_hinge']\n",
    "penalty = ['l2', 'l1']\n",
    "lsvm_params_combos = [(c,l,p) for c in cs for l in losses for p in penalty]\n",
    "\n",
    "for train_num in range(8):\n",
    "    other_train_sets = ['ac4119_train_set_{0}_w_tokens'.format(i) for i in range(8) if i != train_num]\n",
    "    dev_sets = ['ac4119_dev_w_tokens'] + other_train_sets\n",
    "    \n",
    "    for dev_name in dev_sets: \n",
    "\n",
    "        params = {'random_state': 519, \n",
    "                  'C': c, \n",
    "                  'loss': loss, \n",
    "                  'penalty': penalty, \n",
    "                  'class_weight':'balanced'}\n",
    "        t = Timer()\n",
    "        t.start()\n",
    "\n",
    "        metrics = tfidf_lsvm_metrics(params, dev_name, train_num)\n",
    "        elapsed = t.stop()\n",
    "\n",
    "        print('Elapsed time:',elapsed)\n",
    "\n",
    "        model_attempt_details = {'elapsed_time': elapsed,\n",
    "                                 'train_set':train_num,\n",
    "                                 'dev_set': dev_name,\n",
    "                                 'vectorizer':'tfidf',\n",
    "                                 'model': 'LinearSVC', \n",
    "                                 'params': params, 'metrics': metrics}\n",
    "\n",
    "        all_attempts.append(model_attempt_details)"
   ]
  },
  {
   "cell_type": "code",
   "execution_count": 15,
   "metadata": {},
   "outputs": [
    {
     "name": "stdout",
     "output_type": "stream",
     "text": [
      "Successfully written to all_attempts_ac4119\n"
     ]
    }
   ],
   "source": [
    "# File name of the model attempts/results\n",
    "fname = 'all_attempts_ac4119_20200516'\n",
    "writeJsonFile(fname, all_attempts)"
   ]
  }
 ],
 "metadata": {
  "kernelspec": {
   "display_name": "Python 3",
   "language": "python",
   "name": "python3"
  },
  "language_info": {
   "codemirror_mode": {
    "name": "ipython",
    "version": 3
   },
   "file_extension": ".py",
   "mimetype": "text/x-python",
   "name": "python",
   "nbconvert_exporter": "python",
   "pygments_lexer": "ipython3",
   "version": "3.6.10"
  }
 },
 "nbformat": 4,
 "nbformat_minor": 2
}
