{
 "cells": [
  {
   "cell_type": "code",
   "execution_count": 5,
   "metadata": {
    "collapsed": true
   },
   "outputs": [],
   "source": [
    "from nltk.corpus import stopwords\n",
    "from nltk.tokenize import word_tokenize\n",
    "import string"
   ]
  },
  {
   "cell_type": "code",
   "execution_count": 6,
   "metadata": {
    "collapsed": true
   },
   "outputs": [],
   "source": [
    "stop_words = set(stopwords.words('english')) \n",
    "\n",
    "def rm_stop_words(tokens):\n",
    "    filtered = [w for w in tokens if not w.lower() in stop_words] \n",
    "    return filtered\n",
    "\n",
    "def rm_puctuation(tokens):\n",
    "    init_filter = [w for w in tokens if w not in string.punctuation]\n",
    "    table = str.maketrans('', '', string.punctuation)\n",
    "    stripped = [w.translate(table) for w in init_filter]\n",
    "    clean = [w for w in stripped if w not in ['',' ']]\n",
    "    return clean\n",
    "\n",
    "def filter_tokens(tokens):\n",
    "    filtered = rm_stop_words(tokens)\n",
    "    new_tokens = rm_puctuation(filtered)\n",
    "    return new_tokens"
   ]
  },
  {
   "cell_type": "code",
   "execution_count": null,
   "metadata": {
    "collapsed": true
   },
   "outputs": [],
   "source": [
    "Terrible Restaurant. Im giving a 1-star only because there's no negative options. We ordered via delivery. 1. the price they post online is not the real price they will charge you. when we pay for  the delivery, the total cost is $8 more. 2. we paid extra for brown rice but got white rice. when we called them, they refused to take the responsibility and said it was the delivery guy's problem, with terrible attitude. 3. the serving is tiny for the amount they charge you. a sauteed vegetable dish cost $15. three dish cost us $74. I've never given one-star review on Yelp but this Han Dynasty made me have to tell all of you that----DO NOT DO BUSINESS WITH THESE PEOPLE. 极其糟糕的中餐馆。我真想骂你负分滚粗。非常贵，乱收费，分量少，态度差。能想到一切的差事儿都给他们家-­-汉朝--包揽了。3小盘菜74美金。"
   ]
  },
  {
   "cell_type": "code",
   "execution_count": 11,
   "metadata": {},
   "outputs": [
    {
     "name": "stdout",
     "output_type": "stream",
     "text": [
      "Typing this place into Yelp's search bar, I accidenlly typed \"Brooklyn Crap\" and thought to myself, how appropos.     It's a shame really. Brooklyn Crap has an amazing location and is really, really fun. Mini golf and other games and time wasters on the first floor really do make for a good experience. The problem is the food stinks, it's way overpriced and the wait staff seem like total novices.  The wait times are not only atrocious, but inaccurate.     It's such a shame - this place could've been one of the greats. Instead, it's one of the worst.\n"
     ]
    }
   ],
   "source": [
    "sample_text = \"\"\"Typing this place into Yelp's search bar, I accidenlly typed \"Brooklyn Crap\" and thought to myself, how appropos.     It's a shame really. Brooklyn Crap has an amazing location and is really, really fun. Mini golf and other games and time wasters on the first floor really do make for a good experience. The problem is the food stinks, it's way overpriced and the wait staff seem like total novices.  The wait times are not only atrocious, but inaccurate.     It's such a shame - this place could've been one of the greats. Instead, it's one of the worst.\"\"\"\n",
    "print(sample_text)"
   ]
  },
  {
   "cell_type": "code",
   "execution_count": 10,
   "metadata": {},
   "outputs": [
    {
     "name": "stdout",
     "output_type": "stream",
     "text": [
      "['Typing', 'place', 'Yelp', 's', 'search', 'bar', 'accidenlly', 'typed', 'Brooklyn', 'Crap', 'thought', 'appropos', 's', 'shame', 'really', 'Brooklyn', 'Crap', 'amazing', 'location', 'really', 'really', 'fun', 'Mini', 'golf', 'games', 'time', 'wasters', 'first', 'floor', 'really', 'make', 'good', 'experience', 'problem', 'food', 'stinks', 's', 'way', 'overpriced', 'wait', 'staff', 'seem', 'like', 'total', 'novices', 'wait', 'times', 'atrocious', 'inaccurate', 's', 'shame', 'place', 'could', 've', 'one', 'greats', 'Instead', 's', 'one', 'worst']\n"
     ]
    }
   ],
   "source": [
    "print(filter_tokens(word_tokenize(sample_text)))"
   ]
  },
  {
   "cell_type": "code",
   "execution_count": 9,
   "metadata": {},
   "outputs": [
    {
     "name": "stdout",
     "output_type": "stream",
     "text": [
      "apropos\n",
      "{'apropos'}\n",
      "accidently\n",
      "{'accidently'}\n"
     ]
    }
   ],
   "source": [
    "from spellchecker import SpellChecker\n",
    "\n",
    "spell = SpellChecker()\n",
    "\n",
    "# find those words that may be misspelled\n",
    "misspelled = spell.unknown(filter_tokens(word_tokenize(sample_text)))\n",
    "\n",
    "for word in misspelled:\n",
    "    # Get the one `most likely` answer\n",
    "    print(spell.correction(word))\n",
    "\n",
    "    # Get a list of `likely` options\n",
    "    print(spell.candidates(word))"
   ]
  },
  {
   "cell_type": "code",
   "execution_count": 4,
   "metadata": {},
   "outputs": [
    {
     "data": {
      "text/plain": [
       "'Typing this place into Help\\'s search bar, I accidently typed \"Brooklyn Trap\" and thought to myself, how apropos.     It\\'s a shame really. Brooklyn Trap has an amazing location and is really, really fun. Mini golf and other games and time wasters on the first floor really do make for a good experience. The problem is the food stinks, it\\'s way overpriced and the wait staff seem like total novices.  The wait times are not only atrocious, but inaccurate.     It\\'s such a shame - this place could\\'ve been one of the greats. Instead, it\\'s one of the worst.'"
      ]
     },
     "execution_count": 4,
     "metadata": {},
     "output_type": "execute_result"
    }
   ],
   "source": [
    "from autocorrect import Speller\n",
    "spell = Speller()\n",
    "spell(sample_text)"
   ]
  },
  {
   "cell_type": "code",
   "execution_count": null,
   "metadata": {
    "collapsed": true
   },
   "outputs": [],
   "source": [
    "https://stackoverflow.com/questions/48671270/use-sklearn-tfidfvectorizer-with-already-tokenized-inputs"
   ]
  }
 ],
 "metadata": {
  "kernelspec": {
   "display_name": "Python 3",
   "language": "python",
   "name": "python3"
  },
  "language_info": {
   "codemirror_mode": {
    "name": "ipython",
    "version": 3
   },
   "file_extension": ".py",
   "mimetype": "text/x-python",
   "name": "python",
   "nbconvert_exporter": "python",
   "pygments_lexer": "ipython3",
   "version": "3.6.10"
  }
 },
 "nbformat": 4,
 "nbformat_minor": 2
}
