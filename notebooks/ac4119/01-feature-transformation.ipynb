{
 "cells": [
  {
   "cell_type": "code",
   "execution_count": 18,
   "metadata": {
    "collapsed": true
   },
   "outputs": [],
   "source": [
    "import pandas as pd\n",
    "import pickle"
   ]
  },
  {
   "cell_type": "code",
   "execution_count": 19,
   "metadata": {
    "collapsed": true
   },
   "outputs": [],
   "source": [
    "train_path = '../../data/raw/train.csv'\n",
    "val_path = '../../data/raw/dev.csv'\n",
    "\n",
    "train = pd.read_csv(train_path)\n",
    "validation = pd.read_csv(val_path)"
   ]
  },
  {
   "cell_type": "code",
   "execution_count": 20,
   "metadata": {},
   "outputs": [
    {
     "data": {
      "text/plain": [
       "Index(['ex_id', 'user_id', 'prod_id', 'rating', 'label', 'date', 'review'], dtype='object')"
      ]
     },
     "execution_count": 20,
     "metadata": {},
     "output_type": "execute_result"
    }
   ],
   "source": [
    "train.columns"
   ]
  },
  {
   "cell_type": "code",
   "execution_count": 22,
   "metadata": {},
   "outputs": [
    {
     "data": {
      "text/plain": [
       "'0.21.3'"
      ]
     },
     "execution_count": 22,
     "metadata": {},
     "output_type": "execute_result"
    }
   ],
   "source": [
    "sklearn.__version__"
   ]
  },
  {
   "cell_type": "code",
   "execution_count": 24,
   "metadata": {},
   "outputs": [],
   "source": [
    "from sklearn.feature_extraction.text import CountVectorizer\n",
    "from sklearn.feature_extraction.text import TfidfVectorizer\n",
    "\n",
    "cnt_vectorizer = CountVectorizer(stop_words='english', binary=True)\n",
    "tfidf_vectorizer = TfidfVectorizer(stop_words='english', binary=True)\n",
    "cnt_vectorizer.fit(train['review'])\n",
    "tfidf_vectorizer.fit(train['review'])\n",
    "\n",
    "cnt_X_train = cnt_vectorizer.transform(train['review'])\n",
    "tfidf_X_train = tfidf_vectorizer.transform(train['review'])\n",
    "\n",
    "cnt_X_dev = cnt_vectorizer.transform(validation['review'])\n",
    "tfidf_X_dev = tfidf_vectorizer.transform(validation['review'])"
   ]
  },
  {
   "cell_type": "code",
   "execution_count": 25,
   "metadata": {
    "collapsed": true
   },
   "outputs": [],
   "source": [
    "Y_train = train['label']"
   ]
  },
  {
   "cell_type": "code",
   "execution_count": 26,
   "metadata": {},
   "outputs": [],
   "source": [
    "base = '/Users/chuamelia/Google Drive/Spring 2020/Machine Learning/fake-review-detection-project/data/processed/dev/'\n",
    "\n",
    "num_reviews_by_user = train.groupby(train['user_id'])['ex_id'].count().to_frame().reset_index()\n",
    "num_reviews_by_user.columns = ['user_id', 'num_reviews']\n",
    "num_reviews_by_user.to_csv(base + 'num_reviews_by_user_ac4119.csv', index=False, sep=',')"
   ]
  },
  {
   "cell_type": "code",
   "execution_count": 27,
   "metadata": {},
   "outputs": [
    {
     "data": {
      "text/html": [
       "<div>\n",
       "<style scoped>\n",
       "    .dataframe tbody tr th:only-of-type {\n",
       "        vertical-align: middle;\n",
       "    }\n",
       "\n",
       "    .dataframe tbody tr th {\n",
       "        vertical-align: top;\n",
       "    }\n",
       "\n",
       "    .dataframe thead th {\n",
       "        text-align: right;\n",
       "    }\n",
       "</style>\n",
       "<table border=\"1\" class=\"dataframe\">\n",
       "  <thead>\n",
       "    <tr style=\"text-align: right;\">\n",
       "      <th></th>\n",
       "      <th>user_id</th>\n",
       "      <th>num_reviews</th>\n",
       "    </tr>\n",
       "  </thead>\n",
       "  <tbody>\n",
       "    <tr>\n",
       "      <th>0</th>\n",
       "      <td>923</td>\n",
       "      <td>26</td>\n",
       "    </tr>\n",
       "    <tr>\n",
       "      <th>1</th>\n",
       "      <td>924</td>\n",
       "      <td>1</td>\n",
       "    </tr>\n",
       "    <tr>\n",
       "      <th>2</th>\n",
       "      <td>925</td>\n",
       "      <td>2</td>\n",
       "    </tr>\n",
       "    <tr>\n",
       "      <th>3</th>\n",
       "      <td>926</td>\n",
       "      <td>1</td>\n",
       "    </tr>\n",
       "    <tr>\n",
       "      <th>4</th>\n",
       "      <td>927</td>\n",
       "      <td>3</td>\n",
       "    </tr>\n",
       "    <tr>\n",
       "      <th>...</th>\n",
       "      <td>...</td>\n",
       "      <td>...</td>\n",
       "    </tr>\n",
       "    <tr>\n",
       "      <th>125674</th>\n",
       "      <td>161142</td>\n",
       "      <td>1</td>\n",
       "    </tr>\n",
       "    <tr>\n",
       "      <th>125675</th>\n",
       "      <td>161143</td>\n",
       "      <td>1</td>\n",
       "    </tr>\n",
       "    <tr>\n",
       "      <th>125676</th>\n",
       "      <td>161144</td>\n",
       "      <td>1</td>\n",
       "    </tr>\n",
       "    <tr>\n",
       "      <th>125677</th>\n",
       "      <td>161145</td>\n",
       "      <td>1</td>\n",
       "    </tr>\n",
       "    <tr>\n",
       "      <th>125678</th>\n",
       "      <td>161147</td>\n",
       "      <td>1</td>\n",
       "    </tr>\n",
       "  </tbody>\n",
       "</table>\n",
       "<p>125679 rows × 2 columns</p>\n",
       "</div>"
      ],
      "text/plain": [
       "        user_id  num_reviews\n",
       "0           923           26\n",
       "1           924            1\n",
       "2           925            2\n",
       "3           926            1\n",
       "4           927            3\n",
       "...         ...          ...\n",
       "125674   161142            1\n",
       "125675   161143            1\n",
       "125676   161144            1\n",
       "125677   161145            1\n",
       "125678   161147            1\n",
       "\n",
       "[125679 rows x 2 columns]"
      ]
     },
     "execution_count": 27,
     "metadata": {},
     "output_type": "execute_result"
    }
   ],
   "source": [
    "num_reviews_by_user"
   ]
  },
  {
   "cell_type": "code",
   "execution_count": 28,
   "metadata": {},
   "outputs": [
    {
     "ename": "TypeError",
     "evalue": "'Series' objects are mutable, thus they cannot be hashed",
     "output_type": "error",
     "traceback": [
      "\u001b[0;31m---------------------------------------------------------------------------\u001b[0m",
      "\u001b[0;31mTypeError\u001b[0m                                 Traceback (most recent call last)",
      "\u001b[0;32m<ipython-input-28-bd103cec5f54>\u001b[0m in \u001b[0;36m<module>\u001b[0;34m()\u001b[0m\n\u001b[0;32m----> 1\u001b[0;31m \u001b[0mtrain\u001b[0m\u001b[0;34m[\u001b[0m\u001b[0mtrain\u001b[0m\u001b[0;34m[\u001b[0m\u001b[0;34m'label'\u001b[0m\u001b[0;34m]\u001b[0m \u001b[0;34m==\u001b[0m \u001b[0;36m1\u001b[0m\u001b[0;34m]\u001b[0m\u001b[0;34m.\u001b[0m\u001b[0mgroupby\u001b[0m\u001b[0;34m(\u001b[0m\u001b[0mtrain\u001b[0m\u001b[0;34m[\u001b[0m\u001b[0;34m'user_id'\u001b[0m\u001b[0;34m]\u001b[0m\u001b[0;34m,\u001b[0m \u001b[0mtrain\u001b[0m\u001b[0;34m[\u001b[0m\u001b[0;34m'label'\u001b[0m\u001b[0;34m]\u001b[0m\u001b[0;34m)\u001b[0m\u001b[0;34m[\u001b[0m\u001b[0;34m'ex_id'\u001b[0m\u001b[0;34m]\u001b[0m\u001b[0;34m.\u001b[0m\u001b[0mcount\u001b[0m\u001b[0;34m(\u001b[0m\u001b[0;34m)\u001b[0m\u001b[0;34m\u001b[0m\u001b[0;34m\u001b[0m\u001b[0m\n\u001b[0m",
      "\u001b[0;32m~/anaconda/envs/py35/lib/python3.6/site-packages/pandas/core/frame.py\u001b[0m in \u001b[0;36mgroupby\u001b[0;34m(self, by, axis, level, as_index, sort, group_keys, squeeze, observed)\u001b[0m\n\u001b[1;32m   5797\u001b[0m         \u001b[0;32mif\u001b[0m \u001b[0mlevel\u001b[0m \u001b[0;32mis\u001b[0m \u001b[0;32mNone\u001b[0m \u001b[0;32mand\u001b[0m \u001b[0mby\u001b[0m \u001b[0;32mis\u001b[0m \u001b[0;32mNone\u001b[0m\u001b[0;34m:\u001b[0m\u001b[0;34m\u001b[0m\u001b[0;34m\u001b[0m\u001b[0m\n\u001b[1;32m   5798\u001b[0m             \u001b[0;32mraise\u001b[0m \u001b[0mTypeError\u001b[0m\u001b[0;34m(\u001b[0m\u001b[0;34m\"You have to supply one of 'by' and 'level'\"\u001b[0m\u001b[0;34m)\u001b[0m\u001b[0;34m\u001b[0m\u001b[0;34m\u001b[0m\u001b[0m\n\u001b[0;32m-> 5799\u001b[0;31m         \u001b[0maxis\u001b[0m \u001b[0;34m=\u001b[0m \u001b[0mself\u001b[0m\u001b[0;34m.\u001b[0m\u001b[0m_get_axis_number\u001b[0m\u001b[0;34m(\u001b[0m\u001b[0maxis\u001b[0m\u001b[0;34m)\u001b[0m\u001b[0;34m\u001b[0m\u001b[0;34m\u001b[0m\u001b[0m\n\u001b[0m\u001b[1;32m   5800\u001b[0m \u001b[0;34m\u001b[0m\u001b[0m\n\u001b[1;32m   5801\u001b[0m         return groupby_generic.DataFrameGroupBy(\n",
      "\u001b[0;32m~/anaconda/envs/py35/lib/python3.6/site-packages/pandas/core/generic.py\u001b[0m in \u001b[0;36m_get_axis_number\u001b[0;34m(cls, axis)\u001b[0m\n\u001b[1;32m    396\u001b[0m     \u001b[0;34m@\u001b[0m\u001b[0mclassmethod\u001b[0m\u001b[0;34m\u001b[0m\u001b[0;34m\u001b[0m\u001b[0m\n\u001b[1;32m    397\u001b[0m     \u001b[0;32mdef\u001b[0m \u001b[0m_get_axis_number\u001b[0m\u001b[0;34m(\u001b[0m\u001b[0mcls\u001b[0m\u001b[0;34m,\u001b[0m \u001b[0maxis\u001b[0m\u001b[0;34m)\u001b[0m\u001b[0;34m:\u001b[0m\u001b[0;34m\u001b[0m\u001b[0;34m\u001b[0m\u001b[0m\n\u001b[0;32m--> 398\u001b[0;31m         \u001b[0maxis\u001b[0m \u001b[0;34m=\u001b[0m \u001b[0mcls\u001b[0m\u001b[0;34m.\u001b[0m\u001b[0m_AXIS_ALIASES\u001b[0m\u001b[0;34m.\u001b[0m\u001b[0mget\u001b[0m\u001b[0;34m(\u001b[0m\u001b[0maxis\u001b[0m\u001b[0;34m,\u001b[0m \u001b[0maxis\u001b[0m\u001b[0;34m)\u001b[0m\u001b[0;34m\u001b[0m\u001b[0;34m\u001b[0m\u001b[0m\n\u001b[0m\u001b[1;32m    399\u001b[0m         \u001b[0;32mif\u001b[0m \u001b[0mis_integer\u001b[0m\u001b[0;34m(\u001b[0m\u001b[0maxis\u001b[0m\u001b[0;34m)\u001b[0m\u001b[0;34m:\u001b[0m\u001b[0;34m\u001b[0m\u001b[0;34m\u001b[0m\u001b[0m\n\u001b[1;32m    400\u001b[0m             \u001b[0;32mif\u001b[0m \u001b[0maxis\u001b[0m \u001b[0;32min\u001b[0m \u001b[0mcls\u001b[0m\u001b[0;34m.\u001b[0m\u001b[0m_AXIS_NAMES\u001b[0m\u001b[0;34m:\u001b[0m\u001b[0;34m\u001b[0m\u001b[0;34m\u001b[0m\u001b[0m\n",
      "\u001b[0;32m~/anaconda/envs/py35/lib/python3.6/site-packages/pandas/core/generic.py\u001b[0m in \u001b[0;36m__hash__\u001b[0;34m(self)\u001b[0m\n\u001b[1;32m   1797\u001b[0m     \u001b[0;32mdef\u001b[0m \u001b[0m__hash__\u001b[0m\u001b[0;34m(\u001b[0m\u001b[0mself\u001b[0m\u001b[0;34m)\u001b[0m\u001b[0;34m:\u001b[0m\u001b[0;34m\u001b[0m\u001b[0;34m\u001b[0m\u001b[0m\n\u001b[1;32m   1798\u001b[0m         raise TypeError(\n\u001b[0;32m-> 1799\u001b[0;31m             \u001b[0;34mf\"{repr(type(self).__name__)} objects are mutable, \"\u001b[0m\u001b[0;34m\u001b[0m\u001b[0;34m\u001b[0m\u001b[0m\n\u001b[0m\u001b[1;32m   1800\u001b[0m             \u001b[0;34mf\"thus they cannot be hashed\"\u001b[0m\u001b[0;34m\u001b[0m\u001b[0;34m\u001b[0m\u001b[0m\n\u001b[1;32m   1801\u001b[0m         )\n",
      "\u001b[0;31mTypeError\u001b[0m: 'Series' objects are mutable, thus they cannot be hashed"
     ]
    }
   ],
   "source": [
    "train[train['label'] == 1].groupby(train['user_id'], train['label'])['ex_id'].count()"
   ]
  },
  {
   "cell_type": "code",
   "execution_count": null,
   "metadata": {},
   "outputs": [],
   "source": [
    "len(train['review'])"
   ]
  },
  {
   "cell_type": "code",
   "execution_count": null,
   "metadata": {},
   "outputs": [],
   "source": [
    "len(tfidf_vectorizer.idf_)"
   ]
  },
  {
   "cell_type": "code",
   "execution_count": null,
   "metadata": {},
   "outputs": [],
   "source": [
    "term_freq = dict(zip(tfidf_vectorizer.get_feature_names(), tfidf_vectorizer.idf_))"
   ]
  },
  {
   "cell_type": "code",
   "execution_count": null,
   "metadata": {},
   "outputs": [],
   "source": [
    "tfidf_vectorizer.get_feature_names()"
   ]
  },
  {
   "cell_type": "code",
   "execution_count": 40,
   "metadata": {},
   "outputs": [
    {
     "name": "stdout",
     "output_type": "stream",
     "text": [
      "zweigelts 12.739562905538694\n",
      "zweite 12.739562905538694\n",
      "zweiten 12.739562905538694\n",
      "zwickl 12.739562905538694\n",
      "zwiec 12.739562905538694\n",
      "zwirner 12.739562905538694\n",
      "zwoa 12.739562905538694\n",
      "zx44 12.33409779743053\n",
      "zydeco 11.823272173664538\n",
      "zygote 12.739562905538694\n",
      "zyoga 12.739562905538694\n",
      "zyrtec 12.739562905538694\n",
      "zywec 12.739562905538694\n",
      "zyweic 12.33409779743053\n",
      "zywick 12.739562905538694\n",
      "zywiec 12.046415724978749\n",
      "zz 12.33409779743053\n",
      "zza 12.739562905538694\n",
      "zzzing 12.739562905538694\n",
      "zzzz 12.046415724978749\n",
      "zzzzz 12.739562905538694\n",
      "zzzzzz 11.823272173664538\n",
      "zzzzzzzz 12.739562905538694\n",
      "zzzzzzzzz 12.739562905538694\n",
      "zzzzzzzzzz 12.33409779743053\n",
      "ºf 11.823272173664538\n",
      "ànd 12.739562905538694\n",
      "álvaro 12.739562905538694\n",
      "är 12.739562905538694\n",
      "ça 11.823272173664538\n",
      "çatlayana 12.739562905538694\n",
      "çünkü 12.739562905538694\n",
      "éclair 12.739562905538694\n",
      "éclairs 12.739562905538694\n",
      "élan 12.739562905538694\n",
      "éloigné 12.739562905538694\n",
      "élysées 11.640950616870585\n",
      "élégante 12.739562905538694\n",
      "émilion 12.739562905538694\n",
      "énorme 12.739562905538694\n",
      "épinard 12.739562905538694\n",
      "établit 12.739562905538694\n",
      "était 11.486799937043326\n",
      "étant 12.739562905538694\n",
      "états 12.739562905538694\n",
      "étouffer 12.739562905538694\n",
      "étouffée 10.660121363858858\n",
      "été 11.823272173664538\n",
      "évidemment 12.739562905538694\n",
      "êtes 12.33409779743053\n",
      "êtra 12.739562905538694\n",
      "être 11.353268544418803\n",
      "ñoqui 12.739562905538694\n",
      "óptima 12.739562905538694\n",
      "ótima 12.739562905538694\n",
      "ótimo 12.739562905538694\n",
      "ôc 12.739562905538694\n",
      "ödeyeceğiniz 12.739562905538694\n",
      "öfter 12.739562905538694\n",
      "ölen 12.739562905538694\n",
      "önskemål 12.739562905538694\n",
      "österreichische 12.739562905538694\n",
      "österreichisches 12.739562905538694\n",
      "österreisch 12.739562905538694\n",
      "özellikle 12.739562905538694\n",
      "øl 12.739562905538694\n",
      "über 10.4882711069322\n",
      "überall 12.739562905538694\n",
      "überly 12.739562905538694\n",
      "überwiegend 12.739562905538694\n",
      "œuf 12.739562905538694\n",
      "œuvre 12.046415724978749\n",
      "œuvres 12.739562905538694\n",
      "şekilde 12.739562905538694\n",
      "štúr 12.739562905538694\n",
      "いつも長蛇の列が出来てますが 12.739562905538694\n",
      "いらっしゃいませ 12.739562905538694\n",
      "ごちそう様でした 12.739562905538694\n",
      "それ程待たされません 12.739562905538694\n",
      "ちく 12.739562905538694\n",
      "にパンのようなものが乗っています 12.739562905538694\n",
      "もちろんラーメンもあります 12.739562905538694\n",
      "サフランライスの上にレタスと肉が乗っておりその上 12.739562905538694\n",
      "ソースは自分でかけます 12.739562905538694\n",
      "チリソースはかなり 12.739562905538694\n",
      "ホワイトソースが凄く美味しいです 12.739562905538694\n",
      "メニューは日本食全般揃っており 12.739562905538694\n",
      "メンマ 12.739562905538694\n",
      "ラブです 12.739562905538694\n",
      "ラーメン屋というよりパブかク 12.739562905538694\n",
      "レビューを書き始める 12.739562905538694\n",
      "一瞬で料理が出て来ます 12.739562905538694\n",
      "三杯鸡 12.739562905538694\n",
      "三色饺面 12.739562905538694\n",
      "上海抄粗面 12.739562905538694\n",
      "上海粗炒面 12.739562905538694\n",
      "不过生意太好了 12.739562905538694\n",
      "乱收费 12.739562905538694\n",
      "乾扁四季豆 12.739562905538694\n",
      "五花肉 12.739562905538694\n",
      "分量少 12.739562905538694\n",
      "包揽了 12.739562905538694\n",
      "叉燒 12.739562905538694\n",
      "叉燒粥 12.739562905538694\n",
      "口水鸡 12.739562905538694\n",
      "唔該 12.739562905538694\n",
      "回锅肉 12.739562905538694\n",
      "夜の店内の雰囲気は音楽がガンガン流れており 12.739562905538694\n",
      "奶油可以更快把魚烤熟 12.739562905538694\n",
      "小林說香菇汁很補 12.739562905538694\n",
      "小籠包 12.046415724978749\n",
      "山口组 12.739562905538694\n",
      "山藥 12.739562905538694\n",
      "川北凉粉 12.739562905538694\n",
      "席が空くまでお酒が飲めます 12.739562905538694\n",
      "店内は手前がbarスペースとなっており 12.739562905538694\n",
      "店面很小得仔细找找 12.739562905538694\n",
      "强烈推荐来这里 12.739562905538694\n",
      "很喜欢吧台的设计 12.739562905538694\n",
      "很有感觉 12.739562905538694\n",
      "态度差 12.739562905538694\n",
      "我反正吃到了我以前电视里或者梦想中的brunch 12.739562905538694\n",
      "我发现周围的人都特别勤快 12.739562905538694\n",
      "我真想骂你负分滚粗 12.739562905538694\n",
      "抄手 12.739562905538694\n",
      "担担面 12.33409779743053\n",
      "推荐5服务很贴心 12.739562905538694\n",
      "推荐他家的店名同 12.739562905538694\n",
      "擔擔麵 12.739562905538694\n",
      "支那 12.33409779743053\n",
      "日本からの女性なら2人で一つでも良いかもしれません 12.739562905538694\n",
      "日本肉夹馍 12.739562905538694\n",
      "替え玉 12.739562905538694\n",
      "最好早点去 12.739562905538694\n",
      "有的吃又有的學哈哈 12.739562905538694\n",
      "极其糟糕的中餐馆 12.739562905538694\n",
      "款的brunch和一个可颂 12.739562905538694\n",
      "水和纸巾都是自己拿 12.739562905538694\n",
      "水煮牛 12.739562905538694\n",
      "水煮魚 12.739562905538694\n",
      "汉朝 12.739562905538694\n",
      "油条 12.739562905538694\n",
      "油雞 12.739562905538694\n",
      "炒鸡好吃的店 12.739562905538694\n",
      "炒鸡赞 12.739562905538694\n",
      "炸両 12.739562905538694\n",
      "炸兩 12.739562905538694\n",
      "烤麩 12.739562905538694\n",
      "牛脷酥 12.739562905538694\n",
      "猪肉小笼包 12.739562905538694\n",
      "琉球 12.739562905538694\n",
      "白丸元味 12.739562905538694\n",
      "皮蛋瘦肉粥 12.739562905538694\n",
      "等了超过一个小时菜还没上 12.739562905538694\n",
      "糯米 12.739562905538694\n",
      "红油水饺 12.739562905538694\n",
      "羊肉が大丈夫な人はmixもオススメ 12.739562905538694\n",
      "肝心のラーメンの味は日本とほぼ同じで美味しいです 12.739562905538694\n",
      "能想到一切的差事儿都给他们家 12.739562905538694\n",
      "腌笃鲜 12.739562905538694\n",
      "葱油饼 12.739562905538694\n",
      "蝦米腸粉 12.739562905538694\n",
      "蟹粉小笼包 12.739562905538694\n",
      "要是老板可以改名字就更好了 12.739562905538694\n",
      "超正 12.739562905538694\n",
      "辛いので注意 12.739562905538694\n",
      "这么俗的店名差点就让我错过了这里的美食 12.739562905538694\n",
      "里面是芝士加牛肉的也特别好吃 12.739562905538694\n",
      "量は特盛クラス 12.739562905538694\n",
      "非常糟糕的服务 12.739562905538694\n",
      "非常贵 12.739562905538694\n",
      "順番がきたらチキンオーバーライスと告げ 12.739562905538694\n",
      "鱼香肉丝 12.739562905538694\n",
      "麻婆豆腐 12.739562905538694\n",
      "黑木耳 12.739562905538694\n"
     ]
    }
   ],
   "source": [
    "for x in tfidf_vectorizer.get_feature_names()[-175:]:\n",
    "    print(x, term_freq[x])"
   ]
  },
  {
   "cell_type": "code",
   "execution_count": 20,
   "metadata": {},
   "outputs": [
    {
     "data": {
      "text/plain": [
       "1.8479105708926928"
      ]
     },
     "execution_count": 20,
     "metadata": {},
     "output_type": "execute_result"
    }
   ],
   "source": [
    "term_freq['good']"
   ]
  }
 ],
 "metadata": {
  "kernelspec": {
   "display_name": "Python 3",
   "language": "python",
   "name": "python3"
  },
  "language_info": {
   "codemirror_mode": {
    "name": "ipython",
    "version": 3
   },
   "file_extension": ".py",
   "mimetype": "text/x-python",
   "name": "python",
   "nbconvert_exporter": "python",
   "pygments_lexer": "ipython3",
   "version": "3.6.10"
  }
 },
 "nbformat": 4,
 "nbformat_minor": 2
}
