{
 "cells": [
  {
   "cell_type": "markdown",
   "metadata": {},
   "source": [
    "## Setup"
   ]
  },
  {
   "cell_type": "code",
   "execution_count": 317,
   "metadata": {},
   "outputs": [
    {
     "name": "stderr",
     "output_type": "stream",
     "text": [
      "[nltk_data] Downloading package stopwords to\n",
      "[nltk_data]     /Users/gabriellahurtado/nltk_data...\n",
      "[nltk_data]   Package stopwords is already up-to-date!\n"
     ]
    }
   ],
   "source": [
    "import pandas as pd\n",
    "import numpy as np\n",
    "import nltk\n",
    "import string\n",
    "import matplotlib.pyplot as plot\n",
    "from wordcloud import WordCloud as WC\n",
    "from wordcloud import STOPWORDS\n",
    "from collections import Counter\n",
    "from nltk.corpus import stopwords\n",
    "from nltk.corpus import stopwords\n",
    "from nltk.tokenize import word_tokenize\n",
    "nltk.download('stopwords')\n",
    "from sklearn.feature_extraction.text import CountVectorizer\n",
    "from sklearn.feature_extraction.text import TfidfVectorizer\n",
    "from sklearn.linear_model import LogisticRegression\n",
    "from sklearn.metrics import accuracy_score, roc_auc_score, average_precision_score, roc_curve\n"
   ]
  },
  {
   "cell_type": "markdown",
   "metadata": {},
   "source": [
    "### Loading Data"
   ]
  },
  {
   "cell_type": "code",
   "execution_count": 318,
   "metadata": {},
   "outputs": [],
   "source": [
    "fake=pd.read_csv('fake_tokens.csv')\n",
    "fake=fake.rename(columns={'Unnamed: 0':'index'})\n",
    "real=pd.read_csv('real_tokens.csv')\n",
    "real=real.rename(columns={'Unnamed: 0':'index'})\n",
    "full_df=real.append(fake,sort=False)\n",
    "full_df['filtered_tokens']=full_df['filtered_tokens'].apply(lambda x: x.replace(' ',\"\"))"
   ]
  },
  {
   "cell_type": "code",
   "execution_count": 342,
   "metadata": {},
   "outputs": [],
   "source": [
    "valid=pd.read_csv('dev.csv')\n",
    "val_x=valid.drop(['label'],axis=1)\n",
    "val_y=valid['label']"
   ]
  },
  {
   "cell_type": "code",
   "execution_count": 321,
   "metadata": {},
   "outputs": [],
   "source": [
    "x=full_df.drop(['label'],axis=1)\n",
    "y=full_df['label']"
   ]
  },
  {
   "cell_type": "markdown",
   "metadata": {},
   "source": [
    "## Featurizing\n",
    "\n",
    "### Bag of words model"
   ]
  },
  {
   "cell_type": "code",
   "execution_count": 359,
   "metadata": {},
   "outputs": [],
   "source": [
    "bow_vectorizer = CountVectorizer(stop_words='english', binary=True)\n",
    "bow_vectorizer.fit(full_df['review'])\n",
    "bow_x_train = bow_vectorizer.transform(x['review'])"
   ]
  },
  {
   "cell_type": "markdown",
   "metadata": {},
   "source": [
    "### Bag of Bi-grams model"
   ]
  },
  {
   "cell_type": "code",
   "execution_count": 373,
   "metadata": {},
   "outputs": [],
   "source": [
    "bv2 = CountVectorizer(stop_words='english', binary=True, ngram_range=(2,2))\n",
    "bv2.fit(full_df['review'])\n",
    "bv2_x_train = bv2.transform(x['review'])"
   ]
  },
  {
   "cell_type": "markdown",
   "metadata": {},
   "source": [
    "### TF-IDF model"
   ]
  },
  {
   "cell_type": "code",
   "execution_count": 388,
   "metadata": {},
   "outputs": [],
   "source": [
    "tv = TfidfVectorizer()\n",
    "tv.fit(full_df['review'])\n",
    "tv_x_train = tv.transform(x['review'])"
   ]
  },
  {
   "cell_type": "markdown",
   "metadata": {},
   "source": [
    "## Balancing "
   ]
  },
  {
   "cell_type": "code",
   "execution_count": 208,
   "metadata": {},
   "outputs": [
    {
     "name": "stdout",
     "output_type": "stream",
     "text": [
      "number of real reviews: 225055\n",
      "number of fake reviews: 25819\n"
     ]
    }
   ],
   "source": [
    "print('number of real reviews:',(len(real)))\n",
    "print('number of fake reviews:',(len(fake)))"
   ]
  },
  {
   "cell_type": "code",
   "execution_count": 320,
   "metadata": {},
   "outputs": [],
   "source": [
    "import imblearn\n",
    "from imblearn.over_sampling import SMOTE\n",
    "from imblearn.under_sampling import RandomUnderSampler"
   ]
  },
  {
   "cell_type": "markdown",
   "metadata": {},
   "source": [
    "### Undersampling"
   ]
  },
  {
   "cell_type": "code",
   "execution_count": 361,
   "metadata": {},
   "outputs": [],
   "source": [
    "#BOW\n",
    "rus=RandomUnderSampler()\n",
    "under_x, under_y = rus.fit_sample(bow_x_train, y)"
   ]
  },
  {
   "cell_type": "code",
   "execution_count": 375,
   "metadata": {},
   "outputs": [],
   "source": [
    "#Bi-grams\n",
    "under_x_bv2, under_y_bv2=rus.fit_sample(bv2_x_train, y)"
   ]
  },
  {
   "cell_type": "code",
   "execution_count": 389,
   "metadata": {},
   "outputs": [],
   "source": [
    "#TF-IDF\n",
    "under_x_tv, under_y_tv=rus.fit_sample(tv_x_train, y)"
   ]
  },
  {
   "cell_type": "markdown",
   "metadata": {},
   "source": [
    "### SMOTE"
   ]
  },
  {
   "cell_type": "code",
   "execution_count": 363,
   "metadata": {},
   "outputs": [],
   "source": [
    "#BOW\n",
    "sm=SMOTE()\n",
    "over_x, over_y = sm.fit_sample(bow_x_train, y)"
   ]
  },
  {
   "cell_type": "code",
   "execution_count": 376,
   "metadata": {},
   "outputs": [],
   "source": [
    "#Bi-grams\n",
    "over_x_bv2, over_y_bv2 = sm.fit_sample(bv2_x_train, y)"
   ]
  },
  {
   "cell_type": "code",
   "execution_count": 390,
   "metadata": {},
   "outputs": [],
   "source": [
    "#TF-IDF\n",
    "over_x_tv, over_y_tv = sm.fit_sample(tv_x_train, y)"
   ]
  },
  {
   "cell_type": "markdown",
   "metadata": {},
   "source": [
    "## Evaluation"
   ]
  },
  {
   "cell_type": "code",
   "execution_count": 347,
   "metadata": {},
   "outputs": [],
   "source": [
    "#taken from Amelia!\n",
    "def ClassifierMetrics (X_train, Y_train, X_test, Y_test, fitted_model):\n",
    "    Y_pred = fitted_model.predict(X_test)\n",
    "    fpr, tpr, thresholds = roc_curve(Y_test, Y_pred)\n",
    "    metrics = {'train_accuracy': fitted_model.score(X_train, Y_train),\n",
    "    'test_accuracy': fitted_model.score(X_test, Y_test),\n",
    "    'test_tpr': tpr,\n",
    "    'test_fpr': fpr,\n",
    "    'test_auc': roc_auc_score(Y_test, Y_pred),\n",
    "    'test_ap': average_precision_score(Y_test, Y_pred)}\n",
    "    return metrics"
   ]
  },
  {
   "cell_type": "markdown",
   "metadata": {},
   "source": [
    "### Bag of Words Evaluation"
   ]
  },
  {
   "cell_type": "code",
   "execution_count": 365,
   "metadata": {},
   "outputs": [],
   "source": [
    "bow_x_val=bow_vectorizer.transform(valid['review'])"
   ]
  },
  {
   "cell_type": "markdown",
   "metadata": {},
   "source": [
    "#### BOW unbalanced"
   ]
  },
  {
   "cell_type": "code",
   "execution_count": 400,
   "metadata": {},
   "outputs": [
    {
     "data": {
      "text/plain": [
       "{'train_accuracy': 0.9092691948946483,\n",
       " 'test_accuracy': 0.8923659446517067,\n",
       " 'test_tpr': array([0.       , 0.0348136, 1.       ]),\n",
       " 'test_fpr': array([0.        , 0.01069104, 1.        ]),\n",
       " 'test_auc': 0.512061276088812,\n",
       " 'test_ap': 0.10739606117677855}"
      ]
     },
     "execution_count": 400,
     "metadata": {},
     "output_type": "execute_result"
    }
   ],
   "source": [
    "#unbalanced\n",
    "lr=LogisticRegression()\n",
    "bow_lr_train = lr.fit(bow_x_train,y)\n",
    "eval_bow_lr=ClassifierMetrics(bow_x_train, y, bow_x_val, val_y, bow_lr_train)\n",
    "\n",
    "eval_bow_lr"
   ]
  },
  {
   "cell_type": "markdown",
   "metadata": {},
   "source": [
    "#### BOW undersampled"
   ]
  },
  {
   "cell_type": "code",
   "execution_count": 369,
   "metadata": {},
   "outputs": [
    {
     "data": {
      "text/plain": [
       "{'train_accuracy': 0.8340756807002595,\n",
       " 'test_accuracy': 0.5961913246840025,\n",
       " 'test_tpr': array([0.        , 0.69490132, 1.        ]),\n",
       " 'test_fpr': array([0.        , 0.41496746, 1.        ]),\n",
       " 'test_auc': 0.6399669268752141,\n",
       " 'test_ap': 0.14159724719651312}"
      ]
     },
     "execution_count": 369,
     "metadata": {},
     "output_type": "execute_result"
    }
   ],
   "source": [
    "#undersampled\n",
    "bow_lr_under=lr.fit(under_x,under_y)\n",
    "eval_bow_lr_under=ClassifierMetrics(under_x, under_y, bow_x_val, val_y, bow_lr_under)\n",
    "\n",
    "eval_bow_lr_under"
   ]
  },
  {
   "cell_type": "markdown",
   "metadata": {},
   "source": [
    "#### BOW oversampled"
   ]
  },
  {
   "cell_type": "code",
   "execution_count": 371,
   "metadata": {},
   "outputs": [
    {
     "data": {
      "text/plain": [
       "{'train_accuracy': 0.8563617782319878,\n",
       " 'test_accuracy': 0.7220613619912022,\n",
       " 'test_tpr': array([0.        , 0.49890351, 1.        ]),\n",
       " 'test_fpr': array([0.       , 0.2527115, 1.       ]),\n",
       " 'test_auc': 0.623096006012863,\n",
       " 'test_ap': 0.1419217109399919}"
      ]
     },
     "execution_count": 371,
     "metadata": {},
     "output_type": "execute_result"
    }
   ],
   "source": [
    "#oversampled\n",
    "bow_lr_over=lr.fit(over_x,over_y)\n",
    "eval_bow_lr_over=ClassifierMetrics(over_x, over_y, bow_x_val, val_y, bow_lr_over)\n",
    "\n",
    "eval_bow_lr_over"
   ]
  },
  {
   "cell_type": "markdown",
   "metadata": {},
   "source": [
    "### Bag of Bi-grams Evaluation"
   ]
  },
  {
   "cell_type": "code",
   "execution_count": 379,
   "metadata": {},
   "outputs": [],
   "source": [
    "bv2_x_val=bv2.transform(valid['review'])"
   ]
  },
  {
   "cell_type": "markdown",
   "metadata": {},
   "source": [
    "#### Bi-gram unbalanced"
   ]
  },
  {
   "cell_type": "code",
   "execution_count": 382,
   "metadata": {},
   "outputs": [
    {
     "data": {
      "text/plain": [
       "{'train_accuracy': 0.9862520627884914,\n",
       " 'test_accuracy': 0.894955175677933,\n",
       " 'test_tpr': array([0.        , 0.02796053, 1.        ]),\n",
       " 'test_fpr': array([0.       , 0.0070344, 1.       ]),\n",
       " 'test_auc': 0.5104630645213901,\n",
       " 'test_ap': 0.10739348634448456}"
      ]
     },
     "execution_count": 382,
     "metadata": {},
     "output_type": "execute_result"
    }
   ],
   "source": [
    "#unbalanced\n",
    "bv2_lr_train = lr.fit(bv2_x_train,y)\n",
    "eval_bv2_lr=ClassifierMetrics(bv2_x_train, y, bv2_x_val, val_y, bv2_lr_train)\n",
    "\n",
    "eval_bv2_lr"
   ]
  },
  {
   "cell_type": "markdown",
   "metadata": {},
   "source": [
    "#### Bi-gram undersampled"
   ]
  },
  {
   "cell_type": "code",
   "execution_count": 392,
   "metadata": {},
   "outputs": [
    {
     "data": {
      "text/plain": [
       "{'train_accuracy': 0.9916727991014369,\n",
       " 'test_accuracy': 0.570271173227908,\n",
       " 'test_tpr': array([0.        , 0.70038377, 1.        ]),\n",
       " 'test_fpr': array([0.        , 0.44443756, 1.        ]),\n",
       " 'test_auc': 0.6279731069131613,\n",
       " 'test_ap': 0.13633564692448208}"
      ]
     },
     "execution_count": 392,
     "metadata": {},
     "output_type": "execute_result"
    }
   ],
   "source": [
    "#undersampled\n",
    "bv2_lr_under=lr.fit(under_x_bv2,under_y_bv2)\n",
    "eval_bv2_lr_under=ClassifierMetrics(under_x_bv2, under_y_bv2, \n",
    "                                    bv2_x_val, val_y, bv2_lr_under)\n",
    "\n",
    "eval_bv2_lr_under"
   ]
  },
  {
   "cell_type": "markdown",
   "metadata": {},
   "source": [
    "#### Bi-gram oversampled"
   ]
  },
  {
   "cell_type": "code",
   "execution_count": 387,
   "metadata": {},
   "outputs": [
    {
     "data": {
      "text/plain": [
       "{'train_accuracy': 0.9871675812579147,\n",
       " 'test_accuracy': 0.7892421627039368,\n",
       " 'test_tpr': array([0.        , 0.32648026, 1.        ]),\n",
       " 'test_fpr': array([0.        , 0.15844438, 1.        ]),\n",
       " 'test_auc': 0.5840179437884299,\n",
       " 'test_ap': 0.13008696701999206}"
      ]
     },
     "execution_count": 387,
     "metadata": {},
     "output_type": "execute_result"
    }
   ],
   "source": [
    "#oversampled\n",
    "bv2_lr_over=lr.fit(over_x_bv2,over_y_bv2)\n",
    "eval_bv2_lr_over=ClassifierMetrics(over_x_bv2, over_y_bv2, bv2_x_val, val_y, bv2_lr_over)\n",
    "\n",
    "eval_bv2_lr_over"
   ]
  },
  {
   "cell_type": "markdown",
   "metadata": {},
   "source": [
    "### TF-IDF Evaluation"
   ]
  },
  {
   "cell_type": "code",
   "execution_count": 393,
   "metadata": {},
   "outputs": [],
   "source": [
    "tv_x_val=tv.transform(valid['review'])"
   ]
  },
  {
   "cell_type": "markdown",
   "metadata": {},
   "source": [
    "#### TF-IDF unbalanced"
   ]
  },
  {
   "cell_type": "code",
   "execution_count": 394,
   "metadata": {},
   "outputs": [
    {
     "data": {
      "text/plain": [
       "{'train_accuracy': 0.8979328268373765,\n",
       " 'test_accuracy': 0.8974608831226683,\n",
       " 'test_tpr': array([0.        , 0.01069079, 1.        ]),\n",
       " 'test_fpr': array([0.        , 0.00229315, 1.        ]),\n",
       " 'test_auc': 0.504198818969876,\n",
       " 'test_ap': 0.10416861003364984}"
      ]
     },
     "execution_count": 394,
     "metadata": {},
     "output_type": "execute_result"
    }
   ],
   "source": [
    "#unbalanced\n",
    "tv_lr_train = lr.fit(tv_x_train,y)\n",
    "eval_tv_lr=ClassifierMetrics(tv_x_train, y, tv_x_val, val_y, tv_lr_train)\n",
    "eval_tv_lr"
   ]
  },
  {
   "cell_type": "markdown",
   "metadata": {},
   "source": [
    "#### TF-IDF undersampled"
   ]
  },
  {
   "cell_type": "code",
   "execution_count": 395,
   "metadata": {},
   "outputs": [
    {
     "data": {
      "text/plain": [
       "{'train_accuracy': 0.7384290638676944,\n",
       " 'test_accuracy': 0.6579152514059803,\n",
       " 'test_tpr': array([0.        , 0.66694079, 1.        ]),\n",
       " 'test_fpr': array([0.        , 0.34310505, 1.        ]),\n",
       " 'test_auc': 0.6619178691713012,\n",
       " 'test_ap': 0.15398010054387182}"
      ]
     },
     "execution_count": 395,
     "metadata": {},
     "output_type": "execute_result"
    }
   ],
   "source": [
    "#undersampled\n",
    "tv_lr_under=lr.fit(under_x_tv,under_y_tv)\n",
    "eval_tv_lr_under=ClassifierMetrics(under_x_tv, under_y_tv, \n",
    "                                    tv_x_val, val_y, tv_lr_under)\n",
    "\n",
    "eval_tv_lr_under"
   ]
  },
  {
   "cell_type": "markdown",
   "metadata": {},
   "source": [
    "#### TF-IDF oversampled"
   ]
  },
  {
   "cell_type": "code",
   "execution_count": 396,
   "metadata": {},
   "outputs": [
    {
     "data": {
      "text/plain": [
       "{'train_accuracy': 0.8223012152584924,\n",
       " 'test_accuracy': 0.7639345175121109,\n",
       " 'test_tpr': array([0.        , 0.44161184, 1.        ]),\n",
       " 'test_fpr': array([0.        , 0.19962814, 1.        ]),\n",
       " 'test_auc': 0.6209918522580856,\n",
       " 'test_ap': 0.14505681552449534}"
      ]
     },
     "execution_count": 396,
     "metadata": {},
     "output_type": "execute_result"
    }
   ],
   "source": [
    "#oversampled\n",
    "tv_lr_over=lr.fit(over_x_tv,over_y_tv)\n",
    "eval_tv_lr_over=ClassifierMetrics(over_x_tv, over_y_tv, tv_x_val, val_y, tv_lr_over)\n",
    "\n",
    "eval_tv_lr_over"
   ]
  },
  {
   "cell_type": "code",
   "execution_count": 402,
   "metadata": {},
   "outputs": [
    {
     "data": {
      "text/html": [
       "<div>\n",
       "<style scoped>\n",
       "    .dataframe tbody tr th:only-of-type {\n",
       "        vertical-align: middle;\n",
       "    }\n",
       "\n",
       "    .dataframe tbody tr th {\n",
       "        vertical-align: top;\n",
       "    }\n",
       "\n",
       "    .dataframe thead th {\n",
       "        text-align: right;\n",
       "    }\n",
       "</style>\n",
       "<table border=\"1\" class=\"dataframe\">\n",
       "  <thead>\n",
       "    <tr style=\"text-align: right;\">\n",
       "      <th></th>\n",
       "      <th>Model</th>\n",
       "      <th>Test Accuracy</th>\n",
       "      <th>Test TPR</th>\n",
       "      <th>Test FPR</th>\n",
       "      <th>Test AUC</th>\n",
       "      <th>Test AP</th>\n",
       "    </tr>\n",
       "  </thead>\n",
       "  <tbody>\n",
       "    <tr>\n",
       "      <th>0</th>\n",
       "      <td>Bag of Words (Unbalanced)</td>\n",
       "      <td>0.892366</td>\n",
       "      <td>[0.0, 0.03481359649122807, 1.0]</td>\n",
       "      <td>[0.0, 0.010691044313603966, 1.0]</td>\n",
       "      <td>0.512061</td>\n",
       "      <td>0.107396</td>\n",
       "    </tr>\n",
       "    <tr>\n",
       "      <th>1</th>\n",
       "      <td>Bag of Words (Undersampled)</td>\n",
       "      <td>0.596191</td>\n",
       "      <td>[0.0, 0.6949013157894737, 1.0]</td>\n",
       "      <td>[0.0, 0.41496746203904555, 1.0]</td>\n",
       "      <td>0.639967</td>\n",
       "      <td>0.141597</td>\n",
       "    </tr>\n",
       "    <tr>\n",
       "      <th>2</th>\n",
       "      <td>Bag of Words (Oversampled)</td>\n",
       "      <td>0.722061</td>\n",
       "      <td>[0.0, 0.49890350877192985, 1.0]</td>\n",
       "      <td>[0.0, 0.2527114967462039, 1.0]</td>\n",
       "      <td>0.623096</td>\n",
       "      <td>0.141922</td>\n",
       "    </tr>\n",
       "    <tr>\n",
       "      <th>3</th>\n",
       "      <td>Bi-grams (Unbalanced)</td>\n",
       "      <td>0.894955</td>\n",
       "      <td>[0.0, 0.027960526315789474, 1.0]</td>\n",
       "      <td>[0.0, 0.0070343972730089865, 1.0]</td>\n",
       "      <td>0.510463</td>\n",
       "      <td>0.107393</td>\n",
       "    </tr>\n",
       "    <tr>\n",
       "      <th>4</th>\n",
       "      <td>Bi-grams (Undersampled)</td>\n",
       "      <td>0.570271</td>\n",
       "      <td>[0.0, 0.7003837719298246, 1.0]</td>\n",
       "      <td>[0.0, 0.4444375581035017, 1.0]</td>\n",
       "      <td>0.627973</td>\n",
       "      <td>0.136336</td>\n",
       "    </tr>\n",
       "    <tr>\n",
       "      <th>5</th>\n",
       "      <td>Bi-grams (Oversampled)</td>\n",
       "      <td>0.789242</td>\n",
       "      <td>[0.0, 0.32648026315789475, 1.0]</td>\n",
       "      <td>[0.0, 0.15844437558103502, 1.0]</td>\n",
       "      <td>0.584018</td>\n",
       "      <td>0.130087</td>\n",
       "    </tr>\n",
       "    <tr>\n",
       "      <th>6</th>\n",
       "      <td>TF-IDF (Unbalanced)</td>\n",
       "      <td>0.897461</td>\n",
       "      <td>[0.0, 0.01069078947368421, 1.0]</td>\n",
       "      <td>[0.0, 0.002293151533932445, 1.0]</td>\n",
       "      <td>0.504199</td>\n",
       "      <td>0.104169</td>\n",
       "    </tr>\n",
       "    <tr>\n",
       "      <th>7</th>\n",
       "      <td>TF-IDF (Undersampled)</td>\n",
       "      <td>0.657915</td>\n",
       "      <td>[0.0, 0.6669407894736842, 1.0]</td>\n",
       "      <td>[0.0, 0.3431050511310815, 1.0]</td>\n",
       "      <td>0.661918</td>\n",
       "      <td>0.153980</td>\n",
       "    </tr>\n",
       "    <tr>\n",
       "      <th>8</th>\n",
       "      <td>TF-IDF (Oversampled)</td>\n",
       "      <td>0.763935</td>\n",
       "      <td>[0.0, 0.44161184210526316, 1.0]</td>\n",
       "      <td>[0.0, 0.19962813758909204, 1.0]</td>\n",
       "      <td>0.620992</td>\n",
       "      <td>0.145057</td>\n",
       "    </tr>\n",
       "  </tbody>\n",
       "</table>\n",
       "</div>"
      ],
      "text/plain": [
       "                         Model  Test Accuracy  \\\n",
       "0    Bag of Words (Unbalanced)       0.892366   \n",
       "1  Bag of Words (Undersampled)       0.596191   \n",
       "2   Bag of Words (Oversampled)       0.722061   \n",
       "3        Bi-grams (Unbalanced)       0.894955   \n",
       "4      Bi-grams (Undersampled)       0.570271   \n",
       "5       Bi-grams (Oversampled)       0.789242   \n",
       "6          TF-IDF (Unbalanced)       0.897461   \n",
       "7        TF-IDF (Undersampled)       0.657915   \n",
       "8         TF-IDF (Oversampled)       0.763935   \n",
       "\n",
       "                           Test TPR                           Test FPR  \\\n",
       "0   [0.0, 0.03481359649122807, 1.0]   [0.0, 0.010691044313603966, 1.0]   \n",
       "1    [0.0, 0.6949013157894737, 1.0]    [0.0, 0.41496746203904555, 1.0]   \n",
       "2   [0.0, 0.49890350877192985, 1.0]     [0.0, 0.2527114967462039, 1.0]   \n",
       "3  [0.0, 0.027960526315789474, 1.0]  [0.0, 0.0070343972730089865, 1.0]   \n",
       "4    [0.0, 0.7003837719298246, 1.0]     [0.0, 0.4444375581035017, 1.0]   \n",
       "5   [0.0, 0.32648026315789475, 1.0]    [0.0, 0.15844437558103502, 1.0]   \n",
       "6   [0.0, 0.01069078947368421, 1.0]   [0.0, 0.002293151533932445, 1.0]   \n",
       "7    [0.0, 0.6669407894736842, 1.0]     [0.0, 0.3431050511310815, 1.0]   \n",
       "8   [0.0, 0.44161184210526316, 1.0]    [0.0, 0.19962813758909204, 1.0]   \n",
       "\n",
       "   Test AUC   Test AP  \n",
       "0  0.512061  0.107396  \n",
       "1  0.639967  0.141597  \n",
       "2  0.623096  0.141922  \n",
       "3  0.510463  0.107393  \n",
       "4  0.627973  0.136336  \n",
       "5  0.584018  0.130087  \n",
       "6  0.504199  0.104169  \n",
       "7  0.661918  0.153980  \n",
       "8  0.620992  0.145057  "
      ]
     },
     "execution_count": 402,
     "metadata": {},
     "output_type": "execute_result"
    }
   ],
   "source": [
    "model_names=['Bag of Words (Unbalanced)','Bag of Words (Undersampled)',\n",
    "             'Bag of Words (Oversampled)', 'Bi-grams (Unbalanced)',\n",
    "             'Bi-grams (Undersampled)','Bi-grams (Oversampled)',\n",
    "             'TF-IDF (Unbalanced)','TF-IDF (Undersampled)','TF-IDF (Oversampled)']\n",
    "test_accs=[eval_bow_lr['test_accuracy'], eval_bow_lr_under['test_accuracy'], \n",
    "eval_bow_lr_over['test_accuracy'],eval_bv2_lr['test_accuracy'],\n",
    "eval_bv2_lr_under['test_accuracy'],eval_bv2_lr_over['test_accuracy'],\n",
    "eval_tv_lr['test_accuracy'],eval_tv_lr_under['test_accuracy'], \n",
    "eval_tv_lr_over['test_accuracy']]\n",
    "\n",
    "test_tprs=[eval_bow_lr['test_tpr'], eval_bow_lr_under['test_tpr'], eval_bow_lr_over['test_tpr'],\n",
    "eval_bv2_lr['test_tpr'],eval_bv2_lr_under['test_tpr'],eval_bv2_lr_over['test_tpr'],\n",
    "eval_tv_lr['test_tpr'],eval_tv_lr_under['test_tpr'], eval_tv_lr_over['test_tpr']]\n",
    "\n",
    "test_fprs=[eval_bow_lr['test_fpr'], eval_bow_lr_under['test_fpr'], eval_bow_lr_over['test_fpr'],\n",
    "eval_bv2_lr['test_fpr'],eval_bv2_lr_under['test_fpr'],eval_bv2_lr_over['test_fpr'],\n",
    "eval_tv_lr['test_fpr'],eval_tv_lr_under['test_fpr'], eval_tv_lr_over['test_fpr']]\n",
    "\n",
    "test_aucs=[eval_bow_lr['test_auc'], eval_bow_lr_under['test_auc'], eval_bow_lr_over['test_auc'],\n",
    "eval_bv2_lr['test_auc'],eval_bv2_lr_under['test_auc'],eval_bv2_lr_over['test_auc'],\n",
    "eval_tv_lr['test_auc'],eval_tv_lr_under['test_auc'], eval_tv_lr_over['test_auc']]\n",
    "\n",
    "test_aps=[eval_bow_lr['test_ap'], eval_bow_lr_under['test_ap'], eval_bow_lr_over['test_ap'],\n",
    "eval_bv2_lr['test_ap'],eval_bv2_lr_under['test_ap'],eval_bv2_lr_over['test_ap'],\n",
    "eval_tv_lr['test_ap'],eval_tv_lr_under['test_ap'], eval_tv_lr_over['test_ap']]\n",
    "\n",
    "data={'Model':model_names,'Test Accuracy':test_accs,'Test TPR':test_tprs,\n",
    "      'Test FPR':test_fprs,'Test AUC':test_aucs, 'Test AP':test_aps}\n",
    "evals=pd.DataFrame(data)\n",
    "evals"
   ]
  },
  {
   "cell_type": "code",
   "execution_count": null,
   "metadata": {},
   "outputs": [],
   "source": []
  }
 ],
 "metadata": {
  "kernelspec": {
   "display_name": "Python 3",
   "language": "python",
   "name": "python3"
  },
  "language_info": {
   "codemirror_mode": {
    "name": "ipython",
    "version": 3
   },
   "file_extension": ".py",
   "mimetype": "text/x-python",
   "name": "python",
   "nbconvert_exporter": "python",
   "pygments_lexer": "ipython3",
   "version": "3.7.3"
  }
 },
 "nbformat": 4,
 "nbformat_minor": 2
}
