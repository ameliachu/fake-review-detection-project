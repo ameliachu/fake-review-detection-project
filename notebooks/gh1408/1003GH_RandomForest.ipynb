{
 "cells": [
  {
   "cell_type": "markdown",
   "metadata": {},
   "source": [
    "## Setup"
   ]
  },
  {
   "cell_type": "code",
   "execution_count": 28,
   "metadata": {},
   "outputs": [
    {
     "name": "stderr",
     "output_type": "stream",
     "text": [
      "[nltk_data] Downloading package stopwords to\n",
      "[nltk_data]     /Users/gabriellahurtado/nltk_data...\n",
      "[nltk_data]   Package stopwords is already up-to-date!\n"
     ]
    }
   ],
   "source": [
    "import pandas as pd\n",
    "import numpy as np\n",
    "import nltk\n",
    "import string\n",
    "import matplotlib.pyplot as plt\n",
    "from wordcloud import WordCloud as WC\n",
    "from wordcloud import STOPWORDS\n",
    "from collections import Counter\n",
    "from nltk.corpus import stopwords\n",
    "from nltk.corpus import stopwords\n",
    "from nltk.tokenize import word_tokenize\n",
    "nltk.download('stopwords')\n",
    "from sklearn.feature_extraction.text import CountVectorizer\n",
    "from sklearn.feature_extraction.text import TfidfVectorizer\n",
    "from sklearn.linear_model import LogisticRegression\n",
    "from sklearn.metrics import accuracy_score, roc_auc_score, average_precision_score, roc_curve\n",
    "from sklearn.ensemble import RandomForestClassifier"
   ]
  },
  {
   "cell_type": "markdown",
   "metadata": {},
   "source": [
    "### Loading Data"
   ]
  },
  {
   "cell_type": "code",
   "execution_count": 2,
   "metadata": {},
   "outputs": [],
   "source": [
    "fake=pd.read_csv('fake_tokens.csv')\n",
    "fake=fake.rename(columns={'Unnamed: 0':'index'})\n",
    "real=pd.read_csv('real_tokens.csv')\n",
    "real=real.rename(columns={'Unnamed: 0':'index'})\n",
    "full_df=real.append(fake,sort=False)\n",
    "full_df['filtered_tokens']=full_df['filtered_tokens'].apply(lambda x: x.replace(' ',\"\"))"
   ]
  },
  {
   "cell_type": "code",
   "execution_count": 3,
   "metadata": {},
   "outputs": [],
   "source": [
    "valid=pd.read_csv('dev.csv')\n",
    "val_x=valid.drop(['label'],axis=1)\n",
    "val_y=valid['label']"
   ]
  },
  {
   "cell_type": "code",
   "execution_count": 4,
   "metadata": {},
   "outputs": [],
   "source": [
    "x=full_df.drop(['label'],axis=1)\n",
    "y=full_df['label']"
   ]
  },
  {
   "cell_type": "markdown",
   "metadata": {},
   "source": [
    "## Featurizing\n",
    "\n",
    "### Bag of words model"
   ]
  },
  {
   "cell_type": "code",
   "execution_count": 5,
   "metadata": {},
   "outputs": [],
   "source": [
    "bow_vectorizer = CountVectorizer(stop_words='english', binary=True)\n",
    "bow_vectorizer.fit(full_df['review'])\n",
    "bow_x_train = bow_vectorizer.transform(x['review'])"
   ]
  },
  {
   "cell_type": "markdown",
   "metadata": {},
   "source": [
    "### Bag of Bi-grams model"
   ]
  },
  {
   "cell_type": "code",
   "execution_count": 6,
   "metadata": {},
   "outputs": [],
   "source": [
    "bv2 = CountVectorizer(stop_words='english', binary=True, ngram_range=(2,2))\n",
    "bv2.fit(full_df['review'])\n",
    "bv2_x_train = bv2.transform(x['review'])"
   ]
  },
  {
   "cell_type": "markdown",
   "metadata": {},
   "source": [
    "### TF-IDF model"
   ]
  },
  {
   "cell_type": "code",
   "execution_count": 7,
   "metadata": {},
   "outputs": [],
   "source": [
    "tv = TfidfVectorizer()\n",
    "tv.fit(full_df['review'])\n",
    "tv_x_train = tv.transform(x['review'])"
   ]
  },
  {
   "cell_type": "markdown",
   "metadata": {},
   "source": [
    "## Balancing "
   ]
  },
  {
   "cell_type": "code",
   "execution_count": 208,
   "metadata": {},
   "outputs": [
    {
     "name": "stdout",
     "output_type": "stream",
     "text": [
      "number of real reviews: 225055\n",
      "number of fake reviews: 25819\n"
     ]
    }
   ],
   "source": [
    "print('number of real reviews:',(len(real)))\n",
    "print('number of fake reviews:',(len(fake)))"
   ]
  },
  {
   "cell_type": "code",
   "execution_count": 8,
   "metadata": {},
   "outputs": [],
   "source": [
    "import imblearn\n",
    "from imblearn.over_sampling import SMOTE\n",
    "from imblearn.under_sampling import RandomUnderSampler"
   ]
  },
  {
   "cell_type": "markdown",
   "metadata": {},
   "source": [
    "### Undersampling"
   ]
  },
  {
   "cell_type": "code",
   "execution_count": 9,
   "metadata": {},
   "outputs": [],
   "source": [
    "#BOW\n",
    "rus=RandomUnderSampler()\n",
    "under_x, under_y = rus.fit_sample(bow_x_train, y)"
   ]
  },
  {
   "cell_type": "code",
   "execution_count": 10,
   "metadata": {},
   "outputs": [],
   "source": [
    "#Bi-grams\n",
    "under_x_bv2, under_y_bv2=rus.fit_sample(bv2_x_train, y)"
   ]
  },
  {
   "cell_type": "code",
   "execution_count": 11,
   "metadata": {},
   "outputs": [],
   "source": [
    "#TF-IDF\n",
    "under_x_tv, under_y_tv=rus.fit_sample(tv_x_train, y)"
   ]
  },
  {
   "cell_type": "markdown",
   "metadata": {},
   "source": [
    "### SMOTE"
   ]
  },
  {
   "cell_type": "code",
   "execution_count": 12,
   "metadata": {},
   "outputs": [],
   "source": [
    "#BOW\n",
    "sm=SMOTE()\n",
    "over_x, over_y = sm.fit_sample(bow_x_train, y)"
   ]
  },
  {
   "cell_type": "code",
   "execution_count": 13,
   "metadata": {},
   "outputs": [],
   "source": [
    "#Bi-grams\n",
    "over_x_bv2, over_y_bv2 = sm.fit_sample(bv2_x_train, y)"
   ]
  },
  {
   "cell_type": "code",
   "execution_count": 14,
   "metadata": {},
   "outputs": [],
   "source": [
    "#TF-IDF\n",
    "over_x_tv, over_y_tv = sm.fit_sample(tv_x_train, y)"
   ]
  },
  {
   "cell_type": "markdown",
   "metadata": {},
   "source": [
    "## Tuning"
   ]
  },
  {
   "cell_type": "code",
   "execution_count": 23,
   "metadata": {},
   "outputs": [],
   "source": [
    "from sklearn.metrics import roc_curve, auc"
   ]
  },
  {
   "cell_type": "code",
   "execution_count": 117,
   "metadata": {},
   "outputs": [],
   "source": [
    "rf1=RandomForestClassifier()"
   ]
  },
  {
   "cell_type": "code",
   "execution_count": 20,
   "metadata": {},
   "outputs": [],
   "source": [
    "bow_x_val=bow_vectorizer.transform(valid['review'])"
   ]
  },
  {
   "cell_type": "code",
   "execution_count": 16,
   "metadata": {},
   "outputs": [],
   "source": [
    "#taken from Amelia!\n",
    "def ClassifierMetrics (X_train, Y_train, X_test, Y_test, fitted_model):\n",
    "    Y_pred = fitted_model.predict(X_test)\n",
    "    fpr, tpr, thresholds = roc_curve(Y_test, Y_pred)\n",
    "    metrics = {'train_accuracy': fitted_model.score(X_train, Y_train),\n",
    "    'test_accuracy': fitted_model.score(X_test, Y_test),\n",
    "    'test_tpr': tpr,\n",
    "    'test_fpr': fpr,\n",
    "    'test_auc': roc_auc_score(Y_test, Y_pred),\n",
    "    'test_ap': average_precision_score(Y_test, Y_pred)}\n",
    "    return metrics"
   ]
  },
  {
   "cell_type": "markdown",
   "metadata": {},
   "source": [
    "### Baseline"
   ]
  },
  {
   "cell_type": "code",
   "execution_count": 118,
   "metadata": {},
   "outputs": [
    {
     "data": {
      "text/plain": [
       "{'train_accuracy': 0.9823018726532043,\n",
       " 'test_accuracy': 0.8940364162815302,\n",
       " 'test_tpr': array([0.        , 0.04632675, 1.        ]),\n",
       " 'test_fpr': array([0.        , 0.01013325, 1.        ]),\n",
       " 'test_auc': 0.5180967518443614,\n",
       " 'test_ap': 0.11264423408437553}"
      ]
     },
     "execution_count": 118,
     "metadata": {},
     "output_type": "execute_result"
    }
   ],
   "source": [
    "bow_rf_base=rf1.fit(over_x,over_y)\n",
    "eval_bow_rf=ClassifierMetrics(bow_x_train,y,bow_x_val,val_y,\n",
    "                              bow_rf_base)\n",
    "eval_bow_rf"
   ]
  },
  {
   "cell_type": "markdown",
   "metadata": {},
   "source": [
    "### Max_depth"
   ]
  },
  {
   "cell_type": "code",
   "execution_count": 152,
   "metadata": {
    "scrolled": true
   },
   "outputs": [
    {
     "data": {
      "image/png": "[encoded data removed]",
      "text/plain": [
       "<Figure size 432x288 with 3 Axes>"
      ]
     },
     "metadata": {
      "needs_background": "light"
     },
     "output_type": "display_data"
    }
   ],
   "source": [
    "max_depths = np.linspace(5, 70, 10, endpoint=True)\n",
    "accuracies = [0]*len(max_depths)\n",
    "aps = [0]*len(max_depths)\n",
    "aucs = [0]*len(max_depths)\n",
    "for i in range(len(max_depths)):\n",
    "    rf = RandomForestClassifier(max_depth=max_depths[i])\n",
    "    rf.fit(over_x,over_y)\n",
    "    preds = rf.predict(bow_x_val)\n",
    "    accuracy=rf.score(bow_x_val,val_y)\n",
    "    accuracies[i]=accuracy \n",
    "    ap=average_precision_score(val_y, preds)\n",
    "    aps[i]=ap\n",
    "    auc=roc_auc_score(val_y, preds)\n",
    "    aucs[i]=auc\n",
    "    \n",
    "plt.subplot(1, 3, 1)\n",
    "plt.plot(max_depths, accuracies, 'r')\n",
    "plt.ylabel('Accuracy')\n",
    "plt.xlabel('Tree depth')\n",
    "\n",
    "\n",
    "plt.subplot(1, 3, 2)\n",
    "plt.plot(max_depths, aps,'b')\n",
    "plt.ylabel('Avg. Precision')\n",
    "plt.xlabel('Tree depth')\n",
    "\n",
    "plt.subplot(1, 3, 3)\n",
    "plt.plot(max_depths, aucs,'g')\n",
    "plt.ylabel('AUC')\n",
    "plt.xlabel('Tree depth')\n",
    "\n",
    "plt.tight_layout()\n",
    "plt.show()"
   ]
  },
  {
   "cell_type": "code",
   "execution_count": 153,
   "metadata": {},
   "outputs": [
    {
     "data": {
      "text/plain": [
       "[0.5872543014644468,\n",
       " 0.6826660727211983,\n",
       " 0.7174675650091876,\n",
       " 0.7514338214822651,\n",
       " 0.7755164541455538,\n",
       " 0.7872932791358094,\n",
       " 0.7959240492232307,\n",
       " 0.8075059858566735,\n",
       " 0.820981123670583,\n",
       " 0.8257698090094103]"
      ]
     },
     "execution_count": 153,
     "metadata": {},
     "output_type": "execute_result"
    }
   ],
   "source": [
    "accuracies"
   ]
  },
  {
   "cell_type": "code",
   "execution_count": 154,
   "metadata": {},
   "outputs": [
    {
     "data": {
      "text/plain": [
       "[0.11900741970180483,\n",
       " 0.12464294035546003,\n",
       " 0.12687387386404902,\n",
       " 0.1254116939087099,\n",
       " 0.12597368352824218,\n",
       " 0.12398597002966819,\n",
       " 0.12465425927697091,\n",
       " 0.12697394299541034,\n",
       " 0.1259113799418796,\n",
       " 0.12432495254020479]"
      ]
     },
     "execution_count": 154,
     "metadata": {},
     "output_type": "execute_result"
    }
   ],
   "source": [
    "aps"
   ]
  },
  {
   "cell_type": "code",
   "execution_count": 155,
   "metadata": {},
   "outputs": [
    {
     "data": {
      "text/plain": [
       "[0.5729940275716406,\n",
       " 0.5847600546240873,\n",
       " 0.587351623704054,\n",
       " 0.5793882924502144,\n",
       " 0.5772302400524087,\n",
       " 0.5706550643148001,\n",
       " 0.5707171688032445,\n",
       " 0.5735157698340211,\n",
       " 0.5682504457999662,\n",
       " 0.5638645658343255]"
      ]
     },
     "execution_count": 155,
     "metadata": {},
     "output_type": "execute_result"
    }
   ],
   "source": [
    "aucs"
   ]
  },
  {
   "cell_type": "code",
   "execution_count": 156,
   "metadata": {},
   "outputs": [
    {
     "data": {
      "text/plain": [
       "array([ 5.        , 12.22222222, 19.44444444, 26.66666667, 33.88888889,\n",
       "       41.11111111, 48.33333333, 55.55555556, 62.77777778, 70.        ])"
      ]
     },
     "execution_count": 156,
     "metadata": {},
     "output_type": "execute_result"
    }
   ],
   "source": [
    "max_depths"
   ]
  },
  {
   "cell_type": "markdown",
   "metadata": {},
   "source": [
    "### Min_samples_split"
   ]
  },
  {
   "cell_type": "code",
   "execution_count": 133,
   "metadata": {},
   "outputs": [
    {
     "data": {
      "image/png": "[encoded data removed]",
      "text/plain": [
       "<Figure size 432x288 with 3 Axes>"
      ]
     },
     "metadata": {
      "needs_background": "light"
     },
     "output_type": "display_data"
    }
   ],
   "source": [
    "min_samples_splits = np.linspace(0.001, 0.5, 10, endpoint=True)\n",
    "accuracies2 = [0]*len(min_samples_splits)\n",
    "aps2 = [0]*len(min_samples_splits)\n",
    "aucs2= [0]*len(min_samples_splits)\n",
    "for i in range(len(min_samples_splits)):\n",
    "    rf = RandomForestClassifier(min_samples_split=min_samples_splits[i])\n",
    "    rf.fit(over_x,over_y)\n",
    "    preds = rf.predict(bow_x_val)\n",
    "    accuracy=rf.score(bow_x_val,val_y)\n",
    "    accuracies2[i]=accuracy\n",
    "    ap=average_precision_score(val_y, preds)\n",
    "    aps2[i]=ap\n",
    "    auc=roc_auc_score(val_y, preds)\n",
    "    aucs2[i]=auc\n",
    "    \n",
    "plt.subplot(1, 3, 1)\n",
    "plt.plot(min_samples_splits, accuracies2, 'r')\n",
    "plt.ylabel('Accuracy')\n",
    "plt.xlabel('Min sample split')\n",
    "\n",
    "\n",
    "plt.subplot(1, 3, 2)\n",
    "plt.plot(min_samples_splits, aps2,'b')\n",
    "plt.ylabel('Avg. Precision')\n",
    "plt.xlabel('Min sample split')\n",
    "\n",
    "plt.subplot(1, 3, 3)\n",
    "plt.plot(min_samples_splits, aucs2,'g')\n",
    "plt.ylabel('AUC')\n",
    "plt.xlabel('Min sample split')\n",
    "\n",
    "plt.tight_layout()\n",
    "plt.show()"
   ]
  },
  {
   "cell_type": "code",
   "execution_count": 132,
   "metadata": {},
   "outputs": [
    {
     "data": {
      "text/plain": [
       "[0.8925886742023498,\n",
       " 0.8820925441282922,\n",
       " 0.8802828665293168,\n",
       " 0.8778050002784119,\n",
       " 0.8772481764018041,\n",
       " 0.8739629155298179,\n",
       " 0.8723202850938249,\n",
       " 0.8681441060192661,\n",
       " 0.8685895651205524,\n",
       " 0.8621860905395623]"
      ]
     },
     "execution_count": 132,
     "metadata": {},
     "output_type": "execute_result"
    }
   ],
   "source": [
    "accuracies2"
   ]
  },
  {
   "cell_type": "code",
   "execution_count": 127,
   "metadata": {},
   "outputs": [
    {
     "data": {
      "text/plain": [
       "[0.11350906948480272,\n",
       " 0.11544758789799502,\n",
       " 0.11661088962773666,\n",
       " 0.11935362858035806,\n",
       " 0.11988268724315877,\n",
       " 0.12011144807448376,\n",
       " 0.11919722412627567,\n",
       " 0.12070809147541492,\n",
       " 0.12096396564397677,\n",
       " 0.119771640518652]"
      ]
     },
     "execution_count": 127,
     "metadata": {},
     "output_type": "execute_result"
    }
   ],
   "source": [
    "aps2"
   ]
  },
  {
   "cell_type": "code",
   "execution_count": 141,
   "metadata": {},
   "outputs": [
    {
     "data": {
      "text/plain": [
       "[0.5262785998347279,\n",
       " 0.538416047575555,\n",
       " 0.5471686690288627,\n",
       " 0.5494986279418721,\n",
       " 0.559442880859959,\n",
       " 0.5652218177629541,\n",
       " 0.5809286383665236,\n",
       " 0.5824822444533242,\n",
       " 0.5886568712997243,\n",
       " 0.5864174739995325]"
      ]
     },
     "execution_count": 141,
     "metadata": {},
     "output_type": "execute_result"
    }
   ],
   "source": [
    "aucs2"
   ]
  },
  {
   "cell_type": "code",
   "execution_count": 142,
   "metadata": {},
   "outputs": [
    {
     "data": {
      "text/plain": [
       "0.5886568712997243"
      ]
     },
     "execution_count": 142,
     "metadata": {},
     "output_type": "execute_result"
    }
   ],
   "source": [
    "max(aucs2)"
   ]
  },
  {
   "cell_type": "code",
   "execution_count": 147,
   "metadata": {},
   "outputs": [
    {
     "data": {
      "text/plain": [
       "200098.9011111111"
      ]
     },
     "execution_count": 147,
     "metadata": {},
     "output_type": "execute_result"
    }
   ],
   "source": [
    "min_samples_splits[8]*over_x.shape[0]"
   ]
  },
  {
   "cell_type": "code",
   "execution_count": 148,
   "metadata": {},
   "outputs": [
    {
     "data": {
      "text/plain": [
       "0.44455555555555554"
      ]
     },
     "execution_count": 148,
     "metadata": {},
     "output_type": "execute_result"
    }
   ],
   "source": [
    "min_samples_splits[8]"
   ]
  },
  {
   "cell_type": "markdown",
   "metadata": {},
   "source": [
    "## Evaluation"
   ]
  },
  {
   "cell_type": "code",
   "execution_count": 157,
   "metadata": {},
   "outputs": [],
   "source": [
    "rf=RandomForestClassifier(max_depth=20,min_samples_split=0.44)"
   ]
  },
  {
   "cell_type": "markdown",
   "metadata": {},
   "source": [
    "### Bag of Words Evaluation"
   ]
  },
  {
   "cell_type": "markdown",
   "metadata": {},
   "source": [
    "#### BOW unbalanced"
   ]
  },
  {
   "cell_type": "code",
   "execution_count": 158,
   "metadata": {},
   "outputs": [],
   "source": [
    "#unbalanced\n",
    "bow_rf_train=rf.fit(bow_x_train,y)\n",
    "eval_bow_rf=ClassifierMetrics(bow_x_train,y,bow_x_val,val_y,\n",
    "                              bow_rf_train)"
   ]
  },
  {
   "cell_type": "code",
   "execution_count": 159,
   "metadata": {},
   "outputs": [
    {
     "data": {
      "text/plain": [
       "{'train_accuracy': 0.8970837950524965,\n",
       " 'test_accuracy': 0.898435324906732,\n",
       " 'test_tpr': array([0., 1.]),\n",
       " 'test_fpr': array([0., 1.]),\n",
       " 'test_auc': 0.5,\n",
       " 'test_ap': 0.101564675093268}"
      ]
     },
     "execution_count": 159,
     "metadata": {},
     "output_type": "execute_result"
    }
   ],
   "source": [
    "eval_bow_rf"
   ]
  },
  {
   "cell_type": "markdown",
   "metadata": {},
   "source": [
    "#### BOW undersampled"
   ]
  },
  {
   "cell_type": "code",
   "execution_count": 160,
   "metadata": {},
   "outputs": [
    {
     "data": {
      "text/plain": [
       "{'train_accuracy': 0.6184980053449011,\n",
       " 'test_accuracy': 0.547441394286987,\n",
       " 'test_tpr': array([0.       , 0.6935307, 1.       ]),\n",
       " 'test_fpr': array([0.        , 0.46907344, 1.        ]),\n",
       " 'test_auc': 0.6122286294641158,\n",
       " 'test_ap': 0.1304434114827363}"
      ]
     },
     "execution_count": 160,
     "metadata": {},
     "output_type": "execute_result"
    }
   ],
   "source": [
    "#unbalanced\n",
    "bow_rf_under=rf.fit(under_x,under_y)\n",
    "eval_bow_rf_under=ClassifierMetrics(under_x,under_y,bow_x_val,val_y,\n",
    "                              bow_rf_under)\n",
    "eval_bow_rf_under"
   ]
  },
  {
   "cell_type": "markdown",
   "metadata": {},
   "source": [
    "#### BOW oversampled"
   ]
  },
  {
   "cell_type": "code",
   "execution_count": 161,
   "metadata": {},
   "outputs": [
    {
     "data": {
      "text/plain": [
       "{'train_accuracy': 0.828670769367488,\n",
       " 'test_accuracy': 0.7068043877721477,\n",
       " 'test_tpr': array([0.        , 0.42598684, 1.        ]),\n",
       " 'test_fpr': array([0.        , 0.26145026, 1.        ]),\n",
       " 'test_auc': 0.5822682893513611,\n",
       " 'test_ap': 0.12455744733270427}"
      ]
     },
     "execution_count": 161,
     "metadata": {},
     "output_type": "execute_result"
    }
   ],
   "source": [
    "#oversampled\n",
    "bow_rf_over=rf.fit(over_x,over_y)\n",
    "eval_bow_rf_over=ClassifierMetrics(over_x,over_y,bow_x_val,val_y,\n",
    "                              bow_rf_over)\n",
    "eval_bow_rf_over"
   ]
  },
  {
   "cell_type": "markdown",
   "metadata": {},
   "source": [
    "### Bag of Bi-grams Evaluation"
   ]
  },
  {
   "cell_type": "code",
   "execution_count": 162,
   "metadata": {},
   "outputs": [],
   "source": [
    "bv2_x_val=bv2.transform(valid['review'])"
   ]
  },
  {
   "cell_type": "markdown",
   "metadata": {},
   "source": [
    "#### Bi-gram unbalanced"
   ]
  },
  {
   "cell_type": "code",
   "execution_count": 163,
   "metadata": {},
   "outputs": [
    {
     "data": {
      "text/plain": [
       "{'train_accuracy': 0.8970837950524965,\n",
       " 'test_accuracy': 0.898435324906732,\n",
       " 'test_tpr': array([0., 1.]),\n",
       " 'test_fpr': array([0., 1.]),\n",
       " 'test_auc': 0.5,\n",
       " 'test_ap': 0.101564675093268}"
      ]
     },
     "execution_count": 163,
     "metadata": {},
     "output_type": "execute_result"
    }
   ],
   "source": [
    "#unbalanced\n",
    "bv2_rf_train =rf.fit(bv2_x_train,y)\n",
    "eval_bv2_rf=ClassifierMetrics(bv2_x_train, y, bv2_x_val, val_y, \n",
    "                              bv2_rf_train)\n",
    "\n",
    "eval_bv2_rf"
   ]
  },
  {
   "cell_type": "markdown",
   "metadata": {},
   "source": [
    "#### Bi-gram undersampled"
   ]
  },
  {
   "cell_type": "code",
   "execution_count": 164,
   "metadata": {},
   "outputs": [
    {
     "data": {
      "text/plain": [
       "{'train_accuracy': 0.5542236337580851,\n",
       " 'test_accuracy': 0.264435659001058,\n",
       " 'test_tpr': array([0.        , 0.89912281, 1.        ]),\n",
       " 'test_fpr': array([0.        , 0.80731329, 1.        ]),\n",
       " 'test_auc': 0.5459047564681769,\n",
       " 'test_ap': 0.11078840697098402}"
      ]
     },
     "execution_count": 164,
     "metadata": {},
     "output_type": "execute_result"
    }
   ],
   "source": [
    "#undersampled\n",
    "bv2_rf_under=rf.fit(under_x_bv2,under_y_bv2)\n",
    "eval_bv2_rf_under=ClassifierMetrics(under_x_bv2, under_y_bv2, \n",
    "                                    bv2_x_val, val_y, bv2_rf_under)\n",
    "\n",
    "eval_bv2_rf_under"
   ]
  },
  {
   "cell_type": "markdown",
   "metadata": {},
   "source": [
    "#### Bi-gram oversampled"
   ]
  },
  {
   "cell_type": "code",
   "execution_count": 165,
   "metadata": {},
   "outputs": [
    {
     "data": {
      "text/plain": [
       "{'train_accuracy': 0.6532780875785918,\n",
       " 'test_accuracy': 0.37468678656940807,\n",
       " 'test_tpr': array([0.        , 0.73245614, 1.        ]),\n",
       " 'test_fpr': array([0.        , 0.66575767, 1.        ]),\n",
       " 'test_auc': 0.5333492353443261,\n",
       " 'test_ap': 0.10819315781207456}"
      ]
     },
     "execution_count": 165,
     "metadata": {},
     "output_type": "execute_result"
    }
   ],
   "source": [
    "#oversampled\n",
    "bv2_rf_over=rf.fit(over_x_bv2,over_y_bv2)\n",
    "eval_bv2_rf_over=ClassifierMetrics(over_x_bv2, over_y_bv2, bv2_x_val, \n",
    "                                   val_y, bv2_rf_over)\n",
    "\n",
    "eval_bv2_rf_over"
   ]
  },
  {
   "cell_type": "markdown",
   "metadata": {},
   "source": [
    "### TF-IDF Evaluation"
   ]
  },
  {
   "cell_type": "code",
   "execution_count": 166,
   "metadata": {},
   "outputs": [],
   "source": [
    "tv_x_val=tv.transform(valid['review'])"
   ]
  },
  {
   "cell_type": "markdown",
   "metadata": {},
   "source": [
    "#### TF-IDF unbalanced"
   ]
  },
  {
   "cell_type": "code",
   "execution_count": 167,
   "metadata": {},
   "outputs": [
    {
     "data": {
      "text/plain": [
       "{'train_accuracy': 0.8970837950524965,\n",
       " 'test_accuracy': 0.898435324906732,\n",
       " 'test_tpr': array([0., 1.]),\n",
       " 'test_fpr': array([0., 1.]),\n",
       " 'test_auc': 0.5,\n",
       " 'test_ap': 0.101564675093268}"
      ]
     },
     "execution_count": 167,
     "metadata": {},
     "output_type": "execute_result"
    }
   ],
   "source": [
    "#unbalanced\n",
    "tv_rf_train = rf.fit(tv_x_train,y)\n",
    "eval_tv_rf=ClassifierMetrics(tv_x_train, y, tv_x_val, val_y, \n",
    "                             tv_rf_train)\n",
    "eval_tv_rf"
   ]
  },
  {
   "cell_type": "markdown",
   "metadata": {},
   "source": [
    "#### TF-IDF undersampled"
   ]
  },
  {
   "cell_type": "code",
   "execution_count": 168,
   "metadata": {},
   "outputs": [
    {
     "data": {
      "text/plain": [
       "{'train_accuracy': 0.6095317401913319,\n",
       " 'test_accuracy': 0.5681830836906286,\n",
       " 'test_tpr': array([0.        , 0.65186404, 1.        ]),\n",
       " 'test_fpr': array([0.        , 0.44127673, 1.        ]),\n",
       " 'test_auc': 0.6052936537384676,\n",
       " 'test_ap': 0.1286386552811332}"
      ]
     },
     "execution_count": 168,
     "metadata": {},
     "output_type": "execute_result"
    }
   ],
   "source": [
    "#undersampled\n",
    "tv_rf_under=rf.fit(under_x_tv,under_y_tv)\n",
    "eval_tv_rf_under=ClassifierMetrics(under_x_tv, under_y_tv, \n",
    "                                    tv_x_val, val_y, tv_rf_under)\n",
    "\n",
    "eval_tv_rf_under"
   ]
  },
  {
   "cell_type": "markdown",
   "metadata": {},
   "source": [
    "#### TF-IDF oversampled"
   ]
  },
  {
   "cell_type": "code",
   "execution_count": 169,
   "metadata": {},
   "outputs": [
    {
     "data": {
      "text/plain": [
       "{'train_accuracy': 0.694074781720024,\n",
       " 'test_accuracy': 0.6671306865638399,\n",
       " 'test_tpr': array([0.        , 0.47889254, 1.        ]),\n",
       " 'test_fpr': array([0.        , 0.31158971, 1.        ]),\n",
       " 'test_auc': 0.5836514160265088,\n",
       " 'test_ap': 0.12381454144266438}"
      ]
     },
     "execution_count": 169,
     "metadata": {},
     "output_type": "execute_result"
    }
   ],
   "source": [
    "#oversampled\n",
    "tv_rf_over=rf.fit(over_x_tv,over_y_tv)\n",
    "eval_tv_rf_over=ClassifierMetrics(over_x_tv, over_y_tv, tv_x_val, \n",
    "                                  val_y, tv_rf_over)\n",
    "\n",
    "eval_tv_rf_over"
   ]
  },
  {
   "cell_type": "code",
   "execution_count": 170,
   "metadata": {},
   "outputs": [
    {
     "data": {
      "text/html": [
       "<div>\n",
       "<style scoped>\n",
       "    .dataframe tbody tr th:only-of-type {\n",
       "        vertical-align: middle;\n",
       "    }\n",
       "\n",
       "    .dataframe tbody tr th {\n",
       "        vertical-align: top;\n",
       "    }\n",
       "\n",
       "    .dataframe thead th {\n",
       "        text-align: right;\n",
       "    }\n",
       "</style>\n",
       "<table border=\"1\" class=\"dataframe\">\n",
       "  <thead>\n",
       "    <tr style=\"text-align: right;\">\n",
       "      <th></th>\n",
       "      <th>Model</th>\n",
       "      <th>Test Accuracy</th>\n",
       "      <th>Test TPR</th>\n",
       "      <th>Test FPR</th>\n",
       "      <th>Test AUC</th>\n",
       "      <th>Test AP</th>\n",
       "    </tr>\n",
       "  </thead>\n",
       "  <tbody>\n",
       "    <tr>\n",
       "      <th>0</th>\n",
       "      <td>Bag of Words (Unbalanced)</td>\n",
       "      <td>0.898435</td>\n",
       "      <td>[0.0, 1.0]</td>\n",
       "      <td>[0.0, 1.0]</td>\n",
       "      <td>0.500000</td>\n",
       "      <td>0.101565</td>\n",
       "    </tr>\n",
       "    <tr>\n",
       "      <th>1</th>\n",
       "      <td>Bag of Words (Undersampled)</td>\n",
       "      <td>0.547441</td>\n",
       "      <td>[0.0, 0.6935307017543859, 1.0]</td>\n",
       "      <td>[0.0, 0.4690734428261543, 1.0]</td>\n",
       "      <td>0.612229</td>\n",
       "      <td>0.130443</td>\n",
       "    </tr>\n",
       "    <tr>\n",
       "      <th>2</th>\n",
       "      <td>Bag of Words (Oversampled)</td>\n",
       "      <td>0.706804</td>\n",
       "      <td>[0.0, 0.42598684210526316, 1.0]</td>\n",
       "      <td>[0.0, 0.26145026340254107, 1.0]</td>\n",
       "      <td>0.582268</td>\n",
       "      <td>0.124557</td>\n",
       "    </tr>\n",
       "    <tr>\n",
       "      <th>3</th>\n",
       "      <td>Bi-grams (Unbalanced)</td>\n",
       "      <td>0.898435</td>\n",
       "      <td>[0.0, 1.0]</td>\n",
       "      <td>[0.0, 1.0]</td>\n",
       "      <td>0.500000</td>\n",
       "      <td>0.101565</td>\n",
       "    </tr>\n",
       "    <tr>\n",
       "      <th>4</th>\n",
       "      <td>Bi-grams (Undersampled)</td>\n",
       "      <td>0.264436</td>\n",
       "      <td>[0.0, 0.8991228070175439, 1.0]</td>\n",
       "      <td>[0.0, 0.80731329408119, 1.0]</td>\n",
       "      <td>0.545905</td>\n",
       "      <td>0.110788</td>\n",
       "    </tr>\n",
       "    <tr>\n",
       "      <th>5</th>\n",
       "      <td>Bi-grams (Oversampled)</td>\n",
       "      <td>0.374687</td>\n",
       "      <td>[0.0, 0.7324561403508771, 1.0]</td>\n",
       "      <td>[0.0, 0.6657576696622249, 1.0]</td>\n",
       "      <td>0.533349</td>\n",
       "      <td>0.108193</td>\n",
       "    </tr>\n",
       "    <tr>\n",
       "      <th>6</th>\n",
       "      <td>TF-IDF (Unbalanced)</td>\n",
       "      <td>0.898435</td>\n",
       "      <td>[0.0, 1.0]</td>\n",
       "      <td>[0.0, 1.0]</td>\n",
       "      <td>0.500000</td>\n",
       "      <td>0.101565</td>\n",
       "    </tr>\n",
       "    <tr>\n",
       "      <th>7</th>\n",
       "      <td>TF-IDF (Undersampled)</td>\n",
       "      <td>0.568183</td>\n",
       "      <td>[0.0, 0.6518640350877193, 1.0]</td>\n",
       "      <td>[0.0, 0.441276727610784, 1.0]</td>\n",
       "      <td>0.605294</td>\n",
       "      <td>0.128639</td>\n",
       "    </tr>\n",
       "    <tr>\n",
       "      <th>8</th>\n",
       "      <td>TF-IDF (Oversampled)</td>\n",
       "      <td>0.667131</td>\n",
       "      <td>[0.0, 0.47889254385964913, 1.0]</td>\n",
       "      <td>[0.0, 0.31158971180663153, 1.0]</td>\n",
       "      <td>0.583651</td>\n",
       "      <td>0.123815</td>\n",
       "    </tr>\n",
       "  </tbody>\n",
       "</table>\n",
       "</div>"
      ],
      "text/plain": [
       "                         Model  Test Accuracy  \\\n",
       "0    Bag of Words (Unbalanced)       0.898435   \n",
       "1  Bag of Words (Undersampled)       0.547441   \n",
       "2   Bag of Words (Oversampled)       0.706804   \n",
       "3        Bi-grams (Unbalanced)       0.898435   \n",
       "4      Bi-grams (Undersampled)       0.264436   \n",
       "5       Bi-grams (Oversampled)       0.374687   \n",
       "6          TF-IDF (Unbalanced)       0.898435   \n",
       "7        TF-IDF (Undersampled)       0.568183   \n",
       "8         TF-IDF (Oversampled)       0.667131   \n",
       "\n",
       "                          Test TPR                         Test FPR  Test AUC  \\\n",
       "0                       [0.0, 1.0]                       [0.0, 1.0]  0.500000   \n",
       "1   [0.0, 0.6935307017543859, 1.0]   [0.0, 0.4690734428261543, 1.0]  0.612229   \n",
       "2  [0.0, 0.42598684210526316, 1.0]  [0.0, 0.26145026340254107, 1.0]  0.582268   \n",
       "3                       [0.0, 1.0]                       [0.0, 1.0]  0.500000   \n",
       "4   [0.0, 0.8991228070175439, 1.0]     [0.0, 0.80731329408119, 1.0]  0.545905   \n",
       "5   [0.0, 0.7324561403508771, 1.0]   [0.0, 0.6657576696622249, 1.0]  0.533349   \n",
       "6                       [0.0, 1.0]                       [0.0, 1.0]  0.500000   \n",
       "7   [0.0, 0.6518640350877193, 1.0]    [0.0, 0.441276727610784, 1.0]  0.605294   \n",
       "8  [0.0, 0.47889254385964913, 1.0]  [0.0, 0.31158971180663153, 1.0]  0.583651   \n",
       "\n",
       "    Test AP  \n",
       "0  0.101565  \n",
       "1  0.130443  \n",
       "2  0.124557  \n",
       "3  0.101565  \n",
       "4  0.110788  \n",
       "5  0.108193  \n",
       "6  0.101565  \n",
       "7  0.128639  \n",
       "8  0.123815  "
      ]
     },
     "execution_count": 170,
     "metadata": {},
     "output_type": "execute_result"
    }
   ],
   "source": [
    "model_names=['Bag of Words (Unbalanced)','Bag of Words (Undersampled)',\n",
    "             'Bag of Words (Oversampled)', 'Bi-grams (Unbalanced)',\n",
    "             'Bi-grams (Undersampled)','Bi-grams (Oversampled)',\n",
    "             'TF-IDF (Unbalanced)','TF-IDF (Undersampled)','TF-IDF (Oversampled)']\n",
    "\n",
    "test_accs=[eval_bow_rf['test_accuracy'], eval_bow_rf_under['test_accuracy'], \n",
    "eval_bow_rf_over['test_accuracy'],eval_bv2_rf['test_accuracy'],\n",
    "eval_bv2_rf_under['test_accuracy'],eval_bv2_rf_over['test_accuracy'],\n",
    "eval_tv_rf['test_accuracy'],eval_tv_rf_under['test_accuracy'], \n",
    "eval_tv_rf_over['test_accuracy']]\n",
    "\n",
    "test_tprs=[eval_bow_rf['test_tpr'], eval_bow_rf_under['test_tpr'], eval_bow_rf_over['test_tpr'],\n",
    "eval_bv2_rf['test_tpr'],eval_bv2_rf_under['test_tpr'],eval_bv2_rf_over['test_tpr'],\n",
    "eval_tv_rf['test_tpr'],eval_tv_rf_under['test_tpr'], eval_tv_rf_over['test_tpr']]\n",
    "\n",
    "test_fprs=[eval_bow_rf['test_fpr'], eval_bow_rf_under['test_fpr'], eval_bow_rf_over['test_fpr'],\n",
    "eval_bv2_rf['test_fpr'],eval_bv2_rf_under['test_fpr'],eval_bv2_rf_over['test_fpr'],\n",
    "eval_tv_rf['test_fpr'],eval_tv_rf_under['test_fpr'], eval_tv_rf_over['test_fpr']]\n",
    "\n",
    "test_aucs=[eval_bow_rf['test_auc'], eval_bow_rf_under['test_auc'], eval_bow_rf_over['test_auc'],\n",
    "eval_bv2_rf['test_auc'],eval_bv2_rf_under['test_auc'],eval_bv2_rf_over['test_auc'],\n",
    "eval_tv_rf['test_auc'],eval_tv_rf_under['test_auc'], eval_tv_rf_over['test_auc']]\n",
    "\n",
    "test_aps=[eval_bow_rf['test_ap'], eval_bow_rf_under['test_ap'], eval_bow_rf_over['test_ap'],\n",
    "eval_bv2_rf['test_ap'],eval_bv2_rf_under['test_ap'],eval_bv2_rf_over['test_ap'],\n",
    "eval_tv_rf['test_ap'],eval_tv_rf_under['test_ap'], eval_tv_rf_over['test_ap']]\n",
    "\n",
    "data={'Model':model_names,'Test Accuracy':test_accs,'Test TPR':test_tprs,\n",
    "      'Test FPR':test_fprs,'Test AUC':test_aucs, 'Test AP':test_aps}\n",
    "evals=pd.DataFrame(data)\n",
    "evals"
   ]
  },
  {
   "cell_type": "code",
   "execution_count": null,
   "metadata": {},
   "outputs": [],
   "source": []
  }
 ],
 "metadata": {
  "kernelspec": {
   "display_name": "Python 3",
   "language": "python",
   "name": "python3"
  },
  "language_info": {
   "codemirror_mode": {
    "name": "ipython",
    "version": 3
   },
   "file_extension": ".py",
   "mimetype": "text/x-python",
   "name": "python",
   "nbconvert_exporter": "python",
   "pygments_lexer": "ipython3",
   "version": "3.7.3"
  }
 },
 "nbformat": 4,
 "nbformat_minor": 2
}
