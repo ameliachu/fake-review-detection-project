{
 "cells": [
  {
   "cell_type": "markdown",
   "metadata": {},
   "source": [
    "## Setup"
   ]
  },
  {
   "cell_type": "code",
   "execution_count": 28,
   "metadata": {},
   "outputs": [
    {
     "name": "stderr",
     "output_type": "stream",
     "text": [
      "[nltk_data] Downloading package stopwords to\n",
      "[nltk_data]     /Users/gabriellahurtado/nltk_data...\n",
      "[nltk_data]   Package stopwords is already up-to-date!\n"
     ]
    }
   ],
   "source": [
    "import pandas as pd\n",
    "import numpy as np\n",
    "import nltk\n",
    "import string\n",
    "import matplotlib.pyplot as plt\n",
    "from wordcloud import WordCloud as WC\n",
    "from wordcloud import STOPWORDS\n",
    "from collections import Counter\n",
    "from nltk.corpus import stopwords\n",
    "from nltk.corpus import stopwords\n",
    "from nltk.tokenize import word_tokenize\n",
    "nltk.download('stopwords')\n",
    "from sklearn.feature_extraction.text import CountVectorizer\n",
    "from sklearn.feature_extraction.text import TfidfVectorizer\n",
    "from sklearn.linear_model import LogisticRegression\n",
    "from sklearn.metrics import accuracy_score, roc_auc_score, average_precision_score, roc_curve\n",
    "from sklearn.ensemble import RandomForestClassifier"
   ]
  },
  {
   "cell_type": "markdown",
   "metadata": {},
   "source": [
    "### Loading Data"
   ]
  },
  {
   "cell_type": "code",
   "execution_count": 2,
   "metadata": {},
   "outputs": [],
   "source": [
    "fake=pd.read_csv('fake_tokens.csv')\n",
    "fake=fake.rename(columns={'Unnamed: 0':'index'})\n",
    "real=pd.read_csv('real_tokens.csv')\n",
    "real=real.rename(columns={'Unnamed: 0':'index'})\n",
    "full_df=real.append(fake,sort=False)\n",
    "full_df['filtered_tokens']=full_df['filtered_tokens'].apply(lambda x: x.replace(' ',\"\"))"
   ]
  },
  {
   "cell_type": "code",
   "execution_count": 3,
   "metadata": {},
   "outputs": [],
   "source": [
    "valid=pd.read_csv('dev.csv')\n",
    "val_x=valid.drop(['label'],axis=1)\n",
    "val_y=valid['label']"
   ]
  },
  {
   "cell_type": "code",
   "execution_count": 4,
   "metadata": {},
   "outputs": [],
   "source": [
    "x=full_df.drop(['label'],axis=1)\n",
    "y=full_df['label']"
   ]
  },
  {
   "cell_type": "markdown",
   "metadata": {},
   "source": [
    "## Featurizing\n",
    "\n",
    "### Bag of words model"
   ]
  },
  {
   "cell_type": "code",
   "execution_count": 5,
   "metadata": {},
   "outputs": [],
   "source": [
    "bow_vectorizer = CountVectorizer(stop_words='english', binary=True)\n",
    "bow_vectorizer.fit(full_df['review'])\n",
    "bow_x_train = bow_vectorizer.transform(x['review'])"
   ]
  },
  {
   "cell_type": "markdown",
   "metadata": {},
   "source": [
    "### Bag of Bi-grams model"
   ]
  },
  {
   "cell_type": "code",
   "execution_count": 6,
   "metadata": {},
   "outputs": [],
   "source": [
    "bv2 = CountVectorizer(stop_words='english', binary=True, ngram_range=(2,2))\n",
    "bv2.fit(full_df['review'])\n",
    "bv2_x_train = bv2.transform(x['review'])"
   ]
  },
  {
   "cell_type": "markdown",
   "metadata": {},
   "source": [
    "### TF-IDF model"
   ]
  },
  {
   "cell_type": "code",
   "execution_count": 7,
   "metadata": {},
   "outputs": [],
   "source": [
    "tv = TfidfVectorizer()\n",
    "tv.fit(full_df['review'])\n",
    "tv_x_train = tv.transform(x['review'])"
   ]
  },
  {
   "cell_type": "markdown",
   "metadata": {},
   "source": [
    "## Balancing "
   ]
  },
  {
   "cell_type": "code",
   "execution_count": 208,
   "metadata": {},
   "outputs": [
    {
     "name": "stdout",
     "output_type": "stream",
     "text": [
      "number of real reviews: 225055\n",
      "number of fake reviews: 25819\n"
     ]
    }
   ],
   "source": [
    "print('number of real reviews:',(len(real)))\n",
    "print('number of fake reviews:',(len(fake)))"
   ]
  },
  {
   "cell_type": "code",
   "execution_count": 8,
   "metadata": {},
   "outputs": [],
   "source": [
    "import imblearn\n",
    "from imblearn.over_sampling import SMOTE\n",
    "from imblearn.under_sampling import RandomUnderSampler"
   ]
  },
  {
   "cell_type": "markdown",
   "metadata": {},
   "source": [
    "### Undersampling"
   ]
  },
  {
   "cell_type": "code",
   "execution_count": 9,
   "metadata": {},
   "outputs": [],
   "source": [
    "#BOW\n",
    "rus=RandomUnderSampler()\n",
    "under_x, under_y = rus.fit_sample(bow_x_train, y)"
   ]
  },
  {
   "cell_type": "code",
   "execution_count": 10,
   "metadata": {},
   "outputs": [],
   "source": [
    "#Bi-grams\n",
    "under_x_bv2, under_y_bv2=rus.fit_sample(bv2_x_train, y)"
   ]
  },
  {
   "cell_type": "code",
   "execution_count": 11,
   "metadata": {},
   "outputs": [],
   "source": [
    "#TF-IDF\n",
    "under_x_tv, under_y_tv=rus.fit_sample(tv_x_train, y)"
   ]
  },
  {
   "cell_type": "markdown",
   "metadata": {},
   "source": [
    "### SMOTE"
   ]
  },
  {
   "cell_type": "code",
   "execution_count": 12,
   "metadata": {},
   "outputs": [],
   "source": [
    "#BOW\n",
    "sm=SMOTE()\n",
    "over_x, over_y = sm.fit_sample(bow_x_train, y)"
   ]
  },
  {
   "cell_type": "code",
   "execution_count": 13,
   "metadata": {},
   "outputs": [],
   "source": [
    "#Bi-grams\n",
    "over_x_bv2, over_y_bv2 = sm.fit_sample(bv2_x_train, y)"
   ]
  },
  {
   "cell_type": "code",
   "execution_count": 14,
   "metadata": {},
   "outputs": [],
   "source": [
    "#TF-IDF\n",
    "over_x_tv, over_y_tv = sm.fit_sample(tv_x_train, y)"
   ]
  },
  {
   "cell_type": "markdown",
   "metadata": {},
   "source": [
    "## Tuning"
   ]
  },
  {
   "cell_type": "code",
   "execution_count": 23,
   "metadata": {},
   "outputs": [],
   "source": [
    "from sklearn.metrics import roc_curve, auc"
   ]
  },
  {
   "cell_type": "code",
   "execution_count": 117,
   "metadata": {},
   "outputs": [],
   "source": [
    "rf1=RandomForestClassifier()"
   ]
  },
  {
   "cell_type": "code",
   "execution_count": 20,
   "metadata": {},
   "outputs": [],
   "source": [
    "bow_x_val=bow_vectorizer.transform(valid['review'])"
   ]
  },
  {
   "cell_type": "code",
   "execution_count": 16,
   "metadata": {},
   "outputs": [],
   "source": [
    "#taken from Amelia!\n",
    "def ClassifierMetrics (X_train, Y_train, X_test, Y_test, fitted_model):\n",
    "    Y_pred = fitted_model.predict(X_test)\n",
    "    fpr, tpr, thresholds = roc_curve(Y_test, Y_pred)\n",
    "    metrics = {'train_accuracy': fitted_model.score(X_train, Y_train),\n",
    "    'test_accuracy': fitted_model.score(X_test, Y_test),\n",
    "    'test_tpr': tpr,\n",
    "    'test_fpr': fpr,\n",
    "    'test_auc': roc_auc_score(Y_test, Y_pred),\n",
    "    'test_ap': average_precision_score(Y_test, Y_pred)}\n",
    "    return metrics"
   ]
  },
  {
   "cell_type": "markdown",
   "metadata": {},
   "source": [
    "### Baseline"
   ]
  },
  {
   "cell_type": "code",
   "execution_count": 118,
   "metadata": {},
   "outputs": [
    {
     "data": {
      "text/plain": [
       "{'train_accuracy': 0.9823018726532043,\n",
       " 'test_accuracy': 0.8940364162815302,\n",
       " 'test_tpr': array([0.        , 0.04632675, 1.        ]),\n",
       " 'test_fpr': array([0.        , 0.01013325, 1.        ]),\n",
       " 'test_auc': 0.5180967518443614,\n",
       " 'test_ap': 0.11264423408437553}"
      ]
     },
     "execution_count": 118,
     "metadata": {},
     "output_type": "execute_result"
    }
   ],
   "source": [
    "bow_rf_base=rf1.fit(over_x,over_y)\n",
    "eval_bow_rf=ClassifierMetrics(bow_x_train,y,bow_x_val,val_y,\n",
    "                              bow_rf_base)\n",
    "eval_bow_rf"
   ]
  },
  {
   "cell_type": "markdown",
   "metadata": {},
   "source": [
    "### Max_depth"
   ]
  },
  {
   "cell_type": "code",
   "execution_count": 58,
   "metadata": {
    "scrolled": true
   },
   "outputs": [
    {
     "data": {
      "image/png": "[encoded data removed]",
      "text/plain": [
       "<Figure size 432x288 with 2 Axes>"
      ]
     },
     "metadata": {
      "needs_background": "light"
     },
     "output_type": "display_data"
    }
   ],
   "source": [
    "max_depths = [1,10,100,200,300,500]\n",
    "accuracies = [0]*len(max_depths)\n",
    "aps = [0]*len(max_depths)\n",
    "aucs = [0]*len(max_depths)\n",
    "for i in range(len(max_depths)):\n",
    "    rf = RandomForestClassifier(max_depth=max_depths[i])\n",
    "    rf.fit(over_x,over_y)\n",
    "    preds = rf.predict(bow_x_val)\n",
    "    accuracy=rf.score(bow_x_val,val_y)\n",
    "    accuracies[i]=accuracy \n",
    "    ap=average_precision_score(val_y, preds)\n",
    "    aps[i]=ap\n",
    "    auc=roc_auc_score(val_y, preds)\n",
    "    aucs[i]=auc\n",
    "    \n",
    "plt.subplot(1, 3, 1)\n",
    "plt.plot(max_depths, accuracies, 'r')\n",
    "plt.ylabel('Accuracy')\n",
    "plt.xlabel('Tree depth')\n",
    "\n",
    "\n",
    "plt.subplot(1, 3, 2)\n",
    "plt.plot(max_depths, aps,'b')\n",
    "plt.ylabel('Avg. Precision')\n",
    "plt.xlabel('Tree depth')\n",
    "\n",
    "plt.subplot(1, 3, 3)\n",
    "plt.plot(max_depths, aucs,'g')\n",
    "plt.ylabel('AUC')\n",
    "plt.xlabel('Tree depth')\n",
    "\n",
    "plt.tight_layout()\n",
    "plt.show()"
   ]
  },
  {
   "cell_type": "code",
   "execution_count": 65,
   "metadata": {},
   "outputs": [
    {
     "data": {
      "text/plain": [
       "[0.35798207027117324,\n",
       " 0.6679380811849213,\n",
       " 0.8484046995935186,\n",
       " 0.8768305584943482,\n",
       " 0.8835124450136422,\n",
       " 0.8906954730218832]"
      ]
     },
     "execution_count": 65,
     "metadata": {},
     "output_type": "execute_result"
    }
   ],
   "source": [
    "accuracies"
   ]
  },
  {
   "cell_type": "markdown",
   "metadata": {},
   "source": [
    "Best choice seems to be ~300"
   ]
  },
  {
   "cell_type": "markdown",
   "metadata": {},
   "source": [
    "### Min_samples_split"
   ]
  },
  {
   "cell_type": "code",
   "execution_count": 124,
   "metadata": {},
   "outputs": [
    {
     "data": {
      "image/png": "[encoded data removed]",
      "text/plain": [
       "<Figure size 432x288 with 3 Axes>"
      ]
     },
     "metadata": {
      "needs_background": "light"
     },
     "output_type": "display_data"
    }
   ],
   "source": [
    "min_samples_splits = np.linspace(0.00001, 0.1, 10, endpoint=True)\n",
    "accuracies2 = [0]*len(min_samples_splits)\n",
    "aps2 = [0]*len(min_samples_splits)\n",
    "aucs2= [0]*len(min_samples_splits)\n",
    "for i in range(len(min_samples_splits)):\n",
    "    rf = RandomForestClassifier(min_samples_split=min_samples_splits[i])\n",
    "    rf.fit(over_x,over_y)\n",
    "    preds = rf.predict(bow_x_val)\n",
    "    accuracy=rf.score(bow_x_val,val_y)\n",
    "    accuracies2[i]=accuracy\n",
    "    ap=average_precision_score(val_y, preds)\n",
    "    aps2[i]=ap\n",
    "    auc=roc_auc_score(val_y, preds)\n",
    "    aucs2[i]=auc\n",
    "    \n",
    "plt.subplot(1, 3, 1)\n",
    "plt.plot(min_samples_splits, accuracies2, 'r')\n",
    "plt.ylabel('Accuracy')\n",
    "plt.xlabel('Min sample split')\n",
    "\n",
    "\n",
    "plt.subplot(1, 3, 2)\n",
    "plt.plot(min_samples_splits, aps2,'b')\n",
    "plt.ylabel('Avg. Precision')\n",
    "plt.xlabel('Min sample split')\n",
    "\n",
    "plt.subplot(1, 3, 3)\n",
    "plt.plot(min_samples_splits, aucs2,'g')\n",
    "plt.ylabel('AUC')\n",
    "plt.xlabel('Min sample split')\n",
    "\n",
    "plt.tight_layout()\n",
    "plt.show()"
   ]
  },
  {
   "cell_type": "code",
   "execution_count": 120,
   "metadata": {},
   "outputs": [
    {
     "data": {
      "text/plain": [
       "[0.8938693691185478,\n",
       " 0.8812851495072108,\n",
       " 0.8790021716131188,\n",
       " 0.8786123948994933,\n",
       " 0.874185645080461,\n",
       " 0.8725151734506376,\n",
       " 0.8658332869313436,\n",
       " 0.86842251795757,\n",
       " 0.8661952224511387,\n",
       " 0.8522189431482822]"
      ]
     },
     "execution_count": 120,
     "metadata": {},
     "output_type": "execute_result"
    }
   ],
   "source": [
    "accuracies2"
   ]
  },
  {
   "cell_type": "code",
   "execution_count": 122,
   "metadata": {},
   "outputs": [
    {
     "data": {
      "text/plain": [
       "4.5011"
      ]
     },
     "execution_count": 122,
     "metadata": {},
     "output_type": "execute_result"
    }
   ],
   "source": [
    "0.00001*over_x.shape[0]"
   ]
  },
  {
   "cell_type": "markdown",
   "metadata": {},
   "source": [
    "Best answer seems to be 0.00001, which is 4.5 minimum samples."
   ]
  },
  {
   "cell_type": "markdown",
   "metadata": {},
   "source": [
    "## Evaluation"
   ]
  },
  {
   "cell_type": "code",
   "execution_count": 100,
   "metadata": {},
   "outputs": [],
   "source": [
    "rf=RandomForestClassifier(max_depth=300,min_samples_split=0.0001)"
   ]
  },
  {
   "cell_type": "markdown",
   "metadata": {},
   "source": [
    "### Bag of Words Evaluation"
   ]
  },
  {
   "cell_type": "markdown",
   "metadata": {},
   "source": [
    "#### BOW unbalanced"
   ]
  },
  {
   "cell_type": "code",
   "execution_count": 101,
   "metadata": {},
   "outputs": [],
   "source": [
    "#unbalanced\n",
    "bow_rf_train=rf.fit(bow_x_train,y)\n",
    "eval_bow_rf=ClassifierMetrics(bow_x_train,y,bow_x_val,val_y,\n",
    "                              bow_rf_train)"
   ]
  },
  {
   "cell_type": "code",
   "execution_count": 102,
   "metadata": {},
   "outputs": [
    {
     "data": {
      "text/plain": [
       "{'train_accuracy': 0.9144431068982836,\n",
       " 'test_accuracy': 0.8988529428141879,\n",
       " 'test_tpr': array([0.        , 0.00466009, 1.        ]),\n",
       " 'test_fpr': array([0.00000000e+00, 6.19770685e-05, 1.00000000e+00]),\n",
       " 'test_auc': 0.5022990553254068,\n",
       " 'test_ap': 0.10526092696804977}"
      ]
     },
     "execution_count": 102,
     "metadata": {},
     "output_type": "execute_result"
    }
   ],
   "source": [
    "eval_bow_rf"
   ]
  },
  {
   "cell_type": "markdown",
   "metadata": {},
   "source": [
    "#### BOW undersampled"
   ]
  },
  {
   "cell_type": "code",
   "execution_count": 103,
   "metadata": {},
   "outputs": [
    {
     "data": {
      "text/plain": [
       "{'train_accuracy': 0.9440140981447771,\n",
       " 'test_accuracy': 0.5758115708001559,\n",
       " 'test_tpr': array([0.        , 0.64446272, 1.        ]),\n",
       " 'test_fpr': array([0.        , 0.43194918, 1.        ]),\n",
       " 'test_auc': 0.6062567702472016,\n",
       " 'test_ap': 0.12911996412976573}"
      ]
     },
     "execution_count": 103,
     "metadata": {},
     "output_type": "execute_result"
    }
   ],
   "source": [
    "#unbalanced\n",
    "bow_rf_under=rf.fit(under_x,under_y)\n",
    "eval_bow_rf_under=ClassifierMetrics(under_x,under_y,bow_x_val,val_y,\n",
    "                              bow_rf_under)\n",
    "eval_bow_rf_under"
   ]
  },
  {
   "cell_type": "markdown",
   "metadata": {},
   "source": [
    "#### BOW oversampled"
   ]
  },
  {
   "cell_type": "code",
   "execution_count": 104,
   "metadata": {},
   "outputs": [
    {
     "data": {
      "text/plain": [
       "{'train_accuracy': 0.9492235231387883,\n",
       " 'test_accuracy': 0.8840135865025892,\n",
       " 'test_tpr': array([0.       , 0.0841557, 1.       ]),\n",
       " 'test_fpr': array([0.        , 0.02556554, 1.        ]),\n",
       " 'test_auc': 0.5292950805022316,\n",
       " 'test_ap': 0.11584057385111565}"
      ]
     },
     "execution_count": 104,
     "metadata": {},
     "output_type": "execute_result"
    }
   ],
   "source": [
    "#oversampled\n",
    "bow_rf_over=rf.fit(over_x,over_y)\n",
    "eval_bow_rf_over=ClassifierMetrics(over_x,over_y,bow_x_val,val_y,\n",
    "                              bow_rf_over)\n",
    "eval_bow_rf_over"
   ]
  },
  {
   "cell_type": "markdown",
   "metadata": {},
   "source": [
    "### Bag of Bi-grams Evaluation"
   ]
  },
  {
   "cell_type": "code",
   "execution_count": 105,
   "metadata": {},
   "outputs": [],
   "source": [
    "bv2_x_val=bv2.transform(valid['review'])"
   ]
  },
  {
   "cell_type": "markdown",
   "metadata": {},
   "source": [
    "#### Bi-gram unbalanced"
   ]
  },
  {
   "cell_type": "code",
   "execution_count": 106,
   "metadata": {},
   "outputs": [
    {
     "data": {
      "text/plain": [
       "{'train_accuracy': 0.897374777776892,\n",
       " 'test_accuracy': 0.8984631661005624,\n",
       " 'test_tpr': array([2.74122807e-04, 1.00000000e+00]),\n",
       " 'test_fpr': array([0., 1.]),\n",
       " 'test_auc': 0.5001370614035088,\n",
       " 'test_ap': 0.10181095670645514}"
      ]
     },
     "execution_count": 106,
     "metadata": {},
     "output_type": "execute_result"
    }
   ],
   "source": [
    "#unbalanced\n",
    "bv2_rf_train =rf.fit(bv2_x_train,y)\n",
    "eval_bv2_rf=ClassifierMetrics(bv2_x_train, y, bv2_x_val, val_y, \n",
    "                              bv2_rf_train)\n",
    "\n",
    "eval_bv2_rf"
   ]
  },
  {
   "cell_type": "markdown",
   "metadata": {},
   "source": [
    "#### Bi-gram undersampled"
   ]
  },
  {
   "cell_type": "code",
   "execution_count": 107,
   "metadata": {},
   "outputs": [
    {
     "data": {
      "text/plain": [
       "{'train_accuracy': 0.8133157752043069,\n",
       " 'test_accuracy': 0.4739406425747536,\n",
       " 'test_tpr': array([0.        , 0.74671053, 1.        ]),\n",
       " 'test_fpr': array([0.        , 0.55689495, 1.        ]),\n",
       " 'test_auc': 0.5949077887234354,\n",
       " 'test_ap': 0.12401178031040566}"
      ]
     },
     "execution_count": 107,
     "metadata": {},
     "output_type": "execute_result"
    }
   ],
   "source": [
    "#undersampled\n",
    "bv2_rf_under=rf.fit(under_x_bv2,under_y_bv2)\n",
    "eval_bv2_rf_under=ClassifierMetrics(under_x_bv2, under_y_bv2, \n",
    "                                    bv2_x_val, val_y, bv2_rf_under)\n",
    "\n",
    "eval_bv2_rf_under"
   ]
  },
  {
   "cell_type": "markdown",
   "metadata": {},
   "source": [
    "#### Bi-gram oversampled"
   ]
  },
  {
   "cell_type": "code",
   "execution_count": 108,
   "metadata": {},
   "outputs": [
    {
     "data": {
      "text/plain": [
       "{'train_accuracy': 0.8657594810157517,\n",
       " 'test_accuracy': 0.7140430981680495,\n",
       " 'test_tpr': array([0.        , 0.39144737, 1.        ]),\n",
       " 'test_fpr': array([0.        , 0.24948869, 1.        ]),\n",
       " 'test_auc': 0.5709793396180255,\n",
       " 'test_ap': 0.12077852764340605}"
      ]
     },
     "execution_count": 108,
     "metadata": {},
     "output_type": "execute_result"
    }
   ],
   "source": [
    "#oversampled\n",
    "bv2_rf_over=rf.fit(over_x_bv2,over_y_bv2)\n",
    "eval_bv2_rf_over=ClassifierMetrics(over_x_bv2, over_y_bv2, bv2_x_val, \n",
    "                                   val_y, bv2_rf_over)\n",
    "\n",
    "eval_bv2_rf_over"
   ]
  },
  {
   "cell_type": "markdown",
   "metadata": {},
   "source": [
    "### TF-IDF Evaluation"
   ]
  },
  {
   "cell_type": "code",
   "execution_count": 109,
   "metadata": {},
   "outputs": [],
   "source": [
    "tv_x_val=tv.transform(valid['review'])"
   ]
  },
  {
   "cell_type": "markdown",
   "metadata": {},
   "source": [
    "#### TF-IDF unbalanced"
   ]
  },
  {
   "cell_type": "code",
   "execution_count": 110,
   "metadata": {},
   "outputs": [
    {
     "data": {
      "text/plain": [
       "{'train_accuracy': 0.9322727743807648,\n",
       " 'test_accuracy': 0.8985466896820535,\n",
       " 'test_tpr': array([0.        , 0.00685307, 1.        ]),\n",
       " 'test_fpr': array([0.00000000e+00, 6.50759219e-04, 1.00000000e+00]),\n",
       " 'test_auc': 0.5031011554781748,\n",
       " 'test_ap': 0.10459313990807267}"
      ]
     },
     "execution_count": 110,
     "metadata": {},
     "output_type": "execute_result"
    }
   ],
   "source": [
    "#unbalanced\n",
    "tv_rf_train = rf.fit(tv_x_train,y)\n",
    "eval_tv_rf=ClassifierMetrics(tv_x_train, y, tv_x_val, val_y, \n",
    "                             tv_rf_train)\n",
    "eval_tv_rf"
   ]
  },
  {
   "cell_type": "markdown",
   "metadata": {},
   "source": [
    "#### TF-IDF undersampled"
   ]
  },
  {
   "cell_type": "code",
   "execution_count": 111,
   "metadata": {},
   "outputs": [
    {
     "data": {
      "text/plain": [
       "{'train_accuracy': 0.9716294201944304,\n",
       " 'test_accuracy': 0.5957737067765466,\n",
       " 'test_tpr': array([0.        , 0.60361842, 1.        ]),\n",
       " 'test_fpr': array([0.        , 0.40511311, 1.        ]),\n",
       " 'test_auc': 0.5992526564513234,\n",
       " 'test_ap': 0.12727425912050674}"
      ]
     },
     "execution_count": 111,
     "metadata": {},
     "output_type": "execute_result"
    }
   ],
   "source": [
    "#undersampled\n",
    "tv_rf_under=rf.fit(under_x_tv,under_y_tv)\n",
    "eval_tv_rf_under=ClassifierMetrics(under_x_tv, under_y_tv, \n",
    "                                    tv_x_val, val_y, tv_rf_under)\n",
    "\n",
    "eval_tv_rf_under"
   ]
  },
  {
   "cell_type": "markdown",
   "metadata": {},
   "source": [
    "#### TF-IDF oversampled"
   ]
  },
  {
   "cell_type": "code",
   "execution_count": 112,
   "metadata": {},
   "outputs": [
    {
     "data": {
      "text/plain": [
       "{'train_accuracy': 0.9750172180133745,\n",
       " 'test_accuracy': 0.8540007795534272,\n",
       " 'test_tpr': array([0.        , 0.14912281, 1.        ]),\n",
       " 'test_fpr': array([0.        , 0.06631546, 1.        ]),\n",
       " 'test_auc': 0.5414036718694785,\n",
       " 'test_ap': 0.11664365842805363}"
      ]
     },
     "execution_count": 112,
     "metadata": {},
     "output_type": "execute_result"
    }
   ],
   "source": [
    "#oversampled\n",
    "tv_rf_over=rf.fit(over_x_tv,over_y_tv)\n",
    "eval_tv_rf_over=ClassifierMetrics(over_x_tv, over_y_tv, tv_x_val, \n",
    "                                  val_y, tv_rf_over)\n",
    "\n",
    "eval_tv_rf_over"
   ]
  },
  {
   "cell_type": "code",
   "execution_count": 115,
   "metadata": {},
   "outputs": [
    {
     "data": {
      "text/html": [
       "<div>\n",
       "<style scoped>\n",
       "    .dataframe tbody tr th:only-of-type {\n",
       "        vertical-align: middle;\n",
       "    }\n",
       "\n",
       "    .dataframe tbody tr th {\n",
       "        vertical-align: top;\n",
       "    }\n",
       "\n",
       "    .dataframe thead th {\n",
       "        text-align: right;\n",
       "    }\n",
       "</style>\n",
       "<table border=\"1\" class=\"dataframe\">\n",
       "  <thead>\n",
       "    <tr style=\"text-align: right;\">\n",
       "      <th></th>\n",
       "      <th>Model</th>\n",
       "      <th>Test Accuracy</th>\n",
       "      <th>Test TPR</th>\n",
       "      <th>Test FPR</th>\n",
       "      <th>Test AUC</th>\n",
       "      <th>Test AP</th>\n",
       "    </tr>\n",
       "  </thead>\n",
       "  <tbody>\n",
       "    <tr>\n",
       "      <th>0</th>\n",
       "      <td>Bag of Words (Unbalanced)</td>\n",
       "      <td>0.898853</td>\n",
       "      <td>[0.0, 0.004660087719298245, 1.0]</td>\n",
       "      <td>[0.0, 6.197706848466067e-05, 1.0]</td>\n",
       "      <td>0.502299</td>\n",
       "      <td>0.105261</td>\n",
       "    </tr>\n",
       "    <tr>\n",
       "      <th>1</th>\n",
       "      <td>Bag of Words (Undersampled)</td>\n",
       "      <td>0.575812</td>\n",
       "      <td>[0.0, 0.6444627192982456, 1.0]</td>\n",
       "      <td>[0.0, 0.4319491788038426, 1.0]</td>\n",
       "      <td>0.606257</td>\n",
       "      <td>0.129120</td>\n",
       "    </tr>\n",
       "    <tr>\n",
       "      <th>2</th>\n",
       "      <td>Bag of Words (Oversampled)</td>\n",
       "      <td>0.884014</td>\n",
       "      <td>[0.0, 0.08415570175438597, 1.0]</td>\n",
       "      <td>[0.0, 0.025565540749922528, 1.0]</td>\n",
       "      <td>0.529295</td>\n",
       "      <td>0.115841</td>\n",
       "    </tr>\n",
       "    <tr>\n",
       "      <th>3</th>\n",
       "      <td>Bi-grams (Unbalanced)</td>\n",
       "      <td>0.898463</td>\n",
       "      <td>[0.00027412280701754384, 1.0]</td>\n",
       "      <td>[0.0, 1.0]</td>\n",
       "      <td>0.500137</td>\n",
       "      <td>0.101811</td>\n",
       "    </tr>\n",
       "    <tr>\n",
       "      <th>4</th>\n",
       "      <td>Bi-grams (Undersampled)</td>\n",
       "      <td>0.473941</td>\n",
       "      <td>[0.0, 0.7467105263157895, 1.0]</td>\n",
       "      <td>[0.0, 0.5568949488689185, 1.0]</td>\n",
       "      <td>0.594908</td>\n",
       "      <td>0.124012</td>\n",
       "    </tr>\n",
       "    <tr>\n",
       "      <th>5</th>\n",
       "      <td>Bi-grams (Oversampled)</td>\n",
       "      <td>0.714043</td>\n",
       "      <td>[0.0, 0.39144736842105265, 1.0]</td>\n",
       "      <td>[0.0, 0.24948868918500156, 1.0]</td>\n",
       "      <td>0.570979</td>\n",
       "      <td>0.120779</td>\n",
       "    </tr>\n",
       "    <tr>\n",
       "      <th>6</th>\n",
       "      <td>TF-IDF (Unbalanced)</td>\n",
       "      <td>0.898547</td>\n",
       "      <td>[0.0, 0.006853070175438596, 1.0]</td>\n",
       "      <td>[0.0, 0.0006507592190889371, 1.0]</td>\n",
       "      <td>0.503101</td>\n",
       "      <td>0.104593</td>\n",
       "    </tr>\n",
       "    <tr>\n",
       "      <th>7</th>\n",
       "      <td>TF-IDF (Undersampled)</td>\n",
       "      <td>0.595774</td>\n",
       "      <td>[0.0, 0.6036184210526315, 1.0]</td>\n",
       "      <td>[0.0, 0.4051131081499845, 1.0]</td>\n",
       "      <td>0.599253</td>\n",
       "      <td>0.127274</td>\n",
       "    </tr>\n",
       "    <tr>\n",
       "      <th>8</th>\n",
       "      <td>TF-IDF (Oversampled)</td>\n",
       "      <td>0.854001</td>\n",
       "      <td>[0.0, 0.14912280701754385, 1.0]</td>\n",
       "      <td>[0.0, 0.06631546327858692, 1.0]</td>\n",
       "      <td>0.541404</td>\n",
       "      <td>0.116644</td>\n",
       "    </tr>\n",
       "  </tbody>\n",
       "</table>\n",
       "</div>"
      ],
      "text/plain": [
       "                         Model  Test Accuracy  \\\n",
       "0    Bag of Words (Unbalanced)       0.898853   \n",
       "1  Bag of Words (Undersampled)       0.575812   \n",
       "2   Bag of Words (Oversampled)       0.884014   \n",
       "3        Bi-grams (Unbalanced)       0.898463   \n",
       "4      Bi-grams (Undersampled)       0.473941   \n",
       "5       Bi-grams (Oversampled)       0.714043   \n",
       "6          TF-IDF (Unbalanced)       0.898547   \n",
       "7        TF-IDF (Undersampled)       0.595774   \n",
       "8         TF-IDF (Oversampled)       0.854001   \n",
       "\n",
       "                           Test TPR                           Test FPR  \\\n",
       "0  [0.0, 0.004660087719298245, 1.0]  [0.0, 6.197706848466067e-05, 1.0]   \n",
       "1    [0.0, 0.6444627192982456, 1.0]     [0.0, 0.4319491788038426, 1.0]   \n",
       "2   [0.0, 0.08415570175438597, 1.0]   [0.0, 0.025565540749922528, 1.0]   \n",
       "3     [0.00027412280701754384, 1.0]                         [0.0, 1.0]   \n",
       "4    [0.0, 0.7467105263157895, 1.0]     [0.0, 0.5568949488689185, 1.0]   \n",
       "5   [0.0, 0.39144736842105265, 1.0]    [0.0, 0.24948868918500156, 1.0]   \n",
       "6  [0.0, 0.006853070175438596, 1.0]  [0.0, 0.0006507592190889371, 1.0]   \n",
       "7    [0.0, 0.6036184210526315, 1.0]     [0.0, 0.4051131081499845, 1.0]   \n",
       "8   [0.0, 0.14912280701754385, 1.0]    [0.0, 0.06631546327858692, 1.0]   \n",
       "\n",
       "   Test AUC   Test AP  \n",
       "0  0.502299  0.105261  \n",
       "1  0.606257  0.129120  \n",
       "2  0.529295  0.115841  \n",
       "3  0.500137  0.101811  \n",
       "4  0.594908  0.124012  \n",
       "5  0.570979  0.120779  \n",
       "6  0.503101  0.104593  \n",
       "7  0.599253  0.127274  \n",
       "8  0.541404  0.116644  "
      ]
     },
     "execution_count": 115,
     "metadata": {},
     "output_type": "execute_result"
    }
   ],
   "source": [
    "model_names=['Bag of Words (Unbalanced)','Bag of Words (Undersampled)',\n",
    "             'Bag of Words (Oversampled)', 'Bi-grams (Unbalanced)',\n",
    "             'Bi-grams (Undersampled)','Bi-grams (Oversampled)',\n",
    "             'TF-IDF (Unbalanced)','TF-IDF (Undersampled)','TF-IDF (Oversampled)']\n",
    "\n",
    "test_accs=[eval_bow_rf['test_accuracy'], eval_bow_rf_under['test_accuracy'], \n",
    "eval_bow_rf_over['test_accuracy'],eval_bv2_rf['test_accuracy'],\n",
    "eval_bv2_rf_under['test_accuracy'],eval_bv2_rf_over['test_accuracy'],\n",
    "eval_tv_rf['test_accuracy'],eval_tv_rf_under['test_accuracy'], \n",
    "eval_tv_rf_over['test_accuracy']]\n",
    "\n",
    "test_tprs=[eval_bow_rf['test_tpr'], eval_bow_rf_under['test_tpr'], eval_bow_rf_over['test_tpr'],\n",
    "eval_bv2_rf['test_tpr'],eval_bv2_rf_under['test_tpr'],eval_bv2_rf_over['test_tpr'],\n",
    "eval_tv_rf['test_tpr'],eval_tv_rf_under['test_tpr'], eval_tv_rf_over['test_tpr']]\n",
    "\n",
    "test_fprs=[eval_bow_rf['test_fpr'], eval_bow_rf_under['test_fpr'], eval_bow_rf_over['test_fpr'],\n",
    "eval_bv2_rf['test_fpr'],eval_bv2_rf_under['test_fpr'],eval_bv2_rf_over['test_fpr'],\n",
    "eval_tv_rf['test_fpr'],eval_tv_rf_under['test_fpr'], eval_tv_rf_over['test_fpr']]\n",
    "\n",
    "test_aucs=[eval_bow_rf['test_auc'], eval_bow_rf_under['test_auc'], eval_bow_rf_over['test_auc'],\n",
    "eval_bv2_rf['test_auc'],eval_bv2_rf_under['test_auc'],eval_bv2_rf_over['test_auc'],\n",
    "eval_tv_rf['test_auc'],eval_tv_rf_under['test_auc'], eval_tv_rf_over['test_auc']]\n",
    "\n",
    "test_aps=[eval_bow_rf['test_ap'], eval_bow_rf_under['test_ap'], eval_bow_rf_over['test_ap'],\n",
    "eval_bv2_rf['test_ap'],eval_bv2_rf_under['test_ap'],eval_bv2_rf_over['test_ap'],\n",
    "eval_tv_rf['test_ap'],eval_tv_rf_under['test_ap'], eval_tv_rf_over['test_ap']]\n",
    "\n",
    "data={'Model':model_names,'Test Accuracy':test_accs,'Test TPR':test_tprs,\n",
    "      'Test FPR':test_fprs,'Test AUC':test_aucs, 'Test AP':test_aps}\n",
    "evals=pd.DataFrame(data)\n",
    "evals"
   ]
  },
  {
   "cell_type": "code",
   "execution_count": null,
   "metadata": {},
   "outputs": [],
   "source": []
  }
 ],
 "metadata": {
  "kernelspec": {
   "display_name": "Python 3",
   "language": "python",
   "name": "python3"
  },
  "language_info": {
   "codemirror_mode": {
    "name": "ipython",
    "version": 3
   },
   "file_extension": ".py",
   "mimetype": "text/x-python",
   "name": "python",
   "nbconvert_exporter": "python",
   "pygments_lexer": "ipython3",
   "version": "3.7.3"
  }
 },
 "nbformat": 4,
 "nbformat_minor": 2
}
