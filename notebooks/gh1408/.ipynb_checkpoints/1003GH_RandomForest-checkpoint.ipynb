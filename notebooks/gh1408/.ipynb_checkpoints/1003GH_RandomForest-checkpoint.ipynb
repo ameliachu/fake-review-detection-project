{
 "cells": [
  {
   "cell_type": "markdown",
   "metadata": {},
   "source": [
    "## Setup"
   ]
  },
  {
   "cell_type": "code",
   "execution_count": 28,
   "metadata": {},
   "outputs": [
    {
     "name": "stderr",
     "output_type": "stream",
     "text": [
      "[nltk_data] Downloading package stopwords to\n",
      "[nltk_data]     /Users/gabriellahurtado/nltk_data...\n",
      "[nltk_data]   Package stopwords is already up-to-date!\n"
     ]
    }
   ],
   "source": [
    "import pandas as pd\n",
    "import numpy as np\n",
    "import nltk\n",
    "import string\n",
    "import matplotlib.pyplot as plt\n",
    "from wordcloud import WordCloud as WC\n",
    "from wordcloud import STOPWORDS\n",
    "from collections import Counter\n",
    "from nltk.corpus import stopwords\n",
    "from nltk.corpus import stopwords\n",
    "from nltk.tokenize import word_tokenize\n",
    "nltk.download('stopwords')\n",
    "from sklearn.feature_extraction.text import CountVectorizer\n",
    "from sklearn.feature_extraction.text import TfidfVectorizer\n",
    "from sklearn.metrics import accuracy_score, roc_auc_score, average_precision_score, roc_curve\n",
    "from sklearn.ensemble import RandomForestClassifier"
   ]
  },
  {
   "cell_type": "markdown",
   "metadata": {},
   "source": [
    "### Loading Data"
   ]
  },
  {
   "cell_type": "code",
   "execution_count": 2,
   "metadata": {
    "collapsed": true
   },
   "outputs": [],
   "source": [
    "fake=pd.read_csv('fake_tokens.csv')\n",
    "fake=fake.rename(columns={'Unnamed: 0':'index'})\n",
    "real=pd.read_csv('real_tokens.csv')\n",
    "real=real.rename(columns={'Unnamed: 0':'index'})\n",
    "full_df=real.append(fake,sort=False)\n",
    "full_df['filtered_tokens']=full_df['filtered_tokens'].apply(lambda x: x.replace(' ',\"\"))"
   ]
  },
  {
   "cell_type": "code",
   "execution_count": 3,
   "metadata": {
    "collapsed": true
   },
   "outputs": [],
   "source": [
    "valid=pd.read_csv('dev.csv')\n",
    "val_x=valid.drop(['label'],axis=1)\n",
    "val_y=valid['label']"
   ]
  },
  {
   "cell_type": "code",
   "execution_count": 240,
   "metadata": {
    "collapsed": true
   },
   "outputs": [],
   "source": [
    "x=full_df.drop(['label'],axis=1)\n",
    "y=full_df['label']"
   ]
  },
  {
   "cell_type": "markdown",
   "metadata": {},
   "source": [
    "## Featurizing\n",
    "\n",
    "### Bag of words model"
   ]
  },
  {
   "cell_type": "code",
   "execution_count": 5,
   "metadata": {
    "collapsed": true
   },
   "outputs": [],
   "source": [
    "bow_vectorizer = CountVectorizer(stop_words='english', binary=True)\n",
    "bow_vectorizer.fit(full_df['review'])\n",
    "bow_x_train = bow_vectorizer.transform(x['review'])"
   ]
  },
  {
   "cell_type": "markdown",
   "metadata": {},
   "source": [
    "### Bag of Bi-grams model"
   ]
  },
  {
   "cell_type": "code",
   "execution_count": 6,
   "metadata": {
    "collapsed": true
   },
   "outputs": [],
   "source": [
    "bv2 = CountVectorizer(stop_words='english', binary=True, ngram_range=(2,2))\n",
    "bv2.fit(full_df['review'])\n",
    "bv2_x_train = bv2.transform(x['review'])"
   ]
  },
  {
   "cell_type": "markdown",
   "metadata": {},
   "source": [
    "### TF-IDF model"
   ]
  },
  {
   "cell_type": "code",
   "execution_count": 7,
   "metadata": {
    "collapsed": true
   },
   "outputs": [],
   "source": [
    "tv = TfidfVectorizer()\n",
    "tv.fit(full_df['review'])\n",
    "tv_x_train = tv.transform(x['review'])"
   ]
  },
  {
   "cell_type": "markdown",
   "metadata": {},
   "source": [
    "## Balancing "
   ]
  },
  {
   "cell_type": "code",
   "execution_count": 284,
   "metadata": {},
   "outputs": [
    {
     "name": "stdout",
     "output_type": "stream",
     "text": [
      "number of real reviews: 225055\n",
      "number of fake reviews: 25819\n"
     ]
    }
   ],
   "source": [
    "print('number of real reviews:',(len(real)))\n",
    "print('number of fake reviews:',(len(fake)))"
   ]
  },
  {
   "cell_type": "code",
   "execution_count": 8,
   "metadata": {
    "collapsed": true
   },
   "outputs": [],
   "source": [
    "import imblearn\n",
    "from imblearn.over_sampling import SMOTE\n",
    "from imblearn.under_sampling import RandomUnderSampler"
   ]
  },
  {
   "cell_type": "markdown",
   "metadata": {},
   "source": [
    "### Undersampling"
   ]
  },
  {
   "cell_type": "code",
   "execution_count": 9,
   "metadata": {
    "collapsed": true
   },
   "outputs": [],
   "source": [
    "#BOW\n",
    "rus=RandomUnderSampler()\n",
    "under_x, under_y = rus.fit_sample(bow_x_train, y)"
   ]
  },
  {
   "cell_type": "code",
   "execution_count": 10,
   "metadata": {
    "collapsed": true
   },
   "outputs": [],
   "source": [
    "#Bi-grams\n",
    "under_x_bv2, under_y_bv2=rus.fit_sample(bv2_x_train, y)"
   ]
  },
  {
   "cell_type": "code",
   "execution_count": 11,
   "metadata": {
    "collapsed": true
   },
   "outputs": [],
   "source": [
    "#TF-IDF\n",
    "under_x_tv, under_y_tv=rus.fit_sample(tv_x_train, y)"
   ]
  },
  {
   "cell_type": "markdown",
   "metadata": {},
   "source": [
    "### SMOTE"
   ]
  },
  {
   "cell_type": "code",
   "execution_count": 12,
   "metadata": {
    "collapsed": true
   },
   "outputs": [],
   "source": [
    "#BOW\n",
    "sm=SMOTE()\n",
    "over_x, over_y = sm.fit_sample(bow_x_train, y)"
   ]
  },
  {
   "cell_type": "code",
   "execution_count": 13,
   "metadata": {
    "collapsed": true
   },
   "outputs": [],
   "source": [
    "#Bi-grams\n",
    "over_x_bv2, over_y_bv2 = sm.fit_sample(bv2_x_train, y)"
   ]
  },
  {
   "cell_type": "code",
   "execution_count": 14,
   "metadata": {
    "collapsed": true
   },
   "outputs": [],
   "source": [
    "#TF-IDF\n",
    "over_x_tv, over_y_tv = sm.fit_sample(tv_x_train, y)"
   ]
  },
  {
   "cell_type": "code",
   "execution_count": 267,
   "metadata": {
    "collapsed": true
   },
   "outputs": [],
   "source": [
    "#Tri-grams\n",
    "over_x_bv3, over_y_bv3 = sm.fit_sample(bv3_x_train, y)"
   ]
  },
  {
   "cell_type": "markdown",
   "metadata": {},
   "source": [
    "## Tuning"
   ]
  },
  {
   "cell_type": "code",
   "execution_count": 117,
   "metadata": {
    "collapsed": true
   },
   "outputs": [],
   "source": [
    "rf1=RandomForestClassifier()"
   ]
  },
  {
   "cell_type": "code",
   "execution_count": 285,
   "metadata": {
    "collapsed": true
   },
   "outputs": [],
   "source": [
    "#taken from Amelia!\n",
    "from sklearn.metrics import accuracy_score, roc_auc_score, average_precision_score\n",
    "\n",
    "def ClassifierMetrics (X_train, Y_train, X_test, Y_test, fitted_model):\n",
    "    \"\"\"\n",
    "    X_train: training set features\n",
    "    Y_train: training set labels\n",
    "    X_test: dev/test set features\n",
    "    Y_test: dev/test set labels\n",
    "    fitted_model: \n",
    "    \"\"\"\n",
    "    Y_pred = fitted_model.predict(X_test)\n",
    "    # If your classifier doesn't output decision_function, use predict_proba. \n",
    "    # Make sure it is taking the prob of the '1' class\n",
    "    Y_score = fitted_model.predict_proba(X_test)[:,1]\n",
    "    metrics = {'train_accuracy': fitted_model.score(X_train, Y_train),\n",
    "               'test_accuracy': fitted_model.score(X_test, Y_test),\n",
    "               'test_auc_pred': roc_auc_score(Y_test, Y_pred),\n",
    "               'test_auc_score': roc_auc_score(Y_test, Y_score),\n",
    "               'test_ap_pred': average_precision_score(Y_test, Y_pred),\n",
    "               'test_ap_score': average_precision_score(Y_test, Y_score)}\n",
    "    return metrics"
   ]
  },
  {
   "cell_type": "code",
   "execution_count": 287,
   "metadata": {},
   "outputs": [
    {
     "data": {
      "text/plain": [
       "array([0, 1])"
      ]
     },
     "execution_count": 287,
     "metadata": {},
     "output_type": "execute_result"
    }
   ],
   "source": [
    "rf1.classes_"
   ]
  },
  {
   "cell_type": "markdown",
   "metadata": {},
   "source": [
    "### Baseline"
   ]
  },
  {
   "cell_type": "code",
   "execution_count": 286,
   "metadata": {},
   "outputs": [
    {
     "data": {
      "text/plain": [
       "{'train_accuracy': 0.7189106882339341,\n",
       " 'test_accuracy': 0.6390110807951445,\n",
       " 'test_auc_pred': 0.5954763790577311,\n",
       " 'test_auc_score': 0.6350743571917864,\n",
       " 'test_ap_pred': 0.12708377352285655,\n",
       " 'test_ap_score': 0.15744848253644741}"
      ]
     },
     "execution_count": 286,
     "metadata": {},
     "output_type": "execute_result"
    }
   ],
   "source": [
    "bow_x_val=bow_vectorizer.transform(valid['review'])\n",
    "bow_rf_base=rf1.fit(under_x,under_y)\n",
    "eval_bow_rf=ClassifierMetrics(bow_x_train,y,bow_x_val,val_y,\n",
    "                              bow_rf_base)\n",
    "eval_bow_rf"
   ]
  },
  {
   "cell_type": "markdown",
   "metadata": {},
   "source": [
    "### Max_depth"
   ]
  },
  {
   "cell_type": "code",
   "execution_count": 292,
   "metadata": {},
   "outputs": [
    {
     "data": {
      "image/png": "[encoded data removed]",
      "text/plain": [
       "<Figure size 432x288 with 5 Axes>"
      ]
     },
     "metadata": {
      "needs_background": "light"
     },
     "output_type": "display_data"
    }
   ],
   "source": [
    "max_depths = np.linspace(5, 70, 10, endpoint=True)\n",
    "accuracies = [0]*len(max_depths)\n",
    "aps_pred = [0]*len(max_depths)\n",
    "aps_score= [0]*len(max_depths)\n",
    "aucs_pred = [0]*len(max_depths)\n",
    "aucs_score = [0]*len(max_depths)\n",
    "for i in range(len(max_depths)):\n",
    "    rf = RandomForestClassifier(max_depth=max_depths[i])\n",
    "    rf.fit(under_x,under_y)\n",
    "    preds = rf.predict(bow_x_val)\n",
    "    Y_score = rf.predict_proba(bow_x_val)[:,1]\n",
    "    accuracy=rf.score(bow_x_val,val_y)\n",
    "    accuracies[i]=accuracy \n",
    "    ap_pred=average_precision_score(val_y, preds)\n",
    "    aps_pred[i]=ap_pred\n",
    "    ap_score=average_precision_score(val_y, Y_score)\n",
    "    aps_score[i]=ap_score\n",
    "    auc_pred=roc_auc_score(val_y, preds)\n",
    "    aucs_pred[i]=auc_pred\n",
    "    auc_score=roc_auc_score(val_y, Y_score)\n",
    "    aucs_score[i]=auc_score\n",
    "    \n",
    "    \n",
    "#fig, axs = plt.subplots(2, 2)\n",
    "plt.subplot(2, 3, 1)\n",
    "plt.plot(max_depths, accuracies, 'r')\n",
    "plt.ylabel('Accuracy')\n",
    "plt.xlabel('Tree depth')\n",
    "\n",
    "plt.subplot(2, 3, 2)\n",
    "plt.plot(max_depths, aps_pred,'b')\n",
    "plt.ylabel('Avg. Precision Prediction')\n",
    "plt.xlabel('Tree depth')\n",
    "\n",
    "plt.subplot(2, 3, 3)\n",
    "plt.plot(max_depths, aps_score,'b')\n",
    "plt.ylabel('Avg. Precision Score')\n",
    "plt.xlabel('Tree depth')\n",
    "\n",
    "plt.subplot(2, 3, 4)\n",
    "plt.plot(max_depths, aucs_pred,'g')\n",
    "plt.ylabel('AUC Prediction')\n",
    "plt.xlabel('Tree depth')\n",
    "\n",
    "plt.subplot(2, 3, 5)\n",
    "plt.plot(max_depths, aucs_score,'g')\n",
    "plt.ylabel('AUC Score')\n",
    "plt.xlabel('Tree depth')\n",
    "\n",
    "plt.tight_layout()\n",
    "plt.show()"
   ]
  },
  {
   "cell_type": "code",
   "execution_count": 296,
   "metadata": {},
   "outputs": [
    {
     "data": {
      "text/html": [
       "<div>\n",
       "<style scoped>\n",
       "    .dataframe tbody tr th:only-of-type {\n",
       "        vertical-align: middle;\n",
       "    }\n",
       "\n",
       "    .dataframe tbody tr th {\n",
       "        vertical-align: top;\n",
       "    }\n",
       "\n",
       "    .dataframe thead th {\n",
       "        text-align: right;\n",
       "    }\n",
       "</style>\n",
       "<table border=\"1\" class=\"dataframe\">\n",
       "  <thead>\n",
       "    <tr style=\"text-align: right;\">\n",
       "      <th></th>\n",
       "      <th>Max Depth</th>\n",
       "      <th>Test Accuracy</th>\n",
       "      <th>AP Prediction</th>\n",
       "      <th>AP Score</th>\n",
       "      <th>AUC Prediction</th>\n",
       "      <th>AUC Score</th>\n",
       "    </tr>\n",
       "  </thead>\n",
       "  <tbody>\n",
       "    <tr>\n",
       "      <th>0</th>\n",
       "      <td>5.000000</td>\n",
       "      <td>0.517289</td>\n",
       "      <td>0.125251</td>\n",
       "      <td>0.146966</td>\n",
       "      <td>0.597272</td>\n",
       "      <td>0.632967</td>\n",
       "    </tr>\n",
       "    <tr>\n",
       "      <th>1</th>\n",
       "      <td>12.222222</td>\n",
       "      <td>0.516955</td>\n",
       "      <td>0.130353</td>\n",
       "      <td>0.158889</td>\n",
       "      <td>0.613862</td>\n",
       "      <td>0.655722</td>\n",
       "    </tr>\n",
       "    <tr>\n",
       "      <th>2</th>\n",
       "      <td>19.444444</td>\n",
       "      <td>0.534078</td>\n",
       "      <td>0.130666</td>\n",
       "      <td>0.161076</td>\n",
       "      <td>0.613787</td>\n",
       "      <td>0.657778</td>\n",
       "    </tr>\n",
       "    <tr>\n",
       "      <th>3</th>\n",
       "      <td>26.666667</td>\n",
       "      <td>0.536555</td>\n",
       "      <td>0.129369</td>\n",
       "      <td>0.164629</td>\n",
       "      <td>0.609574</td>\n",
       "      <td>0.656382</td>\n",
       "    </tr>\n",
       "    <tr>\n",
       "      <th>4</th>\n",
       "      <td>33.888889</td>\n",
       "      <td>0.542124</td>\n",
       "      <td>0.129848</td>\n",
       "      <td>0.163337</td>\n",
       "      <td>0.610728</td>\n",
       "      <td>0.655312</td>\n",
       "    </tr>\n",
       "    <tr>\n",
       "      <th>5</th>\n",
       "      <td>41.111111</td>\n",
       "      <td>0.540620</td>\n",
       "      <td>0.131037</td>\n",
       "      <td>0.161352</td>\n",
       "      <td>0.614511</td>\n",
       "      <td>0.657368</td>\n",
       "    </tr>\n",
       "    <tr>\n",
       "      <th>6</th>\n",
       "      <td>48.333333</td>\n",
       "      <td>0.540871</td>\n",
       "      <td>0.130694</td>\n",
       "      <td>0.161436</td>\n",
       "      <td>0.613435</td>\n",
       "      <td>0.654560</td>\n",
       "    </tr>\n",
       "    <tr>\n",
       "      <th>7</th>\n",
       "      <td>55.555556</td>\n",
       "      <td>0.535943</td>\n",
       "      <td>0.129095</td>\n",
       "      <td>0.159203</td>\n",
       "      <td>0.608747</td>\n",
       "      <td>0.651094</td>\n",
       "    </tr>\n",
       "    <tr>\n",
       "      <th>8</th>\n",
       "      <td>62.777778</td>\n",
       "      <td>0.543432</td>\n",
       "      <td>0.131370</td>\n",
       "      <td>0.160861</td>\n",
       "      <td>0.615346</td>\n",
       "      <td>0.654841</td>\n",
       "    </tr>\n",
       "    <tr>\n",
       "      <th>9</th>\n",
       "      <td>70.000000</td>\n",
       "      <td>0.534078</td>\n",
       "      <td>0.127930</td>\n",
       "      <td>0.159448</td>\n",
       "      <td>0.605156</td>\n",
       "      <td>0.649105</td>\n",
       "    </tr>\n",
       "  </tbody>\n",
       "</table>\n",
       "</div>"
      ],
      "text/plain": [
       "   Max Depth  Test Accuracy  AP Prediction  AP Score  AUC Prediction  \\\n",
       "0   5.000000       0.517289       0.125251  0.146966        0.597272   \n",
       "1  12.222222       0.516955       0.130353  0.158889        0.613862   \n",
       "2  19.444444       0.534078       0.130666  0.161076        0.613787   \n",
       "3  26.666667       0.536555       0.129369  0.164629        0.609574   \n",
       "4  33.888889       0.542124       0.129848  0.163337        0.610728   \n",
       "5  41.111111       0.540620       0.131037  0.161352        0.614511   \n",
       "6  48.333333       0.540871       0.130694  0.161436        0.613435   \n",
       "7  55.555556       0.535943       0.129095  0.159203        0.608747   \n",
       "8  62.777778       0.543432       0.131370  0.160861        0.615346   \n",
       "9  70.000000       0.534078       0.127930  0.159448        0.605156   \n",
       "\n",
       "   AUC Score  \n",
       "0   0.632967  \n",
       "1   0.655722  \n",
       "2   0.657778  \n",
       "3   0.656382  \n",
       "4   0.655312  \n",
       "5   0.657368  \n",
       "6   0.654560  \n",
       "7   0.651094  \n",
       "8   0.654841  \n",
       "9   0.649105  "
      ]
     },
     "execution_count": 296,
     "metadata": {},
     "output_type": "execute_result"
    }
   ],
   "source": [
    "depth_scores=pd.DataFrame(data={'Max Depth':max_depths,'Test Accuracy':accuracies,\n",
    "                               'AP Prediction':aps_pred, 'AP Score':aps_score,\n",
    "                                'AUC Prediction':aucs_pred,'AUC Score':aucs_score})\n",
    "depth_scores"
   ]
  },
  {
   "cell_type": "code",
   "execution_count": 320,
   "metadata": {},
   "outputs": [
    {
     "data": {
      "text/html": [
       "<style  type=\"text/css\" >\n",
       "    #T_3545f0ea_9951_11ea_86c7_a683e773348erow2_col5 {\n",
       "            background-color:  yellow;\n",
       "        }    #T_3545f0ea_9951_11ea_86c7_a683e773348erow3_col3 {\n",
       "            background-color:  yellow;\n",
       "        }    #T_3545f0ea_9951_11ea_86c7_a683e773348erow8_col2 {\n",
       "            background-color:  yellow;\n",
       "        }    #T_3545f0ea_9951_11ea_86c7_a683e773348erow8_col4 {\n",
       "            background-color:  yellow;\n",
       "        }</style><table id=\"T_3545f0ea_9951_11ea_86c7_a683e773348e\" ><thead>    <tr>        <th class=\"blank level0\" ></th>        <th class=\"col_heading level0 col0\" >Max Depth</th>        <th class=\"col_heading level0 col1\" >Test Accuracy</th>        <th class=\"col_heading level0 col2\" >AP Prediction</th>        <th class=\"col_heading level0 col3\" >AP Score</th>        <th class=\"col_heading level0 col4\" >AUC Prediction</th>        <th class=\"col_heading level0 col5\" >AUC Score</th>    </tr></thead><tbody>\n",
       "                <tr>\n",
       "                        <th id=\"T_3545f0ea_9951_11ea_86c7_a683e773348elevel0_row0\" class=\"row_heading level0 row0\" >0</th>\n",
       "                        <td id=\"T_3545f0ea_9951_11ea_86c7_a683e773348erow0_col0\" class=\"data row0 col0\" >5</td>\n",
       "                        <td id=\"T_3545f0ea_9951_11ea_86c7_a683e773348erow0_col1\" class=\"data row0 col1\" >0.517289</td>\n",
       "                        <td id=\"T_3545f0ea_9951_11ea_86c7_a683e773348erow0_col2\" class=\"data row0 col2\" >0.125251</td>\n",
       "                        <td id=\"T_3545f0ea_9951_11ea_86c7_a683e773348erow0_col3\" class=\"data row0 col3\" >0.146966</td>\n",
       "                        <td id=\"T_3545f0ea_9951_11ea_86c7_a683e773348erow0_col4\" class=\"data row0 col4\" >0.597272</td>\n",
       "                        <td id=\"T_3545f0ea_9951_11ea_86c7_a683e773348erow0_col5\" class=\"data row0 col5\" >0.632967</td>\n",
       "            </tr>\n",
       "            <tr>\n",
       "                        <th id=\"T_3545f0ea_9951_11ea_86c7_a683e773348elevel0_row1\" class=\"row_heading level0 row1\" >1</th>\n",
       "                        <td id=\"T_3545f0ea_9951_11ea_86c7_a683e773348erow1_col0\" class=\"data row1 col0\" >12.2222</td>\n",
       "                        <td id=\"T_3545f0ea_9951_11ea_86c7_a683e773348erow1_col1\" class=\"data row1 col1\" >0.516955</td>\n",
       "                        <td id=\"T_3545f0ea_9951_11ea_86c7_a683e773348erow1_col2\" class=\"data row1 col2\" >0.130353</td>\n",
       "                        <td id=\"T_3545f0ea_9951_11ea_86c7_a683e773348erow1_col3\" class=\"data row1 col3\" >0.158889</td>\n",
       "                        <td id=\"T_3545f0ea_9951_11ea_86c7_a683e773348erow1_col4\" class=\"data row1 col4\" >0.613862</td>\n",
       "                        <td id=\"T_3545f0ea_9951_11ea_86c7_a683e773348erow1_col5\" class=\"data row1 col5\" >0.655722</td>\n",
       "            </tr>\n",
       "            <tr>\n",
       "                        <th id=\"T_3545f0ea_9951_11ea_86c7_a683e773348elevel0_row2\" class=\"row_heading level0 row2\" >2</th>\n",
       "                        <td id=\"T_3545f0ea_9951_11ea_86c7_a683e773348erow2_col0\" class=\"data row2 col0\" >19.4444</td>\n",
       "                        <td id=\"T_3545f0ea_9951_11ea_86c7_a683e773348erow2_col1\" class=\"data row2 col1\" >0.534078</td>\n",
       "                        <td id=\"T_3545f0ea_9951_11ea_86c7_a683e773348erow2_col2\" class=\"data row2 col2\" >0.130666</td>\n",
       "                        <td id=\"T_3545f0ea_9951_11ea_86c7_a683e773348erow2_col3\" class=\"data row2 col3\" >0.161076</td>\n",
       "                        <td id=\"T_3545f0ea_9951_11ea_86c7_a683e773348erow2_col4\" class=\"data row2 col4\" >0.613787</td>\n",
       "                        <td id=\"T_3545f0ea_9951_11ea_86c7_a683e773348erow2_col5\" class=\"data row2 col5\" >0.657778</td>\n",
       "            </tr>\n",
       "            <tr>\n",
       "                        <th id=\"T_3545f0ea_9951_11ea_86c7_a683e773348elevel0_row3\" class=\"row_heading level0 row3\" >3</th>\n",
       "                        <td id=\"T_3545f0ea_9951_11ea_86c7_a683e773348erow3_col0\" class=\"data row3 col0\" >26.6667</td>\n",
       "                        <td id=\"T_3545f0ea_9951_11ea_86c7_a683e773348erow3_col1\" class=\"data row3 col1\" >0.536555</td>\n",
       "                        <td id=\"T_3545f0ea_9951_11ea_86c7_a683e773348erow3_col2\" class=\"data row3 col2\" >0.129369</td>\n",
       "                        <td id=\"T_3545f0ea_9951_11ea_86c7_a683e773348erow3_col3\" class=\"data row3 col3\" >0.164629</td>\n",
       "                        <td id=\"T_3545f0ea_9951_11ea_86c7_a683e773348erow3_col4\" class=\"data row3 col4\" >0.609574</td>\n",
       "                        <td id=\"T_3545f0ea_9951_11ea_86c7_a683e773348erow3_col5\" class=\"data row3 col5\" >0.656382</td>\n",
       "            </tr>\n",
       "            <tr>\n",
       "                        <th id=\"T_3545f0ea_9951_11ea_86c7_a683e773348elevel0_row4\" class=\"row_heading level0 row4\" >4</th>\n",
       "                        <td id=\"T_3545f0ea_9951_11ea_86c7_a683e773348erow4_col0\" class=\"data row4 col0\" >33.8889</td>\n",
       "                        <td id=\"T_3545f0ea_9951_11ea_86c7_a683e773348erow4_col1\" class=\"data row4 col1\" >0.542124</td>\n",
       "                        <td id=\"T_3545f0ea_9951_11ea_86c7_a683e773348erow4_col2\" class=\"data row4 col2\" >0.129848</td>\n",
       "                        <td id=\"T_3545f0ea_9951_11ea_86c7_a683e773348erow4_col3\" class=\"data row4 col3\" >0.163337</td>\n",
       "                        <td id=\"T_3545f0ea_9951_11ea_86c7_a683e773348erow4_col4\" class=\"data row4 col4\" >0.610728</td>\n",
       "                        <td id=\"T_3545f0ea_9951_11ea_86c7_a683e773348erow4_col5\" class=\"data row4 col5\" >0.655312</td>\n",
       "            </tr>\n",
       "            <tr>\n",
       "                        <th id=\"T_3545f0ea_9951_11ea_86c7_a683e773348elevel0_row5\" class=\"row_heading level0 row5\" >5</th>\n",
       "                        <td id=\"T_3545f0ea_9951_11ea_86c7_a683e773348erow5_col0\" class=\"data row5 col0\" >41.1111</td>\n",
       "                        <td id=\"T_3545f0ea_9951_11ea_86c7_a683e773348erow5_col1\" class=\"data row5 col1\" >0.54062</td>\n",
       "                        <td id=\"T_3545f0ea_9951_11ea_86c7_a683e773348erow5_col2\" class=\"data row5 col2\" >0.131037</td>\n",
       "                        <td id=\"T_3545f0ea_9951_11ea_86c7_a683e773348erow5_col3\" class=\"data row5 col3\" >0.161352</td>\n",
       "                        <td id=\"T_3545f0ea_9951_11ea_86c7_a683e773348erow5_col4\" class=\"data row5 col4\" >0.614511</td>\n",
       "                        <td id=\"T_3545f0ea_9951_11ea_86c7_a683e773348erow5_col5\" class=\"data row5 col5\" >0.657368</td>\n",
       "            </tr>\n",
       "            <tr>\n",
       "                        <th id=\"T_3545f0ea_9951_11ea_86c7_a683e773348elevel0_row6\" class=\"row_heading level0 row6\" >6</th>\n",
       "                        <td id=\"T_3545f0ea_9951_11ea_86c7_a683e773348erow6_col0\" class=\"data row6 col0\" >48.3333</td>\n",
       "                        <td id=\"T_3545f0ea_9951_11ea_86c7_a683e773348erow6_col1\" class=\"data row6 col1\" >0.540871</td>\n",
       "                        <td id=\"T_3545f0ea_9951_11ea_86c7_a683e773348erow6_col2\" class=\"data row6 col2\" >0.130694</td>\n",
       "                        <td id=\"T_3545f0ea_9951_11ea_86c7_a683e773348erow6_col3\" class=\"data row6 col3\" >0.161436</td>\n",
       "                        <td id=\"T_3545f0ea_9951_11ea_86c7_a683e773348erow6_col4\" class=\"data row6 col4\" >0.613435</td>\n",
       "                        <td id=\"T_3545f0ea_9951_11ea_86c7_a683e773348erow6_col5\" class=\"data row6 col5\" >0.65456</td>\n",
       "            </tr>\n",
       "            <tr>\n",
       "                        <th id=\"T_3545f0ea_9951_11ea_86c7_a683e773348elevel0_row7\" class=\"row_heading level0 row7\" >7</th>\n",
       "                        <td id=\"T_3545f0ea_9951_11ea_86c7_a683e773348erow7_col0\" class=\"data row7 col0\" >55.5556</td>\n",
       "                        <td id=\"T_3545f0ea_9951_11ea_86c7_a683e773348erow7_col1\" class=\"data row7 col1\" >0.535943</td>\n",
       "                        <td id=\"T_3545f0ea_9951_11ea_86c7_a683e773348erow7_col2\" class=\"data row7 col2\" >0.129095</td>\n",
       "                        <td id=\"T_3545f0ea_9951_11ea_86c7_a683e773348erow7_col3\" class=\"data row7 col3\" >0.159203</td>\n",
       "                        <td id=\"T_3545f0ea_9951_11ea_86c7_a683e773348erow7_col4\" class=\"data row7 col4\" >0.608747</td>\n",
       "                        <td id=\"T_3545f0ea_9951_11ea_86c7_a683e773348erow7_col5\" class=\"data row7 col5\" >0.651094</td>\n",
       "            </tr>\n",
       "            <tr>\n",
       "                        <th id=\"T_3545f0ea_9951_11ea_86c7_a683e773348elevel0_row8\" class=\"row_heading level0 row8\" >8</th>\n",
       "                        <td id=\"T_3545f0ea_9951_11ea_86c7_a683e773348erow8_col0\" class=\"data row8 col0\" >62.7778</td>\n",
       "                        <td id=\"T_3545f0ea_9951_11ea_86c7_a683e773348erow8_col1\" class=\"data row8 col1\" >0.543432</td>\n",
       "                        <td id=\"T_3545f0ea_9951_11ea_86c7_a683e773348erow8_col2\" class=\"data row8 col2\" >0.13137</td>\n",
       "                        <td id=\"T_3545f0ea_9951_11ea_86c7_a683e773348erow8_col3\" class=\"data row8 col3\" >0.160861</td>\n",
       "                        <td id=\"T_3545f0ea_9951_11ea_86c7_a683e773348erow8_col4\" class=\"data row8 col4\" >0.615346</td>\n",
       "                        <td id=\"T_3545f0ea_9951_11ea_86c7_a683e773348erow8_col5\" class=\"data row8 col5\" >0.654841</td>\n",
       "            </tr>\n",
       "            <tr>\n",
       "                        <th id=\"T_3545f0ea_9951_11ea_86c7_a683e773348elevel0_row9\" class=\"row_heading level0 row9\" >9</th>\n",
       "                        <td id=\"T_3545f0ea_9951_11ea_86c7_a683e773348erow9_col0\" class=\"data row9 col0\" >70</td>\n",
       "                        <td id=\"T_3545f0ea_9951_11ea_86c7_a683e773348erow9_col1\" class=\"data row9 col1\" >0.534078</td>\n",
       "                        <td id=\"T_3545f0ea_9951_11ea_86c7_a683e773348erow9_col2\" class=\"data row9 col2\" >0.12793</td>\n",
       "                        <td id=\"T_3545f0ea_9951_11ea_86c7_a683e773348erow9_col3\" class=\"data row9 col3\" >0.159448</td>\n",
       "                        <td id=\"T_3545f0ea_9951_11ea_86c7_a683e773348erow9_col4\" class=\"data row9 col4\" >0.605156</td>\n",
       "                        <td id=\"T_3545f0ea_9951_11ea_86c7_a683e773348erow9_col5\" class=\"data row9 col5\" >0.649105</td>\n",
       "            </tr>\n",
       "    </tbody></table>"
      ],
      "text/plain": [
       "<pandas.io.formats.style.Styler at 0x1b52fb6240>"
      ]
     },
     "execution_count": 320,
     "metadata": {},
     "output_type": "execute_result"
    }
   ],
   "source": [
    "depth_scores.style.highlight_max(['AP Prediction','AP Score','AUC Prediction','AUC Score'])"
   ]
  },
  {
   "cell_type": "markdown",
   "metadata": {},
   "source": [
    "### Min_samples_split"
   ]
  },
  {
   "cell_type": "code",
   "execution_count": 297,
   "metadata": {},
   "outputs": [
    {
     "data": {
      "image/png": "[encoded data removed]",
      "text/plain": [
       "<Figure size 432x288 with 5 Axes>"
      ]
     },
     "metadata": {
      "needs_background": "light"
     },
     "output_type": "display_data"
    }
   ],
   "source": [
    "min_samples_splits = np.linspace(0.001, 0.5, 10, endpoint=True)\n",
    "accuracies2 = [0]*len(min_samples_splits)\n",
    "aps_pred2 = [0]*len(min_samples_splits)\n",
    "aps_score2 = [0]*len(min_samples_splits)\n",
    "aucs_pred2= [0]*len(min_samples_splits)\n",
    "aucs_score2 = [0]*len(min_samples_splits)\n",
    "for i in range(len(min_samples_splits)):\n",
    "    rf = RandomForestClassifier(min_samples_split=min_samples_splits[i])\n",
    "    rf.fit(under_x,under_y)\n",
    "    preds = rf.predict(bow_x_val)\n",
    "    Y_score = rf.predict_proba(bow_x_val)[:,1]\n",
    "    accuracy=rf.score(bow_x_val,val_y)\n",
    "    accuracies2[i]=accuracy\n",
    "    ap_pred=average_precision_score(val_y, preds)\n",
    "    aps_pred2[i]=ap_pred\n",
    "    ap_score=average_precision_score(val_y, Y_score)\n",
    "    aps_score2[i]=ap_score\n",
    "    auc_pred=roc_auc_score(val_y, preds)\n",
    "    aucs_pred2[i]=auc_pred\n",
    "    auc_score=roc_auc_score(val_y, Y_score)\n",
    "    aucs_score2[i]=auc_score\n",
    "    \n",
    "\n",
    "    \n",
    "plt.subplot(2, 3, 1)\n",
    "plt.plot(min_samples_splits, accuracies2, 'r')\n",
    "plt.ylabel('Accuracy')\n",
    "plt.xlabel('Min sample split')\n",
    "\n",
    "\n",
    "plt.subplot(2, 3, 2)\n",
    "plt.plot(min_samples_splits, aps_pred2,'b')\n",
    "plt.ylabel('Avg. Precision Prediction')\n",
    "plt.xlabel('Min sample split')\n",
    "\n",
    "plt.subplot(2, 3, 3)\n",
    "plt.plot(min_samples_splits, aps_score2,'b')\n",
    "plt.ylabel('Avg. Precision Score')\n",
    "plt.xlabel('Min sample split')\n",
    "\n",
    "plt.subplot(2, 3, 4)\n",
    "plt.plot(min_samples_splits, aucs_pred2,'g')\n",
    "plt.ylabel('AUC Prediction')\n",
    "plt.xlabel('Min sample split')\n",
    "\n",
    "plt.subplot(2, 3, 5)\n",
    "plt.plot(min_samples_splits, aucs_score2,'g')\n",
    "plt.ylabel('AUC Score')\n",
    "plt.xlabel('Min sample split')\n",
    "\n",
    "plt.tight_layout()\n",
    "plt.show()"
   ]
  },
  {
   "cell_type": "code",
   "execution_count": 299,
   "metadata": {},
   "outputs": [
    {
     "data": {
      "text/html": [
       "<div>\n",
       "<style scoped>\n",
       "    .dataframe tbody tr th:only-of-type {\n",
       "        vertical-align: middle;\n",
       "    }\n",
       "\n",
       "    .dataframe tbody tr th {\n",
       "        vertical-align: top;\n",
       "    }\n",
       "\n",
       "    .dataframe thead th {\n",
       "        text-align: right;\n",
       "    }\n",
       "</style>\n",
       "<table border=\"1\" class=\"dataframe\">\n",
       "  <thead>\n",
       "    <tr style=\"text-align: right;\">\n",
       "      <th></th>\n",
       "      <th>N Splits</th>\n",
       "      <th>Test Accuracy</th>\n",
       "      <th>AP Prediction</th>\n",
       "      <th>AP Score</th>\n",
       "      <th>AUC Prediction</th>\n",
       "      <th>AUC Score</th>\n",
       "    </tr>\n",
       "  </thead>\n",
       "  <tbody>\n",
       "    <tr>\n",
       "      <th>0</th>\n",
       "      <td>0.001000</td>\n",
       "      <td>0.604711</td>\n",
       "      <td>0.132863</td>\n",
       "      <td>0.180319</td>\n",
       "      <td>0.615046</td>\n",
       "      <td>0.660062</td>\n",
       "    </tr>\n",
       "    <tr>\n",
       "      <th>1</th>\n",
       "      <td>0.056444</td>\n",
       "      <td>0.677126</td>\n",
       "      <td>0.139655</td>\n",
       "      <td>0.186435</td>\n",
       "      <td>0.624955</td>\n",
       "      <td>0.677438</td>\n",
       "    </tr>\n",
       "    <tr>\n",
       "      <th>2</th>\n",
       "      <td>0.111889</td>\n",
       "      <td>0.665432</td>\n",
       "      <td>0.137642</td>\n",
       "      <td>0.184170</td>\n",
       "      <td>0.621486</td>\n",
       "      <td>0.669587</td>\n",
       "    </tr>\n",
       "    <tr>\n",
       "      <th>3</th>\n",
       "      <td>0.167333</td>\n",
       "      <td>0.654268</td>\n",
       "      <td>0.137851</td>\n",
       "      <td>0.180335</td>\n",
       "      <td>0.623418</td>\n",
       "      <td>0.671214</td>\n",
       "    </tr>\n",
       "    <tr>\n",
       "      <th>4</th>\n",
       "      <td>0.222778</td>\n",
       "      <td>0.628598</td>\n",
       "      <td>0.137023</td>\n",
       "      <td>0.179309</td>\n",
       "      <td>0.624207</td>\n",
       "      <td>0.672485</td>\n",
       "    </tr>\n",
       "    <tr>\n",
       "      <th>5</th>\n",
       "      <td>0.278222</td>\n",
       "      <td>0.606910</td>\n",
       "      <td>0.133362</td>\n",
       "      <td>0.172103</td>\n",
       "      <td>0.616270</td>\n",
       "      <td>0.665974</td>\n",
       "    </tr>\n",
       "    <tr>\n",
       "      <th>6</th>\n",
       "      <td>0.333667</td>\n",
       "      <td>0.582549</td>\n",
       "      <td>0.132787</td>\n",
       "      <td>0.166383</td>\n",
       "      <td>0.616693</td>\n",
       "      <td>0.661176</td>\n",
       "    </tr>\n",
       "    <tr>\n",
       "      <th>7</th>\n",
       "      <td>0.389111</td>\n",
       "      <td>0.565928</td>\n",
       "      <td>0.132589</td>\n",
       "      <td>0.165191</td>\n",
       "      <td>0.617411</td>\n",
       "      <td>0.658130</td>\n",
       "    </tr>\n",
       "    <tr>\n",
       "      <th>8</th>\n",
       "      <td>0.444556</td>\n",
       "      <td>0.539896</td>\n",
       "      <td>0.130264</td>\n",
       "      <td>0.158750</td>\n",
       "      <td>0.612163</td>\n",
       "      <td>0.650868</td>\n",
       "    </tr>\n",
       "    <tr>\n",
       "      <th>9</th>\n",
       "      <td>0.500000</td>\n",
       "      <td>0.532045</td>\n",
       "      <td>0.125194</td>\n",
       "      <td>0.147752</td>\n",
       "      <td>0.596366</td>\n",
       "      <td>0.633928</td>\n",
       "    </tr>\n",
       "  </tbody>\n",
       "</table>\n",
       "</div>"
      ],
      "text/plain": [
       "   N Splits  Test Accuracy  AP Prediction  AP Score  AUC Prediction  AUC Score\n",
       "0  0.001000       0.604711       0.132863  0.180319        0.615046   0.660062\n",
       "1  0.056444       0.677126       0.139655  0.186435        0.624955   0.677438\n",
       "2  0.111889       0.665432       0.137642  0.184170        0.621486   0.669587\n",
       "3  0.167333       0.654268       0.137851  0.180335        0.623418   0.671214\n",
       "4  0.222778       0.628598       0.137023  0.179309        0.624207   0.672485\n",
       "5  0.278222       0.606910       0.133362  0.172103        0.616270   0.665974\n",
       "6  0.333667       0.582549       0.132787  0.166383        0.616693   0.661176\n",
       "7  0.389111       0.565928       0.132589  0.165191        0.617411   0.658130\n",
       "8  0.444556       0.539896       0.130264  0.158750        0.612163   0.650868\n",
       "9  0.500000       0.532045       0.125194  0.147752        0.596366   0.633928"
      ]
     },
     "execution_count": 299,
     "metadata": {},
     "output_type": "execute_result"
    }
   ],
   "source": [
    "n_splits_scores=pd.DataFrame(data={'N Splits':min_samples_splits,'Test Accuracy':accuracies2,\n",
    "                               'AP Prediction':aps_pred2, 'AP Score':aps_score2,\n",
    "                                'AUC Prediction':aucs_pred2,'AUC Score':aucs_score2})\n",
    "n_splits_scores"
   ]
  },
  {
   "cell_type": "code",
   "execution_count": 321,
   "metadata": {},
   "outputs": [
    {
     "data": {
      "text/html": [
       "<style  type=\"text/css\" >\n",
       "    #T_40004094_9951_11ea_86c7_a683e773348erow1_col2 {\n",
       "            background-color:  yellow;\n",
       "        }    #T_40004094_9951_11ea_86c7_a683e773348erow1_col3 {\n",
       "            background-color:  yellow;\n",
       "        }    #T_40004094_9951_11ea_86c7_a683e773348erow1_col4 {\n",
       "            background-color:  yellow;\n",
       "        }    #T_40004094_9951_11ea_86c7_a683e773348erow1_col5 {\n",
       "            background-color:  yellow;\n",
       "        }</style><table id=\"T_40004094_9951_11ea_86c7_a683e773348e\" ><thead>    <tr>        <th class=\"blank level0\" ></th>        <th class=\"col_heading level0 col0\" >N Splits</th>        <th class=\"col_heading level0 col1\" >Test Accuracy</th>        <th class=\"col_heading level0 col2\" >AP Prediction</th>        <th class=\"col_heading level0 col3\" >AP Score</th>        <th class=\"col_heading level0 col4\" >AUC Prediction</th>        <th class=\"col_heading level0 col5\" >AUC Score</th>    </tr></thead><tbody>\n",
       "                <tr>\n",
       "                        <th id=\"T_40004094_9951_11ea_86c7_a683e773348elevel0_row0\" class=\"row_heading level0 row0\" >0</th>\n",
       "                        <td id=\"T_40004094_9951_11ea_86c7_a683e773348erow0_col0\" class=\"data row0 col0\" >0.001</td>\n",
       "                        <td id=\"T_40004094_9951_11ea_86c7_a683e773348erow0_col1\" class=\"data row0 col1\" >0.604711</td>\n",
       "                        <td id=\"T_40004094_9951_11ea_86c7_a683e773348erow0_col2\" class=\"data row0 col2\" >0.132863</td>\n",
       "                        <td id=\"T_40004094_9951_11ea_86c7_a683e773348erow0_col3\" class=\"data row0 col3\" >0.180319</td>\n",
       "                        <td id=\"T_40004094_9951_11ea_86c7_a683e773348erow0_col4\" class=\"data row0 col4\" >0.615046</td>\n",
       "                        <td id=\"T_40004094_9951_11ea_86c7_a683e773348erow0_col5\" class=\"data row0 col5\" >0.660062</td>\n",
       "            </tr>\n",
       "            <tr>\n",
       "                        <th id=\"T_40004094_9951_11ea_86c7_a683e773348elevel0_row1\" class=\"row_heading level0 row1\" >1</th>\n",
       "                        <td id=\"T_40004094_9951_11ea_86c7_a683e773348erow1_col0\" class=\"data row1 col0\" >0.0564444</td>\n",
       "                        <td id=\"T_40004094_9951_11ea_86c7_a683e773348erow1_col1\" class=\"data row1 col1\" >0.677126</td>\n",
       "                        <td id=\"T_40004094_9951_11ea_86c7_a683e773348erow1_col2\" class=\"data row1 col2\" >0.139655</td>\n",
       "                        <td id=\"T_40004094_9951_11ea_86c7_a683e773348erow1_col3\" class=\"data row1 col3\" >0.186435</td>\n",
       "                        <td id=\"T_40004094_9951_11ea_86c7_a683e773348erow1_col4\" class=\"data row1 col4\" >0.624955</td>\n",
       "                        <td id=\"T_40004094_9951_11ea_86c7_a683e773348erow1_col5\" class=\"data row1 col5\" >0.677438</td>\n",
       "            </tr>\n",
       "            <tr>\n",
       "                        <th id=\"T_40004094_9951_11ea_86c7_a683e773348elevel0_row2\" class=\"row_heading level0 row2\" >2</th>\n",
       "                        <td id=\"T_40004094_9951_11ea_86c7_a683e773348erow2_col0\" class=\"data row2 col0\" >0.111889</td>\n",
       "                        <td id=\"T_40004094_9951_11ea_86c7_a683e773348erow2_col1\" class=\"data row2 col1\" >0.665432</td>\n",
       "                        <td id=\"T_40004094_9951_11ea_86c7_a683e773348erow2_col2\" class=\"data row2 col2\" >0.137642</td>\n",
       "                        <td id=\"T_40004094_9951_11ea_86c7_a683e773348erow2_col3\" class=\"data row2 col3\" >0.18417</td>\n",
       "                        <td id=\"T_40004094_9951_11ea_86c7_a683e773348erow2_col4\" class=\"data row2 col4\" >0.621486</td>\n",
       "                        <td id=\"T_40004094_9951_11ea_86c7_a683e773348erow2_col5\" class=\"data row2 col5\" >0.669587</td>\n",
       "            </tr>\n",
       "            <tr>\n",
       "                        <th id=\"T_40004094_9951_11ea_86c7_a683e773348elevel0_row3\" class=\"row_heading level0 row3\" >3</th>\n",
       "                        <td id=\"T_40004094_9951_11ea_86c7_a683e773348erow3_col0\" class=\"data row3 col0\" >0.167333</td>\n",
       "                        <td id=\"T_40004094_9951_11ea_86c7_a683e773348erow3_col1\" class=\"data row3 col1\" >0.654268</td>\n",
       "                        <td id=\"T_40004094_9951_11ea_86c7_a683e773348erow3_col2\" class=\"data row3 col2\" >0.137851</td>\n",
       "                        <td id=\"T_40004094_9951_11ea_86c7_a683e773348erow3_col3\" class=\"data row3 col3\" >0.180335</td>\n",
       "                        <td id=\"T_40004094_9951_11ea_86c7_a683e773348erow3_col4\" class=\"data row3 col4\" >0.623418</td>\n",
       "                        <td id=\"T_40004094_9951_11ea_86c7_a683e773348erow3_col5\" class=\"data row3 col5\" >0.671214</td>\n",
       "            </tr>\n",
       "            <tr>\n",
       "                        <th id=\"T_40004094_9951_11ea_86c7_a683e773348elevel0_row4\" class=\"row_heading level0 row4\" >4</th>\n",
       "                        <td id=\"T_40004094_9951_11ea_86c7_a683e773348erow4_col0\" class=\"data row4 col0\" >0.222778</td>\n",
       "                        <td id=\"T_40004094_9951_11ea_86c7_a683e773348erow4_col1\" class=\"data row4 col1\" >0.628598</td>\n",
       "                        <td id=\"T_40004094_9951_11ea_86c7_a683e773348erow4_col2\" class=\"data row4 col2\" >0.137023</td>\n",
       "                        <td id=\"T_40004094_9951_11ea_86c7_a683e773348erow4_col3\" class=\"data row4 col3\" >0.179309</td>\n",
       "                        <td id=\"T_40004094_9951_11ea_86c7_a683e773348erow4_col4\" class=\"data row4 col4\" >0.624207</td>\n",
       "                        <td id=\"T_40004094_9951_11ea_86c7_a683e773348erow4_col5\" class=\"data row4 col5\" >0.672485</td>\n",
       "            </tr>\n",
       "            <tr>\n",
       "                        <th id=\"T_40004094_9951_11ea_86c7_a683e773348elevel0_row5\" class=\"row_heading level0 row5\" >5</th>\n",
       "                        <td id=\"T_40004094_9951_11ea_86c7_a683e773348erow5_col0\" class=\"data row5 col0\" >0.278222</td>\n",
       "                        <td id=\"T_40004094_9951_11ea_86c7_a683e773348erow5_col1\" class=\"data row5 col1\" >0.60691</td>\n",
       "                        <td id=\"T_40004094_9951_11ea_86c7_a683e773348erow5_col2\" class=\"data row5 col2\" >0.133362</td>\n",
       "                        <td id=\"T_40004094_9951_11ea_86c7_a683e773348erow5_col3\" class=\"data row5 col3\" >0.172103</td>\n",
       "                        <td id=\"T_40004094_9951_11ea_86c7_a683e773348erow5_col4\" class=\"data row5 col4\" >0.61627</td>\n",
       "                        <td id=\"T_40004094_9951_11ea_86c7_a683e773348erow5_col5\" class=\"data row5 col5\" >0.665974</td>\n",
       "            </tr>\n",
       "            <tr>\n",
       "                        <th id=\"T_40004094_9951_11ea_86c7_a683e773348elevel0_row6\" class=\"row_heading level0 row6\" >6</th>\n",
       "                        <td id=\"T_40004094_9951_11ea_86c7_a683e773348erow6_col0\" class=\"data row6 col0\" >0.333667</td>\n",
       "                        <td id=\"T_40004094_9951_11ea_86c7_a683e773348erow6_col1\" class=\"data row6 col1\" >0.582549</td>\n",
       "                        <td id=\"T_40004094_9951_11ea_86c7_a683e773348erow6_col2\" class=\"data row6 col2\" >0.132787</td>\n",
       "                        <td id=\"T_40004094_9951_11ea_86c7_a683e773348erow6_col3\" class=\"data row6 col3\" >0.166383</td>\n",
       "                        <td id=\"T_40004094_9951_11ea_86c7_a683e773348erow6_col4\" class=\"data row6 col4\" >0.616693</td>\n",
       "                        <td id=\"T_40004094_9951_11ea_86c7_a683e773348erow6_col5\" class=\"data row6 col5\" >0.661176</td>\n",
       "            </tr>\n",
       "            <tr>\n",
       "                        <th id=\"T_40004094_9951_11ea_86c7_a683e773348elevel0_row7\" class=\"row_heading level0 row7\" >7</th>\n",
       "                        <td id=\"T_40004094_9951_11ea_86c7_a683e773348erow7_col0\" class=\"data row7 col0\" >0.389111</td>\n",
       "                        <td id=\"T_40004094_9951_11ea_86c7_a683e773348erow7_col1\" class=\"data row7 col1\" >0.565928</td>\n",
       "                        <td id=\"T_40004094_9951_11ea_86c7_a683e773348erow7_col2\" class=\"data row7 col2\" >0.132589</td>\n",
       "                        <td id=\"T_40004094_9951_11ea_86c7_a683e773348erow7_col3\" class=\"data row7 col3\" >0.165191</td>\n",
       "                        <td id=\"T_40004094_9951_11ea_86c7_a683e773348erow7_col4\" class=\"data row7 col4\" >0.617411</td>\n",
       "                        <td id=\"T_40004094_9951_11ea_86c7_a683e773348erow7_col5\" class=\"data row7 col5\" >0.65813</td>\n",
       "            </tr>\n",
       "            <tr>\n",
       "                        <th id=\"T_40004094_9951_11ea_86c7_a683e773348elevel0_row8\" class=\"row_heading level0 row8\" >8</th>\n",
       "                        <td id=\"T_40004094_9951_11ea_86c7_a683e773348erow8_col0\" class=\"data row8 col0\" >0.444556</td>\n",
       "                        <td id=\"T_40004094_9951_11ea_86c7_a683e773348erow8_col1\" class=\"data row8 col1\" >0.539896</td>\n",
       "                        <td id=\"T_40004094_9951_11ea_86c7_a683e773348erow8_col2\" class=\"data row8 col2\" >0.130264</td>\n",
       "                        <td id=\"T_40004094_9951_11ea_86c7_a683e773348erow8_col3\" class=\"data row8 col3\" >0.15875</td>\n",
       "                        <td id=\"T_40004094_9951_11ea_86c7_a683e773348erow8_col4\" class=\"data row8 col4\" >0.612163</td>\n",
       "                        <td id=\"T_40004094_9951_11ea_86c7_a683e773348erow8_col5\" class=\"data row8 col5\" >0.650868</td>\n",
       "            </tr>\n",
       "            <tr>\n",
       "                        <th id=\"T_40004094_9951_11ea_86c7_a683e773348elevel0_row9\" class=\"row_heading level0 row9\" >9</th>\n",
       "                        <td id=\"T_40004094_9951_11ea_86c7_a683e773348erow9_col0\" class=\"data row9 col0\" >0.5</td>\n",
       "                        <td id=\"T_40004094_9951_11ea_86c7_a683e773348erow9_col1\" class=\"data row9 col1\" >0.532045</td>\n",
       "                        <td id=\"T_40004094_9951_11ea_86c7_a683e773348erow9_col2\" class=\"data row9 col2\" >0.125194</td>\n",
       "                        <td id=\"T_40004094_9951_11ea_86c7_a683e773348erow9_col3\" class=\"data row9 col3\" >0.147752</td>\n",
       "                        <td id=\"T_40004094_9951_11ea_86c7_a683e773348erow9_col4\" class=\"data row9 col4\" >0.596366</td>\n",
       "                        <td id=\"T_40004094_9951_11ea_86c7_a683e773348erow9_col5\" class=\"data row9 col5\" >0.633928</td>\n",
       "            </tr>\n",
       "    </tbody></table>"
      ],
      "text/plain": [
       "<pandas.io.formats.style.Styler at 0x1b20919710>"
      ]
     },
     "execution_count": 321,
     "metadata": {},
     "output_type": "execute_result"
    }
   ],
   "source": [
    "n_splits_scores.style.highlight_max(['AP Prediction','AP Score','AUC Prediction','AUC Score'])"
   ]
  },
  {
   "cell_type": "markdown",
   "metadata": {},
   "source": [
    "### N_estimators"
   ]
  },
  {
   "cell_type": "code",
   "execution_count": 294,
   "metadata": {},
   "outputs": [
    {
     "data": {
      "image/png": "[encoded data removed]",
      "text/plain": [
       "<Figure size 432x288 with 5 Axes>"
      ]
     },
     "metadata": {
      "needs_background": "light"
     },
     "output_type": "display_data"
    }
   ],
   "source": [
    "n_estimator = [10,20,40,60,80,100]\n",
    "accuracies3 = [0]*len(n_estimator)\n",
    "aps_pred3 = [0]*len(n_estimator)\n",
    "aps_score3 = [0]*len(n_estimator)\n",
    "aucs_pred3= [0]*len(n_estimator)\n",
    "aucs_score3 = [0]*len(n_estimator)\n",
    "\n",
    "for i in range(len(n_estimator)):\n",
    "    rf = RandomForestClassifier(n_estimators=n_estimator[i])\n",
    "    rf.fit(under_x,under_y)\n",
    "    preds = rf.predict(bow_x_val)\n",
    "    Y_score = rf.predict_proba(bow_x_val)[:,1]\n",
    "    accuracy=rf.score(bow_x_val,val_y)\n",
    "    accuracies3[i]=accuracy\n",
    "    ap_pred=average_precision_score(val_y, preds)\n",
    "    aps_pred3[i]=ap_pred\n",
    "    ap_score=average_precision_score(val_y, Y_score)\n",
    "    aps_score3[i]=ap_score\n",
    "    auc_pred=roc_auc_score(val_y, preds)\n",
    "    aucs_pred3[i]=auc_pred\n",
    "    auc_score=roc_auc_score(val_y, Y_score)\n",
    "    aucs_score3[i]=auc_score\n",
    "    \n",
    "plt.subplot(2, 3, 1)\n",
    "plt.plot(n_estimator, accuracies3, 'r')\n",
    "plt.ylabel('Accuracy')\n",
    "plt.xlabel('N Estimators')\n",
    "\n",
    "\n",
    "plt.subplot(2, 3, 2)\n",
    "plt.plot(n_estimator, aps_pred3,'b')\n",
    "plt.ylabel('Avg. Precision Prediction')\n",
    "plt.xlabel('N Estimators')\n",
    "\n",
    "plt.subplot(2, 3, 3)\n",
    "plt.plot(n_estimator, aps_score3,'b')\n",
    "plt.ylabel('Avg. Precision Score')\n",
    "plt.xlabel('N Estimators')\n",
    "\n",
    "plt.subplot(2, 3, 4)\n",
    "plt.plot(n_estimator, aucs_pred3,'g')\n",
    "plt.ylabel('AUC Prediction')\n",
    "plt.xlabel('N Estimators')\n",
    "\n",
    "plt.subplot(2, 3, 5)\n",
    "plt.plot(n_estimator, aucs_score3,'g')\n",
    "plt.ylabel('AUC Score')\n",
    "plt.xlabel('N Estimators')\n",
    "\n",
    "plt.tight_layout()\n",
    "plt.show()"
   ]
  },
  {
   "cell_type": "code",
   "execution_count": 295,
   "metadata": {},
   "outputs": [
    {
     "data": {
      "text/html": [
       "<div>\n",
       "<style scoped>\n",
       "    .dataframe tbody tr th:only-of-type {\n",
       "        vertical-align: middle;\n",
       "    }\n",
       "\n",
       "    .dataframe tbody tr th {\n",
       "        vertical-align: top;\n",
       "    }\n",
       "\n",
       "    .dataframe thead th {\n",
       "        text-align: right;\n",
       "    }\n",
       "</style>\n",
       "<table border=\"1\" class=\"dataframe\">\n",
       "  <thead>\n",
       "    <tr style=\"text-align: right;\">\n",
       "      <th></th>\n",
       "      <th>N Estimators</th>\n",
       "      <th>Test Accuracy</th>\n",
       "      <th>AP Prediction</th>\n",
       "      <th>AP Score</th>\n",
       "      <th>AUC Prediction</th>\n",
       "      <th>AUC Score</th>\n",
       "    </tr>\n",
       "  </thead>\n",
       "  <tbody>\n",
       "    <tr>\n",
       "      <th>0</th>\n",
       "      <td>10</td>\n",
       "      <td>0.635141</td>\n",
       "      <td>0.131442</td>\n",
       "      <td>0.157636</td>\n",
       "      <td>0.608275</td>\n",
       "      <td>0.643582</td>\n",
       "    </tr>\n",
       "    <tr>\n",
       "      <th>1</th>\n",
       "      <td>20</td>\n",
       "      <td>0.613063</td>\n",
       "      <td>0.131596</td>\n",
       "      <td>0.175309</td>\n",
       "      <td>0.610698</td>\n",
       "      <td>0.658422</td>\n",
       "    </tr>\n",
       "    <tr>\n",
       "      <th>2</th>\n",
       "      <td>40</td>\n",
       "      <td>0.619300</td>\n",
       "      <td>0.138164</td>\n",
       "      <td>0.184455</td>\n",
       "      <td>0.628271</td>\n",
       "      <td>0.674807</td>\n",
       "    </tr>\n",
       "    <tr>\n",
       "      <th>3</th>\n",
       "      <td>60</td>\n",
       "      <td>0.612172</td>\n",
       "      <td>0.140076</td>\n",
       "      <td>0.189701</td>\n",
       "      <td>0.634151</td>\n",
       "      <td>0.684070</td>\n",
       "    </tr>\n",
       "    <tr>\n",
       "      <th>4</th>\n",
       "      <td>80</td>\n",
       "      <td>0.609889</td>\n",
       "      <td>0.140692</td>\n",
       "      <td>0.195139</td>\n",
       "      <td>0.636041</td>\n",
       "      <td>0.687792</td>\n",
       "    </tr>\n",
       "    <tr>\n",
       "      <th>5</th>\n",
       "      <td>100</td>\n",
       "      <td>0.612590</td>\n",
       "      <td>0.143006</td>\n",
       "      <td>0.194950</td>\n",
       "      <td>0.641799</td>\n",
       "      <td>0.690687</td>\n",
       "    </tr>\n",
       "  </tbody>\n",
       "</table>\n",
       "</div>"
      ],
      "text/plain": [
       "   N Estimators  Test Accuracy  AP Prediction  AP Score  AUC Prediction  \\\n",
       "0            10       0.635141       0.131442  0.157636        0.608275   \n",
       "1            20       0.613063       0.131596  0.175309        0.610698   \n",
       "2            40       0.619300       0.138164  0.184455        0.628271   \n",
       "3            60       0.612172       0.140076  0.189701        0.634151   \n",
       "4            80       0.609889       0.140692  0.195139        0.636041   \n",
       "5           100       0.612590       0.143006  0.194950        0.641799   \n",
       "\n",
       "   AUC Score  \n",
       "0   0.643582  \n",
       "1   0.658422  \n",
       "2   0.674807  \n",
       "3   0.684070  \n",
       "4   0.687792  \n",
       "5   0.690687  "
      ]
     },
     "execution_count": 295,
     "metadata": {},
     "output_type": "execute_result"
    }
   ],
   "source": [
    "n_estimators_scores=pd.DataFrame(data={'N Estimators':n_estimator,'Test Accuracy':accuracies3,\n",
    "                               'AP Prediction':aps_pred3, 'AP Score':aps_score3,\n",
    "                                'AUC Prediction':aucs_pred3,'AUC Score':aucs_score3})\n",
    "n_estimators_scores"
   ]
  },
  {
   "cell_type": "code",
   "execution_count": 322,
   "metadata": {},
   "outputs": [
    {
     "data": {
      "text/html": [
       "<style  type=\"text/css\" >\n",
       "    #T_4bcd4cdc_9951_11ea_86c7_a683e773348erow4_col3 {\n",
       "            background-color:  yellow;\n",
       "        }    #T_4bcd4cdc_9951_11ea_86c7_a683e773348erow5_col2 {\n",
       "            background-color:  yellow;\n",
       "        }    #T_4bcd4cdc_9951_11ea_86c7_a683e773348erow5_col4 {\n",
       "            background-color:  yellow;\n",
       "        }    #T_4bcd4cdc_9951_11ea_86c7_a683e773348erow5_col5 {\n",
       "            background-color:  yellow;\n",
       "        }</style><table id=\"T_4bcd4cdc_9951_11ea_86c7_a683e773348e\" ><thead>    <tr>        <th class=\"blank level0\" ></th>        <th class=\"col_heading level0 col0\" >N Estimators</th>        <th class=\"col_heading level0 col1\" >Test Accuracy</th>        <th class=\"col_heading level0 col2\" >AP Prediction</th>        <th class=\"col_heading level0 col3\" >AP Score</th>        <th class=\"col_heading level0 col4\" >AUC Prediction</th>        <th class=\"col_heading level0 col5\" >AUC Score</th>    </tr></thead><tbody>\n",
       "                <tr>\n",
       "                        <th id=\"T_4bcd4cdc_9951_11ea_86c7_a683e773348elevel0_row0\" class=\"row_heading level0 row0\" >0</th>\n",
       "                        <td id=\"T_4bcd4cdc_9951_11ea_86c7_a683e773348erow0_col0\" class=\"data row0 col0\" >10</td>\n",
       "                        <td id=\"T_4bcd4cdc_9951_11ea_86c7_a683e773348erow0_col1\" class=\"data row0 col1\" >0.635141</td>\n",
       "                        <td id=\"T_4bcd4cdc_9951_11ea_86c7_a683e773348erow0_col2\" class=\"data row0 col2\" >0.131442</td>\n",
       "                        <td id=\"T_4bcd4cdc_9951_11ea_86c7_a683e773348erow0_col3\" class=\"data row0 col3\" >0.157636</td>\n",
       "                        <td id=\"T_4bcd4cdc_9951_11ea_86c7_a683e773348erow0_col4\" class=\"data row0 col4\" >0.608275</td>\n",
       "                        <td id=\"T_4bcd4cdc_9951_11ea_86c7_a683e773348erow0_col5\" class=\"data row0 col5\" >0.643582</td>\n",
       "            </tr>\n",
       "            <tr>\n",
       "                        <th id=\"T_4bcd4cdc_9951_11ea_86c7_a683e773348elevel0_row1\" class=\"row_heading level0 row1\" >1</th>\n",
       "                        <td id=\"T_4bcd4cdc_9951_11ea_86c7_a683e773348erow1_col0\" class=\"data row1 col0\" >20</td>\n",
       "                        <td id=\"T_4bcd4cdc_9951_11ea_86c7_a683e773348erow1_col1\" class=\"data row1 col1\" >0.613063</td>\n",
       "                        <td id=\"T_4bcd4cdc_9951_11ea_86c7_a683e773348erow1_col2\" class=\"data row1 col2\" >0.131596</td>\n",
       "                        <td id=\"T_4bcd4cdc_9951_11ea_86c7_a683e773348erow1_col3\" class=\"data row1 col3\" >0.175309</td>\n",
       "                        <td id=\"T_4bcd4cdc_9951_11ea_86c7_a683e773348erow1_col4\" class=\"data row1 col4\" >0.610698</td>\n",
       "                        <td id=\"T_4bcd4cdc_9951_11ea_86c7_a683e773348erow1_col5\" class=\"data row1 col5\" >0.658422</td>\n",
       "            </tr>\n",
       "            <tr>\n",
       "                        <th id=\"T_4bcd4cdc_9951_11ea_86c7_a683e773348elevel0_row2\" class=\"row_heading level0 row2\" >2</th>\n",
       "                        <td id=\"T_4bcd4cdc_9951_11ea_86c7_a683e773348erow2_col0\" class=\"data row2 col0\" >40</td>\n",
       "                        <td id=\"T_4bcd4cdc_9951_11ea_86c7_a683e773348erow2_col1\" class=\"data row2 col1\" >0.6193</td>\n",
       "                        <td id=\"T_4bcd4cdc_9951_11ea_86c7_a683e773348erow2_col2\" class=\"data row2 col2\" >0.138164</td>\n",
       "                        <td id=\"T_4bcd4cdc_9951_11ea_86c7_a683e773348erow2_col3\" class=\"data row2 col3\" >0.184455</td>\n",
       "                        <td id=\"T_4bcd4cdc_9951_11ea_86c7_a683e773348erow2_col4\" class=\"data row2 col4\" >0.628271</td>\n",
       "                        <td id=\"T_4bcd4cdc_9951_11ea_86c7_a683e773348erow2_col5\" class=\"data row2 col5\" >0.674807</td>\n",
       "            </tr>\n",
       "            <tr>\n",
       "                        <th id=\"T_4bcd4cdc_9951_11ea_86c7_a683e773348elevel0_row3\" class=\"row_heading level0 row3\" >3</th>\n",
       "                        <td id=\"T_4bcd4cdc_9951_11ea_86c7_a683e773348erow3_col0\" class=\"data row3 col0\" >60</td>\n",
       "                        <td id=\"T_4bcd4cdc_9951_11ea_86c7_a683e773348erow3_col1\" class=\"data row3 col1\" >0.612172</td>\n",
       "                        <td id=\"T_4bcd4cdc_9951_11ea_86c7_a683e773348erow3_col2\" class=\"data row3 col2\" >0.140076</td>\n",
       "                        <td id=\"T_4bcd4cdc_9951_11ea_86c7_a683e773348erow3_col3\" class=\"data row3 col3\" >0.189701</td>\n",
       "                        <td id=\"T_4bcd4cdc_9951_11ea_86c7_a683e773348erow3_col4\" class=\"data row3 col4\" >0.634151</td>\n",
       "                        <td id=\"T_4bcd4cdc_9951_11ea_86c7_a683e773348erow3_col5\" class=\"data row3 col5\" >0.68407</td>\n",
       "            </tr>\n",
       "            <tr>\n",
       "                        <th id=\"T_4bcd4cdc_9951_11ea_86c7_a683e773348elevel0_row4\" class=\"row_heading level0 row4\" >4</th>\n",
       "                        <td id=\"T_4bcd4cdc_9951_11ea_86c7_a683e773348erow4_col0\" class=\"data row4 col0\" >80</td>\n",
       "                        <td id=\"T_4bcd4cdc_9951_11ea_86c7_a683e773348erow4_col1\" class=\"data row4 col1\" >0.609889</td>\n",
       "                        <td id=\"T_4bcd4cdc_9951_11ea_86c7_a683e773348erow4_col2\" class=\"data row4 col2\" >0.140692</td>\n",
       "                        <td id=\"T_4bcd4cdc_9951_11ea_86c7_a683e773348erow4_col3\" class=\"data row4 col3\" >0.195139</td>\n",
       "                        <td id=\"T_4bcd4cdc_9951_11ea_86c7_a683e773348erow4_col4\" class=\"data row4 col4\" >0.636041</td>\n",
       "                        <td id=\"T_4bcd4cdc_9951_11ea_86c7_a683e773348erow4_col5\" class=\"data row4 col5\" >0.687792</td>\n",
       "            </tr>\n",
       "            <tr>\n",
       "                        <th id=\"T_4bcd4cdc_9951_11ea_86c7_a683e773348elevel0_row5\" class=\"row_heading level0 row5\" >5</th>\n",
       "                        <td id=\"T_4bcd4cdc_9951_11ea_86c7_a683e773348erow5_col0\" class=\"data row5 col0\" >100</td>\n",
       "                        <td id=\"T_4bcd4cdc_9951_11ea_86c7_a683e773348erow5_col1\" class=\"data row5 col1\" >0.61259</td>\n",
       "                        <td id=\"T_4bcd4cdc_9951_11ea_86c7_a683e773348erow5_col2\" class=\"data row5 col2\" >0.143006</td>\n",
       "                        <td id=\"T_4bcd4cdc_9951_11ea_86c7_a683e773348erow5_col3\" class=\"data row5 col3\" >0.19495</td>\n",
       "                        <td id=\"T_4bcd4cdc_9951_11ea_86c7_a683e773348erow5_col4\" class=\"data row5 col4\" >0.641799</td>\n",
       "                        <td id=\"T_4bcd4cdc_9951_11ea_86c7_a683e773348erow5_col5\" class=\"data row5 col5\" >0.690687</td>\n",
       "            </tr>\n",
       "    </tbody></table>"
      ],
      "text/plain": [
       "<pandas.io.formats.style.Styler at 0x1b84f60ba8>"
      ]
     },
     "execution_count": 322,
     "metadata": {},
     "output_type": "execute_result"
    }
   ],
   "source": [
    "n_estimators_scores.style.highlight_max(['AP Prediction','AP Score','AUC Prediction','AUC Score'])"
   ]
  },
  {
   "cell_type": "markdown",
   "metadata": {},
   "source": [
    "## Evaluation"
   ]
  },
  {
   "cell_type": "code",
   "execution_count": 300,
   "metadata": {
    "collapsed": true
   },
   "outputs": [],
   "source": [
    "rf=RandomForestClassifier(max_depth=20,min_samples_split=0.056, n_estimators=100)"
   ]
  },
  {
   "cell_type": "markdown",
   "metadata": {},
   "source": [
    "### Bag of Words Evaluation"
   ]
  },
  {
   "cell_type": "markdown",
   "metadata": {},
   "source": [
    "#### BOW unbalanced"
   ]
  },
  {
   "cell_type": "code",
   "execution_count": 301,
   "metadata": {},
   "outputs": [
    {
     "data": {
      "text/plain": [
       "{'train_accuracy': 0.8970837950524965,\n",
       " 'test_accuracy': 0.898435324906732,\n",
       " 'test_auc_pred': 0.5,\n",
       " 'test_auc_score': 0.6785930050179678,\n",
       " 'test_ap_pred': 0.101564675093268,\n",
       " 'test_ap_score': 0.18968669204711697}"
      ]
     },
     "execution_count": 301,
     "metadata": {},
     "output_type": "execute_result"
    }
   ],
   "source": [
    "#unbalanced\n",
    "bow_rf_train=rf.fit(bow_x_train,y)\n",
    "eval_bow_rf=ClassifierMetrics(bow_x_train,y,bow_x_val,val_y,\n",
    "                              bow_rf_train)\n",
    "eval_bow_rf"
   ]
  },
  {
   "cell_type": "markdown",
   "metadata": {},
   "source": [
    "#### BOW undersampled"
   ]
  },
  {
   "cell_type": "code",
   "execution_count": 302,
   "metadata": {},
   "outputs": [
    {
     "data": {
      "text/plain": [
       "{'train_accuracy': 0.6410589101049614,\n",
       " 'test_accuracy': 0.5831894871652097,\n",
       " 'test_auc_pred': 0.6304213285382654,\n",
       " 'test_auc_score': 0.6794319422811367,\n",
       " 'test_ap_pred': 0.13761635638449282,\n",
       " 'test_ap_score': 0.18780193794662353}"
      ]
     },
     "execution_count": 302,
     "metadata": {},
     "output_type": "execute_result"
    }
   ],
   "source": [
    "#undersampled\n",
    "bow_rf_under=rf.fit(under_x,under_y)\n",
    "eval_bow_rf_under=ClassifierMetrics(under_x,under_y,bow_x_val,val_y,\n",
    "                              bow_rf_under)\n",
    "eval_bow_rf_under"
   ]
  },
  {
   "cell_type": "markdown",
   "metadata": {},
   "source": [
    "#### BOW oversampled"
   ]
  },
  {
   "cell_type": "code",
   "execution_count": 303,
   "metadata": {},
   "outputs": [
    {
     "data": {
      "text/plain": [
       "{'train_accuracy': 0.8630979093999245,\n",
       " 'test_accuracy': 0.7513224567069436,\n",
       " 'test_auc_pred': 0.5829733294733579,\n",
       " 'test_auc_score': 0.647720066163239,\n",
       " 'test_ap_pred': 0.1268484686960019,\n",
       " 'test_ap_score': 0.16986761009649498}"
      ]
     },
     "execution_count": 303,
     "metadata": {},
     "output_type": "execute_result"
    }
   ],
   "source": [
    "#oversampled\n",
    "bow_rf_over=rf.fit(over_x,over_y)\n",
    "eval_bow_rf_over=ClassifierMetrics(over_x,over_y,bow_x_val,val_y,\n",
    "                              bow_rf_over)\n",
    "eval_bow_rf_over"
   ]
  },
  {
   "cell_type": "markdown",
   "metadata": {},
   "source": [
    "### Bag of Bi-grams Evaluation"
   ]
  },
  {
   "cell_type": "code",
   "execution_count": 304,
   "metadata": {
    "collapsed": true
   },
   "outputs": [],
   "source": [
    "bv2_x_val=bv2.transform(valid['review'])"
   ]
  },
  {
   "cell_type": "markdown",
   "metadata": {},
   "source": [
    "#### Bi-gram unbalanced"
   ]
  },
  {
   "cell_type": "code",
   "execution_count": 305,
   "metadata": {},
   "outputs": [
    {
     "data": {
      "text/plain": [
       "{'train_accuracy': 0.8970837950524965,\n",
       " 'test_accuracy': 0.898435324906732,\n",
       " 'test_auc_pred': 0.5,\n",
       " 'test_auc_score': 0.591100348654989,\n",
       " 'test_ap_pred': 0.101564675093268,\n",
       " 'test_ap_score': 0.1263926500946187}"
      ]
     },
     "execution_count": 305,
     "metadata": {},
     "output_type": "execute_result"
    }
   ],
   "source": [
    "#unbalanced\n",
    "bv2_rf_train =rf.fit(bv2_x_train,y)\n",
    "eval_bv2_rf=ClassifierMetrics(bv2_x_train, y, bv2_x_val, val_y, \n",
    "                              bv2_rf_train)\n",
    "eval_bv2_rf"
   ]
  },
  {
   "cell_type": "markdown",
   "metadata": {},
   "source": [
    "#### Bi-gram undersampled"
   ]
  },
  {
   "cell_type": "code",
   "execution_count": 306,
   "metadata": {},
   "outputs": [
    {
     "data": {
      "text/plain": [
       "{'train_accuracy': 0.6468685851504706,\n",
       " 'test_accuracy': 0.46608942591458324,\n",
       " 'test_auc_pred': 0.6017225819429267,\n",
       " 'test_auc_score': 0.6441848333550797,\n",
       " 'test_ap_pred': 0.12588843193447757,\n",
       " 'test_ap_score': 0.15271636768062213}"
      ]
     },
     "execution_count": 306,
     "metadata": {},
     "output_type": "execute_result"
    }
   ],
   "source": [
    "#undersampled\n",
    "bv2_rf_under=rf.fit(under_x_bv2,under_y_bv2)\n",
    "eval_bv2_rf_under=ClassifierMetrics(under_x_bv2, under_y_bv2, \n",
    "                                    bv2_x_val, val_y, bv2_rf_under)\n",
    "\n",
    "eval_bv2_rf_under"
   ]
  },
  {
   "cell_type": "markdown",
   "metadata": {},
   "source": [
    "#### Bi-gram oversampled"
   ]
  },
  {
   "cell_type": "code",
   "execution_count": 307,
   "metadata": {},
   "outputs": [
    {
     "data": {
      "text/plain": [
       "{'train_accuracy': 0.8001688476150275,\n",
       " 'test_accuracy': 0.6396514282532435,\n",
       " 'test_auc_pred': 0.5827034964716563,\n",
       " 'test_auc_score': 0.617962455453982,\n",
       " 'test_ap_pred': 0.12284321331656273,\n",
       " 'test_ap_score': 0.14450470247253588}"
      ]
     },
     "execution_count": 307,
     "metadata": {},
     "output_type": "execute_result"
    }
   ],
   "source": [
    "#oversampled\n",
    "bv2_rf_over=rf.fit(over_x_bv2,over_y_bv2)\n",
    "eval_bv2_rf_over=ClassifierMetrics(over_x_bv2, over_y_bv2, bv2_x_val, \n",
    "                                   val_y, bv2_rf_over)\n",
    "\n",
    "eval_bv2_rf_over"
   ]
  },
  {
   "cell_type": "markdown",
   "metadata": {},
   "source": [
    "### TF-IDF Evaluation"
   ]
  },
  {
   "cell_type": "code",
   "execution_count": 308,
   "metadata": {
    "collapsed": true
   },
   "outputs": [],
   "source": [
    "tv_x_val=tv.transform(valid['review'])"
   ]
  },
  {
   "cell_type": "markdown",
   "metadata": {},
   "source": [
    "#### TF-IDF unbalanced"
   ]
  },
  {
   "cell_type": "code",
   "execution_count": 309,
   "metadata": {},
   "outputs": [
    {
     "data": {
      "text/plain": [
       "{'train_accuracy': 0.8970837950524965,\n",
       " 'test_accuracy': 0.898435324906732,\n",
       " 'test_auc_pred': 0.5,\n",
       " 'test_auc_score': 0.667944714348235,\n",
       " 'test_ap_pred': 0.101564675093268,\n",
       " 'test_ap_score': 0.18697548553371368}"
      ]
     },
     "execution_count": 309,
     "metadata": {},
     "output_type": "execute_result"
    }
   ],
   "source": [
    "#unbalanced\n",
    "tv_rf_train = rf.fit(tv_x_train,y)\n",
    "eval_tv_rf=ClassifierMetrics(tv_x_train, y, tv_x_val, val_y, \n",
    "                             tv_rf_train)\n",
    "eval_tv_rf"
   ]
  },
  {
   "cell_type": "markdown",
   "metadata": {},
   "source": [
    "#### TF-IDF undersampled"
   ]
  },
  {
   "cell_type": "code",
   "execution_count": 310,
   "metadata": {},
   "outputs": [
    {
     "data": {
      "text/plain": [
       "{'train_accuracy': 0.6346682675549015,\n",
       " 'test_accuracy': 0.6223063644969097,\n",
       " 'test_auc_pred': 0.6225283925649264,\n",
       " 'test_auc_score': 0.6710108463267713,\n",
       " 'test_ap_pred': 0.13615331785511103,\n",
       " 'test_ap_score': 0.18030832529744567}"
      ]
     },
     "execution_count": 310,
     "metadata": {},
     "output_type": "execute_result"
    }
   ],
   "source": [
    "#undersampled\n",
    "tv_rf_under=rf.fit(under_x_tv,under_y_tv)\n",
    "eval_tv_rf_under=ClassifierMetrics(under_x_tv, under_y_tv, \n",
    "                                    tv_x_val, val_y, tv_rf_under)\n",
    "\n",
    "eval_tv_rf_under"
   ]
  },
  {
   "cell_type": "markdown",
   "metadata": {},
   "source": [
    "#### TF-IDF oversampled"
   ]
  },
  {
   "cell_type": "code",
   "execution_count": 311,
   "metadata": {},
   "outputs": [
    {
     "data": {
      "text/plain": [
       "{'train_accuracy': 0.7307969163093466,\n",
       " 'test_accuracy': 0.7521576925218554,\n",
       " 'test_auc_pred': 0.5805205462136903,\n",
       " 'test_auc_score': 0.6486575924966973,\n",
       " 'test_ap_pred': 0.12590420884625791,\n",
       " 'test_ap_score': 0.16706996944080296}"
      ]
     },
     "execution_count": 311,
     "metadata": {},
     "output_type": "execute_result"
    }
   ],
   "source": [
    "#oversampled\n",
    "tv_rf_over=rf.fit(over_x_tv,over_y_tv)\n",
    "eval_tv_rf_over=ClassifierMetrics(over_x_tv, over_y_tv, tv_x_val, \n",
    "                                  val_y, tv_rf_over)\n",
    "\n",
    "eval_tv_rf_over"
   ]
  },
  {
   "cell_type": "code",
   "execution_count": 318,
   "metadata": {},
   "outputs": [
    {
     "data": {
      "text/html": [
       "<div>\n",
       "<style scoped>\n",
       "    .dataframe tbody tr th:only-of-type {\n",
       "        vertical-align: middle;\n",
       "    }\n",
       "\n",
       "    .dataframe tbody tr th {\n",
       "        vertical-align: top;\n",
       "    }\n",
       "\n",
       "    .dataframe thead th {\n",
       "        text-align: right;\n",
       "    }\n",
       "</style>\n",
       "<table border=\"1\" class=\"dataframe\">\n",
       "  <thead>\n",
       "    <tr style=\"text-align: right;\">\n",
       "      <th></th>\n",
       "      <th>Model</th>\n",
       "      <th>Test Accuracy</th>\n",
       "      <th>Test AP Prediction</th>\n",
       "      <th>Test AP Score</th>\n",
       "      <th>Test AUC Prediction</th>\n",
       "      <th>Test AUC Score</th>\n",
       "    </tr>\n",
       "  </thead>\n",
       "  <tbody>\n",
       "    <tr>\n",
       "      <th>0</th>\n",
       "      <td>Bag of Words (Unbalanced)</td>\n",
       "      <td>0.898435</td>\n",
       "      <td>0.101565</td>\n",
       "      <td>0.189687</td>\n",
       "      <td>0.500000</td>\n",
       "      <td>0.678593</td>\n",
       "    </tr>\n",
       "    <tr>\n",
       "      <th>1</th>\n",
       "      <td>Bag of Words (Undersampled)</td>\n",
       "      <td>0.583189</td>\n",
       "      <td>0.137616</td>\n",
       "      <td>0.187802</td>\n",
       "      <td>0.630421</td>\n",
       "      <td>0.679432</td>\n",
       "    </tr>\n",
       "    <tr>\n",
       "      <th>2</th>\n",
       "      <td>Bag of Words (Oversampled)</td>\n",
       "      <td>0.751322</td>\n",
       "      <td>0.126848</td>\n",
       "      <td>0.169868</td>\n",
       "      <td>0.582973</td>\n",
       "      <td>0.647720</td>\n",
       "    </tr>\n",
       "    <tr>\n",
       "      <th>3</th>\n",
       "      <td>Bi-grams (Unbalanced)</td>\n",
       "      <td>0.898435</td>\n",
       "      <td>0.101565</td>\n",
       "      <td>0.126393</td>\n",
       "      <td>0.500000</td>\n",
       "      <td>0.591100</td>\n",
       "    </tr>\n",
       "    <tr>\n",
       "      <th>4</th>\n",
       "      <td>Bi-grams (Undersampled)</td>\n",
       "      <td>0.466089</td>\n",
       "      <td>0.125888</td>\n",
       "      <td>0.152716</td>\n",
       "      <td>0.601723</td>\n",
       "      <td>0.644185</td>\n",
       "    </tr>\n",
       "    <tr>\n",
       "      <th>5</th>\n",
       "      <td>Bi-grams (Oversampled)</td>\n",
       "      <td>0.639651</td>\n",
       "      <td>0.122843</td>\n",
       "      <td>0.144505</td>\n",
       "      <td>0.582703</td>\n",
       "      <td>0.617962</td>\n",
       "    </tr>\n",
       "    <tr>\n",
       "      <th>6</th>\n",
       "      <td>TF-IDF (Unbalanced)</td>\n",
       "      <td>0.898435</td>\n",
       "      <td>0.101565</td>\n",
       "      <td>0.186975</td>\n",
       "      <td>0.500000</td>\n",
       "      <td>0.667945</td>\n",
       "    </tr>\n",
       "    <tr>\n",
       "      <th>7</th>\n",
       "      <td>TF-IDF (Undersampled)</td>\n",
       "      <td>0.622306</td>\n",
       "      <td>0.136153</td>\n",
       "      <td>0.180308</td>\n",
       "      <td>0.622528</td>\n",
       "      <td>0.671011</td>\n",
       "    </tr>\n",
       "    <tr>\n",
       "      <th>8</th>\n",
       "      <td>TF-IDF (Oversampled)</td>\n",
       "      <td>0.752158</td>\n",
       "      <td>0.125904</td>\n",
       "      <td>0.167070</td>\n",
       "      <td>0.580521</td>\n",
       "      <td>0.648658</td>\n",
       "    </tr>\n",
       "  </tbody>\n",
       "</table>\n",
       "</div>"
      ],
      "text/plain": [
       "                         Model  Test Accuracy  Test AP Prediction  \\\n",
       "0    Bag of Words (Unbalanced)       0.898435            0.101565   \n",
       "1  Bag of Words (Undersampled)       0.583189            0.137616   \n",
       "2   Bag of Words (Oversampled)       0.751322            0.126848   \n",
       "3        Bi-grams (Unbalanced)       0.898435            0.101565   \n",
       "4      Bi-grams (Undersampled)       0.466089            0.125888   \n",
       "5       Bi-grams (Oversampled)       0.639651            0.122843   \n",
       "6          TF-IDF (Unbalanced)       0.898435            0.101565   \n",
       "7        TF-IDF (Undersampled)       0.622306            0.136153   \n",
       "8         TF-IDF (Oversampled)       0.752158            0.125904   \n",
       "\n",
       "   Test AP Score  Test AUC Prediction  Test AUC Score  \n",
       "0       0.189687             0.500000        0.678593  \n",
       "1       0.187802             0.630421        0.679432  \n",
       "2       0.169868             0.582973        0.647720  \n",
       "3       0.126393             0.500000        0.591100  \n",
       "4       0.152716             0.601723        0.644185  \n",
       "5       0.144505             0.582703        0.617962  \n",
       "6       0.186975             0.500000        0.667945  \n",
       "7       0.180308             0.622528        0.671011  \n",
       "8       0.167070             0.580521        0.648658  "
      ]
     },
     "execution_count": 318,
     "metadata": {},
     "output_type": "execute_result"
    }
   ],
   "source": [
    "model_names=['Bag of Words (Unbalanced)','Bag of Words (Undersampled)',\n",
    "             'Bag of Words (Oversampled)', 'Bi-grams (Unbalanced)',\n",
    "             'Bi-grams (Undersampled)','Bi-grams (Oversampled)',\n",
    "             'TF-IDF (Unbalanced)','TF-IDF (Undersampled)','TF-IDF (Oversampled)']\n",
    "\n",
    "test_accs=[eval_bow_rf['test_accuracy'], eval_bow_rf_under['test_accuracy'], \n",
    "eval_bow_rf_over['test_accuracy'],eval_bv2_rf['test_accuracy'],\n",
    "eval_bv2_rf_under['test_accuracy'],eval_bv2_rf_over['test_accuracy'],\n",
    "eval_tv_rf['test_accuracy'],eval_tv_rf_under['test_accuracy'], \n",
    "eval_tv_rf_over['test_accuracy']]\n",
    "\n",
    "test_aucs_pred=[eval_bow_rf['test_auc_pred'], eval_bow_rf_under['test_auc_pred'], eval_bow_rf_over['test_auc_pred'],\n",
    "eval_bv2_rf['test_auc_pred'],eval_bv2_rf_under['test_auc_pred'],eval_bv2_rf_over['test_auc_pred'],\n",
    "eval_tv_rf['test_auc_pred'],eval_tv_rf_under['test_auc_pred'], eval_tv_rf_over['test_auc_pred']]\n",
    "\n",
    "test_aucs_score=[eval_bow_rf['test_auc_score'], eval_bow_rf_under['test_auc_score'], eval_bow_rf_over['test_auc_score'],\n",
    "eval_bv2_rf['test_auc_score'],eval_bv2_rf_under['test_auc_score'],eval_bv2_rf_over['test_auc_score'],\n",
    "eval_tv_rf['test_auc_score'],eval_tv_rf_under['test_auc_score'], eval_tv_rf_over['test_auc_score']]\n",
    "\n",
    "test_aps_pred=[eval_bow_rf['test_ap_pred'], eval_bow_rf_under['test_ap_pred'], eval_bow_rf_over['test_ap_pred'],\n",
    "eval_bv2_rf['test_ap_pred'],eval_bv2_rf_under['test_ap_pred'],eval_bv2_rf_over['test_ap_pred'],\n",
    "eval_tv_rf['test_ap_pred'],eval_tv_rf_under['test_ap_pred'], eval_tv_rf_over['test_ap_pred']]\n",
    "\n",
    "test_aps_score=[eval_bow_rf['test_ap_score'], eval_bow_rf_under['test_ap_score'], eval_bow_rf_over['test_ap_score'],\n",
    "eval_bv2_rf['test_ap_score'],eval_bv2_rf_under['test_ap_score'],eval_bv2_rf_over['test_ap_score'],\n",
    "eval_tv_rf['test_ap_score'],eval_tv_rf_under['test_ap_score'], eval_tv_rf_over['test_ap_score']]\n",
    "\n",
    "data={'Model':model_names,'Test Accuracy':test_accs,'Test AP Prediction':test_aps_pred,\n",
    "      'Test AP Score':test_aps_score,'Test AUC Prediction':test_aucs_pred, 'Test AUC Score':test_aucs_score}\n",
    "evals=pd.DataFrame(data)\n",
    "evals"
   ]
  },
  {
   "cell_type": "code",
   "execution_count": 319,
   "metadata": {},
   "outputs": [
    {
     "data": {
      "text/html": [
       "<style  type=\"text/css\" >\n",
       "    #T_0f01b7ac_9951_11ea_86c7_a683e773348erow0_col3 {\n",
       "            background-color:  yellow;\n",
       "        }    #T_0f01b7ac_9951_11ea_86c7_a683e773348erow1_col2 {\n",
       "            background-color:  yellow;\n",
       "        }    #T_0f01b7ac_9951_11ea_86c7_a683e773348erow1_col4 {\n",
       "            background-color:  yellow;\n",
       "        }    #T_0f01b7ac_9951_11ea_86c7_a683e773348erow1_col5 {\n",
       "            background-color:  yellow;\n",
       "        }</style><table id=\"T_0f01b7ac_9951_11ea_86c7_a683e773348e\" ><thead>    <tr>        <th class=\"blank level0\" ></th>        <th class=\"col_heading level0 col0\" >Model</th>        <th class=\"col_heading level0 col1\" >Test Accuracy</th>        <th class=\"col_heading level0 col2\" >Test AP Prediction</th>        <th class=\"col_heading level0 col3\" >Test AP Score</th>        <th class=\"col_heading level0 col4\" >Test AUC Prediction</th>        <th class=\"col_heading level0 col5\" >Test AUC Score</th>    </tr></thead><tbody>\n",
       "                <tr>\n",
       "                        <th id=\"T_0f01b7ac_9951_11ea_86c7_a683e773348elevel0_row0\" class=\"row_heading level0 row0\" >0</th>\n",
       "                        <td id=\"T_0f01b7ac_9951_11ea_86c7_a683e773348erow0_col0\" class=\"data row0 col0\" >Bag of Words (Unbalanced)</td>\n",
       "                        <td id=\"T_0f01b7ac_9951_11ea_86c7_a683e773348erow0_col1\" class=\"data row0 col1\" >0.898435</td>\n",
       "                        <td id=\"T_0f01b7ac_9951_11ea_86c7_a683e773348erow0_col2\" class=\"data row0 col2\" >0.101565</td>\n",
       "                        <td id=\"T_0f01b7ac_9951_11ea_86c7_a683e773348erow0_col3\" class=\"data row0 col3\" >0.189687</td>\n",
       "                        <td id=\"T_0f01b7ac_9951_11ea_86c7_a683e773348erow0_col4\" class=\"data row0 col4\" >0.5</td>\n",
       "                        <td id=\"T_0f01b7ac_9951_11ea_86c7_a683e773348erow0_col5\" class=\"data row0 col5\" >0.678593</td>\n",
       "            </tr>\n",
       "            <tr>\n",
       "                        <th id=\"T_0f01b7ac_9951_11ea_86c7_a683e773348elevel0_row1\" class=\"row_heading level0 row1\" >1</th>\n",
       "                        <td id=\"T_0f01b7ac_9951_11ea_86c7_a683e773348erow1_col0\" class=\"data row1 col0\" >Bag of Words (Undersampled)</td>\n",
       "                        <td id=\"T_0f01b7ac_9951_11ea_86c7_a683e773348erow1_col1\" class=\"data row1 col1\" >0.583189</td>\n",
       "                        <td id=\"T_0f01b7ac_9951_11ea_86c7_a683e773348erow1_col2\" class=\"data row1 col2\" >0.137616</td>\n",
       "                        <td id=\"T_0f01b7ac_9951_11ea_86c7_a683e773348erow1_col3\" class=\"data row1 col3\" >0.187802</td>\n",
       "                        <td id=\"T_0f01b7ac_9951_11ea_86c7_a683e773348erow1_col4\" class=\"data row1 col4\" >0.630421</td>\n",
       "                        <td id=\"T_0f01b7ac_9951_11ea_86c7_a683e773348erow1_col5\" class=\"data row1 col5\" >0.679432</td>\n",
       "            </tr>\n",
       "            <tr>\n",
       "                        <th id=\"T_0f01b7ac_9951_11ea_86c7_a683e773348elevel0_row2\" class=\"row_heading level0 row2\" >2</th>\n",
       "                        <td id=\"T_0f01b7ac_9951_11ea_86c7_a683e773348erow2_col0\" class=\"data row2 col0\" >Bag of Words (Oversampled)</td>\n",
       "                        <td id=\"T_0f01b7ac_9951_11ea_86c7_a683e773348erow2_col1\" class=\"data row2 col1\" >0.751322</td>\n",
       "                        <td id=\"T_0f01b7ac_9951_11ea_86c7_a683e773348erow2_col2\" class=\"data row2 col2\" >0.126848</td>\n",
       "                        <td id=\"T_0f01b7ac_9951_11ea_86c7_a683e773348erow2_col3\" class=\"data row2 col3\" >0.169868</td>\n",
       "                        <td id=\"T_0f01b7ac_9951_11ea_86c7_a683e773348erow2_col4\" class=\"data row2 col4\" >0.582973</td>\n",
       "                        <td id=\"T_0f01b7ac_9951_11ea_86c7_a683e773348erow2_col5\" class=\"data row2 col5\" >0.64772</td>\n",
       "            </tr>\n",
       "            <tr>\n",
       "                        <th id=\"T_0f01b7ac_9951_11ea_86c7_a683e773348elevel0_row3\" class=\"row_heading level0 row3\" >3</th>\n",
       "                        <td id=\"T_0f01b7ac_9951_11ea_86c7_a683e773348erow3_col0\" class=\"data row3 col0\" >Bi-grams (Unbalanced)</td>\n",
       "                        <td id=\"T_0f01b7ac_9951_11ea_86c7_a683e773348erow3_col1\" class=\"data row3 col1\" >0.898435</td>\n",
       "                        <td id=\"T_0f01b7ac_9951_11ea_86c7_a683e773348erow3_col2\" class=\"data row3 col2\" >0.101565</td>\n",
       "                        <td id=\"T_0f01b7ac_9951_11ea_86c7_a683e773348erow3_col3\" class=\"data row3 col3\" >0.126393</td>\n",
       "                        <td id=\"T_0f01b7ac_9951_11ea_86c7_a683e773348erow3_col4\" class=\"data row3 col4\" >0.5</td>\n",
       "                        <td id=\"T_0f01b7ac_9951_11ea_86c7_a683e773348erow3_col5\" class=\"data row3 col5\" >0.5911</td>\n",
       "            </tr>\n",
       "            <tr>\n",
       "                        <th id=\"T_0f01b7ac_9951_11ea_86c7_a683e773348elevel0_row4\" class=\"row_heading level0 row4\" >4</th>\n",
       "                        <td id=\"T_0f01b7ac_9951_11ea_86c7_a683e773348erow4_col0\" class=\"data row4 col0\" >Bi-grams (Undersampled)</td>\n",
       "                        <td id=\"T_0f01b7ac_9951_11ea_86c7_a683e773348erow4_col1\" class=\"data row4 col1\" >0.466089</td>\n",
       "                        <td id=\"T_0f01b7ac_9951_11ea_86c7_a683e773348erow4_col2\" class=\"data row4 col2\" >0.125888</td>\n",
       "                        <td id=\"T_0f01b7ac_9951_11ea_86c7_a683e773348erow4_col3\" class=\"data row4 col3\" >0.152716</td>\n",
       "                        <td id=\"T_0f01b7ac_9951_11ea_86c7_a683e773348erow4_col4\" class=\"data row4 col4\" >0.601723</td>\n",
       "                        <td id=\"T_0f01b7ac_9951_11ea_86c7_a683e773348erow4_col5\" class=\"data row4 col5\" >0.644185</td>\n",
       "            </tr>\n",
       "            <tr>\n",
       "                        <th id=\"T_0f01b7ac_9951_11ea_86c7_a683e773348elevel0_row5\" class=\"row_heading level0 row5\" >5</th>\n",
       "                        <td id=\"T_0f01b7ac_9951_11ea_86c7_a683e773348erow5_col0\" class=\"data row5 col0\" >Bi-grams (Oversampled)</td>\n",
       "                        <td id=\"T_0f01b7ac_9951_11ea_86c7_a683e773348erow5_col1\" class=\"data row5 col1\" >0.639651</td>\n",
       "                        <td id=\"T_0f01b7ac_9951_11ea_86c7_a683e773348erow5_col2\" class=\"data row5 col2\" >0.122843</td>\n",
       "                        <td id=\"T_0f01b7ac_9951_11ea_86c7_a683e773348erow5_col3\" class=\"data row5 col3\" >0.144505</td>\n",
       "                        <td id=\"T_0f01b7ac_9951_11ea_86c7_a683e773348erow5_col4\" class=\"data row5 col4\" >0.582703</td>\n",
       "                        <td id=\"T_0f01b7ac_9951_11ea_86c7_a683e773348erow5_col5\" class=\"data row5 col5\" >0.617962</td>\n",
       "            </tr>\n",
       "            <tr>\n",
       "                        <th id=\"T_0f01b7ac_9951_11ea_86c7_a683e773348elevel0_row6\" class=\"row_heading level0 row6\" >6</th>\n",
       "                        <td id=\"T_0f01b7ac_9951_11ea_86c7_a683e773348erow6_col0\" class=\"data row6 col0\" >TF-IDF (Unbalanced)</td>\n",
       "                        <td id=\"T_0f01b7ac_9951_11ea_86c7_a683e773348erow6_col1\" class=\"data row6 col1\" >0.898435</td>\n",
       "                        <td id=\"T_0f01b7ac_9951_11ea_86c7_a683e773348erow6_col2\" class=\"data row6 col2\" >0.101565</td>\n",
       "                        <td id=\"T_0f01b7ac_9951_11ea_86c7_a683e773348erow6_col3\" class=\"data row6 col3\" >0.186975</td>\n",
       "                        <td id=\"T_0f01b7ac_9951_11ea_86c7_a683e773348erow6_col4\" class=\"data row6 col4\" >0.5</td>\n",
       "                        <td id=\"T_0f01b7ac_9951_11ea_86c7_a683e773348erow6_col5\" class=\"data row6 col5\" >0.667945</td>\n",
       "            </tr>\n",
       "            <tr>\n",
       "                        <th id=\"T_0f01b7ac_9951_11ea_86c7_a683e773348elevel0_row7\" class=\"row_heading level0 row7\" >7</th>\n",
       "                        <td id=\"T_0f01b7ac_9951_11ea_86c7_a683e773348erow7_col0\" class=\"data row7 col0\" >TF-IDF (Undersampled)</td>\n",
       "                        <td id=\"T_0f01b7ac_9951_11ea_86c7_a683e773348erow7_col1\" class=\"data row7 col1\" >0.622306</td>\n",
       "                        <td id=\"T_0f01b7ac_9951_11ea_86c7_a683e773348erow7_col2\" class=\"data row7 col2\" >0.136153</td>\n",
       "                        <td id=\"T_0f01b7ac_9951_11ea_86c7_a683e773348erow7_col3\" class=\"data row7 col3\" >0.180308</td>\n",
       "                        <td id=\"T_0f01b7ac_9951_11ea_86c7_a683e773348erow7_col4\" class=\"data row7 col4\" >0.622528</td>\n",
       "                        <td id=\"T_0f01b7ac_9951_11ea_86c7_a683e773348erow7_col5\" class=\"data row7 col5\" >0.671011</td>\n",
       "            </tr>\n",
       "            <tr>\n",
       "                        <th id=\"T_0f01b7ac_9951_11ea_86c7_a683e773348elevel0_row8\" class=\"row_heading level0 row8\" >8</th>\n",
       "                        <td id=\"T_0f01b7ac_9951_11ea_86c7_a683e773348erow8_col0\" class=\"data row8 col0\" >TF-IDF (Oversampled)</td>\n",
       "                        <td id=\"T_0f01b7ac_9951_11ea_86c7_a683e773348erow8_col1\" class=\"data row8 col1\" >0.752158</td>\n",
       "                        <td id=\"T_0f01b7ac_9951_11ea_86c7_a683e773348erow8_col2\" class=\"data row8 col2\" >0.125904</td>\n",
       "                        <td id=\"T_0f01b7ac_9951_11ea_86c7_a683e773348erow8_col3\" class=\"data row8 col3\" >0.16707</td>\n",
       "                        <td id=\"T_0f01b7ac_9951_11ea_86c7_a683e773348erow8_col4\" class=\"data row8 col4\" >0.580521</td>\n",
       "                        <td id=\"T_0f01b7ac_9951_11ea_86c7_a683e773348erow8_col5\" class=\"data row8 col5\" >0.648658</td>\n",
       "            </tr>\n",
       "    </tbody></table>"
      ],
      "text/plain": [
       "<pandas.io.formats.style.Styler at 0x1b84f60828>"
      ]
     },
     "execution_count": 319,
     "metadata": {},
     "output_type": "execute_result"
    }
   ],
   "source": [
    "def highlight_max(s):\n",
    "    '''\n",
    "    highlight the maximum in a Series yellow.\n",
    "    '''\n",
    "    is_max = s == s.max()\n",
    "    return ['background-color: yellow' if v else '' for v in is_max]\n",
    "\n",
    "\n",
    "evals.style.highlight_max(['Test AP Prediction','Test AP Score','Test AUC Prediction','Test AUC Score'])"
   ]
  },
  {
   "cell_type": "markdown",
   "metadata": {},
   "source": [
    "### Visualization"
   ]
  },
  {
   "cell_type": "code",
   "execution_count": 323,
   "metadata": {
    "collapsed": true
   },
   "outputs": [],
   "source": [
    "rf_viz=RandomForestClassifier(max_depth=20,min_samples_split=0.056, n_estimators=100,bootstrap=False)\n",
    "tr=rf_viz.fit(under_x,under_y)"
   ]
  },
  {
   "cell_type": "code",
   "execution_count": null,
   "metadata": {
    "collapsed": true
   },
   "outputs": [],
   "source": [
    "import os\n",
    "from sklearn.tree import export_graphviz\n",
    "import six\n",
    "import pydot\n",
    "from sklearn import tree\n",
    "dotfile = six.StringIO()\n",
    "i_tree = 0\n",
    "col=bow_vectorizer.get_feature_names()\n",
    "for tree_in_forest in rf_viz.estimators_:\n",
    "    export_graphviz(tree_in_forest,out_file='tree.dot',\n",
    "    feature_names=col,\n",
    "    filled=True,\n",
    "    rounded=True)\n",
    "    (graph,) = pydot.graph_from_dot_file('tree.dot')\n",
    "    name = 'tree' + str(i_tree)\n",
    "    graph.write_png(name+  '.png')\n",
    "    os.system('dot -Tpng tree.dot -o tree.png')\n",
    "    i_tree +=1"
   ]
  },
  {
   "cell_type": "code",
   "execution_count": 324,
   "metadata": {},
   "outputs": [
    {
     "data": {
      "image/png": "[encoded data removed]",
      "text/plain": [
       "<Figure size 432x288 with 1 Axes>"
      ]
     },
     "metadata": {
      "needs_background": "light"
     },
     "output_type": "display_data"
    }
   ],
   "source": [
    "y=rf_viz.feature_importances_\n",
    "indices = np.argsort(y)[::-1]\n",
    "indices=indices[:15]\n",
    "\n",
    "# Rearrange feature names so they match the sorted feature importances\n",
    "names = [bow_vectorizer.get_feature_names()[i] for i in indices]\n",
    "\n",
    "plt.bar(range(15), y[indices])\n",
    "plt.xticks(range(15), names, rotation=45, fontsize = 8)\n",
    "# Create plot title\n",
    "plt.title(\"Feature Importance\")\n",
    "# Show plot\n",
    "plt.show()"
   ]
  },
  {
   "cell_type": "code",
   "execution_count": null,
   "metadata": {
    "collapsed": true
   },
   "outputs": [],
   "source": []
  }
 ],
 "metadata": {
  "kernelspec": {
   "display_name": "Python 3",
   "language": "python",
   "name": "python3"
  },
  "language_info": {
   "codemirror_mode": {
    "name": "ipython",
    "version": 3
   },
   "file_extension": ".py",
   "mimetype": "text/x-python",
   "name": "python",
   "nbconvert_exporter": "python",
   "pygments_lexer": "ipython3",
   "version": "3.6.10"
  }
 },
 "nbformat": 4,
 "nbformat_minor": 2
}
